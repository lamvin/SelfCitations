{
 "cells": [
  {
   "cell_type": "code",
   "execution_count": 1,
   "metadata": {
    "collapsed": true
   },
   "outputs": [],
   "source": [
    "import pandas as pd\n",
    "from tables import *\n",
    "import numpy as np\n",
    "from tqdm import tqdm_notebook as tqdm\n",
    "import csv\n",
    "from scipy import sparse\n",
    "import pickle\n",
    "import os"
   ]
  },
  {
   "cell_type": "code",
   "execution_count": 2,
   "metadata": {
    "collapsed": true
   },
   "outputs": [],
   "source": [
    "path = '/home/User1/data/self_citations/'"
   ]
  },
  {
   "cell_type": "code",
   "execution_count": 14,
   "metadata": {
    "collapsed": true
   },
   "outputs": [],
   "source": [
    "pub_years = np.array([1988,1998])\n",
    "# pub_years = np.array([1990,1991])\n",
    "\n",
    "version = '{}-{}'.format(pub_years[0],pub_years[1])\n",
    "max_year = 2018\n",
    "nb_years = 21"
   ]
  },
  {
   "cell_type": "code",
   "execution_count": 4,
   "metadata": {
    "collapsed": true
   },
   "outputs": [],
   "source": [
    "disciplines = pd.read_csv(path+'liste_discipline.txt',encoding='latin_1',sep='\\t')\n",
    "list_disciplines = pd.unique(disciplines['EDiscipline'])\n",
    "nb_disciplines = len(list_disciplines)"
   ]
  },
  {
   "cell_type": "code",
   "execution_count": 5,
   "metadata": {
    "collapsed": true
   },
   "outputs": [],
   "source": [
    "from matplotlib import pyplot as plt"
   ]
  },
  {
   "cell_type": "code",
   "execution_count": 6,
   "metadata": {
    "collapsed": true
   },
   "outputs": [],
   "source": [
    "types_cit = {'self':0,'co':1,'network':2,'others':3}"
   ]
  },
  {
   "cell_type": "code",
   "execution_count": 7,
   "metadata": {
    "collapsed": true
   },
   "outputs": [],
   "source": [
    "authors_info = {}\n",
    "with open(path+'model/authors_infos_model.csv','r') as f:\n",
    "    reader = csv.reader(f,delimiter='\\t')\n",
    "    next(reader)\n",
    "    for line in reader:\n",
    "        authors_info[int(line[0])] = [line[1],int(line[2]),int(line[4])]"
   ]
  },
  {
   "cell_type": "code",
   "execution_count": 8,
   "metadata": {
    "collapsed": true
   },
   "outputs": [],
   "source": [
    "with open('{}/citations_{}.p'.format(path,version),'rb') as f:\n",
    "    arrays_cits = pickle.load(f)"
   ]
  },
  {
   "cell_type": "code",
   "execution_count": 9,
   "metadata": {
    "collapsed": true
   },
   "outputs": [],
   "source": [
    "disc_groups = {'Arts and Humanities':['Arts','Humanities'],\n",
    "              'Natural Sciences and Engineering':['Biology','Physics','Mathematics','Engineering and Technology','Earth and Space','Chemistry'],\n",
    "              'Social Sciences':['Social Sciences','Psychology','Professional Fields','Health'],\n",
    "             'Health Sciences':['Biomedical Research','Clinical Medicine']}\n",
    "\n",
    "nb_groups = len(disc_groups)\n",
    "group_names = list(disc_groups.keys())\n"
   ]
  },
  {
   "cell_type": "code",
   "execution_count": 10,
   "metadata": {
    "collapsed": true
   },
   "outputs": [],
   "source": [
    "authors = list(arrays_cits.keys())\n",
    "nb_authors = len(authors)\n",
    "map_discs = {}\n",
    "for group in group_names:\n",
    "    disciplines = disc_groups[group]\n",
    "    for disc in disciplines:\n",
    "        map_discs[disc] = group"
   ]
  },
  {
   "cell_type": "code",
   "execution_count": 11,
   "metadata": {
    "collapsed": true
   },
   "outputs": [],
   "source": [
    "authors_group = {x:[] for x in group_names}\n",
    "for i in range(nb_authors):\n",
    "    author_ID = authors[i]\n",
    "    disc_author = authors_info[author_ID][0]\n",
    "    if disc_author != 'Unknown':\n",
    "        group_author = map_discs[disc_author]\n",
    "        authors_group[group_author].append(author_ID)\n",
    "    \n",
    "    "
   ]
  },
  {
   "cell_type": "code",
   "execution_count": 12,
   "metadata": {
    "collapsed": true
   },
   "outputs": [],
   "source": [
    "colors = [\n",
    "     np.array([53,116,172]),\n",
    "    np.array([44,164,40]),\n",
    "        \n",
    "         np.array([164,186,183]),\n",
    "          np.array([255,232,31])\n",
    "         ]\n",
    "colors = [x/255 for x in colors]"
   ]
  },
  {
   "cell_type": "markdown",
   "metadata": {},
   "source": [
    "### With network and condensed disc"
   ]
  },
  {
   "cell_type": "markdown",
   "metadata": {},
   "source": [
    "#### Freq"
   ]
  },
  {
   "cell_type": "code",
   "execution_count": 15,
   "metadata": {},
   "outputs": [
    {
     "name": "stderr",
     "output_type": "stream",
     "text": [
      "/home/User1/anaconda3/lib/python3.6/site-packages/ipykernel_launcher.py:2: TqdmDeprecationWarning: This function will be removed in tqdm==5.0.0\n",
      "Please use `tqdm.notebook.tqdm` instead of `tqdm.tqdm_notebook`\n",
      "  \n"
     ]
    },
    {
     "data": {
      "application/vnd.jupyter.widget-view+json": {
       "model_id": "966d7782f27d4a30b532c91aca4f58a6",
       "version_major": 2,
       "version_minor": 0
      },
      "text/plain": [
       "A Jupyter Widget"
      ]
     },
     "metadata": {},
     "output_type": "display_data"
    },
    {
     "name": "stdout",
     "output_type": "stream",
     "text": [
      "\n"
     ]
    }
   ],
   "source": [
    "plt.figure(figsize=(15,15))\n",
    "for i in tqdm(range(nb_groups)):\n",
    "    group = group_names[i]   \n",
    "    authors = authors_group[group]\n",
    "    nb_authors = len(authors)\n",
    "    all_cits = np.zeros((4,nb_years,nb_authors))\n",
    "    for j in range(nb_authors):\n",
    "        author_ID = authors[j]\n",
    "        arts = list(arrays_cits[author_ID].keys())\n",
    "        nb_arts = len(arts)\n",
    "        cits_authors = np.zeros((4,nb_years,nb_arts))\n",
    "        for k in range(nb_arts):\n",
    "            art_cite = arts[k]\n",
    "            cits_authors[:,:,k] = arrays_cits[author_ID][art_cite]\n",
    "        all_cits[:,:,j] = np.mean(cits_authors,axis=2)\n",
    "\n",
    "    avg_cits = np.mean(all_cits,axis=2)\n",
    "    avg_cits = avg_cits[:,:-1]\n",
    "\n",
    "\n",
    "    plt.subplot(2,2,i+1)\n",
    "    plt.plot(avg_cits[0,:],'r',label='Direct',linewidth=3)\n",
    "    plt.plot(avg_cits[1,:],'r--',label='Coauthors',linewidth=3)\n",
    "    plt.plot(avg_cits[2,:],'r-.',label='Collaborators',linewidth=3)\n",
    "    plt.plot(avg_cits[3,:],'k',label='Others',linewidth=3)\n",
    "    plt.ylabel('# citations',fontsize=20)\n",
    "    plt.legend(loc='upper left')\n",
    "    plt.tick_params(labelsize=18)\n",
    "    plt.title(group,fontsize=20)\n",
    "    \n",
    "#plt.show()\n",
    "out_path = path+'results/cits_dynamic_pub_age/'\n",
    "if not os.path.exists(out_path):\n",
    "    os.makedirs(out_path)\n",
    "plt.savefig(out_path + 'abs_{}.png'.format(version))\n",
    "plt.savefig(out_path + 'abs_{}.svg'.format(version))\n",
    "plt.close()\n"
   ]
  },
  {
   "cell_type": "markdown",
   "metadata": {},
   "source": [
    "#### NOrmalise"
   ]
  },
  {
   "cell_type": "code",
   "execution_count": 16,
   "metadata": {},
   "outputs": [
    {
     "name": "stderr",
     "output_type": "stream",
     "text": [
      "/home/User1/anaconda3/lib/python3.6/site-packages/ipykernel_launcher.py:2: TqdmDeprecationWarning: This function will be removed in tqdm==5.0.0\n",
      "Please use `tqdm.notebook.tqdm` instead of `tqdm.tqdm_notebook`\n",
      "  \n"
     ]
    },
    {
     "data": {
      "application/vnd.jupyter.widget-view+json": {
       "model_id": "416f1cc69e964ac485a5f1d01581ea2e",
       "version_major": 2,
       "version_minor": 0
      },
      "text/plain": [
       "A Jupyter Widget"
      ]
     },
     "metadata": {},
     "output_type": "display_data"
    },
    {
     "name": "stdout",
     "output_type": "stream",
     "text": [
      "\n"
     ]
    }
   ],
   "source": [
    "plt.figure(figsize=(15,15))\n",
    "for i in tqdm(range(nb_groups)):\n",
    "    group = group_names[i]   \n",
    "    authors = authors_group[group]\n",
    "    nb_authors = len(authors)\n",
    "    all_cits = np.zeros((4,nb_years,nb_authors))\n",
    "    for j in range(nb_authors):\n",
    "        author_ID = authors[j]\n",
    "        arts = list(arrays_cits[author_ID].keys())\n",
    "        nb_arts = len(arts)\n",
    "        cits_authors = np.zeros((4,nb_years,nb_arts))\n",
    "        for k in range(nb_arts):\n",
    "            art_cite = arts[k]\n",
    "            cits_authors[:,:,k] = arrays_cits[author_ID][art_cite]\n",
    "        all_cits[:,:,j] = np.mean(cits_authors,axis=2)\n",
    "\n",
    "    avg_cits = np.mean(all_cits,axis=2)\n",
    "    avg_cits = avg_cits[:,:-1]\n",
    "    max_rows = np.max(avg_cits,axis=1)\n",
    "    min_rows = np.min(avg_cits,axis=1)\n",
    "    stats_cits = np.subtract(avg_cits,min_rows[:,None])/np.subtract(max_rows,min_rows)[:,None]\n",
    "    \n",
    "\n",
    "    plt.subplot(2,2,i+1)\n",
    "    plt.plot(stats_cits[0,:],'r',label='Direct',linewidth=3)\n",
    "    plt.plot(stats_cits[1,:],'r--',label='Coauthors',linewidth=3)\n",
    "    plt.plot(stats_cits[2,:],'r-.',label='Collaborators',linewidth=3)\n",
    "    plt.plot(stats_cits[3,:],'k',label='Others',linewidth=3)\n",
    "    plt.ylabel('Norm. citations',fontsize=20)\n",
    "    plt.xlabel('Publication age',fontsize=20)\n",
    "    plt.legend(loc='upper left')\n",
    "    plt.tick_params(labelsize=18)\n",
    "    plt.title(group,fontsize=20)\n",
    "    \n",
    "#plt.show()\n",
    "out_path = path+'results/cits_dynamic_pub_age/'\n",
    "if not os.path.exists(out_path):\n",
    "    os.makedirs(out_path)\n",
    "plt.savefig(out_path + 'norm_{}.png'.format(version))\n",
    "plt.savefig(out_path + 'norm_{}.svg'.format(version))\n",
    "plt.close()"
   ]
  },
  {
   "cell_type": "markdown",
   "metadata": {},
   "source": [
    "#### Perc\n"
   ]
  },
  {
   "cell_type": "code",
   "execution_count": 17,
   "metadata": {
    "scrolled": true
   },
   "outputs": [
    {
     "name": "stderr",
     "output_type": "stream",
     "text": [
      "/home/User1/anaconda3/lib/python3.6/site-packages/ipykernel_launcher.py:2: TqdmDeprecationWarning: This function will be removed in tqdm==5.0.0\n",
      "Please use `tqdm.notebook.tqdm` instead of `tqdm.tqdm_notebook`\n",
      "  \n"
     ]
    },
    {
     "data": {
      "application/vnd.jupyter.widget-view+json": {
       "model_id": "e96074ccc25446c283e0d2b7560668f5",
       "version_major": 2,
       "version_minor": 0
      },
      "text/plain": [
       "A Jupyter Widget"
      ]
     },
     "metadata": {},
     "output_type": "display_data"
    },
    {
     "name": "stdout",
     "output_type": "stream",
     "text": [
      "\n"
     ]
    }
   ],
   "source": [
    "plt.figure(figsize=(15,15))\n",
    "for i in tqdm(range(nb_groups)):\n",
    "    group = group_names[i]   \n",
    "    authors = authors_group[group]\n",
    "    nb_authors = len(authors)\n",
    "    all_cits = np.zeros((4,nb_years,nb_authors))\n",
    "    for j in range(nb_authors):\n",
    "        author_ID = authors[j]\n",
    "        arts = list(arrays_cits[author_ID].keys())\n",
    "        nb_arts = len(arts)\n",
    "        cits_authors = np.zeros((4,nb_years,nb_arts))\n",
    "        for k in range(nb_arts):\n",
    "            art_cite = arts[k]\n",
    "            cits_authors[:,:,k] = arrays_cits[author_ID][art_cite]\n",
    "        all_cits[:,:,j] = np.mean(cits_authors,axis=2)\n",
    "\n",
    "    avg_cits = np.mean(all_cits,axis=2)\n",
    "    avg_cits = avg_cits[:,:-1]\n",
    "    total_cits = np.sum(avg_cits,axis=0)\n",
    "    stats_cits = avg_cits/total_cits[None,:]\n",
    "    \n",
    "\n",
    "    plt.subplot(2,2,i+1)\n",
    "    plt.plot(stats_cits[0,:],'r',label='Direct',linewidth=3)\n",
    "    plt.plot(stats_cits[1,:],'r--',label='Coauthors',linewidth=3)\n",
    "    plt.plot(stats_cits[2,:],'r-.',label='Collaborators',linewidth=3)\n",
    "    plt.plot(stats_cits[3,:],'k',label='Others',linewidth=3)\n",
    "    plt.ylabel('% citations',fontsize=20)\n",
    "    plt.xlabel('Publication age',fontsize=20)\n",
    "    plt.legend(loc='upper left')\n",
    "    plt.tick_params(labelsize=18)\n",
    "    plt.title(group,fontsize=20)\n",
    "    \n",
    "#plt.show()\n",
    "out_path = path+'results/cits_dynamic_pub_age/'\n",
    "if not os.path.exists(out_path):\n",
    "    os.makedirs(out_path)\n",
    "plt.savefig(out_path + 'perc_{}.png'.format(version))\n",
    "plt.savefig(out_path + 'perc_{}.svg'.format(version))\n",
    "plt.close()"
   ]
  }
 ],
 "metadata": {
  "kernelspec": {
   "display_name": "Python 3",
   "language": "python",
   "name": "python3"
  },
  "language_info": {
   "codemirror_mode": {
    "name": "ipython",
    "version": 3
   },
   "file_extension": ".py",
   "mimetype": "text/x-python",
   "name": "python",
   "nbconvert_exporter": "python",
   "pygments_lexer": "ipython3",
   "version": "3.6.3"
  }
 },
 "nbformat": 4,
 "nbformat_minor": 2
}
