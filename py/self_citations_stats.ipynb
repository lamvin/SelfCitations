{
 "cells": [
  {
   "cell_type": "code",
   "execution_count": 1,
   "metadata": {
    "collapsed": true
   },
   "outputs": [],
   "source": [
    "import pandas as pd\n",
    "from tables import *\n",
    "import csv\n",
    "import numpy as np\n",
    "import pickle\n",
    "import time"
   ]
  },
  {
   "cell_type": "code",
   "execution_count": 2,
   "metadata": {
    "collapsed": true
   },
   "outputs": [],
   "source": [
    "from tqdm import tqdm_notebook as tqdm"
   ]
  },
  {
   "cell_type": "code",
   "execution_count": 3,
   "metadata": {
    "collapsed": true
   },
   "outputs": [],
   "source": [
    "path = '/home/User1/data/self_citations/'"
   ]
  },
  {
   "cell_type": "code",
   "execution_count": 4,
   "metadata": {
    "collapsed": true
   },
   "outputs": [],
   "source": [
    "with open(path+'dict_citant.p','rb') as f:\n",
    "    dict_citant = pickle.load(f)\n",
    "with open(path+'dict_cite.p','rb') as f:\n",
    "    dict_cite = pickle.load(f)"
   ]
  },
  {
   "cell_type": "code",
   "execution_count": 5,
   "metadata": {
    "collapsed": true
   },
   "outputs": [],
   "source": [
    "with open(path+'dict_cluster_ID.p','rb') as f:\n",
    "    dict_cluster_ID = pickle.load(f)\n",
    "with open(path+'dict_cluster_art.p','rb') as f:\n",
    "    dict_cluster_art = pickle.load(f)"
   ]
  },
  {
   "cell_type": "code",
   "execution_count": 6,
   "metadata": {
    "collapsed": true
   },
   "outputs": [],
   "source": [
    "authors = list(dict_cluster_ID.keys())\n"
   ]
  },
  {
   "cell_type": "code",
   "execution_count": 7,
   "metadata": {
    "collapsed": true
   },
   "outputs": [],
   "source": [
    "nb_authors = len(authors)"
   ]
  },
  {
   "cell_type": "code",
   "execution_count": 8,
   "metadata": {
    "collapsed": true
   },
   "outputs": [],
   "source": [
    "class self_cits(IsDescription):\n",
    "    Cluster_ID = UInt32Col()\n",
    "    ID_Art = UInt32Col()\n",
    "    other_refs = UInt16Col()\n",
    "    direct_refs = UInt16Col()\n",
    "    indirect_refs = UInt16Col()\n",
    "    direct_cits = UInt16Col()\n",
    "    indirect_cits = UInt16Col()\n",
    "    other_cits = UInt16Col()\n",
    "    "
   ]
  },
  {
   "cell_type": "code",
   "execution_count": 9,
   "metadata": {
    "collapsed": true
   },
   "outputs": [],
   "source": [
    "h5file = open_file(path + 'self_citations.h5', mode=\"w\", title=\"Self Citations\")\n",
    "group = h5file.create_group(\"/\", 'counts')\n",
    "table = h5file.create_table(group, 'self_cits', self_cits)\n",
    "h5file.close()"
   ]
  },
  {
   "cell_type": "code",
   "execution_count": 10,
   "metadata": {
    "collapsed": true
   },
   "outputs": [],
   "source": [
    "h5file = open_file(path + 'self_citations.h5', mode=\"a\", title=\"Self Citations\")\n",
    "table = h5file.root.counts.self_cits\n",
    "row = table.row"
   ]
  },
  {
   "cell_type": "code",
   "execution_count": 11,
   "metadata": {
    "collapsed": true
   },
   "outputs": [],
   "source": [
    "articles = list(dict_cluster_art.keys())\n",
    "nb_articles = len(articles)\n",
    "arts_idx = np.arange(nb_articles)\n",
    "np.random.shuffle(arts_idx)"
   ]
  },
  {
   "cell_type": "code",
   "execution_count": null,
   "metadata": {
    "collapsed": true
   },
   "outputs": [],
   "source": [
    "start_time = time.time()\n",
    "f = open(path+'progress.txt','w')\n",
    "for i in range(nb_articles):\n",
    "    ID_Art = articles[arts_idx[i]]\n",
    "    authors_art = dict_cluster_art[ID_Art]\n",
    "    all_arts_from_authors = set()\n",
    "    for auth_ID in authors_art:\n",
    "        all_arts_from_authors.update(dict_cluster_ID[auth_ID])\n",
    "    for ID in authors_art:\n",
    "        arts_author = set(dict_cluster_ID[ID])\n",
    "        other_cits = 0\n",
    "        direct_cits = 0\n",
    "        indirect_cits = 0\n",
    "        other_refs = 0\n",
    "        direct_refs = 0\n",
    "        indirect_refs = 0\n",
    "\n",
    "        if ID_Art in dict_citant:\n",
    "            references = dict_citant[ID_Art]\n",
    "            for ref in references:\n",
    "                if ref in arts_author:\n",
    "                    direct_refs += 1\n",
    "                elif ref in all_arts_from_authors:\n",
    "                    indirect_refs += 1\n",
    "                else:\n",
    "                    other_refs += 1\n",
    "        if ID_Art in dict_cite:\n",
    "            cits = dict_cite[ID_Art]\n",
    "            for cit in cits:\n",
    "                if cit in arts_author:\n",
    "                    direct_cits += 1\n",
    "                elif cit in all_arts_from_authors:\n",
    "                    indirect_cits += 1\n",
    "                else:\n",
    "                    other_cits += 1\n",
    "\n",
    "        row['ID_Art'] = ID_Art\n",
    "        row['Cluster_ID'] = ID\n",
    "        row['other_cits'] = other_cits\n",
    "        row['direct_cits'] = direct_cits\n",
    "        row['indirect_cits'] = indirect_cits\n",
    "        row['other_refs'] = other_refs\n",
    "        row['direct_refs'] = direct_refs\n",
    "        row['indirect_refs'] = indirect_refs\n",
    "        row.append()\n",
    "    if i % 1000 == 1 :\n",
    "        elapsed_time = time.time() - start_time\n",
    "        elapsed_time_h = np.round(elapsed_time/3600,2)\n",
    "        time_per_art = elapsed_time/i\n",
    "        time_left_h = np.round(time_per_art*(nb_articles-i)/3600,2)\n",
    "        perc = np.round(i/nb_articles*100,3)\n",
    "        f.write('Progress: {} articles, {}%, Time since start: {}, Time left: {}\\n'.format(i,perc,elapsed_time_h,time_left_h))    \n",
    "        f.flush()\n",
    "    table.flush()"
   ]
  },
  {
   "cell_type": "code",
   "execution_count": null,
   "metadata": {
    "collapsed": true
   },
   "outputs": [],
   "source": [
    "f.close()\n",
    "h5file.close()"
   ]
  }
 ],
 "metadata": {
  "kernelspec": {
   "display_name": "Python 3",
   "language": "python",
   "name": "python3"
  },
  "language_info": {
   "codemirror_mode": {
    "name": "ipython",
    "version": 3
   },
   "file_extension": ".py",
   "mimetype": "text/x-python",
   "name": "python",
   "nbconvert_exporter": "python",
   "pygments_lexer": "ipython3",
   "version": "3.6.3"
  }
 },
 "nbformat": 4,
 "nbformat_minor": 2
}
