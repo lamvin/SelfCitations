{
 "cells": [
  {
   "cell_type": "code",
   "execution_count": 1,
   "metadata": {
    "collapsed": true
   },
   "outputs": [],
   "source": [
    "import pandas as pd\n",
    "from tables import *\n",
    "import csv\n",
    "import numpy as np\n",
    "import pickle\n",
    "import time"
   ]
  },
  {
   "cell_type": "code",
   "execution_count": 2,
   "metadata": {
    "collapsed": true
   },
   "outputs": [],
   "source": [
    "from tqdm import tqdm_notebook as tqdm"
   ]
  },
  {
   "cell_type": "code",
   "execution_count": 3,
   "metadata": {
    "collapsed": true
   },
   "outputs": [],
   "source": [
    "path = '/home/User1/data/self_citations/'"
   ]
  },
  {
   "cell_type": "code",
   "execution_count": 25,
   "metadata": {
    "collapsed": true
   },
   "outputs": [],
   "source": [
    "articles = {}\n",
    "with open(path+'article.txt','r') as f:\n",
    "    reader = csv.reader(f,delimiter='\\t')\n",
    "    next(reader)\n",
    "    for line in reader:\n",
    "        articles[int(line[0])] = int(line[2])"
   ]
  },
  {
   "cell_type": "code",
   "execution_count": 5,
   "metadata": {
    "collapsed": true
   },
   "outputs": [],
   "source": [
    "with open(path+'dict_citant.p','rb') as f:\n",
    "    dict_citant = pickle.load(f)\n",
    "with open(path+'dict_cite.p','rb') as f:\n",
    "    dict_cite = pickle.load(f)"
   ]
  },
  {
   "cell_type": "code",
   "execution_count": 6,
   "metadata": {
    "collapsed": true
   },
   "outputs": [],
   "source": [
    "with open(path+'dict_cluster_ID.p','rb') as f:\n",
    "    dict_cluster_ID = pickle.load(f)\n",
    "with open(path+'dict_cluster_art.p','rb') as f:\n",
    "    dict_cluster_art = pickle.load(f)"
   ]
  },
  {
   "cell_type": "code",
   "execution_count": 7,
   "metadata": {},
   "outputs": [
    {
     "name": "stderr",
     "output_type": "stream",
     "text": [
      "/home/User1/anaconda3/lib/python3.6/site-packages/IPython/core/interactiveshell.py:2698: DtypeWarning: Columns (1) have mixed types. Specify dtype option on import or set low_memory=False.\n",
      "  interactivity=interactivity, compiler=compiler, result=result)\n"
     ]
    }
   ],
   "source": [
    "authors = list(dict_cluster_ID.keys())"
   ]
  },
  {
   "cell_type": "code",
   "execution_count": 8,
   "metadata": {
    "collapsed": true
   },
   "outputs": [],
   "source": [
    "nb_authors = len(authors)"
   ]
  },
  {
   "cell_type": "code",
   "execution_count": 9,
   "metadata": {
    "collapsed": true
   },
   "outputs": [],
   "source": [
    "class self_cits_year_level(IsDescription):\n",
    "    Cluster_ID = UInt32Col()\n",
    "    Citant_ID = UInt32Col()\n",
    "    Cite_ID = UInt16Col()"
   ]
  },
  {
   "cell_type": "code",
   "execution_count": 30,
   "metadata": {
    "collapsed": true
   },
   "outputs": [],
   "source": [
    "h5file = open_file(path + 'self_citations_year_level.h5', mode=\"w\", title=\"Self Citations\")\n",
    "group = h5file.create_group(\"/\", 'counts')\n",
    "table = h5file.create_table(group, 'self_cits', self_cits_year_level)\n",
    "h5file.close()"
   ]
  },
  {
   "cell_type": "code",
   "execution_count": 31,
   "metadata": {
    "collapsed": true
   },
   "outputs": [],
   "source": [
    "h5file = open_file(path + 'self_citations_year_level.h5', mode=\"a\", title=\"Self Citations\")\n",
    "table = h5file.root.counts.self_cits\n",
    "row = table.row"
   ]
  },
  {
   "cell_type": "code",
   "execution_count": 13,
   "metadata": {},
   "outputs": [],
   "source": [
    "citants = list(dict_citant.keys())\n",
    "nb_citants = len(citants)\n",
    "idx = np.arange(nb_citants)\n",
    "np.random.shuffle(idx)"
   ]
  },
  {
   "cell_type": "code",
   "execution_count": null,
   "metadata": {},
   "outputs": [],
   "source": [
    "start_time = time.time()\n",
    "f = open(path+'progress.txt','w')\n",
    "for i in range(nb_citants):\n",
    "    ID_Art = citants[idx[i]]\n",
    "    if ID_Art in dict_cluster_art:\n",
    "        year_citant = articles[ID_Art]\n",
    "        authors_art = dict_cluster_art[ID_Art]\n",
    "        refs_art = set(dict_citant[ID_Art])\n",
    "        for ID in authors_art:\n",
    "            arts_author = set(dict_cluster_ID[ID])\n",
    "            self_refs = refs_art.intersection(arts_author)\n",
    "            for sr in self_refs:\n",
    "                row['Cluster_ID'] = ID\n",
    "                row['Citant_ID'] = ID_Art\n",
    "                row['Cite_ID'] = sr\n",
    "                row.append()\n",
    "        if i % 1000 == 1 :\n",
    "            elapsed_time = time.time() - start_time\n",
    "            elapsed_time_h = np.round(elapsed_time/3600,2)\n",
    "            time_per_art = elapsed_time/i\n",
    "            time_left_h = np.round(time_per_art*(nb_citants-i)/3600,2)\n",
    "            perc = np.round(i/nb_citants*100,3)\n",
    "            f.write('Progress: {} articles, {}%, Time since start: {}, Time left: {}\\n'.format(i,perc,elapsed_time_h,time_left_h))    \n",
    "            f.flush()\n",
    "        table.flush()"
   ]
  },
  {
   "cell_type": "code",
   "execution_count": null,
   "metadata": {
    "collapsed": true
   },
   "outputs": [],
   "source": [
    "f.close()\n",
    "h5file.close()"
   ]
  }
 ],
 "metadata": {
  "kernelspec": {
   "display_name": "Python 3",
   "language": "python",
   "name": "python3"
  },
  "language_info": {
   "codemirror_mode": {
    "name": "ipython",
    "version": 3
   },
   "file_extension": ".py",
   "mimetype": "text/x-python",
   "name": "python",
   "nbconvert_exporter": "python",
   "pygments_lexer": "ipython3",
   "version": "3.6.3"
  }
 },
 "nbformat": 4,
 "nbformat_minor": 2
}
