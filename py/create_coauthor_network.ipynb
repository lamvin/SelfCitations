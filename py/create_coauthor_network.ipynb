{
 "cells": [
  {
   "cell_type": "markdown",
   "metadata": {},
   "source": [
    "### Use the 100 gb ram instance"
   ]
  },
  {
   "cell_type": "code",
   "execution_count": 45,
   "metadata": {},
   "outputs": [
    {
     "data": {
      "text/plain": [
       "9223372036854775807"
      ]
     },
     "execution_count": 45,
     "metadata": {},
     "output_type": "execute_result"
    }
   ],
   "source": [
    "import pandas as pd\n",
    "from tables import *\n",
    "import csv\n",
    "import numpy as np\n",
    "import pickle\n",
    "import time\n",
    "from scipy import sparse\n",
    "from tqdm import tqdm_notebook as tqdm\n",
    "import sys\n",
    "csv.field_size_limit(sys.maxsize)"
   ]
  },
  {
   "cell_type": "code",
   "execution_count": 2,
   "metadata": {
    "collapsed": true
   },
   "outputs": [],
   "source": [
    "path = '/home/User1/data/self_citations/'"
   ]
  },
  {
   "cell_type": "code",
   "execution_count": 3,
   "metadata": {
    "collapsed": true
   },
   "outputs": [],
   "source": [
    "articles = {}\n",
    "with open(path+'article.txt','r') as f:\n",
    "    reader = csv.reader(f,delimiter='\\t')\n",
    "    next(reader)\n",
    "    for line in reader:\n",
    "        articles[int(line[0])] = int(line[2])"
   ]
  },
  {
   "cell_type": "code",
   "execution_count": 4,
   "metadata": {
    "collapsed": true
   },
   "outputs": [],
   "source": [
    "with open(path+'dict_cluster_art.p','rb') as f:\n",
    "    dict_cluster_art = pickle.load(f)\n",
    "with open(path+'dict_cluster_ID.p','rb') as f:\n",
    "    dict_cluster_ID = pickle.load(f)"
   ]
  },
  {
   "cell_type": "code",
   "execution_count": 5,
   "metadata": {
    "collapsed": true
   },
   "outputs": [],
   "source": [
    "min_year = 1898\n",
    "max_year = 2019\n",
    "nb_years = max_year-min_year"
   ]
  },
  {
   "cell_type": "code",
   "execution_count": 208,
   "metadata": {
    "collapsed": true
   },
   "outputs": [],
   "source": [
    "authors = list(dict_cluster_ID.keys())\n",
    "nb_authors = len(authors)\n",
    "idx = np.arange(nb_authors)\n",
    "np.random.shuffle(idx)\n"
   ]
  },
  {
   "cell_type": "code",
   "execution_count": 230,
   "metadata": {},
   "outputs": [
    {
     "name": "stderr",
     "output_type": "stream",
     "text": [
      "/home/User1/anaconda3/lib/python3.6/site-packages/ipykernel_launcher.py:3: TqdmDeprecationWarning: This function will be removed in tqdm==5.0.0\n",
      "Please use `tqdm.notebook.tqdm` instead of `tqdm.tqdm_notebook`\n",
      "  This is separate from the ipykernel package so we can avoid doing imports until\n"
     ]
    },
    {
     "data": {
      "application/vnd.jupyter.widget-view+json": {
       "model_id": "7b0476d79bec4036a9725638f6d088d0",
       "version_major": 2,
       "version_minor": 0
      },
      "text/plain": [
       "A Jupyter Widget"
      ]
     },
     "metadata": {},
     "output_type": "display_data"
    },
    {
     "name": "stdout",
     "output_type": "stream",
     "text": [
      "\n"
     ]
    }
   ],
   "source": [
    "IDs_network = []\n",
    "with open(path+'author_network.npy','wb') as f:\n",
    "    for i in tqdm(range(nb_authors),smoothing=0):\n",
    "        cur_author = authors[idx[i]]\n",
    "        arts_author = dict_cluster_ID[cur_author]\n",
    "        network = None\n",
    "        for artID in arts_author:\n",
    "            co_authors_art = set(dict_cluster_art[artID])\n",
    "            rm_authors = set([cur_author])\n",
    "            year_art = articles[artID]\n",
    "            if len(co_authors_art) > 1:\n",
    "                if network is None:    \n",
    "                    new_coauthors = co_authors_art.difference(rm_authors)\n",
    "                    add_array = np.zeros((2,len(new_coauthors)))\n",
    "                    add_array[0,:] = np.array(list(new_coauthors))\n",
    "                    add_array[1,:] = year_art\n",
    "                    network = add_array\n",
    "                else:\n",
    "                    old_coauthors = set(network[0,:])\n",
    "                    rm_authors = rm_authors|old_coauthors\n",
    "                    new_coauthors = co_authors_art.difference(rm_authors)\n",
    "                    if len(new_coauthors)>0:\n",
    "                        add_array = np.zeros((2,len(new_coauthors)))\n",
    "                        add_array[0,:] = np.array(list(new_coauthors))\n",
    "                        add_array[1,:] = year_art\n",
    "                        network = np.concatenate([network,add_array],axis=1)\n",
    "        if network is not None:\n",
    "            IDs_network.append(cur_author)\n",
    "            np.save(f, network)\n",
    "            #f.write('\\n')\n",
    "\n"
   ]
  },
  {
   "cell_type": "code",
   "execution_count": 232,
   "metadata": {
    "collapsed": true
   },
   "outputs": [],
   "source": [
    "with open(path+'IDs_network.p','wb') as f:\n",
    "    pickle.dump(IDs_network,f)"
   ]
  },
  {
   "cell_type": "code",
   "execution_count": 239,
   "metadata": {
    "collapsed": true,
    "scrolled": true
   },
   "outputs": [],
   "source": [
    "#with open(path+'IDs_network.p','rb') as f:\n",
    "#    IDs_network = pickle.load(f)\n",
    "authors_network = {}\n",
    "count = 0\n",
    "with open(path+'author_network.npy','rb') as f1:\n",
    "    while True:\n",
    "        try:\n",
    "            authors_network[IDs_network[count]] = np.load(f1)\n",
    "            count += 1\n",
    "        except ValueError:\n",
    "            break\n",
    "        if count > 50:\n",
    "            break"
   ]
  }
 ],
 "metadata": {
  "kernelspec": {
   "display_name": "Python 3",
   "language": "python",
   "name": "python3"
  },
  "language_info": {
   "codemirror_mode": {
    "name": "ipython",
    "version": 3
   },
   "file_extension": ".py",
   "mimetype": "text/x-python",
   "name": "python",
   "nbconvert_exporter": "python",
   "pygments_lexer": "ipython3",
   "version": "3.6.3"
  }
 },
 "nbformat": 4,
 "nbformat_minor": 2
}
