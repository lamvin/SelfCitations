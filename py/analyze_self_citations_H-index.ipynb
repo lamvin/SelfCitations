{
 "cells": [
  {
   "cell_type": "code",
   "execution_count": 1,
   "metadata": {
    "collapsed": true
   },
   "outputs": [],
   "source": [
    "import pandas as pd\n",
    "from tables import *\n",
    "import numpy as np\n",
    "from tqdm import tqdm_notebook as tqdm\n",
    "import csv\n",
    "from scipy import sparse\n",
    "import pickle\n",
    "import os"
   ]
  },
  {
   "cell_type": "code",
   "execution_count": 2,
   "metadata": {
    "collapsed": true
   },
   "outputs": [],
   "source": [
    "path = '/home/User1/data/self_citations/'"
   ]
  },
  {
   "cell_type": "code",
   "execution_count": 3,
   "metadata": {
    "collapsed": true
   },
   "outputs": [],
   "source": [
    "min_year = 1980\n",
    "max_year = 2020\n",
    "nb_years = max_year-min_year"
   ]
  },
  {
   "cell_type": "code",
   "execution_count": 4,
   "metadata": {
    "collapsed": true
   },
   "outputs": [],
   "source": [
    "disciplines = pd.read_csv(path+'liste_discipline.txt',encoding='latin_1',sep='\\t')\n",
    "list_disciplines = pd.unique(disciplines['EDiscipline'])\n",
    "nb_disciplines = len(list_disciplines)"
   ]
  },
  {
   "cell_type": "code",
   "execution_count": 5,
   "metadata": {
    "collapsed": true
   },
   "outputs": [],
   "source": [
    "from matplotlib import pyplot as plt"
   ]
  },
  {
   "cell_type": "code",
   "execution_count": 6,
   "metadata": {
    "collapsed": true
   },
   "outputs": [],
   "source": [
    "types_cit = ['self','co','others','network']"
   ]
  },
  {
   "cell_type": "markdown",
   "metadata": {
    "collapsed": true
   },
   "source": [
    "authors_info = {}\n",
    "with open(path+'model/authors_infos_model.csv','r') as f:\n",
    "    reader = csv.reader(f,delimiter='\\t')\n",
    "    next(reader)\n",
    "    for line in reader:\n",
    "        authors_info[int(line[0])] = [line[1],int(line[2]),int(line[4]),int(line[3])]"
   ]
  },
  {
   "cell_type": "markdown",
   "metadata": {
    "collapsed": true
   },
   "source": [
    "#Map to auth ID\n",
    "with open(path+'authors_disc.p','rb') as f:\n",
    "    authors_disc_idx = pickle.load(f)"
   ]
  },
  {
   "cell_type": "markdown",
   "metadata": {
    "collapsed": true
   },
   "source": [
    "#Keys:idx,values:authorID\n",
    "for disc in list_disciplines:\n",
    "    authors_disc_idx[disc] = {authors_disc_idx[disc][x]:x for x in authors_disc_idx[disc]}"
   ]
  },
  {
   "cell_type": "code",
   "execution_count": 7,
   "metadata": {
    "collapsed": true
   },
   "outputs": [],
   "source": [
    "disc_groups = {'Arts and Humanities':['Arts','Humanities'],\n",
    "              'Natural Sciences and Engineering':['Biology','Physics','Mathematics','Engineering and Technology','Earth and Space','Chemistry'],\n",
    "              'Social Sciences':['Social Sciences','Psychology','Professional Fields','Health'],\n",
    "             'Health Sciences':['Biomedical Research','Clinical Medicine']}\n",
    "\n",
    "nb_groups = len(disc_groups)\n",
    "group_names = list(disc_groups.keys())"
   ]
  },
  {
   "cell_type": "code",
   "execution_count": 8,
   "metadata": {
    "collapsed": true
   },
   "outputs": [],
   "source": [
    "def hIndex(citations):\n",
    "        \"\"\"\n",
    "        :type citations: List[int]\n",
    "        :rtype: int\n",
    "        \"\"\"\n",
    "        citations = list(citations)\n",
    "        if not citations:\n",
    "            return 0\n",
    "        citations.sort()\n",
    "        for i in range(1,len(citations)+1)[::-1]:\n",
    "            if citations[-i] >= i:\n",
    "                return i\n",
    "        return 0"
   ]
  },
  {
   "cell_type": "code",
   "execution_count": 9,
   "metadata": {
    "collapsed": true
   },
   "outputs": [],
   "source": [
    "bins_nb_pubs = [1,2,3,4,5,7,10,15,20,25,30,40,50,70,100,150,200,300,500,750,1000,1500,2000,2500,3000,4000]\n",
    "nb_bins = len(bins_nb_pubs)\n",
    "bins_lbl = bins_nb_pubs.copy()\n",
    "bins_lbl[-6:] = ['1k','1.5k','2k','2.5k','3k','4k']"
   ]
  },
  {
   "cell_type": "code",
   "execution_count": 10,
   "metadata": {
    "collapsed": true
   },
   "outputs": [],
   "source": [
    "diff_pubs = np.diff(bins_nb_pubs)"
   ]
  },
  {
   "cell_type": "code",
   "execution_count": 11,
   "metadata": {
    "collapsed": true
   },
   "outputs": [],
   "source": [
    "labels = []\n",
    "for i in range(nb_bins-1):\n",
    "    diff = diff_pubs[i]-1\n",
    "    bin_val = bins_nb_pubs[i+1]\n",
    "    if diff == 0:\n",
    "        labels.append(str(bin_val) + ' papers')\n",
    "    else:\n",
    "        labels.append('{}-{} papers'.format(str(bin_val),str(bin_val+diff)))\n",
    "    "
   ]
  },
  {
   "cell_type": "markdown",
   "metadata": {},
   "source": [
    "#### cols 1"
   ]
  },
  {
   "cell_type": "code",
   "execution_count": 12,
   "metadata": {
    "collapsed": true
   },
   "outputs": [],
   "source": [
    "colors = [np.array([52,47,73]),\n",
    "         np.array([47,73,60]),\n",
    "         np.array([95,170,133]),\n",
    "          np.array([206,250,134])\n",
    "         ]\n",
    "colors = [x/255 for x in colors]"
   ]
  },
  {
   "cell_type": "markdown",
   "metadata": {},
   "source": [
    "#### cols 2"
   ]
  },
  {
   "cell_type": "code",
   "execution_count": 13,
   "metadata": {
    "collapsed": true
   },
   "outputs": [],
   "source": [
    "colors = [\n",
    "     np.array([53,116,172]),\n",
    "    np.array([44,164,40]),\n",
    "        \n",
    "         np.array([164,186,183]),\n",
    "          np.array([255,232,31])\n",
    "         ]\n",
    "colors = [x/255 for x in colors]"
   ]
  },
  {
   "cell_type": "markdown",
   "metadata": {},
   "source": [
    "### Abs adn rel citations"
   ]
  },
  {
   "cell_type": "code",
   "execution_count": 95,
   "metadata": {},
   "outputs": [
    {
     "name": "stderr",
     "output_type": "stream",
     "text": [
      "/home/User1/anaconda3/lib/python3.6/site-packages/ipykernel_launcher.py:1: TqdmDeprecationWarning: This function will be removed in tqdm==5.0.0\n",
      "Please use `tqdm.notebook.tqdm` instead of `tqdm.tqdm_notebook`\n",
      "  \"\"\"Entry point for launching an IPython kernel.\n"
     ]
    },
    {
     "data": {
      "application/vnd.jupyter.widget-view+json": {
       "model_id": "c588b3133b2d40c49bb72384e0624972",
       "version_major": 2,
       "version_minor": 0
      },
      "text/plain": [
       "A Jupyter Widget"
      ]
     },
     "metadata": {},
     "output_type": "display_data"
    },
    {
     "name": "stdout",
     "output_type": "stream",
     "text": [
      "\n"
     ]
    }
   ],
   "source": [
    "for i in tqdm(range(nb_groups)):\n",
    "    group = group_names[i]   \n",
    "    disc_group = disc_groups[group]\n",
    "    arrays_cits = {}\n",
    "    li = []\n",
    "\n",
    "    citations = {}\n",
    "    for disc in disc_group:\n",
    "        with open('{}/arrays/citations_articles_{}.p'.format(path,disc),'rb') as f:\n",
    "            load_cit = pickle.load(f)\n",
    "            citations.update(load_cit)\n",
    "\n",
    "    authors = list(citations.keys())\n",
    "    nb_authors = len(authors)\n",
    "    #0:Others,1:Others+net,2:Others+co+net,3:Others+co+net+self\n",
    "    for j in range(nb_authors):\n",
    "        ID_author = authors[j]\n",
    "        data_author = citations[ID_author]\n",
    "        if len(data_author) == 0:\n",
    "            continue\n",
    "        cits_author = data_author['citations']\n",
    "        cits_o = cits_author[:,3]\n",
    "        cits_on = np.sum(cits_author[:,2:4],axis=1)\n",
    "        cits_onc = np.sum(cits_author[:,1:4],axis=1)\n",
    "        cits_oncs = np.sum(cits_author[:,:4],axis=1)\n",
    "        h_o = hIndex(cits_o)\n",
    "        h_on = hIndex(cits_on)\n",
    "        h_onc = hIndex(cits_onc)\n",
    "        h_oncs = hIndex(cits_oncs)\n",
    "        nb_pubs = cits_author.shape[0]\n",
    "        li.append([ID_author,nb_pubs,h_o,h_on,h_onc,h_oncs])\n",
    "    \n",
    "    df = pd.DataFrame(li,columns=['ID_author','nb_pubs','h_o','h_on','h_onc','h_oncs'])\n",
    "    df = df.dropna()\n",
    "    df['d_s'] = df['h_oncs']-df['h_onc']\n",
    "    df['d_sc'] = df['h_oncs']-df['h_on']\n",
    "    \n",
    "    df['binned_pub'] = pd.cut(df['nb_pubs'],bins_nb_pubs)\n",
    "    df['binned_pub'] = df['binned_pub'].apply(lambda x: int(x.right))\n",
    "    stats = df.groupby('binned_pub').agg({'h_o':'mean','h_on':'mean','h_onc':'mean',\n",
    "                                          'h_oncs':'mean','d_s':'mean','d_sc':'mean'}).reset_index()\n",
    "    \n",
    "\n",
    "    plt.figure(figsize=(8,7.5))\n",
    "    for k in range(2):\n",
    "        ax = plt.subplot(2,1,k+1)\n",
    "        if k == 0:\n",
    "            max_art = 15\n",
    "            s = 0\n",
    "            e = np.where(np.array(bins_nb_pubs)==max_art)[0][0] \n",
    "            plt.title(group,fontsize=14)\n",
    "        else:\n",
    "            s = e\n",
    "            e = nb_bins\n",
    "\n",
    "        plt.plot(stats['binned_pub'][s:e],stats['h_o'][s:e],label='Others',color=colors[0],linewidth=3)\n",
    "        plt.plot(stats['binned_pub'][s:e],stats['h_on'][s:e],label='Others+Coll.',color=colors[1],linewidth=3)\n",
    "        plt.plot(stats['binned_pub'][s:e],stats['h_onc'][s:e],label='Others+Coll.+Co.',color=colors[2],linewidth=3)\n",
    "        plt.plot(stats['binned_pub'][s:e],stats['h_oncs'][s:e],label='Others+Coll.+Co.+Self',color=colors[3],linewidth=3)\n",
    "        plt.xticks(np.arange(nb_bins-1)[s:e],bins_lbl[1:][s:e])\n",
    "        plt.ylabel('h-index',fontsize=12)\n",
    "        plt.xlabel('# publications',fontsize=12)\n",
    "        ax.spines['right'].set_visible(False)\n",
    "        ax.spines['top'].set_visible(False)\n",
    "\n",
    "        # Only show ticks on the left and bottom spines\n",
    "        ax.yaxis.set_ticks_position('left')\n",
    "        ax.xaxis.set_ticks_position('bottom')\n",
    "\n",
    "        plt.tick_params(labelsize=12)\n",
    "\n",
    "    plt.legend()\n",
    "    out_path = path+'results/h-index/'\n",
    "    #plt.show()\n",
    "    if not os.path.exists(out_path):\n",
    "        os.makedirs(out_path)\n",
    "    plt.savefig(out_path + group + '_abs-index.png')\n",
    "    plt.savefig(out_path + group + '_abs-index.svg')\n",
    "    plt.close()\n",
    "    \n",
    "    plt.figure(figsize=(8,7.5))\n",
    "    for k in range(2):\n",
    "        ax = plt.subplot(2,1,k+1)\n",
    "        if k == 0:\n",
    "            max_art = 15\n",
    "            s = 0\n",
    "            e = np.where(np.array(bins_nb_pubs)==max_art)[0][0] \n",
    "            plt.title(group,fontsize=14)\n",
    "        else:\n",
    "            s = e\n",
    "            e = nb_bins\n",
    "        plt.plot(stats['binned_pub'][s:e],stats['d_s'][s:e],label='All - Self',color='r',linewidth=3)\n",
    "        plt.plot(stats['binned_pub'][s:e],stats['d_sc'][s:e],label='All - Self - Co.',color='b',linewidth=3)\n",
    "        plt.xticks(np.arange(nb_bins-1)[s:e],bins_lbl[1:][s:e])\n",
    "        plt.ylabel('Delta h-index',fontsize=12)\n",
    "        plt.xlabel('# publications',fontsize=12)\n",
    "        ax.spines['right'].set_visible(False)\n",
    "        ax.spines['top'].set_visible(False)\n",
    "\n",
    "        # Only show ticks on the left and bottom spines\n",
    "        ax.yaxis.set_ticks_position('left')\n",
    "        ax.xaxis.set_ticks_position('bottom')\n",
    "\n",
    "        plt.tick_params(labelsize=12)\n",
    "    plt.legend()\n",
    "    out_path = path+'results/h-index/'\n",
    "    #plt.show()\n",
    "    if not os.path.exists(out_path):\n",
    "        os.makedirs(out_path)\n",
    "    plt.savefig(out_path + group + '_rel-index.png')\n",
    "    plt.savefig(out_path + group + '_rel-index.svg')\n",
    "    plt.close()\n",
    "    \n",
    "    "
   ]
  },
  {
   "cell_type": "markdown",
   "metadata": {},
   "source": [
    "### Bootstrap"
   ]
  },
  {
   "cell_type": "code",
   "execution_count": 15,
   "metadata": {
    "collapsed": true
   },
   "outputs": [],
   "source": [
    "from scipy import stats\n",
    "nb_samples = 100"
   ]
  },
  {
   "cell_type": "code",
   "execution_count": 33,
   "metadata": {
    "collapsed": true
   },
   "outputs": [],
   "source": [
    "plt.close()"
   ]
  },
  {
   "cell_type": "code",
   "execution_count": 35,
   "metadata": {
    "scrolled": true
   },
   "outputs": [
    {
     "name": "stderr",
     "output_type": "stream",
     "text": [
      "/home/User1/anaconda3/lib/python3.6/site-packages/ipykernel_launcher.py:1: TqdmDeprecationWarning: This function will be removed in tqdm==5.0.0\n",
      "Please use `tqdm.notebook.tqdm` instead of `tqdm.tqdm_notebook`\n",
      "  \"\"\"Entry point for launching an IPython kernel.\n"
     ]
    },
    {
     "data": {
      "application/vnd.jupyter.widget-view+json": {
       "model_id": "5d6b1a9479b849c3ab26c0fa8f1accf1",
       "version_major": 2,
       "version_minor": 0
      },
      "text/plain": [
       "A Jupyter Widget"
      ]
     },
     "metadata": {},
     "output_type": "display_data"
    },
    {
     "name": "stderr",
     "output_type": "stream",
     "text": [
      "/home/User1/anaconda3/lib/python3.6/site-packages/ipykernel_launcher.py:16: TqdmDeprecationWarning: This function will be removed in tqdm==5.0.0\n",
      "Please use `tqdm.notebook.tqdm` instead of `tqdm.tqdm_notebook`\n",
      "  app.launch_new_instance()\n"
     ]
    },
    {
     "data": {
      "application/vnd.jupyter.widget-view+json": {
       "model_id": "ad08edbe85784459b3dd627e6ad99171",
       "version_major": 2,
       "version_minor": 0
      },
      "text/plain": [
       "A Jupyter Widget"
      ]
     },
     "metadata": {},
     "output_type": "display_data"
    },
    {
     "name": "stdout",
     "output_type": "stream",
     "text": [
      "\n"
     ]
    },
    {
     "name": "stderr",
     "output_type": "stream",
     "text": [
      "/home/User1/anaconda3/lib/python3.6/site-packages/scipy/stats/_stats_mstats_common.py:130: RuntimeWarning: invalid value encountered in double_scalars\n",
      "  slope = r_num / ssxm\n",
      "/home/User1/anaconda3/lib/python3.6/site-packages/scipy/stats/_stats_mstats_common.py:140: RuntimeWarning: invalid value encountered in sqrt\n",
      "  t = r * np.sqrt(df / ((1.0 - r + TINY)*(1.0 + r + TINY)))\n",
      "/home/User1/anaconda3/lib/python3.6/site-packages/scipy/stats/_stats_mstats_common.py:142: RuntimeWarning: invalid value encountered in double_scalars\n",
      "  sterrest = np.sqrt((1 - r**2) * ssym / ssxm / df)\n",
      "/home/User1/anaconda3/lib/python3.6/site-packages/scipy/stats/_stats_mstats_common.py:130: RuntimeWarning: invalid value encountered in double_scalars\n",
      "  slope = r_num / ssxm\n",
      "/home/User1/anaconda3/lib/python3.6/site-packages/scipy/stats/_stats_mstats_common.py:140: RuntimeWarning: invalid value encountered in sqrt\n",
      "  t = r * np.sqrt(df / ((1.0 - r + TINY)*(1.0 + r + TINY)))\n",
      "/home/User1/anaconda3/lib/python3.6/site-packages/scipy/stats/_stats_mstats_common.py:142: RuntimeWarning: invalid value encountered in double_scalars\n",
      "  sterrest = np.sqrt((1 - r**2) * ssym / ssxm / df)\n",
      "/home/User1/anaconda3/lib/python3.6/site-packages/scipy/stats/_stats_mstats_common.py:130: RuntimeWarning: invalid value encountered in double_scalars\n",
      "  slope = r_num / ssxm\n",
      "/home/User1/anaconda3/lib/python3.6/site-packages/scipy/stats/_stats_mstats_common.py:140: RuntimeWarning: invalid value encountered in sqrt\n",
      "  t = r * np.sqrt(df / ((1.0 - r + TINY)*(1.0 + r + TINY)))\n",
      "/home/User1/anaconda3/lib/python3.6/site-packages/scipy/stats/_stats_mstats_common.py:142: RuntimeWarning: invalid value encountered in double_scalars\n",
      "  sterrest = np.sqrt((1 - r**2) * ssym / ssxm / df)\n",
      "/home/User1/anaconda3/lib/python3.6/site-packages/ipykernel_launcher.py:16: TqdmDeprecationWarning: This function will be removed in tqdm==5.0.0\n",
      "Please use `tqdm.notebook.tqdm` instead of `tqdm.tqdm_notebook`\n",
      "  app.launch_new_instance()\n"
     ]
    },
    {
     "data": {
      "application/vnd.jupyter.widget-view+json": {
       "model_id": "75b92194a3e7473d826383d311341021",
       "version_major": 2,
       "version_minor": 0
      },
      "text/plain": [
       "A Jupyter Widget"
      ]
     },
     "metadata": {},
     "output_type": "display_data"
    },
    {
     "name": "stderr",
     "output_type": "stream",
     "text": [
      "/home/User1/anaconda3/lib/python3.6/site-packages/scipy/stats/_stats_mstats_common.py:130: RuntimeWarning: invalid value encountered in double_scalars\n",
      "  slope = r_num / ssxm\n",
      "/home/User1/anaconda3/lib/python3.6/site-packages/scipy/stats/_stats_mstats_common.py:140: RuntimeWarning: invalid value encountered in sqrt\n",
      "  t = r * np.sqrt(df / ((1.0 - r + TINY)*(1.0 + r + TINY)))\n",
      "/home/User1/anaconda3/lib/python3.6/site-packages/scipy/stats/_stats_mstats_common.py:142: RuntimeWarning: invalid value encountered in double_scalars\n",
      "  sterrest = np.sqrt((1 - r**2) * ssym / ssxm / df)\n"
     ]
    },
    {
     "name": "stdout",
     "output_type": "stream",
     "text": [
      "\n"
     ]
    },
    {
     "name": "stderr",
     "output_type": "stream",
     "text": [
      "/home/User1/anaconda3/lib/python3.6/site-packages/ipykernel_launcher.py:16: TqdmDeprecationWarning: This function will be removed in tqdm==5.0.0\n",
      "Please use `tqdm.notebook.tqdm` instead of `tqdm.tqdm_notebook`\n",
      "  app.launch_new_instance()\n"
     ]
    },
    {
     "data": {
      "application/vnd.jupyter.widget-view+json": {
       "model_id": "baeeed85611449f3b8dbfaab36d3dd23",
       "version_major": 2,
       "version_minor": 0
      },
      "text/plain": [
       "A Jupyter Widget"
      ]
     },
     "metadata": {},
     "output_type": "display_data"
    },
    {
     "name": "stdout",
     "output_type": "stream",
     "text": [
      "\n"
     ]
    },
    {
     "name": "stderr",
     "output_type": "stream",
     "text": [
      "/home/User1/anaconda3/lib/python3.6/site-packages/ipykernel_launcher.py:16: TqdmDeprecationWarning: This function will be removed in tqdm==5.0.0\n",
      "Please use `tqdm.notebook.tqdm` instead of `tqdm.tqdm_notebook`\n",
      "  app.launch_new_instance()\n"
     ]
    },
    {
     "data": {
      "application/vnd.jupyter.widget-view+json": {
       "model_id": "040ce67ac43c42108c9ef659244f5383",
       "version_major": 2,
       "version_minor": 0
      },
      "text/plain": [
       "A Jupyter Widget"
      ]
     },
     "metadata": {},
     "output_type": "display_data"
    },
    {
     "name": "stdout",
     "output_type": "stream",
     "text": [
      "\n",
      "\n"
     ]
    }
   ],
   "source": [
    "for i in tqdm(range(nb_groups)):\n",
    "    group = group_names[i]   \n",
    "    disc_group = disc_groups[group]\n",
    "    arrays_cits = {}\n",
    "    li = []\n",
    "\n",
    "    citations = {}\n",
    "    for disc in disc_group:\n",
    "        with open('{}/arrays/citations_articles_{}.p'.format(path,disc),'rb') as f:\n",
    "            load_cit = pickle.load(f)\n",
    "            citations.update(load_cit)\n",
    "\n",
    "    authors = list(citations.keys())\n",
    "    nb_authors = len(authors)\n",
    "    #0:Others,1:Others+net,2:Others+co+net,3:Others+co+net+self\n",
    "    for j in tqdm(range(nb_authors)):\n",
    "        ID_author = authors[j]\n",
    "        data_author = citations[ID_author]\n",
    "        if len(data_author) == 0:\n",
    "            continue\n",
    "        cits_author = data_author['citations']\n",
    "        nb_pubs = cits_author.shape[0]\n",
    "        cits_o = cits_author[:,3]\n",
    "        cits_on = np.sum(cits_author[:,2:4],axis=1)\n",
    "        cits_onc = np.sum(cits_author[:,1:4],axis=1)\n",
    "        cits_oncs = np.sum(cits_author[:,:4],axis=1)\n",
    "\n",
    "        nb_self_cits = np.sum(cits_author[:,0])\n",
    "        boot_h = []\n",
    "        h_o = hIndex(cits_o)\n",
    "        h_on = hIndex(cits_on)\n",
    "        h_onc = hIndex(cits_onc)\n",
    "        h_oncs = hIndex(cits_oncs)\n",
    "        if nb_self_cits > 0:\n",
    "#             #Uniform\n",
    "#             for ii in range(nb_samples):\n",
    "#                 draw = np.random.choice(np.arange(nb_pubs),nb_self_cits)\n",
    "#                 boot_cits_s = np.bincount(draw,minlength=nb_pubs) \n",
    "#                 boot_cits_oncs = cits_onc + boot_cits_s\n",
    "#                 boot_h.append(hIndex(boot_cits_oncs))\n",
    "                \n",
    "            #Shuffle\n",
    "            for ii in range(nb_samples):\n",
    "                boot_cits_s = cits_author[:,0].copy()\n",
    "                np.random.shuffle(boot_cits_s)\n",
    "                boot_cits_oncs = cits_onc + boot_cits_s\n",
    "                boot_h.append(hIndex(boot_cits_oncs))   \n",
    "                \n",
    "            boot_h = np.array(boot_h)    \n",
    "            \n",
    "#             boot_h_mean = len(np.where(boot_h<=h_oncs)[0])/nb_samples\n",
    "#             all_v = np.unique(boot_h)\n",
    "#             nb_v = len(all_v)\n",
    "            \n",
    "#             if nb_v%2 == 1:\n",
    "#                 middle_v = all_v[int(nb_v/2)]\n",
    "#                 if middle_v == h_oncs:\n",
    "            nb_smaller = len(np.where(boot_h<h_oncs)[0])/nb_samples\n",
    "            nb_equal = len(np.where(boot_h==h_oncs)[0])/nb_samples/2\n",
    "            boot_h_mean = nb_smaller + nb_equal\n",
    "        else:\n",
    "            continue\n",
    "\n",
    "\n",
    "        li.append([ID_author,nb_pubs,h_o,h_on,h_onc,h_oncs,boot_h_mean])\n",
    "\n",
    "    df = pd.DataFrame(li,columns=['ID_author','nb_pubs','h_o','h_on','h_onc','h_oncs','prob_h_oncs'])\n",
    "    df = df.dropna()\n",
    "    #df['d_boot_s'] = df['h_oncs'] - df['h_boot_s'] \n",
    "    df['d_s'] = df['h_oncs']-df['h_onc']\n",
    "\n",
    "    df['binned_pub'] = pd.cut(df['nb_pubs'],bins_nb_pubs)\n",
    "    df['binned_pub'] = df['binned_pub'].apply(lambda x: int(x.right))\n",
    "    df_stats = df.groupby('binned_pub').agg({'prob_h_oncs':'mean'}).reset_index()\n",
    "    \n",
    "    plt.figure(figsize=(8,6))\n",
    "    for k in range(2):\n",
    "        plt.subplot(2,1,k+1)\n",
    "        if k == 0:\n",
    "            max_art = 15\n",
    "            s = 0\n",
    "            e = np.where(np.array(bins_nb_pubs)==max_art)[0][0] \n",
    "            plt.title(group)\n",
    "        else:\n",
    "            s = e\n",
    "            e = nb_bins\n",
    "\n",
    "        plt.plot(df_stats['binned_pub'][s:e],df_stats['prob_h_oncs'][s:e],label='All - Self',color='k')\n",
    "        plt.xticks(np.arange(nb_bins-1)[s:e],bins_lbl[1:][s:e])\n",
    "        plt.ylabel('Percentile')\n",
    "        plt.xlabel('# publications')\n",
    "    plt.legend()\n",
    "    out_path = path+'results/h-index/'\n",
    "    #plt.show()\n",
    "    if not os.path.exists(out_path):\n",
    "        os.makedirs(out_path)\n",
    "    plt.savefig(out_path + group + '_random-index.png')\n",
    "    plt.savefig(out_path + group + '_random-index.svg')\n",
    "    \n",
    "    plt.figure(figsize=(33,33))\n",
    "    for bin_i in range(1,nb_bins):\n",
    "        bin_val = bins_nb_pubs[bin_i]\n",
    "        bin_lbl = labels[bin_i-1]\n",
    "        df_hist = df.loc[df['binned_pub']==bin_val]\n",
    "\n",
    "        ax = plt.subplot(5,5,bin_i)\n",
    "        avg_perc = df.groupby('d_s').agg({'prob_h_oncs':'mean'}).reset_index()\n",
    "        x_avg = avg_perc['d_s']\n",
    "        y_avg = avg_perc['prob_h_oncs']\n",
    "        \n",
    "        x = np.array(df_hist['d_s'])\n",
    "        x_plot = x + np.random.normal(0, 0.08, len(x))\n",
    "        y = np.array(df_hist['prob_h_oncs'])\n",
    "        if len(df_hist) > 0:\n",
    "            slope, intercept, r_value, p_value, std_err = stats.linregress(x,y)\n",
    "            slope_avg, intercept_avg, r_value_avg, p_value_avg, std_err_avg = stats.linregress(x_avg,y_avg)\n",
    "            line = slope_avg*x_avg+intercept_avg\n",
    "            plt.plot(x_avg, line, 'b', label='r={:.2f}, p={:.3f}'.format(r_value,p_value))\n",
    "            #end\n",
    "\n",
    "            plt.scatter(x_plot,y, color=\"k\", s=2,alpha=0.4)\n",
    "            plt.legend(fontsize=14)     \n",
    "\n",
    "        plt.title(bin_lbl,fontsize=18)\n",
    "\n",
    "        # Hide the right and top spines\n",
    "        ax.spines['right'].set_visible(False)\n",
    "        ax.spines['top'].set_visible(False)\n",
    "\n",
    "        # Only show ticks on the left and bottom spines\n",
    "        ax.yaxis.set_ticks_position('left')\n",
    "        ax.xaxis.set_ticks_position('bottom')\n",
    "\n",
    "\n",
    "        plt.tick_params(labelsize=15)\n",
    "\n",
    "        plt.xlabel('Delta h-index (self)',fontsize=16)\n",
    "        plt.ylabel('Percentile',fontsize=16)\n",
    "    \n",
    "    out_path = path+'results/h-index/'\n",
    "    #plt.show()\n",
    "    if not os.path.exists(out_path):\n",
    "        os.makedirs(out_path)\n",
    "    plt.savefig(out_path + group + '_corr_dist-index.png')\n",
    "    plt.savefig(out_path + group + '_corr_dist-index.svg')\n"
   ]
  },
  {
   "cell_type": "markdown",
   "metadata": {},
   "source": [
    "#### Bootstrap corr"
   ]
  },
  {
   "cell_type": "code",
   "execution_count": 91,
   "metadata": {
    "collapsed": true
   },
   "outputs": [],
   "source": [
    "from scipy import stats\n",
    "nb_samples = 100"
   ]
  },
  {
   "cell_type": "code",
   "execution_count": null,
   "metadata": {
    "collapsed": true
   },
   "outputs": [],
   "source": [
    "for i in tqdm(range(nb_groups)):\n",
    "    group = group_names[i]   \n",
    "    disc_group = disc_groups[group]\n",
    "    arrays_cits = {}\n",
    "    li = []\n",
    "\n",
    "    citations = {}\n",
    "    for disc in disc_group:\n",
    "        with open('{}/arrays/citations_articles_{}.p'.format(path,disc),'rb') as f:\n",
    "            load_cit = pickle.load(f)\n",
    "            citations.update(load_cit)\n",
    "\n",
    "    authors = list(citations.keys())\n",
    "    nb_authors = len(authors)\n",
    "    #0:Others,1:Others+net,2:Others+co+net,3:Others+co+net+self\n",
    "    for j in range(nb_authors):\n",
    "        ID_author = authors[j]\n",
    "        data_author = citations[ID_author]\n",
    "        if len(data_author) == 0:\n",
    "            continue\n",
    "        cits_author = data_author['citations']\n",
    "        cits_o = cits_author[:,3]\n",
    "        cits_on = np.sum(cits_author[:,2:4],axis=1)\n",
    "        cits_onc = np.sum(cits_author[:,1:4],axis=1)\n",
    "        cits_oncs = np.sum(cits_author[:,:4],axis=1)\n",
    "        h_o = hIndex(cits_o)\n",
    "        h_on = hIndex(cits_on)\n",
    "        h_onc = hIndex(cits_onc)\n",
    "        h_oncs = hIndex(cits_oncs)\n",
    "        nb_pubs = cits_author.shape[0]\n",
    "        \n",
    "        nb_self_cits = np.sum(cits_authors[:,0])\n",
    "        boot_h = []\n",
    "        \n",
    "        if nb_self_cits > 0:\n",
    "            for ii in range(nb_samples):\n",
    "                draw = np.random.choice(np.arange(nb_pubs),nb_self_cits)\n",
    "                boot_cits_s = np.bincount(draw,minlength=nb_pubs) \n",
    "                boot_cits_oncs = cits_onc + boot_cits_s\n",
    "                boot_h.append(hIndex(boot_cits_oncs))\n",
    "            boot_h_mean = np.mean(boot_h)\n",
    "        else:\n",
    "            boot_h_mean = h_oncs\n",
    "        \n",
    "        li.append([ID_author,nb_pubs,h_o,h_on,h_onc,h_oncs,boot_h_mean])\n",
    "    \n",
    "    \n",
    "    df = pd.DataFrame(li,columns=['ID_author','nb_pubs','h_o','h_on','h_onc','h_oncs','h_boot_s'])\n",
    "    df = df.dropna()\n",
    "    df['binned_pub'] = pd.cut(df['nb_pubs'],bins_nb_pubs)\n",
    "    df['binned_pub'] = df['binned_pub'].apply(lambda x: int(x.right))\n",
    "    df['d_s'] = df['h_oncs']-df['h_onc']\n",
    "    df['d_boot_s'] = df['h_oncs'] - df['h_boot_s'] \n",
    "\n",
    "    plt.figure(figsize=(33,33))\n",
    "    for bin_i in range(1,nb_bins):\n",
    "        bin_val = bins_nb_pubs[bin_i]\n",
    "        bin_lbl = labels[bin_i-1]\n",
    "        df_hist = df.loc[df['binned_pub']==bin_val]\n",
    "\n",
    "        ax = plt.subplot(5,5,bin_i)\n",
    "        x = np.array(df_hist['d_s'])\n",
    "        y = np.array(df_hist['d_boot_s'])\n",
    "        if len(df_hist) > 0:\n",
    "            slope, intercept, r_value, p_value, std_err = stats.linregress(x,y)\n",
    "            line = slope*x+intercept\n",
    "            plt.plot(x, line, 'b', label='r={:.2f}, p={:.3f}'.format(r_value,p_value))\n",
    "            #end\n",
    "\n",
    "            plt.scatter(x,y, color=\"k\", s=2)\n",
    "            plt.legend(fontsize=14)     \n",
    "\n",
    "        plt.title(bin_lbl,fontsize=18)\n",
    "\n",
    "        # Hide the right and top spines\n",
    "        ax.spines['right'].set_visible(False)\n",
    "        ax.spines['top'].set_visible(False)\n",
    "\n",
    "        # Only show ticks on the left and bottom spines\n",
    "        ax.yaxis.set_ticks_position('left')\n",
    "        ax.xaxis.set_ticks_position('bottom')\n",
    "\n",
    "\n",
    "        plt.tick_params(labelsize=15)\n",
    "\n",
    "        plt.xlabel('Delta h-index (self)',fontsize=16)\n",
    "        plt.ylabel('Delta random',fontsize=16)\n",
    "    \n",
    "    out_path = path+'results/h-index/'\n",
    "    #plt.show()\n",
    "    if not os.path.exists(out_path):\n",
    "        os.makedirs(out_path)\n",
    "    plt.savefig(out_path + group + '_corr_dist-index.png')\n",
    "    plt.savefig(out_path + group + '_corr_dist-index.svg')"
   ]
  },
  {
   "cell_type": "markdown",
   "metadata": {},
   "source": [
    "# Ditributions"
   ]
  },
  {
   "cell_type": "markdown",
   "metadata": {},
   "source": [
    "### Freq histogram"
   ]
  },
  {
   "cell_type": "code",
   "execution_count": 62,
   "metadata": {},
   "outputs": [
    {
     "name": "stderr",
     "output_type": "stream",
     "text": [
      "/home/User1/anaconda3/lib/python3.6/site-packages/ipykernel_launcher.py:1: TqdmDeprecationWarning: This function will be removed in tqdm==5.0.0\n",
      "Please use `tqdm.notebook.tqdm` instead of `tqdm.tqdm_notebook`\n",
      "  \"\"\"Entry point for launching an IPython kernel.\n"
     ]
    },
    {
     "data": {
      "application/vnd.jupyter.widget-view+json": {
       "model_id": "d363ac4565374534816bd94721de0c21",
       "version_major": 2,
       "version_minor": 0
      },
      "text/plain": [
       "A Jupyter Widget"
      ]
     },
     "metadata": {},
     "output_type": "display_data"
    },
    {
     "name": "stdout",
     "output_type": "stream",
     "text": [
      "\n"
     ]
    }
   ],
   "source": [
    "for i in tqdm(range(nb_groups)):\n",
    "    group = group_names[i]   \n",
    "    disc_group = disc_groups[group]\n",
    "    arrays_cits = {}\n",
    "    li = []\n",
    "\n",
    "    citations = {}\n",
    "    for disc in disc_group:\n",
    "        with open('{}/arrays/citations_articles_{}.p'.format(path,disc),'rb') as f:\n",
    "            load_cit = pickle.load(f)\n",
    "            citations.update(load_cit)\n",
    "\n",
    "    authors = list(citations.keys())\n",
    "    nb_authors = len(authors)\n",
    "    #0:Others,1:Others+net,2:Others+co+net,3:Others+co+net+self\n",
    "    for j in range(nb_authors):\n",
    "        ID_author = authors[j]\n",
    "        data_author = citations[ID_author]\n",
    "        if len(data_author) == 0:\n",
    "            continue\n",
    "        cits_author = data_author['citations']\n",
    "        cits_o = cits_author[:,3]\n",
    "        cits_on = np.sum(cits_author[:,2:4],axis=1)\n",
    "        cits_onc = np.sum(cits_author[:,1:4],axis=1)\n",
    "        cits_oncs = np.sum(cits_author[:,:4],axis=1)\n",
    "        h_o = hIndex(cits_o)\n",
    "        h_on = hIndex(cits_on)\n",
    "        h_onc = hIndex(cits_onc)\n",
    "        h_oncs = hIndex(cits_oncs)\n",
    "        nb_pubs = cits_author.shape[0]\n",
    "        li.append([ID_author,nb_pubs,h_o,h_on,h_onc,h_oncs])\n",
    "    \n",
    "    \n",
    "    df = pd.DataFrame(li,columns=['ID_author','nb_pubs','h_o','h_on','h_onc','h_oncs'])\n",
    "    df['d_s'] = df['h_oncs']-df['h_onc']\n",
    "    df['d_sc'] = df['h_oncs']-df['h_on']\n",
    "    df = df.dropna()\n",
    "    df['binned_pub'] = pd.cut(df['nb_pubs'],bins_nb_pubs)\n",
    "    df['binned_pub'] = df['binned_pub'].apply(lambda x: int(x.right))\n",
    "    \n",
    "    \n",
    "    plt.figure(figsize=(33,33))\n",
    "    for bin_i in range(1,nb_bins):\n",
    "        bin_val = bins_nb_pubs[bin_i]\n",
    "        bin_lbl = labels[bin_i-1]\n",
    "        df_hist = df.loc[df['binned_pub']==bin_val]\n",
    "        \n",
    "        if len(df_hist) > 0:\n",
    "            max_val = np.max([list(df_hist['d_sc']),list(df_hist['d_s'])])\n",
    "            kwargs = dict(alpha=0.7,range=(0,max_val),bins=max_val)\n",
    "        else:\n",
    "            kwargs = dict(alpha=0.7)\n",
    "\n",
    "        ax = plt.subplot(5,5,bin_i)\n",
    "        plt.hist(df_hist['d_sc'], **kwargs, color='b', label='All - Self - Co.')\n",
    "        plt.hist(df_hist['d_s'], **kwargs, color='r', label='All - Self')\n",
    "        plt.gca().yaxis.set_major_formatter(PercentFormatter(1))\n",
    "        plt.title(bin_lbl,fontsize=18)\n",
    "        if bin_i == 1:\n",
    "            plt.legend()\n",
    "        # Hide the right and top spines\n",
    "        ax.spines['right'].set_visible(False)\n",
    "        ax.spines['top'].set_visible(False)\n",
    "\n",
    "        # Only show ticks on the left and bottom spines\n",
    "        ax.yaxis.set_ticks_position('left')\n",
    "        ax.xaxis.set_ticks_position('bottom')\n",
    "\n",
    "        scale_y = 1e3\n",
    "        y_vals = ax.get_yticks()\n",
    "        if bin_i < 17:\n",
    "    #         ax.set_yticklabels(['{:.2f}'.format(x /scale_y) for x in y_vals])\n",
    "    #     else:\n",
    "            ax.set_yticklabels(['{:d}'.format(int(x /scale_y)) for x in y_vals])\n",
    "            plt.ylabel('Frequency (k)',fontsize=16)\n",
    "        else:\n",
    "            plt.ylabel('Frequency',fontsize=16)\n",
    "        plt.tick_params(labelsize=15)\n",
    "        \n",
    "        plt.xlabel('Delta h-index',fontsize=16)\n",
    "    \n",
    "    out_path = path+'results/h-index/'\n",
    "    #plt.show()\n",
    "    if not os.path.exists(out_path):\n",
    "        os.makedirs(out_path)\n",
    "    plt.savefig(out_path + group + '_dist-index.png')\n",
    "    plt.savefig(out_path + group + '_dist-index.svg')"
   ]
  },
  {
   "cell_type": "markdown",
   "metadata": {
    "collapsed": true
   },
   "source": [
    "### Perc historgram"
   ]
  },
  {
   "cell_type": "code",
   "execution_count": 26,
   "metadata": {
    "collapsed": true
   },
   "outputs": [],
   "source": [
    "from matplotlib.ticker import PercentFormatter"
   ]
  },
  {
   "cell_type": "code",
   "execution_count": 28,
   "metadata": {},
   "outputs": [
    {
     "name": "stderr",
     "output_type": "stream",
     "text": [
      "/home/User1/anaconda3/lib/python3.6/site-packages/ipykernel_launcher.py:1: TqdmDeprecationWarning: This function will be removed in tqdm==5.0.0\n",
      "Please use `tqdm.notebook.tqdm` instead of `tqdm.tqdm_notebook`\n",
      "  \"\"\"Entry point for launching an IPython kernel.\n"
     ]
    },
    {
     "data": {
      "application/vnd.jupyter.widget-view+json": {
       "model_id": "2b56036136f6427aa7f3cccaaaedb716",
       "version_major": 2,
       "version_minor": 0
      },
      "text/plain": [
       "A Jupyter Widget"
      ]
     },
     "metadata": {},
     "output_type": "display_data"
    },
    {
     "name": "stdout",
     "output_type": "stream",
     "text": [
      "\n"
     ]
    }
   ],
   "source": [
    "for i in tqdm(range(nb_groups)):\n",
    "    group = group_names[i]   \n",
    "    disc_group = disc_groups[group]\n",
    "    arrays_cits = {}\n",
    "    li = []\n",
    "\n",
    "    citations = {}\n",
    "    for disc in disc_group:\n",
    "        with open('{}/arrays/citations_articles_{}.p'.format(path,disc),'rb') as f:\n",
    "            load_cit = pickle.load(f)\n",
    "            citations.update(load_cit)\n",
    "\n",
    "    authors = list(citations.keys())\n",
    "    nb_authors = len(authors)\n",
    "    #0:Others,1:Others+net,2:Others+co+net,3:Others+co+net+self\n",
    "    for j in range(nb_authors):\n",
    "        ID_author = authors[j]\n",
    "        data_author = citations[ID_author]\n",
    "        if len(data_author) == 0:\n",
    "            continue\n",
    "        cits_author = data_author['citations']\n",
    "        cits_o = cits_author[:,3]\n",
    "        cits_on = np.sum(cits_author[:,2:4],axis=1)\n",
    "        cits_onc = np.sum(cits_author[:,1:4],axis=1)\n",
    "        cits_oncs = np.sum(cits_author[:,:4],axis=1)\n",
    "        h_o = hIndex(cits_o)\n",
    "        h_on = hIndex(cits_on)\n",
    "        h_onc = hIndex(cits_onc)\n",
    "        h_oncs = hIndex(cits_oncs)\n",
    "        nb_pubs = cits_author.shape[0]\n",
    "        li.append([ID_author,nb_pubs,h_o,h_on,h_onc,h_oncs])\n",
    "    \n",
    "    \n",
    "    df = pd.DataFrame(li,columns=['ID_author','nb_pubs','h_o','h_on','h_onc','h_oncs'])\n",
    "    df['d_s'] = df['h_oncs']-df['h_onc']\n",
    "    df['d_sc'] = df['h_oncs']-df['h_on']\n",
    "    df['d_scn'] = df['h_oncs']-df['h_o']\n",
    "    df = df.dropna()\n",
    "    df['binned_pub'] = pd.cut(df['nb_pubs'],bins_nb_pubs)\n",
    "    df['binned_pub'] = df['binned_pub'].apply(lambda x: int(x.right))\n",
    "    \n",
    "    \n",
    "    plt.figure(figsize=(33,33))\n",
    "    for bin_i in range(1,nb_bins):\n",
    "        bin_val = bins_nb_pubs[bin_i]\n",
    "        bin_lbl = labels[bin_i-1]\n",
    "        df_hist = df.loc[df['binned_pub']==bin_val]\n",
    "\n",
    "        if len(df_hist) > 0:\n",
    "            max_val = np.max([list(df_hist['d_sc']),list(df_hist['d_s'])])\n",
    "            kwargs = dict(alpha=0.7,range=(0,max_val),bins=max_val)\n",
    "        else:\n",
    "            kwargs = dict(alpha=0.7)\n",
    "\n",
    "        ax = plt.subplot(5,5,bin_i)\n",
    "        plt.hist(df_hist['d_scn'], **kwargs, color='g', label='All - Self - Co. - Coll.',weights=np.ones(len(df_hist['d_scn'])) / len(df_hist['d_scn']))\n",
    "        plt.hist(df_hist['d_sc'], **kwargs, color='b', label='All - Self - Co.',weights=np.ones(len(df_hist['d_sc'])) / len(df_hist['d_sc']))\n",
    "        plt.hist(df_hist['d_s'], **kwargs, color='r', label='All - Self',weights=np.ones(len(df_hist['d_s'])) / len(df_hist['d_s']))\n",
    "        \n",
    "        plt.gca().yaxis.set_major_formatter(PercentFormatter(1))\n",
    "        plt.title(bin_lbl,fontsize=18)\n",
    "        if bin_i == 1:\n",
    "            plt.legend()\n",
    "        # Hide the right and top spines\n",
    "        ax.spines['right'].set_visible(False)\n",
    "        ax.spines['top'].set_visible(False)\n",
    "\n",
    "        # Only show ticks on the left and bottom spines\n",
    "        ax.yaxis.set_ticks_position('left')\n",
    "        ax.xaxis.set_ticks_position('bottom')\n",
    "\n",
    "        plt.ylabel('%',fontsize=16)\n",
    "        plt.tick_params(labelsize=15)\n",
    "\n",
    "        plt.xlabel('Delta h-index',fontsize=16)\n",
    "    \n",
    "    out_path = path+'results/h-index/'\n",
    "    #plt.show()\n",
    "    if not os.path.exists(out_path):\n",
    "        os.makedirs(out_path)\n",
    "    plt.savefig(out_path + group + '_dist_perc-index.png')\n",
    "    plt.savefig(out_path + group + '_dist_perc-index.svg')"
   ]
  },
  {
   "cell_type": "markdown",
   "metadata": {
    "collapsed": true
   },
   "source": [
    "## Histogram per h-index"
   ]
  },
  {
   "cell_type": "code",
   "execution_count": 9,
   "metadata": {
    "collapsed": true
   },
   "outputs": [],
   "source": [
    "vals_hindex = np.array([2,3,4,5,6,7,8,9,10,15,20,30,40,50,60,70,80,90,100,110])\n",
    "nb_vals = len(vals_hindex)"
   ]
  },
  {
   "cell_type": "code",
   "execution_count": 13,
   "metadata": {},
   "outputs": [
    {
     "data": {
      "text/plain": [
       "20"
      ]
     },
     "execution_count": 13,
     "metadata": {},
     "output_type": "execute_result"
    }
   ],
   "source": [
    "nb_vals"
   ]
  },
  {
   "cell_type": "code",
   "execution_count": 10,
   "metadata": {
    "collapsed": true
   },
   "outputs": [],
   "source": [
    "from matplotlib.ticker import PercentFormatter"
   ]
  },
  {
   "cell_type": "code",
   "execution_count": 27,
   "metadata": {
    "collapsed": true
   },
   "outputs": [],
   "source": [
    "plt.close()"
   ]
  },
  {
   "cell_type": "code",
   "execution_count": 19,
   "metadata": {},
   "outputs": [
    {
     "name": "stderr",
     "output_type": "stream",
     "text": [
      "/home/User1/anaconda3/lib/python3.6/site-packages/ipykernel_launcher.py:1: TqdmDeprecationWarning: This function will be removed in tqdm==5.0.0\n",
      "Please use `tqdm.notebook.tqdm` instead of `tqdm.tqdm_notebook`\n",
      "  \"\"\"Entry point for launching an IPython kernel.\n"
     ]
    },
    {
     "data": {
      "application/vnd.jupyter.widget-view+json": {
       "model_id": "27b817a5ede54d1eb8de81b8dc3c1a7c",
       "version_major": 2,
       "version_minor": 0
      },
      "text/plain": [
       "A Jupyter Widget"
      ]
     },
     "metadata": {},
     "output_type": "display_data"
    },
    {
     "name": "stdout",
     "output_type": "stream",
     "text": [
      "\n"
     ]
    }
   ],
   "source": [
    "for i in tqdm(range(nb_groups)):\n",
    "    group = group_names[i]   \n",
    "    disc_group = disc_groups[group]\n",
    "    arrays_cits = {}\n",
    "    li = []\n",
    "\n",
    "    citations = {}\n",
    "    for disc in disc_group:\n",
    "        with open('{}/arrays/citations_articles_{}.p'.format(path,disc),'rb') as f:\n",
    "            load_cit = pickle.load(f)\n",
    "            citations.update(load_cit)\n",
    "\n",
    "    authors = list(citations.keys())\n",
    "    nb_authors = len(authors)\n",
    "    #0:Others,1:Others+net,2:Others+co+net,3:Others+co+net+self\n",
    "    for j in range(nb_authors):\n",
    "        ID_author = authors[j]\n",
    "        data_author = citations[ID_author]\n",
    "        if len(data_author) == 0:\n",
    "            continue\n",
    "        cits_author = data_author['citations']\n",
    "        cits_o = cits_author[:,3]\n",
    "        cits_on = np.sum(cits_author[:,2:4],axis=1)\n",
    "        cits_onc = np.sum(cits_author[:,1:4],axis=1)\n",
    "        cits_oncs = np.sum(cits_author[:,:4],axis=1)\n",
    "        h_o = hIndex(cits_o)\n",
    "        h_on = hIndex(cits_on)\n",
    "        h_onc = hIndex(cits_onc)\n",
    "        h_oncs = hIndex(cits_oncs)\n",
    "        nb_pubs = cits_author.shape[0]\n",
    "        li.append([ID_author,nb_pubs,h_o,h_on,h_onc,h_oncs])\n",
    "    \n",
    "    \n",
    "    df = pd.DataFrame(li,columns=['ID_author','nb_pubs','h_o','h_on','h_onc','h_oncs'])\n",
    "    df['d_s'] = df['h_oncs']-df['h_onc']\n",
    "    df['d_sc'] = df['h_oncs']-df['h_on']\n",
    "    df['d_scn'] = df['h_oncs']-df['h_o']\n",
    "    df = df.dropna()\n",
    "    df['binned_pub'] = pd.cut(df['nb_pubs'],bins_nb_pubs)\n",
    "    df['binned_pub'] = df['binned_pub'].apply(lambda x: int(x.right))\n",
    "    \n",
    "    \n",
    "    plt.figure(figsize=(33,30))\n",
    "    for bin_i in range(nb_vals):\n",
    "        h_val = vals_hindex[bin_i]\n",
    "        df_hist = df.loc[df['h_oncs']==h_val]\n",
    "\n",
    "        if len(df_hist) > 0:\n",
    "            max_val = np.max([list(df_hist['d_sc']),list(df_hist['d_s'])])\n",
    "            kwargs = dict(alpha=0.7,range=(0,max_val),bins=max_val)#np.arange(0,max_val)-0.5\n",
    "        else:\n",
    "            kwargs = dict(alpha=0.7)\n",
    "\n",
    "        ax = plt.subplot(4,5,bin_i+1)\n",
    "        plt.hist(df_hist['d_scn'], **kwargs, color='g', label='All - Self - Co. - Coll.',weights=np.ones(len(df_hist['d_scn'])) / len(df_hist['d_scn']))\n",
    "        plt.hist(df_hist['d_sc'], **kwargs, color='b', label='All - Self - Co.',weights=np.ones(len(df_hist['d_sc'])) / len(df_hist['d_sc']))\n",
    "        plt.hist(df_hist['d_s'], **kwargs, color='r', label='All - Self',weights=np.ones(len(df_hist['d_s'])) / len(df_hist['d_s']))\n",
    "        \n",
    "        if max_val <= 10:\n",
    "            plt.xticks(np.arange(0,max_val)+0.5,labels=np.arange(0,max_val))\n",
    "        elif max_val <= 20:\n",
    "            plt.xticks(np.arange(0,max_val,2)+0.5,labels=np.arange(0,max_val,2))\n",
    "        else:\n",
    "            plt.xticks(np.arange(0,max_val,5)+0.5,labels=np.arange(0,max_val,5))\n",
    "            \n",
    "        plt.gca().yaxis.set_major_formatter(PercentFormatter(1))\n",
    "        plt.title('h-index: {}'.format(h_val),fontsize=20)\n",
    "        if bin_i == 1:\n",
    "            plt.legend()\n",
    "        # Hide the right and top spines\n",
    "        ax.spines['right'].set_visible(False)\n",
    "        ax.spines['top'].set_visible(False)\n",
    "\n",
    "        # Only show ticks on the left and bottom spines\n",
    "        ax.yaxis.set_ticks_position('left')\n",
    "        ax.xaxis.set_ticks_position('bottom')\n",
    "\n",
    "        plt.ylabel('%',fontsize=16)\n",
    "        plt.tick_params(labelsize=15)\n",
    "\n",
    "        plt.xlabel('Delta h-index',fontsize=16)\n",
    "\n",
    "\n",
    "    \n",
    "    out_path = path+'results/h-index/'\n",
    "    #plt.show()\n",
    "    if not os.path.exists(out_path):\n",
    "        os.makedirs(out_path)\n",
    "    plt.savefig(out_path + group + '_dist_perc_hindex_based.png')\n",
    "    plt.savefig(out_path + group + '_dist_perc_hindex_based.svg')"
   ]
  },
  {
   "cell_type": "markdown",
   "metadata": {},
   "source": [
    "### v2"
   ]
  },
  {
   "cell_type": "code",
   "execution_count": 29,
   "metadata": {},
   "outputs": [
    {
     "name": "stderr",
     "output_type": "stream",
     "text": [
      "/home/User1/anaconda3/lib/python3.6/site-packages/ipykernel_launcher.py:1: TqdmDeprecationWarning: This function will be removed in tqdm==5.0.0\n",
      "Please use `tqdm.notebook.tqdm` instead of `tqdm.tqdm_notebook`\n",
      "  \"\"\"Entry point for launching an IPython kernel.\n"
     ]
    },
    {
     "data": {
      "application/vnd.jupyter.widget-view+json": {
       "model_id": "b23f9826a4a44603b3389c67ffae5e41",
       "version_major": 2,
       "version_minor": 0
      },
      "text/plain": [
       "A Jupyter Widget"
      ]
     },
     "metadata": {},
     "output_type": "display_data"
    },
    {
     "name": "stdout",
     "output_type": "stream",
     "text": [
      "\n"
     ]
    }
   ],
   "source": [
    "for i in tqdm(range(nb_groups)):\n",
    "    group = group_names[i]   \n",
    "    disc_group = disc_groups[group]\n",
    "    arrays_cits = {}\n",
    "    li = []\n",
    "\n",
    "    citations = {}\n",
    "    for disc in disc_group:\n",
    "        with open('{}/arrays/citations_articles_{}.p'.format(path,disc),'rb') as f:\n",
    "            load_cit = pickle.load(f)\n",
    "            citations.update(load_cit)\n",
    "\n",
    "    authors = list(citations.keys())\n",
    "    nb_authors = len(authors)\n",
    "    #0:Others,1:Others+net,2:Others+co+net,3:Others+co+net+self\n",
    "    for j in range(nb_authors):\n",
    "        ID_author = authors[j]\n",
    "        data_author = citations[ID_author]\n",
    "        if len(data_author) == 0:\n",
    "            continue\n",
    "        cits_author = data_author['citations']\n",
    "        cits_o = cits_author[:,3]\n",
    "        cits_on = np.sum(cits_author[:,2:4],axis=1)\n",
    "        cits_onc = np.sum(cits_author[:,1:4],axis=1)\n",
    "        cits_oncs = np.sum(cits_author[:,:4],axis=1)\n",
    "        h_o = hIndex(cits_o)\n",
    "        h_on = hIndex(cits_on)\n",
    "        h_onc = hIndex(cits_onc)\n",
    "        h_oncs = hIndex(cits_oncs)\n",
    "        nb_pubs = cits_author.shape[0]\n",
    "        li.append([ID_author,nb_pubs,h_o,h_on,h_onc,h_oncs])\n",
    "    \n",
    "    df = pd.DataFrame(li,columns=['ID_author','nb_pubs','h_o','h_on','h_onc','h_oncs'])\n",
    "    df = df.dropna()\n",
    "    df['d_s'] = df['h_oncs']-df['h_onc']\n",
    "    df['d_sc'] = df['h_oncs']-df['h_on']\n",
    "    df['d_scn'] = df['h_oncs']-df['h_o']\n",
    "    df['h_oncs_x'] = df['h_oncs']\n",
    "    df = df.loc[df['h_oncs']<=100]\n",
    "    stats = df.groupby('h_oncs_x').agg({'h_o':'mean','h_on':'mean','h_onc':'mean',\n",
    "                                          'h_oncs':'mean','d_s':'mean','d_sc':'mean',\n",
    "                                       'd_scn':'mean'}).reset_index()\n",
    "    \n",
    "\n",
    "    plt.figure(figsize=(8,7.5))\n",
    "    ax = plt.axes()\n",
    "    plt.title(group,fontsize=14)\n",
    "\n",
    "\n",
    "    plt.plot(stats['h_oncs_x'],stats['h_o'],label='Others',color=colors[0],linewidth=3)\n",
    "    plt.plot(stats['h_oncs_x'],stats['h_on'],label='Others+Coll.',color=colors[1],linewidth=3)\n",
    "    plt.plot(stats['h_oncs_x'],stats['h_onc'],label='Others+Coll.+Co.',color=colors[2],linewidth=3)\n",
    "    plt.plot(stats['h_oncs_x'],stats['h_oncs'],'k--',label='Others+Coll.+Co.+Self',linewidth=3)\n",
    "    plt.ylabel('h-index',fontsize=12)\n",
    "    plt.xlabel('Obs. h-index',fontsize=12)\n",
    "    ax.spines['right'].set_visible(False)\n",
    "    ax.spines['top'].set_visible(False)\n",
    "\n",
    "    # Only show ticks on the left and bottom spines\n",
    "    ax.yaxis.set_ticks_position('left')\n",
    "    ax.xaxis.set_ticks_position('bottom')\n",
    "\n",
    "    plt.tick_params(labelsize=12)\n",
    "\n",
    "    plt.legend()\n",
    "    out_path = path+'results/h-index/'\n",
    "    #plt.show()\n",
    "    if not os.path.exists(out_path):\n",
    "        os.makedirs(out_path)\n",
    "    plt.savefig(out_path + group + '_abs-index_by_hindex.png')\n",
    "    plt.savefig(out_path + group + '_abs-index_by_hindex.svg')\n",
    "    plt.close()\n",
    "    \n",
    "    plt.figure(figsize=(8,4.5))\n",
    "    ax = plt.axes()\n",
    "    plt.title(group,fontsize=18)\n",
    "\n",
    "    plt.plot(stats['h_oncs_x'],stats['d_s'],label='All - Self',color=colors[0],linewidth=3)\n",
    "    plt.plot(stats['h_oncs_x'],stats['d_sc'],label='All - Self - Co.',color=colors[1],linewidth=3)\n",
    "    plt.plot(stats['h_oncs_x'],stats['d_scn'],label='All - Self - Co. - Coll.',color=colors[2],linewidth=3)\n",
    "\n",
    "    plt.ylabel('Delta h-index',fontsize=12)\n",
    "    plt.xlabel('Obs. h-index',fontsize=12)\n",
    "    ax.spines['right'].set_visible(False)\n",
    "    ax.spines['top'].set_visible(False)\n",
    "\n",
    "    # Only show ticks on the left and bottom spines\n",
    "    ax.yaxis.set_ticks_position('left')\n",
    "    ax.xaxis.set_ticks_position('bottom')\n",
    "\n",
    "    plt.tick_params(labelsize=12)\n",
    "    plt.legend()\n",
    "    out_path = path+'results/h-index/'\n",
    "    #plt.show()\n",
    "    if not os.path.exists(out_path):\n",
    "        os.makedirs(out_path)\n",
    "    plt.savefig(out_path + group + '_rel-index_by_hindex.png')\n",
    "    plt.savefig(out_path + group + '_rel-index_by_hindex.svg')\n",
    "    plt.close()\n",
    "    \n",
    "    "
   ]
  },
  {
   "cell_type": "code",
   "execution_count": 21,
   "metadata": {
    "collapsed": true
   },
   "outputs": [],
   "source": [
    "group = group_names[0]   \n",
    "disc_group = disc_groups[group]\n",
    "arrays_cits = {}\n",
    "li = []\n",
    "\n",
    "citations = {}\n",
    "for disc in disc_group:\n",
    "    with open('{}/arrays/citations_articles_{}.p'.format(path,disc),'rb') as f:\n",
    "        load_cit = pickle.load(f)\n",
    "        citations.update(load_cit)\n",
    "\n",
    "authors = list(citations.keys())\n",
    "nb_authors = len(authors)\n",
    "#0:Others,1:Others+net,2:Others+co+net,3:Others+co+net+self\n",
    "for j in range(nb_authors):\n",
    "    ID_author = authors[j]\n",
    "    data_author = citations[ID_author]\n",
    "    if len(data_author) == 0:\n",
    "        continue\n",
    "    cits_author = data_author['citations']\n",
    "    cits_o = cits_author[:,3]\n",
    "    cits_on = np.sum(cits_author[:,2:4],axis=1)\n",
    "    cits_onc = np.sum(cits_author[:,1:4],axis=1)\n",
    "    cits_oncs = np.sum(cits_author[:,:4],axis=1)\n",
    "    h_o = hIndex(cits_o)\n",
    "    h_on = hIndex(cits_on)\n",
    "    h_onc = hIndex(cits_onc)\n",
    "    h_oncs = hIndex(cits_oncs)\n",
    "    nb_pubs = cits_author.shape[0]\n",
    "    li.append([ID_author,nb_pubs,h_o,h_on,h_onc,h_oncs])\n",
    "\n",
    "df = pd.DataFrame(li,columns=['ID_author','nb_pubs','h_o','h_on','h_onc','h_oncs'])\n",
    "df = df.dropna()\n",
    "df['d_s'] = df['h_oncs']-df['h_onc']\n",
    "df['d_sc'] = df['h_oncs']-df['h_on']\n",
    "df['d_scn'] = df['h_oncs']-df['h_o']\n",
    "df['h_oncs_x'] = df['h_oncs']\n",
    "\n",
    "stats = df.groupby('h_oncs_x').agg({'h_o':'mean','h_on':'mean','h_onc':'mean',\n",
    "                                      'h_oncs':'mean','d_s':'mean','d_sc':'mean',\n",
    "                                   'd_scn':'mean'}).reset_index()\n",
    "\n",
    "\n",
    "\n",
    "\n"
   ]
  },
  {
   "cell_type": "code",
   "execution_count": 15,
   "metadata": {
    "collapsed": true
   },
   "outputs": [],
   "source": [
    "plt.close()"
   ]
  },
  {
   "cell_type": "code",
   "execution_count": 18,
   "metadata": {},
   "outputs": [
    {
     "data": {
      "image/png": "[encoded data removed]",
      "text/plain": [
       "<Figure size 576x540 with 1 Axes>"
      ]
     },
     "metadata": {},
     "output_type": "display_data"
    }
   ],
   "source": [
    "\n",
    "plt.figure(figsize=(8,7.5))\n",
    "ax = plt.axes()\n",
    "plt.title(group,fontsize=14)\n",
    "\n",
    "\n",
    "plt.plot(stats['h_oncs_x'],stats['h_o'],label='Others',color=colors[0],linewidth=3)\n",
    "plt.plot(stats['h_oncs_x'],stats['h_on'],label='Others+Coll.',color=colors[1],linewidth=3)\n",
    "plt.plot(stats['h_oncs_x'],stats['h_onc'],label='Others+Coll.+Co.',color=colors[2],linewidth=3)\n",
    "plt.plot(stats['h_oncs_x'],stats['h_oncs'],'k--',label='Others+Coll.+Co.+Self',linewidth=3)\n",
    "plt.ylabel('h-index',fontsize=12)\n",
    "plt.xlabel('Obs. h-index',fontsize=12)\n",
    "ax.spines['right'].set_visible(False)\n",
    "ax.spines['top'].set_visible(False)\n",
    "\n",
    "# Only show ticks on the left and bottom spines\n",
    "ax.yaxis.set_ticks_position('left')\n",
    "ax.xaxis.set_ticks_position('bottom')\n",
    "\n",
    "plt.tick_params(labelsize=12)\n",
    "\n",
    "plt.legend()\n",
    "out_path = path+'results/h-index/'\n",
    "plt.show()\n"
   ]
  },
  {
   "cell_type": "code",
   "execution_count": 24,
   "metadata": {},
   "outputs": [
    {
     "data": {
      "image/png": "[encoded data removed]",
      "text/plain": [
       "<Figure size 576x324 with 1 Axes>"
      ]
     },
     "metadata": {},
     "output_type": "display_data"
    }
   ],
   "source": [
    "plt.figure(figsize=(8,4.5))\n",
    "ax = plt.axes()\n",
    "plt.title(group,fontsize=18)\n",
    "\n",
    "plt.plot(stats['h_oncs_x'],stats['d_s'],label='All - Self',color=colors[0],linewidth=3)\n",
    "plt.plot(stats['h_oncs_x'],stats['d_sc'],label='All - Self - Co.',color=colors[1],linewidth=3)\n",
    "plt.plot(stats['h_oncs_x'],stats['d_scn'],label='All - Self - Co. - Coll.',color=colors[2],linewidth=3)\n",
    "\n",
    "plt.ylabel('Delta h-index',fontsize=12)\n",
    "plt.xlabel('Obs. h-index',fontsize=12)\n",
    "ax.spines['right'].set_visible(False)\n",
    "ax.spines['top'].set_visible(False)\n",
    "\n",
    "# Only show ticks on the left and bottom spines\n",
    "ax.yaxis.set_ticks_position('left')\n",
    "ax.xaxis.set_ticks_position('bottom')\n",
    "\n",
    "plt.tick_params(labelsize=12)\n",
    "plt.legend()\n",
    "out_path = path+'results/h-index/'\n",
    "plt.show()\n",
    "\n"
   ]
  }
 ],
 "metadata": {
  "kernelspec": {
   "display_name": "Python 3",
   "language": "python",
   "name": "python3"
  },
  "language_info": {
   "codemirror_mode": {
    "name": "ipython",
    "version": 3
   },
   "file_extension": ".py",
   "mimetype": "text/x-python",
   "name": "python",
   "nbconvert_exporter": "python",
   "pygments_lexer": "ipython3",
   "version": "3.6.3"
  }
 },
 "nbformat": 4,
 "nbformat_minor": 2
}
