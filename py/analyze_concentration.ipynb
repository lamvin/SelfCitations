{
 "cells": [
  {
   "cell_type": "code",
   "execution_count": 1,
   "metadata": {
    "collapsed": true
   },
   "outputs": [],
   "source": [
    "import pandas as pd\n",
    "from tables import *\n",
    "import numpy as np\n",
    "from tqdm import tqdm_notebook as tqdm\n",
    "import csv\n",
    "from scipy import sparse\n",
    "import pickle\n",
    "import os"
   ]
  },
  {
   "cell_type": "code",
   "execution_count": 2,
   "metadata": {
    "collapsed": true
   },
   "outputs": [],
   "source": [
    "path = '/home/User1/data/self_citations/'"
   ]
  },
  {
   "cell_type": "code",
   "execution_count": 3,
   "metadata": {
    "collapsed": true
   },
   "outputs": [],
   "source": [
    "data_file = ['gini','perc_new','nb_new']"
   ]
  },
  {
   "cell_type": "code",
   "execution_count": 4,
   "metadata": {
    "collapsed": true
   },
   "outputs": [],
   "source": [
    "filename = data_file[2]"
   ]
  },
  {
   "cell_type": "code",
   "execution_count": 5,
   "metadata": {},
   "outputs": [],
   "source": [
    "data = pd.read_csv(path+filename+'.csv')"
   ]
  },
  {
   "cell_type": "code",
   "execution_count": 6,
   "metadata": {},
   "outputs": [],
   "source": [
    "groups_df = pd.read_csv(path+'model/groups_disc.csv',header=None)\n",
    "groups_df.columns = ['group','discipline']"
   ]
  },
  {
   "cell_type": "code",
   "execution_count": 7,
   "metadata": {},
   "outputs": [],
   "source": [
    "groups = pd.unique(groups_df['group'])\n",
    "nb_groups = len(groups)"
   ]
  },
  {
   "cell_type": "code",
   "execution_count": 8,
   "metadata": {},
   "outputs": [],
   "source": [
    "data = pd.merge(data,groups_df,on='discipline')"
   ]
  },
  {
   "cell_type": "code",
   "execution_count": 9,
   "metadata": {
    "collapsed": true
   },
   "outputs": [],
   "source": [
    "from matplotlib import pyplot as plt"
   ]
  },
  {
   "cell_type": "code",
   "execution_count": 10,
   "metadata": {
    "collapsed": true
   },
   "outputs": [],
   "source": [
    "columns_data = ['age'+str(x) for x in range(1,40)]"
   ]
  },
  {
   "cell_type": "code",
   "execution_count": 11,
   "metadata": {},
   "outputs": [],
   "source": [
    "group = groups[0]\n",
    "df = data.loc[data['group']==group,columns_data]\n",
    "x = df.mean(axis=0,skipna=True)\n",
    "err = df.sem(axis=0,skipna=True)\n",
    "    "
   ]
  },
  {
   "cell_type": "code",
   "execution_count": 12,
   "metadata": {},
   "outputs": [],
   "source": [
    "colors_groups = [np.array([168,23,36]),\n",
    "         np.array([247,42,49]),\n",
    "         np.array([124,185,0]),\n",
    "         np.array([155,215,23])]\n",
    "groups_col = ['Social Sciences','Health Sciences','Natural Sciences and Engineering','Arts and Humanities']\n",
    "colors_groups = {group:colors_groups[x]/255 for x,group in enumerate(groups_col)}"
   ]
  },
  {
   "cell_type": "code",
   "execution_count": 14,
   "metadata": {},
   "outputs": [
    {
     "name": "stderr",
     "output_type": "stream",
     "text": [
      "/home/User1/anaconda3/lib/python3.6/site-packages/ipykernel_launcher.py:2: TqdmDeprecationWarning: This function will be removed in tqdm==5.0.0\n",
      "Please use `tqdm.notebook.tqdm` instead of `tqdm.tqdm_notebook`\n",
      "  \n"
     ]
    },
    {
     "data": {
      "application/vnd.jupyter.widget-view+json": {
       "model_id": "318e390b0fc34f5c9bb74e9b68b97141",
       "version_major": 2,
       "version_minor": 0
      },
      "text/plain": [
       "A Jupyter Widget"
      ]
     },
     "metadata": {},
     "output_type": "display_data"
    },
    {
     "name": "stdout",
     "output_type": "stream",
     "text": [
      "\n"
     ]
    }
   ],
   "source": [
    "plt.figure(figsize=(10,8))\n",
    "for i in tqdm(range(nb_groups)):\n",
    "    group = groups[i]   \n",
    "    df = data.loc[data['group']==group,columns_data]\n",
    "    y = df.mean(axis=0,skipna=True)\n",
    "    err = df.sem(axis=0,skipna=True)\n",
    "    kwargs = dict(alpha=1,linewidth=3,marker='.',markersize=15)\n",
    "    plt.errorbar(range(1,40),y,yerr=err,**kwargs,color=colors_groups[group], label=group)\n",
    "    \n",
    "    plt.title(filename,fontsize=20)\n",
    "    plt.ylabel(filename,fontsize=20)\n",
    "    plt.xlabel('Year since first publication',fontsize=20)\n",
    "    plt.legend()\n",
    "    plt.tick_params(labelsize=18)\n",
    "    \n",
    "    \n",
    "    plt.legend()\n",
    "out_path = path+'results/concentration/'\n",
    "#plt.show()\n",
    "if not os.path.exists(out_path):\n",
    "    os.makedirs(out_path)\n",
    "plt.savefig(out_path + filename + '.png')\n",
    "plt.savefig(out_path + filename + '.svg')\n",
    "\n",
    "plt.close()"
   ]
  }
 ],
 "metadata": {
  "kernelspec": {
   "display_name": "Python 3",
   "language": "python",
   "name": "python3"
  },
  "language_info": {
   "codemirror_mode": {
    "name": "ipython",
    "version": 3
   },
   "file_extension": ".py",
   "mimetype": "text/x-python",
   "name": "python",
   "nbconvert_exporter": "python",
   "pygments_lexer": "ipython3",
   "version": "3.6.3"
  }
 },
 "nbformat": 4,
 "nbformat_minor": 2
}
