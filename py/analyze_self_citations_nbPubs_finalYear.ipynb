{
 "cells": [
  {
   "cell_type": "code",
   "execution_count": 1,
   "metadata": {
    "collapsed": true
   },
   "outputs": [],
   "source": [
    "import pandas as pd\n",
    "from tables import *\n",
    "import numpy as np\n",
    "from tqdm import tqdm_notebook as tqdm\n",
    "import csv\n",
    "from scipy import sparse\n",
    "import pickle\n",
    "import os"
   ]
  },
  {
   "cell_type": "code",
   "execution_count": 2,
   "metadata": {
    "collapsed": true
   },
   "outputs": [],
   "source": [
    "path = '/home/User1/data/self_citations/'"
   ]
  },
  {
   "cell_type": "code",
   "execution_count": 3,
   "metadata": {
    "collapsed": true
   },
   "outputs": [],
   "source": [
    "min_year = 1980\n",
    "max_year = 2020\n",
    "nb_years = max_year-min_year"
   ]
  },
  {
   "cell_type": "code",
   "execution_count": 4,
   "metadata": {
    "collapsed": true
   },
   "outputs": [],
   "source": [
    "disciplines = pd.read_csv(path+'liste_discipline.txt',encoding='latin_1',sep='\\t')\n",
    "list_disciplines = pd.unique(disciplines['EDiscipline'])\n",
    "nb_disciplines = len(list_disciplines)"
   ]
  },
  {
   "cell_type": "code",
   "execution_count": 5,
   "metadata": {
    "collapsed": true
   },
   "outputs": [],
   "source": [
    "from matplotlib import pyplot as plt"
   ]
  },
  {
   "cell_type": "code",
   "execution_count": 6,
   "metadata": {
    "collapsed": true
   },
   "outputs": [],
   "source": [
    "types_cit = ['self','co','others']"
   ]
  },
  {
   "cell_type": "code",
   "execution_count": 7,
   "metadata": {
    "collapsed": true
   },
   "outputs": [],
   "source": [
    "authors_info = {}\n",
    "with open(path+'model/authors_infos_model.csv','r') as f:\n",
    "    reader = csv.reader(f,delimiter='\\t')\n",
    "    next(reader)\n",
    "    for line in reader:\n",
    "        authors_info[int(line[0])] = [line[1],int(line[2]),int(line[4]),int(line[3])]"
   ]
  },
  {
   "cell_type": "code",
   "execution_count": 8,
   "metadata": {
    "collapsed": true
   },
   "outputs": [],
   "source": [
    "#Map to auth ID\n",
    "with open(path+'authors_disc.p','rb') as f:\n",
    "    authors_disc_idx = pickle.load(f)"
   ]
  },
  {
   "cell_type": "code",
   "execution_count": 9,
   "metadata": {
    "collapsed": true
   },
   "outputs": [],
   "source": [
    "#Keys:idx,values:authorID\n",
    "for disc in list_disciplines:\n",
    "    authors_disc_idx[disc] = {authors_disc_idx[disc][x]:x for x in authors_disc_idx[disc]}"
   ]
  },
  {
   "cell_type": "code",
   "execution_count": 10,
   "metadata": {
    "collapsed": true
   },
   "outputs": [],
   "source": [
    "disc_groups = {'Arts and Humanities':['Arts','Humanities'],\n",
    "              'Natural Sciences and Engineering':['Biology','Physics','Mathematics','Engineering and Technology','Earth and Space','Chemistry'],\n",
    "              'Social Sciences':['Social Sciences','Psychology','Professional Fields','Health'],\n",
    "             'Health Sciences':['Biomedical Research','Clinical Medicine']}\n",
    "\n",
    "nb_groups = len(disc_groups)\n",
    "group_names = list(disc_groups.keys())"
   ]
  },
  {
   "cell_type": "markdown",
   "metadata": {},
   "source": [
    "### With network and condensed disc"
   ]
  },
  {
   "cell_type": "code",
   "execution_count": null,
   "metadata": {
    "collapsed": true
   },
   "outputs": [],
   "source": [
    "import pandas as pd"
   ]
  },
  {
   "cell_type": "code",
   "execution_count": 52,
   "metadata": {
    "scrolled": true
   },
   "outputs": [
    {
     "name": "stderr",
     "output_type": "stream",
     "text": [
      "/home/User1/anaconda3/lib/python3.6/site-packages/ipykernel_launcher.py:1: TqdmDeprecationWarning: This function will be removed in tqdm==5.0.0\n",
      "Please use `tqdm.notebook.tqdm` instead of `tqdm.tqdm_notebook`\n",
      "  \"\"\"Entry point for launching an IPython kernel.\n"
     ]
    },
    {
     "data": {
      "application/vnd.jupyter.widget-view+json": {
       "model_id": "cdca75e0463c411f96189e0ff8abc06b",
       "version_major": 2,
       "version_minor": 0
      },
      "text/plain": [
       "A Jupyter Widget"
      ]
     },
     "metadata": {},
     "output_type": "display_data"
    },
    {
     "name": "stdout",
     "output_type": "stream",
     "text": [
      "\n"
     ]
    }
   ],
   "source": [
    "for i in tqdm(range(nb_groups)):\n",
    "    group = group_names[i]   \n",
    "    disc_group = disc_groups[group]\n",
    "    arrays_refs = {}\n",
    "    arrays_cits = {}\n",
    "    nb_pubs = np.array([])\n",
    "    for type_cit in types_cit:\n",
    "        for disc in disc_group:\n",
    "            load_ref = sparse.load_npz('{}/arrays/references_{}_{}_array_norm.npz'.format(path,type_cit,disc)).todense()\n",
    "            load_cit = sparse.load_npz('{}/arrays/citations_{}_{}_array_norm.npz'.format(path,type_cit,disc)).todense()\n",
    "            load_ref= np.sum(load_ref,axis=1)\n",
    "            load_cit= np.sum(load_cit,axis=1)\n",
    "\n",
    "\n",
    "            if type_cit in arrays_cits: \n",
    "                arrays_cits[type_cit] = np.concatenate([arrays_cits[type_cit],load_cit],axis=0)\n",
    "                arrays_refs[type_cit] = np.concatenate([arrays_refs[type_cit],load_ref],axis=0)\n",
    "\n",
    "            else:\n",
    "                arrays_cits[type_cit] = load_cit\n",
    "                arrays_refs[type_cit] = load_ref\n",
    "\n",
    "\n",
    "\n",
    "    for disc in disc_group:\n",
    "        load_ref = sparse.load_npz('{}/arrays/references_self_{}_network_array_norm.npz'.format(path,disc)).todense()\n",
    "        load_cit = sparse.load_npz('{}/arrays/citations_self_{}_network_array_norm.npz'.format(path,disc)).todense()\n",
    "        load_ref= np.sum(load_ref,axis=1)\n",
    "        load_cit= np.sum(load_ref,axis=1)\n",
    "        nb_auts = load_cit.shape[0]\n",
    "        load_nb_pubs = np.array([authors_info[authors_disc_idx[disc][x]][2] for x in range(nb_auts)])\n",
    "        if 'self_net' in arrays_cits:\n",
    "            arrays_cits['self_net'] = np.concatenate([arrays_cits['self_net'],\n",
    "                                                   load_cit],axis=0)\n",
    "            arrays_refs['self_net'] = np.concatenate([arrays_refs['self_net'],\n",
    "                                                   load_ref],axis=0)\n",
    "            nb_pubs = np.concatenate([nb_pubs,load_nb_pubs],axis=0)\n",
    "        else:\n",
    "            arrays_cits['self_net'] = load_cit\n",
    "            arrays_refs['self_net'] = load_ref\n",
    "            nb_pubs = np.concatenate([nb_pubs,load_nb_pubs],axis=0)\n",
    "\n",
    "    #arrays_cits['self_net'] = sparse.load_npz('{}/arrays/citations_self_{}_network_array_norm.npz'.format(path,disc)).todense()\n",
    "    #arrays_refs['self_net'] = sparse.load_npz('{}/arrays/references_self_{}_network_array_norm.npz'.format(path,disc)).todense()\n",
    "    total_refs = arrays_refs['self'] + arrays_refs['co'] + arrays_refs['others'] \n",
    "    total_cits =  arrays_cits['self'] + arrays_cits['co'] + arrays_cits['others'] \n",
    "    idx_cits = total_cits.nonzero()[0]\n",
    "    idx_refs = total_refs.nonzero()[0]\n",
    "\n",
    "\n",
    "    plot_types = ['self','co','self_net']\n",
    "    stats_refs = {}\n",
    "    stats_cits = {}\n",
    "    nb_authors = len(nb_pubs)\n",
    "\n",
    "\n",
    "    for type_cit in plot_types:\n",
    "        arrays_refs[type_cit + '_perc'] = np.zeros(arrays_refs[type_cit].shape[0]) \n",
    "        arrays_cits[type_cit + '_perc'] = np.zeros(arrays_cits[type_cit].shape[0]) \n",
    "\n",
    "        arrays_refs[type_cit + '_perc'][idx_refs] = ((arrays_refs[type_cit][idx_refs]/total_refs[idx_refs])*100).ravel()\n",
    "        arrays_cits[type_cit + '_perc'][idx_cits] = ((arrays_cits[type_cit][idx_cits]/total_cits[idx_cits])*100).ravel()\n",
    "\n",
    "    li = []\n",
    "\n",
    "    for aut_i in range(total_refs.shape[0]):\n",
    "        li.append([arrays_cits[type_cit + '_perc'][aut_i] for type_cit in plot_types] +\n",
    "                       [arrays_refs[type_cit + '_perc'][aut_i] for type_cit in plot_types] +\n",
    "                       [nb_pubs[aut_i]])\n",
    "\n",
    "    df = pd.DataFrame(li,columns=['self_cits','co_cits','self_net_cits','self_refs','co_refs','self_net_refs','nb_pubs'])\n",
    "\n",
    "\n",
    "    stats = df.groupby('nb_pubs').agg({'self_cits':'mean','co_cits':'mean','self_net_cits':'mean',\n",
    "                                       'self_refs':'mean','co_refs':'mean','self_net_refs':'mean'}).reset_index()\n",
    "    stats = stats.loc[stats['nb_pubs']<=50]\n",
    "    plt.figure(figsize=(15,6))\n",
    "    plt.subplot(121)\n",
    "    plt.plot(stats['nb_pubs'],stats['self_cits'],'r',label='% self citations',linewidth=2)\n",
    "    plt.plot(stats['nb_pubs'],stats['co_cits'],'r--',label='% coauthors citations',linewidth=2)\n",
    "    plt.plot(stats['nb_pubs'],stats['self_net_cits'],'r-.',label='% network citations',linewidth=2)\n",
    "    plt.plot(stats['nb_pubs'],stats['self_refs'],'g',label='% self references',linewidth=2)\n",
    "    plt.plot(stats['nb_pubs'],stats['co_refs'],'g--',label='% coauthors references',linewidth=2)\n",
    "    plt.plot(stats['nb_pubs'],stats['self_net_refs'],'g-.',label='% network references',linewidth=2)\n",
    "    plt.title(group,fontsize=20)\n",
    "    plt.gca().set_ylim(bottom=0)\n",
    "    plt.ylabel('%',fontsize=20)\n",
    "    plt.xlabel('Publication #',fontsize=20)\n",
    "    plt.legend()\n",
    "    plt.tick_params(labelsize=18)\n",
    "\n",
    "\n",
    "    plt.subplot(122)\n",
    "    plt.plot(stats['nb_pubs'],stats['self_cits'] + stats['co_cits'] ,'b',label='% citations',linewidth=2)\n",
    "    plt.plot(stats['nb_pubs'],stats['self_cits'] + stats['co_cits'] + stats['self_net_cits'],\n",
    "             'b--',label='% citations w\\\\ network',linewidth=2)\n",
    "    plt.plot(stats['nb_pubs'],stats['self_refs'] + stats['co_refs'] ,'orange',label = '% references',linewidth=2)\n",
    "    plt.plot(stats['nb_pubs'],stats['self_refs'] + stats['co_refs'] + stats['self_net_refs'],\n",
    "             color='orange',linestyle='--',label='% references w\\\\ network',linewidth=2)\n",
    "    plt.title(group,fontsize=20)\n",
    "    plt.gca().set_ylim(bottom=0)\n",
    "    plt.ylabel('%',fontsize=20)\n",
    "    plt.xlabel('Publication #',fontsize=20)\n",
    "    plt.legend()\n",
    "    plt.tick_params(labelsize=18)\n",
    "\n",
    "    \n",
    "    plt.legend()\n",
    "    out_path = path+'results/perc_w_network_by_nb_arts/'.format(min_pubs)\n",
    "    #plt.show()\n",
    "    if not os.path.exists(out_path):\n",
    "        os.makedirs(out_path)\n",
    "    plt.savefig(out_path + group + '.png')\n",
    "    plt.savefig(out_path + group + '.svg')\n",
    "\n",
    "    plt.close()\n",
    "    del stats_refs, stats_cits,load_ref,load_cit,arrays_cits,arrays_refs"
   ]
  },
  {
   "cell_type": "markdown",
   "metadata": {},
   "source": [
    "### Show distributions and avg"
   ]
  },
  {
   "cell_type": "markdown",
   "metadata": {
    "collapsed": true
   },
   "source": [
    "bins_nb_pubs = [1,2,3,4,5,7,10,15,20,25,30,40,50,70,100,150,200,300,500,750,1000,1500,2000,2500,3000,4000]\n",
    "nb_bins = len(bins_nb_pubs)\n",
    "bins_lbl = bins_nb_pubs.copy()\n",
    "bins_lbl[-6:] = ['1k','1.5k','2k','2.5k','3k','4k']"
   ]
  },
  {
   "cell_type": "code",
   "execution_count": 73,
   "metadata": {
    "collapsed": true
   },
   "outputs": [],
   "source": [
    "bins_nb_pubs = [1,2,3,4,5,7,10,15,20,25,30,40,50,75,100,200,300,500,750,999,4000]\n",
    "nb_bins = len(bins_nb_pubs)\n",
    "bins_lbl = bins_nb_pubs.copy()\n",
    "bins_lbl[-1] = '1k+'"
   ]
  },
  {
   "cell_type": "code",
   "execution_count": 65,
   "metadata": {
    "collapsed": true
   },
   "outputs": [],
   "source": [
    "diff_pubs = np.diff(bins_nb_pubs)\n",
    "labels = []\n",
    "for i in range(nb_bins-1):\n",
    "    diff = diff_pubs[i]-1\n",
    "    bin_val = bins_nb_pubs[i]+1\n",
    "    if diff == 0:\n",
    "        labels.append(str(bin_val) + ' papers')\n",
    "    else:\n",
    "        labels.append('{}-{} papers'.format(str(bin_val),str(bin_val+diff)))\n",
    "labels[-1] = '1k+ papers'"
   ]
  },
  {
   "cell_type": "code",
   "execution_count": 66,
   "metadata": {},
   "outputs": [
    {
     "data": {
      "text/plain": [
       "['2 papers',\n",
       " '3 papers',\n",
       " '4 papers',\n",
       " '5 papers',\n",
       " '6-7 papers',\n",
       " '8-10 papers',\n",
       " '11-15 papers',\n",
       " '16-20 papers',\n",
       " '21-25 papers',\n",
       " '26-30 papers',\n",
       " '31-40 papers',\n",
       " '41-50 papers',\n",
       " '51-75 papers',\n",
       " '76-100 papers',\n",
       " '101-200 papers',\n",
       " '201-300 papers',\n",
       " '301-500 papers',\n",
       " '501-750 papers',\n",
       " '751-999 papers',\n",
       " '1k+ papers']"
      ]
     },
     "execution_count": 66,
     "metadata": {},
     "output_type": "execute_result"
    }
   ],
   "source": [
    "labels"
   ]
  },
  {
   "cell_type": "code",
   "execution_count": 13,
   "metadata": {
    "collapsed": true
   },
   "outputs": [],
   "source": [
    "lim_y_label = {'Arts and Humanities':8,\n",
    "              'Natural Sciences and Engineering':17,\n",
    "              'Social Sciences':17,\n",
    "             'Health Sciences':17}\n"
   ]
  },
  {
   "cell_type": "code",
   "execution_count": 14,
   "metadata": {
    "collapsed": true
   },
   "outputs": [],
   "source": [
    "import matplotlib.gridspec as gridspec\n",
    "col_list = ['b','r','g']\n",
    "title_list = ['Self','Coauthors','Collaborators']"
   ]
  },
  {
   "cell_type": "markdown",
   "metadata": {},
   "source": [
    "#### Split subplots"
   ]
  },
  {
   "cell_type": "code",
   "execution_count": 79,
   "metadata": {},
   "outputs": [
    {
     "name": "stderr",
     "output_type": "stream",
     "text": [
      "/home/User1/anaconda3/lib/python3.6/site-packages/ipykernel_launcher.py:1: TqdmDeprecationWarning: This function will be removed in tqdm==5.0.0\n",
      "Please use `tqdm.notebook.tqdm` instead of `tqdm.tqdm_notebook`\n",
      "  \"\"\"Entry point for launching an IPython kernel.\n"
     ]
    },
    {
     "data": {
      "application/vnd.jupyter.widget-view+json": {
       "model_id": "469653df023d4fa680403410a3085a0a",
       "version_major": 2,
       "version_minor": 0
      },
      "text/plain": [
       "A Jupyter Widget"
      ]
     },
     "metadata": {},
     "output_type": "display_data"
    },
    {
     "name": "stdout",
     "output_type": "stream",
     "text": [
      "\n"
     ]
    }
   ],
   "source": [
    "for i in tqdm(range(nb_groups)):\n",
    "    group = group_names[i]   \n",
    "    disc_group = disc_groups[group]\n",
    "    arrays_refs = {}\n",
    "    arrays_cits = {}\n",
    "    nb_pubs = np.array([])\n",
    "    for type_cit in types_cit:\n",
    "        for disc in disc_group:\n",
    "            load_ref = sparse.load_npz('{}/arrays/references_{}_{}_array_norm.npz'.format(path,type_cit,disc)).todense()\n",
    "            load_cit = sparse.load_npz('{}/arrays/citations_{}_{}_array_norm.npz'.format(path,type_cit,disc)).todense()\n",
    "            load_ref= np.sum(load_ref,axis=1)\n",
    "            load_cit= np.sum(load_cit,axis=1)\n",
    "\n",
    "\n",
    "            if type_cit in arrays_cits: \n",
    "                arrays_cits[type_cit] = np.concatenate([arrays_cits[type_cit],load_cit],axis=0)\n",
    "                arrays_refs[type_cit] = np.concatenate([arrays_refs[type_cit],load_ref],axis=0)\n",
    "\n",
    "            else:\n",
    "                arrays_cits[type_cit] = load_cit\n",
    "                arrays_refs[type_cit] = load_ref\n",
    "\n",
    "\n",
    "\n",
    "    for disc in disc_group:\n",
    "        load_ref = sparse.load_npz('{}/arrays/references_self_{}_network_array_norm.npz'.format(path,disc)).todense()\n",
    "        load_cit = sparse.load_npz('{}/arrays/citations_self_{}_network_array_norm.npz'.format(path,disc)).todense()\n",
    "        load_ref= np.sum(load_ref,axis=1)\n",
    "        load_cit= np.sum(load_cit,axis=1)\n",
    "        nb_auts = load_cit.shape[0]\n",
    "        load_nb_pubs = np.array([authors_info[authors_disc_idx[disc][x]][2] for x in range(nb_auts)])\n",
    "        if 'self_net' in arrays_cits:\n",
    "            arrays_cits['self_net'] = np.concatenate([arrays_cits['self_net'],\n",
    "                                                   load_cit],axis=0)\n",
    "            arrays_refs['self_net'] = np.concatenate([arrays_refs['self_net'],\n",
    "                                                   load_ref],axis=0)\n",
    "            nb_pubs = np.concatenate([nb_pubs,load_nb_pubs],axis=0)\n",
    "        else:\n",
    "            arrays_cits['self_net'] = load_cit\n",
    "            arrays_refs['self_net'] = load_ref\n",
    "            nb_pubs = np.concatenate([nb_pubs,load_nb_pubs],axis=0)\n",
    "\n",
    "    #arrays_cits['self_net'] = sparse.load_npz('{}/arrays/citations_self_{}_network_array_norm.npz'.format(path,disc)).todense()\n",
    "    #arrays_refs['self_net'] = sparse.load_npz('{}/arrays/references_self_{}_network_array_norm.npz'.format(path,disc)).todense()\n",
    "    total_refs = arrays_refs['self'] + arrays_refs['co'] + arrays_refs['others'] \n",
    "    total_cits =  arrays_cits['self'] + arrays_cits['co'] + arrays_cits['others'] \n",
    "    idx_cits = total_cits.nonzero()[0]\n",
    "    idx_refs = total_refs.nonzero()[0]\n",
    "\n",
    "\n",
    "    plot_types = ['self','co','self_net']\n",
    "    stats_refs = {}\n",
    "    stats_cits = {}\n",
    "    nb_authors = len(nb_pubs)\n",
    "\n",
    "\n",
    "    for type_cit in plot_types:\n",
    "        arrays_refs[type_cit + '_perc'] = np.zeros(arrays_refs[type_cit].shape[0]) \n",
    "        arrays_cits[type_cit + '_perc'] = np.zeros(arrays_cits[type_cit].shape[0]) \n",
    "\n",
    "        arrays_refs[type_cit + '_perc'][idx_refs] = ((arrays_refs[type_cit][idx_refs]/total_refs[idx_refs])*100).ravel()\n",
    "        arrays_cits[type_cit + '_perc'][idx_cits] = ((arrays_cits[type_cit][idx_cits]/total_cits[idx_cits])*100).ravel()\n",
    "\n",
    "    li = []\n",
    "\n",
    "    for aut_i in range(total_refs.shape[0]):\n",
    "        li.append([arrays_cits[type_cit + '_perc'][aut_i] for type_cit in plot_types] +\n",
    "                       [arrays_refs[type_cit + '_perc'][aut_i] for type_cit in plot_types] +\n",
    "                       [nb_pubs[aut_i]])\n",
    "\n",
    "    df = pd.DataFrame(li,columns=['self_cits','co_cits','self_net_cits','self_refs','co_refs','self_net_refs','nb_pubs'])\n",
    "    df = df.dropna()\n",
    "    df['binned_pub'] = pd.cut(df['nb_pubs'],bins_nb_pubs)\n",
    "    df['binned_pub'] = df['binned_pub'].apply(lambda x: int(x.right))\n",
    "    fig = plt.figure(figsize=(33,33))\n",
    "    outer = gridspec.GridSpec(5, 5, wspace=0.2, hspace=0.2)\n",
    "    lim_lbl = lim_y_label[group]\n",
    "    for bin_i in range(1,nb_bins):\n",
    "\n",
    "        bin_val = bins_nb_pubs[bin_i]\n",
    "        bin_lbl = labels[bin_i-1]\n",
    "        df_hist = df.loc[df['binned_pub']==bin_val]\n",
    "\n",
    "\n",
    "        kwargs = dict(alpha=0.7,range=(0,100),bins=20)\n",
    "\n",
    "\n",
    "        inner = gridspec.GridSpecFromSubplotSpec(3, 1,\n",
    "                        subplot_spec=outer[bin_i-1], wspace=0.1, hspace=0.1)\n",
    "\n",
    "        for k in range(len(plot_types)):\n",
    "            type_cit = plot_types[k]\n",
    "\n",
    "            ax = plt.Subplot(fig, inner[k])\n",
    "            ax.hist(df_hist[type_cit+'_cits'], **kwargs, color=col_list[k],label=title_list[k])\n",
    "            ax.spines['right'].set_visible(False)\n",
    "            ax.spines['top'].set_visible(False)\n",
    "            # Only show ticks on the left and bottom spines\n",
    "            ax.yaxis.set_ticks_position('left')\n",
    "            ax.xaxis.set_ticks_position('bottom')\n",
    "            scale_y = 1e3\n",
    "            y_vals = ax.get_yticks()\n",
    "            if bin_i == 1:\n",
    "                ax.legend()\n",
    "            if bin_i < lim_lbl:\n",
    "                ax.set_yticklabels(['{:d}'.format(int(x /scale_y)) for x in y_vals])\n",
    "            if k == 0 :\n",
    "                ax.set_title(bin_lbl,fontsize=18)\n",
    "            if k == 1:\n",
    "                if bin_i < lim_lbl:\n",
    "                    ax.set_ylabel('Frequency (k)',fontsize=16)\n",
    "                else:\n",
    "                    ax.set_ylabel('Frequency',fontsize=16)\n",
    "            #plt.tick_params(labelsize=8)\n",
    "            if k ==2:\n",
    "                ax.set_xlabel('% citations',fontsize=16)\n",
    "            else:\n",
    "                ax.tick_params(\n",
    "                axis='x',          # changes apply to the x-axis\n",
    "                which='both',      # both major and minor ticks are affected\n",
    "                bottom=False,      # ticks along the bottom edge are off\n",
    "                top=False,         # ticks along the top edge are off\n",
    "                labelbottom=False) # labels along the bottom edge are off\n",
    "            fig.add_subplot(ax)\n",
    "    \n",
    "  \n",
    "    out_path = path+'results/perc_w_network_by_nb_arts/'\n",
    "    #plt.show()\n",
    "    if not os.path.exists(out_path):\n",
    "        os.makedirs(out_path)\n",
    "    plt.savefig(out_path + group + '_hist.png')\n",
    "    plt.savefig(out_path + group + '_hist.svg')\n",
    "\n",
    "    plt.close()\n",
    "    \n",
    "    stats = df.groupby('binned_pub').agg({'self_cits':'mean','co_cits':'mean','self_net_cits':'mean',\n",
    "                                       'self_refs':'mean','co_refs':'mean','self_net_refs':'mean'}).reset_index()\n",
    "    \n",
    "    plt.figure(figsize=(8,7.5))\n",
    "    for k in range(2):\n",
    "        ax = plt.subplot(2,1,k+1)\n",
    "        if k == 0:\n",
    "            max_art = 15\n",
    "            s = 0\n",
    "            e = np.where(np.array(bins_nb_pubs)==max_art)[0][0] \n",
    "            plt.title(group,fontsize=14)\n",
    "        else:\n",
    "            s = e\n",
    "            e = nb_bins\n",
    "\n",
    "            \n",
    "        plt.plot(stats['binned_pub'][s:e],stats['self_cits'][s:e],'r',label='% direct citations',linewidth=3)\n",
    "        plt.plot(stats['binned_pub'][s:e],stats['co_cits'][s:e],'r--',label='% coauthors citations',linewidth=3)\n",
    "        plt.plot(stats['binned_pub'][s:e],stats['self_net_cits'][s:e],'r-.',label='% collaborators citations',linewidth=3)\n",
    "        plt.plot(stats['binned_pub'][s:e],stats['self_refs'][s:e],'g',label='% direct references',linewidth=3)\n",
    "        plt.plot(stats['binned_pub'][s:e],stats['co_refs'][s:e],'g--',label='% coauthors references',linewidth=3)\n",
    "        plt.plot(stats['binned_pub'][s:e],stats['self_net_refs'][s:e],'g-.',label='% colaborators references',linewidth=3)\n",
    "\n",
    "        plt.xticks(np.arange(nb_bins-1)[s:e],bins_lbl[1:][s:e])\n",
    "        plt.ylabel('%',fontsize=12)\n",
    "        plt.xlabel('# publications',fontsize=12)\n",
    "        ax.spines['right'].set_visible(False)\n",
    "        ax.spines['top'].set_visible(False)\n",
    "\n",
    "        # Only show ticks on the left and bottom spines\n",
    "        ax.yaxis.set_ticks_position('left')\n",
    "        ax.xaxis.set_ticks_position('bottom')\n",
    "\n",
    "        plt.tick_params(labelsize=12)\n",
    "\n",
    "    plt.legend()\n",
    "    out_path = path+'results/perc_w_network_by_nb_arts/'\n",
    "    #plt.show()\n",
    "    if not os.path.exists(out_path):\n",
    "        os.makedirs(out_path)\n",
    "    plt.savefig(out_path + group + '_full.png')\n",
    "    plt.savefig(out_path + group + '_full.svg')\n",
    "    plt.close()\n",
    "    \n",
    "    \n",
    "    \n",
    "    \n",
    "    \n",
    "    del stats_refs, stats_cits,load_ref,load_cit,arrays_cits,arrays_refs\n",
    "    \n",
    "    \n",
    "    "
   ]
  },
  {
   "cell_type": "markdown",
   "metadata": {},
   "source": [
    "#### No split"
   ]
  },
  {
   "cell_type": "code",
   "execution_count": 55,
   "metadata": {
    "collapsed": true
   },
   "outputs": [],
   "source": [
    "from matplotlib.ticker import PercentFormatter"
   ]
  },
  {
   "cell_type": "code",
   "execution_count": 77,
   "metadata": {},
   "outputs": [
    {
     "name": "stderr",
     "output_type": "stream",
     "text": [
      "/home/User1/anaconda3/lib/python3.6/site-packages/ipykernel_launcher.py:1: TqdmDeprecationWarning: This function will be removed in tqdm==5.0.0\n",
      "Please use `tqdm.notebook.tqdm` instead of `tqdm.tqdm_notebook`\n",
      "  \"\"\"Entry point for launching an IPython kernel.\n"
     ]
    },
    {
     "data": {
      "application/vnd.jupyter.widget-view+json": {
       "model_id": "8dab8e3dd8c54f14b9dd785851492038",
       "version_major": 2,
       "version_minor": 0
      },
      "text/plain": [
       "A Jupyter Widget"
      ]
     },
     "metadata": {},
     "output_type": "display_data"
    },
    {
     "name": "stdout",
     "output_type": "stream",
     "text": [
      "\n"
     ]
    }
   ],
   "source": [
    "for i in tqdm(range(nb_groups)):\n",
    "    group = group_names[i]   \n",
    "    disc_group = disc_groups[group]\n",
    "    arrays_refs = {}\n",
    "    arrays_cits = {}\n",
    "    nb_pubs = np.array([])\n",
    "    for type_cit in types_cit:\n",
    "        for disc in disc_group:\n",
    "            load_ref = sparse.load_npz('{}/arrays/references_{}_{}_array_norm.npz'.format(path,type_cit,disc)).todense()\n",
    "            load_cit = sparse.load_npz('{}/arrays/citations_{}_{}_array_norm.npz'.format(path,type_cit,disc)).todense()\n",
    "            load_ref= np.sum(load_ref,axis=1)\n",
    "            load_cit= np.sum(load_cit,axis=1)\n",
    "\n",
    "\n",
    "            if type_cit in arrays_cits: \n",
    "                arrays_cits[type_cit] = np.concatenate([arrays_cits[type_cit],load_cit],axis=0)\n",
    "                arrays_refs[type_cit] = np.concatenate([arrays_refs[type_cit],load_ref],axis=0)\n",
    "\n",
    "            else:\n",
    "                arrays_cits[type_cit] = load_cit\n",
    "                arrays_refs[type_cit] = load_ref\n",
    "\n",
    "\n",
    "\n",
    "    for disc in disc_group:\n",
    "        load_ref = sparse.load_npz('{}/arrays/references_self_{}_network_array_norm.npz'.format(path,disc)).todense()\n",
    "        load_cit = sparse.load_npz('{}/arrays/citations_self_{}_network_array_norm.npz'.format(path,disc)).todense()\n",
    "        load_ref= np.sum(load_ref,axis=1)\n",
    "        load_cit= np.sum(load_cit,axis=1)\n",
    "        nb_auts = load_cit.shape[0]\n",
    "        load_nb_pubs = np.array([authors_info[authors_disc_idx[disc][x]][2] for x in range(nb_auts)])\n",
    "        if 'self_net' in arrays_cits:\n",
    "            arrays_cits['self_net'] = np.concatenate([arrays_cits['self_net'],\n",
    "                                                   load_cit],axis=0)\n",
    "            arrays_refs['self_net'] = np.concatenate([arrays_refs['self_net'],\n",
    "                                                   load_ref],axis=0)\n",
    "            nb_pubs = np.concatenate([nb_pubs,load_nb_pubs],axis=0)\n",
    "        else:\n",
    "            arrays_cits['self_net'] = load_cit\n",
    "            arrays_refs['self_net'] = load_ref\n",
    "            nb_pubs = np.concatenate([nb_pubs,load_nb_pubs],axis=0)\n",
    "\n",
    "    #arrays_cits['self_net'] = sparse.load_npz('{}/arrays/citations_self_{}_network_array_norm.npz'.format(path,disc)).todense()\n",
    "    #arrays_refs['self_net'] = sparse.load_npz('{}/arrays/references_self_{}_network_array_norm.npz'.format(path,disc)).todense()\n",
    "    total_refs = arrays_refs['self'] + arrays_refs['co'] + arrays_refs['others'] \n",
    "    total_cits =  arrays_cits['self'] + arrays_cits['co'] + arrays_cits['others'] \n",
    "    idx_cits = total_cits.nonzero()[0]\n",
    "    idx_refs = total_refs.nonzero()[0]\n",
    "\n",
    "\n",
    "    plot_types = ['self','co','self_net']\n",
    "    stats_refs = {}\n",
    "    stats_cits = {}\n",
    "    nb_authors = len(nb_pubs)\n",
    "\n",
    "\n",
    "    for type_cit in plot_types:\n",
    "        arrays_refs[type_cit + '_perc'] = np.zeros(arrays_refs[type_cit].shape[0]) \n",
    "        arrays_cits[type_cit + '_perc'] = np.zeros(arrays_cits[type_cit].shape[0]) \n",
    "\n",
    "        arrays_refs[type_cit + '_perc'][idx_refs] = ((arrays_refs[type_cit][idx_refs]/total_refs[idx_refs])*100).ravel()\n",
    "        arrays_cits[type_cit + '_perc'][idx_cits] = ((arrays_cits[type_cit][idx_cits]/total_cits[idx_cits])*100).ravel()\n",
    "\n",
    "    li = []\n",
    "\n",
    "    for aut_i in range(total_refs.shape[0]):\n",
    "        li.append([arrays_cits[type_cit + '_perc'][aut_i] for type_cit in plot_types] +\n",
    "                       [arrays_refs[type_cit + '_perc'][aut_i] for type_cit in plot_types] +\n",
    "                       [nb_pubs[aut_i]])\n",
    "\n",
    "    df = pd.DataFrame(li,columns=['self_cits','co_cits','self_net_cits','self_refs','co_refs','self_net_refs','nb_pubs'])\n",
    "    df = df.dropna()\n",
    "    df['binned_pub'] = pd.cut(df['nb_pubs'],bins_nb_pubs)\n",
    "    df['binned_pub'] = df['binned_pub'].apply(lambda x: int(x.right))\n",
    "    fig = plt.figure(figsize=(33,25))\n",
    "    outer = gridspec.GridSpec(4, 5, wspace=0.2, hspace=0.2)\n",
    "    lim_lbl = lim_y_label[group]\n",
    "    for bin_i in range(1,nb_bins):\n",
    "\n",
    "        bin_val = bins_nb_pubs[bin_i]\n",
    "        bin_lbl = labels[bin_i-1]\n",
    "        df_hist = df.loc[df['binned_pub']==bin_val]\n",
    "\n",
    "\n",
    "        kwargs = dict(alpha=0.7,range=(0,100),bins=20)\n",
    "\n",
    "        inner = gridspec.GridSpecFromSubplotSpec(3, 1,\n",
    "                            subplot_spec=outer[bin_i-1], wspace=0.1, hspace=0.1)\n",
    "        for k in range(len(plot_types)):\n",
    "            type_cit = plot_types[k]\n",
    "\n",
    "            ax = plt.Subplot(fig, inner[k])\n",
    "            ax.hist(df_hist[type_cit+'_cits'], **kwargs, color=col_list[k],label=title_list[k],\n",
    "                    weights=np.ones(len(df_hist[type_cit+'_cits'])) / len(df_hist[type_cit+'_cits']))\n",
    "            plt.gca().yaxis.set_major_formatter(PercentFormatter(1))\n",
    "            ax.spines['right'].set_visible(False)\n",
    "            ax.spines['top'].set_visible(False)\n",
    "            # Only show ticks on the left and bottom spines\n",
    "            ax.yaxis.set_ticks_position('left')\n",
    "            ax.xaxis.set_ticks_position('bottom')\n",
    "            plt.tick_params(labelsize=11)\n",
    "            scale_y = 1e3\n",
    "            y_vals = ax.get_yticks()\n",
    "            if bin_i == 1:\n",
    "                ax.legend()\n",
    "            if bin_i < lim_lbl:\n",
    "                ax.set_yticklabels(['{:d}'.format(int(x /scale_y)) for x in y_vals])\n",
    "            if k == 0 :\n",
    "                ax.set_title(bin_lbl,fontsize=18)\n",
    "\n",
    "            if k ==2:\n",
    "                ax.set_xlabel('% citations',fontsize=16)\n",
    "            else:\n",
    "                ax.tick_params(\n",
    "                axis='x',          # changes apply to the x-axis\n",
    "                which='both',      # both major and minor ticks are affected\n",
    "                bottom=False,      # ticks along the bottom edge are off\n",
    "                top=False,         # ticks along the top edge are off\n",
    "                labelbottom=False) # labels along the bottom edge are off\n",
    "            fig.add_subplot(ax)\n",
    "  \n",
    "    out_path = path+'results/perc_w_network_by_nb_arts/'\n",
    "    #plt.show()\n",
    "    if not os.path.exists(out_path):\n",
    "        os.makedirs(out_path)\n",
    "    plt.savefig(out_path + group + '_hist_perc.png')\n",
    "    plt.savefig(out_path + group + '_hist_perc.svg')\n",
    "\n",
    "    plt.close()\n",
    "    \n",
    "    stats = df.groupby('binned_pub').agg({'self_cits':'mean','co_cits':'mean','self_net_cits':'mean',\n",
    "                                       'self_refs':'mean','co_refs':'mean','self_net_refs':'mean'}).reset_index()\n",
    "    \n",
    "    plt.figure(figsize=(12,3.75))\n",
    "\n",
    "    plt.plot(stats['binned_pub'],stats['self_cits'],'r',label='% direct citations',linewidth=3)\n",
    "    plt.plot(stats['binned_pub'],stats['co_cits'],'r--',label='% coauthors citations',linewidth=3)\n",
    "    plt.plot(stats['binned_pub'],stats['self_net_cits'],'r-.',label='% collaborators citations',linewidth=3)\n",
    "    plt.plot(stats['binned_pub'],stats['self_refs'],'g',label='% direct references',linewidth=3)\n",
    "    plt.plot(stats['binned_pub'],stats['co_refs'],'g--',label='% coauthors references',linewidth=3)\n",
    "    plt.plot(stats['binned_pub'],stats['self_net_refs'],'g-.',label='% colaborators references',linewidth=3)\n",
    "\n",
    "    plt.xticks(np.arange(nb_bins-1),bins_lbl[1:])\n",
    "    plt.ylabel('%',fontsize=12)\n",
    "    plt.xlabel('# publications',fontsize=12)\n",
    "    ax.spines['right'].set_visible(False)\n",
    "    ax.spines['top'].set_visible(False)\n",
    "\n",
    "    # Only show ticks on the left and bottom spines\n",
    "    ax.yaxis.set_ticks_position('left')\n",
    "    ax.xaxis.set_ticks_position('bottom')\n",
    "    plt.title(group,fontsize=15)\n",
    "    plt.tick_params(labelsize=12)\n",
    "\n",
    "    plt.legend()\n",
    "\n",
    "    plt.legend()\n",
    "    out_path = path+'results/perc_w_network_by_nb_arts/'\n",
    "    #plt.show()\n",
    "    if not os.path.exists(out_path):\n",
    "        os.makedirs(out_path)\n",
    "    plt.savefig(out_path + group + '_full_long.png')\n",
    "    plt.savefig(out_path + group + '_full_long.svg')\n",
    "    plt.close()\n",
    "    \n",
    "    \n",
    "    \n",
    "    \n",
    "    \n",
    "    del stats_refs, stats_cits,load_ref,load_cit,arrays_cits,arrays_refs\n",
    "    "
   ]
  },
  {
   "cell_type": "markdown",
   "metadata": {
    "collapsed": true
   },
   "source": [
    "### Log-log scale"
   ]
  },
  {
   "cell_type": "code",
   "execution_count": 11,
   "metadata": {},
   "outputs": [
    {
     "name": "stderr",
     "output_type": "stream",
     "text": [
      "/home/User1/anaconda3/lib/python3.6/site-packages/ipykernel_launcher.py:1: TqdmDeprecationWarning: This function will be removed in tqdm==5.0.0\n",
      "Please use `tqdm.notebook.tqdm` instead of `tqdm.tqdm_notebook`\n",
      "  \"\"\"Entry point for launching an IPython kernel.\n"
     ]
    },
    {
     "data": {
      "application/vnd.jupyter.widget-view+json": {
       "model_id": "5a0bd543c8b441bb8e3bf38a834b4b3f",
       "version_major": 2,
       "version_minor": 0
      },
      "text/plain": [
       "A Jupyter Widget"
      ]
     },
     "metadata": {},
     "output_type": "display_data"
    },
    {
     "name": "stdout",
     "output_type": "stream",
     "text": [
      "\n"
     ]
    }
   ],
   "source": [
    "for i in tqdm(range(nb_groups)):\n",
    "    group = group_names[i]   \n",
    "    disc_group = disc_groups[group]\n",
    "    arrays_refs = {}\n",
    "    arrays_cits = {}\n",
    "    nb_pubs = np.array([])\n",
    "    for type_cit in types_cit:\n",
    "        for disc in disc_group:\n",
    "            load_ref = sparse.load_npz('{}/arrays/references_{}_{}_array_norm.npz'.format(path,type_cit,disc)).todense()\n",
    "            load_cit = sparse.load_npz('{}/arrays/citations_{}_{}_array_norm.npz'.format(path,type_cit,disc)).todense()\n",
    "            load_ref= np.sum(load_ref,axis=1)\n",
    "            load_cit= np.sum(load_cit,axis=1)\n",
    "\n",
    "\n",
    "            if type_cit in arrays_cits: \n",
    "                arrays_cits[type_cit] = np.concatenate([arrays_cits[type_cit],load_cit],axis=0)\n",
    "                arrays_refs[type_cit] = np.concatenate([arrays_refs[type_cit],load_ref],axis=0)\n",
    "\n",
    "            else:\n",
    "                arrays_cits[type_cit] = load_cit\n",
    "                arrays_refs[type_cit] = load_ref\n",
    "\n",
    "\n",
    "\n",
    "    for disc in disc_group:\n",
    "        load_ref = sparse.load_npz('{}/arrays/references_self_{}_network_array_norm.npz'.format(path,disc)).todense()\n",
    "        load_cit = sparse.load_npz('{}/arrays/citations_self_{}_network_array_norm.npz'.format(path,disc)).todense()\n",
    "        load_ref= np.sum(load_ref,axis=1)\n",
    "        load_cit= np.sum(load_cit,axis=1)\n",
    "        nb_auts = load_cit.shape[0]\n",
    "        load_nb_pubs = np.array([authors_info[authors_disc_idx[disc][x]][2] for x in range(nb_auts)])\n",
    "        if 'self_net' in arrays_cits:\n",
    "            arrays_cits['self_net'] = np.concatenate([arrays_cits['self_net'],\n",
    "                                                   load_cit],axis=0)\n",
    "            arrays_refs['self_net'] = np.concatenate([arrays_refs['self_net'],\n",
    "                                                   load_ref],axis=0)\n",
    "            nb_pubs = np.concatenate([nb_pubs,load_nb_pubs],axis=0)\n",
    "        else:\n",
    "            arrays_cits['self_net'] = load_cit\n",
    "            arrays_refs['self_net'] = load_ref\n",
    "            nb_pubs = np.concatenate([nb_pubs,load_nb_pubs],axis=0)\n",
    "\n",
    "    #arrays_cits['self_net'] = sparse.load_npz('{}/arrays/citations_self_{}_network_array_norm.npz'.format(path,disc)).todense()\n",
    "    #arrays_refs['self_net'] = sparse.load_npz('{}/arrays/references_self_{}_network_array_norm.npz'.format(path,disc)).todense()\n",
    "    total_refs = arrays_refs['self'] + arrays_refs['co'] + arrays_refs['others'] \n",
    "    total_cits =  arrays_cits['self'] + arrays_cits['co'] + arrays_cits['others'] \n",
    "    idx_cits = total_cits.nonzero()[0]\n",
    "    idx_refs = total_refs.nonzero()[0]\n",
    "\n",
    "\n",
    "    plot_types = ['self','co','self_net']\n",
    "    stats_refs = {}\n",
    "    stats_cits = {}\n",
    "    nb_authors = len(nb_pubs)\n",
    "\n",
    "\n",
    "    for type_cit in plot_types:\n",
    "        arrays_refs[type_cit + '_perc'] = np.zeros(arrays_refs[type_cit].shape[0]) \n",
    "        arrays_cits[type_cit + '_perc'] = np.zeros(arrays_cits[type_cit].shape[0]) \n",
    "\n",
    "        arrays_refs[type_cit + '_perc'][idx_refs] = ((arrays_refs[type_cit][idx_refs]/total_refs[idx_refs])*100).ravel()\n",
    "        arrays_cits[type_cit + '_perc'][idx_cits] = ((arrays_cits[type_cit][idx_cits]/total_cits[idx_cits])*100).ravel()\n",
    "\n",
    "    li = []\n",
    "\n",
    "    for aut_i in range(total_refs.shape[0]):\n",
    "        li.append([arrays_cits[type_cit + '_perc'][aut_i] for type_cit in plot_types] +\n",
    "                       [arrays_refs[type_cit + '_perc'][aut_i] for type_cit in plot_types] +\n",
    "                       [nb_pubs[aut_i]])\n",
    "\n",
    "    df = pd.DataFrame(li,columns=['self_cits','co_cits','self_net_cits','self_refs','co_refs','self_net_refs','nb_pubs'])\n",
    "    df = df.dropna()\n",
    "\n",
    "    \n",
    "    stats = df.groupby('nb_pubs').agg({'self_cits':'mean','co_cits':'mean','self_net_cits':'mean',\n",
    "                                       'self_refs':'mean','co_refs':'mean','self_net_refs':'mean'}).reset_index()\n",
    "    \n",
    "    plt.figure(figsize=(7,3.75))\n",
    "    ax = plt.axes()\n",
    "    plt.plot(stats['nb_pubs'],stats['self_cits'],'r',label='% direct citations',linewidth=3)\n",
    "    plt.plot(stats['nb_pubs'],stats['co_cits'],'r--',label='% coauthors citations',linewidth=3)\n",
    "    plt.plot(stats['nb_pubs'],stats['self_net_cits'],'r-.',label='% collaborators citations',linewidth=3)\n",
    "    plt.plot(stats['nb_pubs'],stats['self_refs'],'g',label='% direct references',linewidth=3)\n",
    "    plt.plot(stats['nb_pubs'],stats['co_refs'],'g--',label='% coauthors references',linewidth=3)\n",
    "    plt.plot(stats['nb_pubs'],stats['self_net_refs'],'g-.',label='% colaborators references',linewidth=3)\n",
    "\n",
    "    ax.set_xscale('log')\n",
    "    plt.ylabel('%',fontsize=12)\n",
    "    plt.xlabel('# publications',fontsize=12)\n",
    "    ax.spines['right'].set_visible(False)\n",
    "    ax.spines['top'].set_visible(False)\n",
    "\n",
    "    # Only show ticks on the left and bottom spines\n",
    "    ax.yaxis.set_ticks_position('left')\n",
    "    ax.xaxis.set_ticks_position('bottom')\n",
    "    plt.title(group,fontsize=15)\n",
    "    plt.tick_params(labelsize=12)\n",
    "\n",
    "\n",
    "    plt.legend()\n",
    "    out_path = path+'results/perc_w_network_by_nb_arts/'\n",
    "    #plt.show()\n",
    "    if not os.path.exists(out_path):\n",
    "        os.makedirs(out_path)\n",
    "    plt.savefig(out_path + group + '_full_log.png')\n",
    "    plt.savefig(out_path + group + '_full_log.svg')\n",
    "    plt.close()\n",
    "    \n",
    "\n",
    "    del stats_refs, stats_cits,load_ref,load_cit,arrays_cits,arrays_refs"
   ]
  },
  {
   "cell_type": "code",
   "execution_count": 12,
   "metadata": {},
   "outputs": [],
   "source": [
    "group = group_names[0]   \n",
    "disc_group = disc_groups[group]\n",
    "arrays_refs = {}\n",
    "arrays_cits = {}\n",
    "nb_pubs = np.array([])\n",
    "for type_cit in types_cit:\n",
    "    for disc in disc_group:\n",
    "        load_ref = sparse.load_npz('{}/arrays/references_{}_{}_array_norm.npz'.format(path,type_cit,disc)).todense()\n",
    "        load_cit = sparse.load_npz('{}/arrays/citations_{}_{}_array_norm.npz'.format(path,type_cit,disc)).todense()\n",
    "        load_ref= np.sum(load_ref,axis=1)\n",
    "        load_cit= np.sum(load_cit,axis=1)\n",
    "\n",
    "\n",
    "        if type_cit in arrays_cits: \n",
    "            arrays_cits[type_cit] = np.concatenate([arrays_cits[type_cit],load_cit],axis=0)\n",
    "            arrays_refs[type_cit] = np.concatenate([arrays_refs[type_cit],load_ref],axis=0)\n",
    "\n",
    "        else:\n",
    "            arrays_cits[type_cit] = load_cit\n",
    "            arrays_refs[type_cit] = load_ref\n",
    "\n",
    "\n",
    "\n",
    "for disc in disc_group:\n",
    "    load_ref = sparse.load_npz('{}/arrays/references_self_{}_network_array_norm.npz'.format(path,disc)).todense()\n",
    "    load_cit = sparse.load_npz('{}/arrays/citations_self_{}_network_array_norm.npz'.format(path,disc)).todense()\n",
    "    load_ref= np.sum(load_ref,axis=1)\n",
    "    load_cit= np.sum(load_cit,axis=1)\n",
    "    nb_auts = load_cit.shape[0]\n",
    "    load_nb_pubs = np.array([authors_info[authors_disc_idx[disc][x]][2] for x in range(nb_auts)])\n",
    "    if 'self_net' in arrays_cits:\n",
    "        arrays_cits['self_net'] = np.concatenate([arrays_cits['self_net'],\n",
    "                                               load_cit],axis=0)\n",
    "        arrays_refs['self_net'] = np.concatenate([arrays_refs['self_net'],\n",
    "                                               load_ref],axis=0)\n",
    "        nb_pubs = np.concatenate([nb_pubs,load_nb_pubs],axis=0)\n",
    "    else:\n",
    "        arrays_cits['self_net'] = load_cit\n",
    "        arrays_refs['self_net'] = load_ref\n",
    "        nb_pubs = np.concatenate([nb_pubs,load_nb_pubs],axis=0)\n",
    "\n",
    "#arrays_cits['self_net'] = sparse.load_npz('{}/arrays/citations_self_{}_network_array_norm.npz'.format(path,disc)).todense()\n",
    "#arrays_refs['self_net'] = sparse.load_npz('{}/arrays/references_self_{}_network_array_norm.npz'.format(path,disc)).todense()\n",
    "total_refs = arrays_refs['self'] + arrays_refs['co'] + arrays_refs['others'] \n",
    "total_cits =  arrays_cits['self'] + arrays_cits['co'] + arrays_cits['others'] \n",
    "idx_cits = total_cits.nonzero()[0]\n",
    "idx_refs = total_refs.nonzero()[0]\n",
    "\n",
    "\n",
    "plot_types = ['self','co','self_net']\n",
    "stats_refs = {}\n",
    "stats_cits = {}\n",
    "nb_authors = len(nb_pubs)\n",
    "\n",
    "\n",
    "for type_cit in plot_types:\n",
    "    arrays_refs[type_cit + '_perc'] = np.zeros(arrays_refs[type_cit].shape[0]) \n",
    "    arrays_cits[type_cit + '_perc'] = np.zeros(arrays_cits[type_cit].shape[0]) \n",
    "\n",
    "    arrays_refs[type_cit + '_perc'][idx_refs] = ((arrays_refs[type_cit][idx_refs]/total_refs[idx_refs])*100).ravel()\n",
    "    arrays_cits[type_cit + '_perc'][idx_cits] = ((arrays_cits[type_cit][idx_cits]/total_cits[idx_cits])*100).ravel()\n",
    "\n",
    "li = []\n",
    "\n",
    "for aut_i in range(total_refs.shape[0]):\n",
    "    li.append([arrays_cits[type_cit + '_perc'][aut_i] for type_cit in plot_types] +\n",
    "                   [arrays_refs[type_cit + '_perc'][aut_i] for type_cit in plot_types] +\n",
    "                   [nb_pubs[aut_i]])\n",
    "\n",
    "df = pd.DataFrame(li,columns=['self_cits','co_cits','self_net_cits','self_refs','co_refs','self_net_refs','nb_pubs'])\n",
    "df = df.dropna()\n",
    "\n",
    "\n",
    "stats = df.groupby('nb_pubs').agg({'self_cits':'mean','co_cits':'mean','self_net_cits':'mean',\n",
    "                                   'self_refs':'mean','co_refs':'mean','self_net_refs':'mean'}).reset_index()\n"
   ]
  },
  {
   "cell_type": "code",
   "execution_count": 14,
   "metadata": {},
   "outputs": [
    {
     "data": {
      "image/png": "[encoded data removed]",
      "text/plain": [
       "<Figure size 504x270 with 1 Axes>"
      ]
     },
     "metadata": {},
     "output_type": "display_data"
    }
   ],
   "source": [
    "\n",
    "plt.figure(figsize=(7,3.75))\n",
    "ax = plt.axes()\n",
    "plt.plot(stats['nb_pubs'],stats['self_cits'],'r',label='% direct citations',linewidth=3)\n",
    "plt.plot(stats['nb_pubs'],stats['co_cits'],'r--',label='% coauthors citations',linewidth=3)\n",
    "plt.plot(stats['nb_pubs'],stats['self_net_cits'],'r-.',label='% collaborators citations',linewidth=3)\n",
    "plt.plot(stats['nb_pubs'],stats['self_refs'],'g',label='% direct references',linewidth=3)\n",
    "plt.plot(stats['nb_pubs'],stats['co_refs'],'g--',label='% coauthors references',linewidth=3)\n",
    "plt.plot(stats['nb_pubs'],stats['self_net_refs'],'g-.',label='% colaborators references',linewidth=3)\n",
    "\n",
    "ax.set_xscale('log')\n",
    "plt.ylabel('%',fontsize=12)\n",
    "plt.xlabel('# publications',fontsize=12)\n",
    "ax.spines['right'].set_visible(False)\n",
    "ax.spines['top'].set_visible(False)\n",
    "\n",
    "# Only show ticks on the left and bottom spines\n",
    "ax.yaxis.set_ticks_position('left')\n",
    "ax.xaxis.set_ticks_position('bottom')\n",
    "plt.title(group,fontsize=15)\n",
    "plt.tick_params(labelsize=12)\n",
    "plt.show()"
   ]
  }
 ],
 "metadata": {
  "kernelspec": {
   "display_name": "Python 3",
   "language": "python",
   "name": "python3"
  },
  "language_info": {
   "codemirror_mode": {
    "name": "ipython",
    "version": 3
   },
   "file_extension": ".py",
   "mimetype": "text/x-python",
   "name": "python",
   "nbconvert_exporter": "python",
   "pygments_lexer": "ipython3",
   "version": "3.6.3"
  }
 },
 "nbformat": 4,
 "nbformat_minor": 2
}
