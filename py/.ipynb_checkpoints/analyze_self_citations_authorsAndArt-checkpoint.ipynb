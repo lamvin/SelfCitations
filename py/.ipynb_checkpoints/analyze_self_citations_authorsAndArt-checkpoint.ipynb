{
 "cells": [
  {
   "cell_type": "code",
   "execution_count": 1,
   "metadata": {
    "collapsed": true
   },
   "outputs": [],
   "source": [
    "import pandas as pd\n",
    "from tables import *\n",
    "import numpy as np\n",
    "from tqdm import tqdm_notebook as tqdm\n",
    "import csv\n",
    "from scipy import sparse\n",
    "import pickle\n",
    "import os"
   ]
  },
  {
   "cell_type": "code",
   "execution_count": 2,
   "metadata": {
    "collapsed": true
   },
   "outputs": [],
   "source": [
    "path = '/home/User1/data/self_citations/'"
   ]
  },
  {
   "cell_type": "code",
   "execution_count": 18,
   "metadata": {
    "collapsed": true
   },
   "outputs": [],
   "source": [
    "pub_years = np.array([1989,1990])\n",
    "max_year = 2018\n",
    "nb_years = max_year - np.min(pub_years) + 1"
   ]
  },
  {
   "cell_type": "code",
   "execution_count": 4,
   "metadata": {
    "collapsed": true
   },
   "outputs": [],
   "source": [
    "disciplines = pd.read_csv(path+'liste_discipline.txt',encoding='latin_1',sep='\\t')\n",
    "list_disciplines = pd.unique(disciplines['EDiscipline'])\n",
    "nb_disciplines = len(list_disciplines)"
   ]
  },
  {
   "cell_type": "code",
   "execution_count": 5,
   "metadata": {
    "collapsed": true
   },
   "outputs": [],
   "source": [
    "from matplotlib import pyplot as plt"
   ]
  },
  {
   "cell_type": "code",
   "execution_count": 17,
   "metadata": {},
   "outputs": [],
   "source": [
    "types_cit = {'self':0,'co':1,'network':2,'others':3}"
   ]
  },
  {
   "cell_type": "code",
   "execution_count": 7,
   "metadata": {
    "collapsed": true
   },
   "outputs": [],
   "source": [
    "authors_info = {}\n",
    "with open(path+'model/authors_infos_model.csv','r') as f:\n",
    "    reader = csv.reader(f,delimiter='\\t')\n",
    "    next(reader)\n",
    "    for line in reader:\n",
    "        authors_info[int(line[0])] = [line[1],int(line[2]),int(line[4])]"
   ]
  },
  {
   "cell_type": "code",
   "execution_count": 8,
   "metadata": {
    "collapsed": true
   },
   "outputs": [],
   "source": [
    "with open('{}/citations_1990-1991.p'.format(path),'rb') as f:\n",
    "    arrays_cits = pickle.load(f)"
   ]
  },
  {
   "cell_type": "code",
   "execution_count": 9,
   "metadata": {
    "collapsed": true
   },
   "outputs": [],
   "source": [
    "disc_groups = {'Arts and Humanities':['Arts','Humanities'],\n",
    "              'Natural Sciences and Engineering':['Biology','Physics','Mathematics','Engineering and Technology','Earth and Space','Chemistry'],\n",
    "              'Social Sciences':['Social Sciences','Psychology','Professional Fields','Health'],\n",
    "             'Health Sciences':['Biomedical Research','Clinical Medicine']}\n",
    "\n",
    "nb_groups = len(disc_groups)\n",
    "group_names = list(disc_groups.keys())\n"
   ]
  },
  {
   "cell_type": "code",
   "execution_count": 12,
   "metadata": {
    "collapsed": true
   },
   "outputs": [],
   "source": [
    "authors = list(arrays_cits.keys())\n",
    "nb_authors = len(authors)\n",
    "map_discs = {}\n",
    "for group in group_names:\n",
    "    disciplines = disc_groups[group]\n",
    "    for disc in disciplines:\n",
    "        map_discs[disc] = group"
   ]
  },
  {
   "cell_type": "code",
   "execution_count": 21,
   "metadata": {},
   "outputs": [],
   "source": [
    "authors_group = {x:[] for x in group_names}\n",
    "for i in range(nb_authors):\n",
    "    author_ID = authors[i]\n",
    "    disc_author = authors_info[author_ID][0]\n",
    "    if disc_author != 'Unknown':\n",
    "        group_author = map_discs[disc_author]\n",
    "        authors_group[group_author].append(author_ID)\n",
    "    \n",
    "    "
   ]
  },
  {
   "cell_type": "code",
   "execution_count": null,
   "metadata": {
    "collapsed": true
   },
   "outputs": [],
   "source": [
    "colors = [\n",
    "     np.array([53,116,172]),\n",
    "    np.array([44,164,40]),\n",
    "        \n",
    "         np.array([164,186,183]),\n",
    "          np.array([255,232,31])\n",
    "         ]\n",
    "colors = [x/255 for x in colors]"
   ]
  },
  {
   "cell_type": "markdown",
   "metadata": {},
   "source": [
    "### With network and condensed disc"
   ]
  },
  {
   "cell_type": "markdown",
   "metadata": {},
   "source": [
    "#### Freq"
   ]
  },
  {
   "cell_type": "code",
   "execution_count": 52,
   "metadata": {},
   "outputs": [
    {
     "name": "stderr",
     "output_type": "stream",
     "text": [
      "/home/User1/anaconda3/lib/python3.6/site-packages/ipykernel_launcher.py:2: TqdmDeprecationWarning: This function will be removed in tqdm==5.0.0\n",
      "Please use `tqdm.notebook.tqdm` instead of `tqdm.tqdm_notebook`\n",
      "  \n"
     ]
    },
    {
     "data": {
      "application/vnd.jupyter.widget-view+json": {
       "model_id": "faac92bf5ed64254b73b529ed1f2473a",
       "version_major": 2,
       "version_minor": 0
      },
      "text/plain": [
       "A Jupyter Widget"
      ]
     },
     "metadata": {},
     "output_type": "display_data"
    },
    {
     "name": "stdout",
     "output_type": "stream",
     "text": [
      "\n"
     ]
    }
   ],
   "source": [
    "plt.figure(figsize=(15,15))\n",
    "for i in tqdm(range(nb_groups)):\n",
    "    group = group_names[i]   \n",
    "    authors = authors_group[group]\n",
    "    nb_authors = len(authors)\n",
    "    all_cits = np.zeros((4,nb_years,nb_authors))\n",
    "    for j in range(nb_authors):\n",
    "        author_ID = authors[j]\n",
    "        arts = list(arrays_cits[author_ID].keys())\n",
    "        nb_arts = len(arts)\n",
    "        cits_authors = np.zeros((4,nb_years,nb_arts))\n",
    "        for k in range(nb_arts):\n",
    "            art_cite = arts[k]\n",
    "            cits_authors[:,:,k] = arrays_cits[author_ID][art_cite]\n",
    "        all_cits[:,:,j] = np.mean(cits_authors,axis=2)\n",
    "\n",
    "    avg_cits = np.mean(all_cits,axis=2)\n",
    "    avg_cits = avg_cits[:,:-1]\n",
    "\n",
    "\n",
    "    plt.subplot(2,2,i+1)\n",
    "    plt.plot(avg_cits[0,:],'r',label='Direct',linewidth=3)\n",
    "    plt.plot(avg_cits[1,:],'r--',label='Coauthors',linewidth=3)\n",
    "    plt.plot(avg_cits[2,:],'r-.',label='Collaborators',linewidth=3)\n",
    "    plt.plot(avg_cits[3,:],'k',label='Others',linewidth=3)\n",
    "    plt.ylabel('# citations',fontsize=20)\n",
    "    plt.legend(loc='upper left')\n",
    "    plt.tick_params(labelsize=18)\n",
    "    plt.title(group,fontsize=20)\n",
    "    \n",
    "#plt.show()\n",
    "out_path = path+'results/cits_dynamic_pub_age/'\n",
    "if not os.path.exists(out_path):\n",
    "    os.makedirs(out_path)\n",
    "plt.savefig(out_path + 'abs_1990-1991.png')\n",
    "plt.savefig(out_path + 'abs_1990-1991.svg')\n",
    "plt.close()\n"
   ]
  },
  {
   "cell_type": "markdown",
   "metadata": {},
   "source": [
    "#### NOrmalise"
   ]
  },
  {
   "cell_type": "code",
   "execution_count": 51,
   "metadata": {},
   "outputs": [
    {
     "name": "stderr",
     "output_type": "stream",
     "text": [
      "/home/User1/anaconda3/lib/python3.6/site-packages/ipykernel_launcher.py:2: TqdmDeprecationWarning: This function will be removed in tqdm==5.0.0\n",
      "Please use `tqdm.notebook.tqdm` instead of `tqdm.tqdm_notebook`\n",
      "  \n"
     ]
    },
    {
     "data": {
      "application/vnd.jupyter.widget-view+json": {
       "model_id": "bd31fe7ca82640c28f91bf4b39b5857b",
       "version_major": 2,
       "version_minor": 0
      },
      "text/plain": [
       "A Jupyter Widget"
      ]
     },
     "metadata": {},
     "output_type": "display_data"
    },
    {
     "name": "stdout",
     "output_type": "stream",
     "text": [
      "\n"
     ]
    }
   ],
   "source": [
    "plt.figure(figsize=(15,15))\n",
    "for i in tqdm(range(nb_groups)):\n",
    "    group = group_names[i]   \n",
    "    authors = authors_group[group]\n",
    "    nb_authors = len(authors)\n",
    "    all_cits = np.zeros((4,nb_years,nb_authors))\n",
    "    for j in range(nb_authors):\n",
    "        author_ID = authors[j]\n",
    "        arts = list(arrays_cits[author_ID].keys())\n",
    "        nb_arts = len(arts)\n",
    "        cits_authors = np.zeros((4,nb_years,nb_arts))\n",
    "        for k in range(nb_arts):\n",
    "            art_cite = arts[k]\n",
    "            cits_authors[:,:,k] = arrays_cits[author_ID][art_cite]\n",
    "        all_cits[:,:,j] = np.mean(cits_authors,axis=2)\n",
    "\n",
    "    avg_cits = np.mean(all_cits,axis=2)\n",
    "    avg_cits = avg_cits[:,:-1]\n",
    "    max_rows = np.max(avg_cits,axis=1)\n",
    "    min_rows = np.min(avg_cits,axis=1)\n",
    "    stats_cits = np.subtract(avg_cits,min_rows[:,None])/np.subtract(max_rows,min_rows)[:,None]\n",
    "    \n",
    "\n",
    "    plt.subplot(2,2,i+1)\n",
    "    plt.plot(stats_cits[0,:],'r',label='Direct',linewidth=3)\n",
    "    plt.plot(stats_cits[1,:],'r--',label='Coauthors',linewidth=3)\n",
    "    plt.plot(stats_cits[2,:],'r-.',label='Collaborators',linewidth=3)\n",
    "    plt.plot(stats_cits[3,:],'k',label='Others',linewidth=3)\n",
    "    plt.ylabel('Norm. citations',fontsize=20)\n",
    "    plt.xlabel('Publication age',fontsize=20)\n",
    "    plt.legend(loc='upper left')\n",
    "    plt.tick_params(labelsize=18)\n",
    "    plt.title(group,fontsize=20)\n",
    "    \n",
    "#plt.show()\n",
    "out_path = path+'results/cits_dynamic_pub_age/'\n",
    "if not os.path.exists(out_path):\n",
    "    os.makedirs(out_path)\n",
    "plt.savefig(out_path + 'norm_1990-1991.png')\n",
    "plt.savefig(out_path + 'norm_1990-1991.svg')\n",
    "plt.close()"
   ]
  },
  {
   "cell_type": "markdown",
   "metadata": {},
   "source": [
    "#### Perc\n"
   ]
  },
  {
   "cell_type": "code",
   "execution_count": 53,
   "metadata": {
    "scrolled": true
   },
   "outputs": [
    {
     "name": "stderr",
     "output_type": "stream",
     "text": [
      "/home/User1/anaconda3/lib/python3.6/site-packages/ipykernel_launcher.py:2: TqdmDeprecationWarning: This function will be removed in tqdm==5.0.0\n",
      "Please use `tqdm.notebook.tqdm` instead of `tqdm.tqdm_notebook`\n",
      "  \n"
     ]
    },
    {
     "data": {
      "application/vnd.jupyter.widget-view+json": {
       "model_id": "158b2efc735845cbab400dc3cd27e742",
       "version_major": 2,
       "version_minor": 0
      },
      "text/plain": [
       "A Jupyter Widget"
      ]
     },
     "metadata": {},
     "output_type": "display_data"
    },
    {
     "name": "stdout",
     "output_type": "stream",
     "text": [
      "\n"
     ]
    }
   ],
   "source": [
    "plt.figure(figsize=(15,15))\n",
    "for i in tqdm(range(nb_groups)):\n",
    "    group = group_names[i]   \n",
    "    authors = authors_group[group]\n",
    "    nb_authors = len(authors)\n",
    "    all_cits = np.zeros((4,nb_years,nb_authors))\n",
    "    for j in range(nb_authors):\n",
    "        author_ID = authors[j]\n",
    "        arts = list(arrays_cits[author_ID].keys())\n",
    "        nb_arts = len(arts)\n",
    "        cits_authors = np.zeros((4,nb_years,nb_arts))\n",
    "        for k in range(nb_arts):\n",
    "            art_cite = arts[k]\n",
    "            cits_authors[:,:,k] = arrays_cits[author_ID][art_cite]\n",
    "        all_cits[:,:,j] = np.mean(cits_authors,axis=2)\n",
    "\n",
    "    avg_cits = np.mean(all_cits,axis=2)\n",
    "    avg_cits = avg_cits[:,:-1]\n",
    "    total_cits = np.sum(avg_cits,axis=0)\n",
    "    stats_cits = avg_cits/total_cits[None,:]\n",
    "    \n",
    "\n",
    "    plt.subplot(2,2,i+1)\n",
    "    plt.plot(stats_cits[0,:],'r',label='Direct',linewidth=3)\n",
    "    plt.plot(stats_cits[1,:],'r--',label='Coauthors',linewidth=3)\n",
    "    plt.plot(stats_cits[2,:],'r-.',label='Collaborators',linewidth=3)\n",
    "    plt.plot(stats_cits[3,:],'k',label='Others',linewidth=3)\n",
    "    plt.ylabel('% citations',fontsize=20)\n",
    "    plt.xlabel('Publication age',fontsize=20)\n",
    "    plt.legend(loc='upper left')\n",
    "    plt.tick_params(labelsize=18)\n",
    "    plt.title(group,fontsize=20)\n",
    "    \n",
    "#plt.show()\n",
    "out_path = path+'results/cits_dynamic_pub_age/'\n",
    "if not os.path.exists(out_path):\n",
    "    os.makedirs(out_path)\n",
    "plt.savefig(out_path + 'perc_1990-1991.png')\n",
    "plt.savefig(out_path + 'perc_1990-1991.svg')\n",
    "plt.close()"
   ]
  },
  {
   "cell_type": "code",
   "execution_count": null,
   "metadata": {
    "collapsed": true
   },
   "outputs": [],
   "source": []
  },
  {
   "cell_type": "code",
   "execution_count": null,
   "metadata": {
    "collapsed": true
   },
   "outputs": [],
   "source": []
  },
  {
   "cell_type": "code",
   "execution_count": 13,
   "metadata": {},
   "outputs": [
    {
     "name": "stderr",
     "output_type": "stream",
     "text": [
      "/home/User1/anaconda3/lib/python3.6/site-packages/ipykernel_launcher.py:2: TqdmDeprecationWarning: This function will be removed in tqdm==5.0.0\n",
      "Please use `tqdm.notebook.tqdm` instead of `tqdm.tqdm_notebook`\n",
      "  \n"
     ]
    },
    {
     "data": {
      "application/vnd.jupyter.widget-view+json": {
       "model_id": "e67e506fb4464923b7550dcac767f96d",
       "version_major": 2,
       "version_minor": 0
      },
      "text/plain": [
       "A Jupyter Widget"
      ]
     },
     "metadata": {},
     "output_type": "display_data"
    },
    {
     "name": "stderr",
     "output_type": "stream",
     "text": [
      "/home/User1/anaconda3/lib/python3.6/site-packages/ipykernel_launcher.py:34: RuntimeWarning: invalid value encountered in true_divide\n",
      "/home/User1/anaconda3/lib/python3.6/site-packages/ipykernel_launcher.py:54: RuntimeWarning: invalid value encountered in true_divide\n",
      "/home/User1/anaconda3/lib/python3.6/site-packages/ipykernel_launcher.py:34: RuntimeWarning: invalid value encountered in true_divide\n",
      "/home/User1/anaconda3/lib/python3.6/site-packages/ipykernel_launcher.py:54: RuntimeWarning: invalid value encountered in true_divide\n"
     ]
    },
    {
     "name": "stdout",
     "output_type": "stream",
     "text": [
      "\n"
     ]
    }
   ],
   "source": [
    "plt.figure(figsize=(15,15))\n",
    "for i in tqdm(range(nb_groups)):\n",
    "    group = group_names[i]   \n",
    "    authors = authors_group[group]\n",
    "    nb_authors = len(authors)\n",
    "    all_cits = np.zeros((4,nb_years,nb_authors))\n",
    "    for j in range(nb_authors):\n",
    "        author_ID = authors[j]\n",
    "        arts = list(arrays_cits[author_ID].keys())\n",
    "        nb_arts = len(arts)\n",
    "        cits_authors = np.zeros((4,nb_years,nb_arts))\n",
    "        for k in range(nb_arts):\n",
    "            art_cite = arts[k]\n",
    "            cits_authors[:,:,k] = arrays_cits[author_ID][art_cite]\n",
    "        all_cits[:,:,j] = np.mean(cits_authors,axis=2)\n",
    "\n",
    "    avg_cits = np.mean(all_cits,axis=2)\n",
    "    total_cits = np.sum(avg_cits,axis=0)\n",
    "\n",
    "    plt.subplot(2,2,i+1)\n",
    "    plt.plot(avg_cits[0,:],'r',label='Direct',linewidth=2)\n",
    "    plt.plot(avg_cits[1,:],'g',label='Coauthors',linewidth=2)\n",
    "    plt.plot(avg_cits[2,:],'b',label='Collaborators',linewidth=2)\n",
    "    plt.plot(avg_cits[3,:],'k',label='Others',linewidth=2)\n",
    "    plt.ylabel('# citations',fontsize=20)\n",
    "    plt.legend(loc='upper left')\n",
    "    plt.tick_params(labelsize=18)\n",
    "    plt.title(group,fontsize=20)\n",
    "    \n",
    "#plt.show()\n",
    "out_path = path+'results/nb_self_cits_nbArts/'\n",
    "#plt.show()\n",
    "if not os.path.exists(out_path):\n",
    "    os.makedirs(out_path)\n",
    "plt.savefig(out_path + '1_to_50.png')\n",
    "plt.savefig(out_path + '1_to_50.svg')\n",
    "\n",
    "plt.close()\n"
   ]
  },
  {
   "cell_type": "markdown",
   "metadata": {},
   "source": [
    "### With bins"
   ]
  },
  {
   "cell_type": "code",
   "execution_count": null,
   "metadata": {
    "collapsed": true
   },
   "outputs": [],
   "source": [
    "for i in tqdm(range(nb_groups)):\n",
    "    group = group_names[i]   \n",
    "    disc_group = disc_groups[group]\n",
    "    arrays_refs = {}\n",
    "    arrays_cits = {}\n",
    "\n",
    "    type_cit = 'self'\n",
    "    nb_pubs = []\n",
    "    for disc in disc_group:\n",
    "        load_cit = sparse.load_npz('{}/arrays/citations_{}_{}_array_norm_artPos.npz'.format(path,type_cit,disc)).todense()\n",
    "        load_freqs = sparse.load_npz('{}/arrays/freq_bins_{}_{}_array_norm_artPos.npz'.format(path,type_cit,disc)).todense()\n",
    "        nb_auts = load_cit.shape[0]\n",
    "        idx_cits = load_cit.nonzero()\n",
    "        avg_refs = np.zeros(load_cit.shape)\n",
    "        avg_refs[idx_cits] = load_cit[idx_cits]/load_freqs[idx_cits]\n",
    "        load_nb_pubs = np.array([authors_info[authors_disc_idx[disc][x]][2] for x in range(nb_auts)])\n",
    "        nb_pubs = np.concatenate([nb_pubs,load_nb_pubs],axis=0)\n",
    "        if type_cit in arrays_cits: \n",
    "            arrays_cits[type_cit] = np.concatenate([arrays_cits[type_cit],load_cit],axis=0)\n",
    "            arrays_refs[type_cit] = np.concatenate([arrays_refs[type_cit],avg_refs],axis=0)\n",
    "        else:\n",
    "            arrays_cits[type_cit] = load_cit\n",
    "            arrays_refs[type_cit] = avg_refs\n",
    "\n",
    "    self_cits_cumul = np.cumsum(arrays_cits[type_cit],axis=1)                  \n",
    "    active_cits = np.zeros(arrays_cits[type_cit].shape)\n",
    "    last_nz_cits = self_cits_cumul.argmax(1)\n",
    "    nb_cits = np.sum(arrays_cits[type_cit],axis=1)\n",
    "    for j in range(active_cits.shape[0]):\n",
    "        if nb_cits[j] > 0:\n",
    "            last_idx = np.asarray(last_nz_cits[j])[0][0]\n",
    "            self_cits_cumul[j,last_idx+1:] = 0\n",
    "            active_cits[j,:last_idx+1] = 1\n",
    "    nb_active_cits = np.sum(active_cits,axis=0)\n",
    "    stats_cits = np.divide(np.squeeze(np.asarray(np.sum(self_cits_cumul,axis=0))),nb_active_cits)\n",
    "\n",
    "    # active_refs = np.zeros(arrays_refs[type_cit].shape)\n",
    "    # last_nz_refs = (arrays_refs[type_cit]!=0).cumsum(1).argmax(1)\n",
    "    # nb_refs = np.sum(arrays_refs[type_cit],axis=1)\n",
    "    # for j in range(active_refs.shape[0]):\n",
    "    #     if nb_refs[j] > 0:\n",
    "    #         last_idx = np.asarray(last_nz_refs[j])\n",
    "    #         active_refs[j,:last_idx+1] = 1\n",
    "    # nb_active_refs = np.sum(active_refs,axis=0)\n",
    "    # stats_refs= np.divide(np.squeeze(np.asarray(np.sum(arrays_refs[type_cit],axis=0))),nb_active_refs)    \n",
    "\n",
    "    active_cits = np.zeros(arrays_cits[type_cit].shape)\n",
    "    last_nz_cits = (arrays_cits[type_cit]!=0).cumsum(1).argmax(1)\n",
    "    nb_cits = np.sum(arrays_cits[type_cit],axis=1)\n",
    "    for j in range(active_cits.shape[0]):\n",
    "        if nb_cits[j] > 0:\n",
    "            last_idx = np.asarray(last_nz_cits[j])[0][0]\n",
    "            active_cits[j,:last_idx+1] = 1\n",
    "    nb_active_cits = np.sum(active_cits,axis=0)\n",
    "    stats_refs= np.divide(np.squeeze(np.asarray(np.sum(arrays_cits[type_cit],axis=0))),nb_active_cits)  \n",
    "\n",
    "    plt.figure(figsize=(8,7.5))\n",
    "    for k in range(2):\n",
    "        ax = plt.subplot(2,1,k+1)\n",
    "        if k == 0:\n",
    "            s = 0\n",
    "            e = 50\n",
    "            plt.title(group,fontsize=14)\n",
    "            plt.legend(loc='upper right')\n",
    "        else:\n",
    "            s = 50\n",
    "            e = nb_bins\n",
    "\n",
    "            \n",
    "        plt.plot(stats_cits[s:e],'r',label='# self citations (cumul.)',linewidth=2)\n",
    "        plt.ylabel('# citations',fontsize=20)\n",
    "        plt.legend(loc='upper left')\n",
    "        plt.tick_params(labelsize=18)\n",
    "        plt.xlabel('Publication #',fontsize=20)\n",
    "        plt.twinx()\n",
    "        plt.plot(stats_refs[s:e],'g',label='Avg. # self references',linewidth=2)\n",
    "        plt.ylabel('# references',fontsize=20)\n",
    "        plt.title(group,fontsize=20)\n",
    "        #plt.xticks(np.arange(len(bins_nb_arts)), bins_nb_arts)\n",
    "        plt.tick_params(labelsize=18)\n",
    "    \n",
    "        plt.xticks(np.arange(nb_bins-1)[s:e],bins_lbl[1:][s:e])\n",
    "        plt.xlabel('# publications',fontsize=12)\n",
    "        ax.spines['right'].set_visible(False)\n",
    "        ax.spines['top'].set_visible(False)\n",
    "\n",
    "        # Only show ticks on the left and bottom spines\n",
    "        ax.yaxis.set_ticks_position('left')\n",
    "        ax.xaxis.set_ticks_position('bottom')\n",
    "\n",
    "        plt.tick_params(labelsize=12)\n",
    "\n",
    "    \n",
    "    #plt.show()\n",
    "    out_path = path+'results/nb_self_cits_nbArts/'\n",
    "    #plt.show()\n",
    "    if not os.path.exists(out_path):\n",
    "        os.makedirs(out_path)\n",
    "    plt.savefig(out_path + '{}_all.png'.format(group))\n",
    "    plt.savefig(out_path + '{}_all.svg'.format(group))\n",
    "\n",
    "    plt.close()\n"
   ]
  },
  {
   "cell_type": "code",
   "execution_count": 19,
   "metadata": {},
   "outputs": [
    {
     "name": "stderr",
     "output_type": "stream",
     "text": [
      "/home/User1/anaconda3/lib/python3.6/site-packages/ipykernel_launcher.py:34: RuntimeWarning: invalid value encountered in true_divide\n",
      "/home/User1/anaconda3/lib/python3.6/site-packages/ipykernel_launcher.py:54: RuntimeWarning: invalid value encountered in true_divide\n"
     ]
    }
   ],
   "source": [
    "group = group_names[0]   \n",
    "disc_group = disc_groups[group]\n",
    "arrays_refs = {}\n",
    "arrays_cits = {}\n",
    "\n",
    "type_cit = 'self'\n",
    "nb_pubs = []\n",
    "for disc in disc_group:\n",
    "    load_cit = sparse.load_npz('{}/arrays/citations_{}_{}_array_norm_artPos.npz'.format(path,type_cit,disc)).todense()\n",
    "    load_freqs = sparse.load_npz('{}/arrays/freq_bins_{}_{}_array_norm_artPos.npz'.format(path,type_cit,disc)).todense()\n",
    "    nb_auts = load_cit.shape[0]\n",
    "    idx_cits = load_cit.nonzero()\n",
    "    avg_refs = np.zeros(load_cit.shape)\n",
    "    avg_refs[idx_cits] = load_cit[idx_cits]/load_freqs[idx_cits]\n",
    "    load_nb_pubs = np.array([authors_info[authors_disc_idx[disc][x]][2] for x in range(nb_auts)])\n",
    "    nb_pubs = np.concatenate([nb_pubs,load_nb_pubs],axis=0)\n",
    "    if type_cit in arrays_cits: \n",
    "        arrays_cits[type_cit] = np.concatenate([arrays_cits[type_cit],load_cit],axis=0)\n",
    "        arrays_refs[type_cit] = np.concatenate([arrays_refs[type_cit],avg_refs],axis=0)\n",
    "    else:\n",
    "        arrays_cits[type_cit] = load_cit\n",
    "        arrays_refs[type_cit] = avg_refs\n",
    "\n",
    "self_cits_cumul = np.cumsum(arrays_cits[type_cit],axis=1)                  \n",
    "active_cits = np.zeros(arrays_cits[type_cit].shape)\n",
    "last_nz_cits = self_cits_cumul.argmax(1)\n",
    "nb_cits = np.sum(arrays_cits[type_cit],axis=1)\n",
    "for j in range(active_cits.shape[0]):\n",
    "    if nb_cits[j] > 0:\n",
    "        last_idx = np.asarray(last_nz_cits[j])[0][0]\n",
    "        self_cits_cumul[j,last_idx+1:] = 0\n",
    "        active_cits[j,:last_idx+1] = 1\n",
    "nb_active_cits = np.sum(active_cits,axis=0)\n",
    "stats_cits = np.divide(np.squeeze(np.asarray(np.sum(self_cits_cumul,axis=0))),nb_active_cits)\n",
    "\n",
    "active_refs = np.zeros(arrays_refs[type_cit].shape)\n",
    "last_nz_refs = (arrays_refs[type_cit]!=0).cumsum(1).argmax(1)\n",
    "nb_refs = np.sum(arrays_refs[type_cit],axis=1) \n",
    "for j in range(active_refs.shape[0]):\n",
    "    if nb_refs[j] > 0:\n",
    "        last_idx = np.asarray(last_nz_refs[j])\n",
    "        active_refs[j,:last_idx+1] = 1\n",
    "nb_active_refs = np.sum(active_refs,axis=0)\n",
    "stats_refs= np.divide(np.squeeze(np.asarray(np.sum(arrays_refs[type_cit],axis=0))),nb_active_refs)    \n",
    "\n",
    "# active_cits = np.zeros(arrays_cits[type_cit].shape)\n",
    "# last_nz_cits = (arrays_cits[type_cit]!=0).cumsum(1).argmax(1)\n",
    "# nb_cits = np.sum(arrays_cits[type_cit],axis=1)\n",
    "# for j in range(active_cits.shape[0]):\n",
    "#     if nb_cits[j] > 0:\n",
    "#         last_idx = np.asarray(last_nz_cits[j])[0][0]\n",
    "#         active_cits[j,:last_idx+1] = 1\n",
    "# nb_active_cits = np.sum(active_cits,axis=0)\n",
    "# stats_refs= np.divide(np.squeeze(np.asarray(np.sum(arrays_cits[type_cit],axis=0))),nb_active_cits)  \n",
    "\n"
   ]
  },
  {
   "cell_type": "code",
   "execution_count": 21,
   "metadata": {
    "collapsed": true
   },
   "outputs": [],
   "source": [
    "plt.close()"
   ]
  },
  {
   "cell_type": "code",
   "execution_count": 53,
   "metadata": {},
   "outputs": [
    {
     "data": {
      "text/plain": [
       "array([], dtype=object)"
      ]
     },
     "execution_count": 53,
     "metadata": {},
     "output_type": "execute_result"
    }
   ],
   "source": [
    "xticks_lbl"
   ]
  },
  {
   "cell_type": "code",
   "execution_count": 59,
   "metadata": {},
   "outputs": [
    {
     "data": {
      "image/png": "[encoded data removed]",
      "text/plain": [
       "<Figure size 864x540 with 4 Axes>"
      ]
     },
     "metadata": {},
     "output_type": "display_data"
    }
   ],
   "source": [
    "plt.figure(figsize=(12,7.5))\n",
    "for k in range(2):\n",
    "    ax = plt.subplot(2,1,k+1)\n",
    "    if k == 0:\n",
    "        s = 0\n",
    "        e = 49\n",
    "        plt.title(group,fontsize=14)\n",
    "        xticks = np.array([0]+list(range(4,49,5)))\n",
    "        xticks_lbl = bins_lbl[xticks]\n",
    "    else:\n",
    "        s = 49\n",
    "        e = nb_bins\n",
    "        xticks = np.arange(0,nb_bins-s)\n",
    "        xticks_lbl = bins_lbl[np.arange(s,nb_bins)]\n",
    "\n",
    "    ax.plot(stats_cits[s:e],'r',label='# self citations (cumul.)',linewidth=2)\n",
    "    ax.set_ylabel('# citations',fontsize=15)\n",
    "    if k == 0 :\n",
    "        ax.legend(loc='upper left')\n",
    "    ax.tick_params(labelsize=18)\n",
    "    ax.set_xlabel('Publication #',fontsize=15)\n",
    "\n",
    "    plt.xticks(xticks,xticks_lbl)\n",
    "\n",
    "    ax.spines['right'].set_visible(False)\n",
    "    ax.spines['top'].set_visible(False)\n",
    "\n",
    "    # Only show ticks on the left and bottom spines\n",
    "    ax.yaxis.set_ticks_position('left')\n",
    "    ax.xaxis.set_ticks_position('bottom')\n",
    "    \n",
    "    ax2 = ax.twinx()\n",
    "    ax2.plot(stats_refs[s:e],'g',label='Avg. # self references',linewidth=2)\n",
    "    if k == 0 :\n",
    "        ax.legend(loc='upper right')\n",
    "    ax2.set_ylabel('# references',fontsize=20)\n",
    "    \n",
    "\n",
    "    \n",
    "#     ax2.spines['right'].set_visible(False)\n",
    "#     ax2.spines['top'].set_visible(False)\n",
    "\n",
    "#     # Only show ticks on the left and bottom spines\n",
    "#     ax2.yaxis.set_ticks_position('left')\n",
    "#     ax2.xaxis.set_ticks_position('bottom')\n",
    "#     #plt.xticks(np.arange(len(bins_nb_arts)), bins_nb_arts)\n",
    "   \n",
    "\n",
    "    plt.tick_params(labelsize=12)\n",
    "plt.show()"
   ]
  },
  {
   "cell_type": "code",
   "execution_count": 39,
   "metadata": {},
   "outputs": [
    {
     "data": {
      "text/plain": [
       "array([70, 80, 90, 100, 110, 120, 130, 140, 150, 160, 170, 180, 190, 200,\n",
       "       300, 400, 500, 600, 700, 800, 900, '1k', '1.5k', '2k'],\n",
       "      dtype=object)"
      ]
     },
     "execution_count": 39,
     "metadata": {},
     "output_type": "execute_result"
    }
   ],
   "source": [
    "bins_lbl[1:][s:e]"
   ]
  },
  {
   "cell_type": "code",
   "execution_count": 24,
   "metadata": {},
   "outputs": [
    {
     "data": {
      "text/plain": [
       "[1,\n",
       " 2,\n",
       " 3,\n",
       " 4,\n",
       " 5,\n",
       " 7,\n",
       " 10,\n",
       " 15,\n",
       " 20,\n",
       " 25,\n",
       " 30,\n",
       " 40,\n",
       " 50,\n",
       " 70,\n",
       " 100,\n",
       " 150,\n",
       " 200,\n",
       " 300,\n",
       " 500,\n",
       " 750,\n",
       " '1k',\n",
       " '1.5k',\n",
       " '2k',\n",
       " '2.5k',\n",
       " '3k',\n",
       " '4k']"
      ]
     },
     "execution_count": 24,
     "metadata": {},
     "output_type": "execute_result"
    }
   ],
   "source": [
    "bins_lbl"
   ]
  },
  {
   "cell_type": "code",
   "execution_count": null,
   "metadata": {
    "collapsed": true
   },
   "outputs": [],
   "source": []
  }
 ],
 "metadata": {
  "kernelspec": {
   "display_name": "Python 3",
   "language": "python",
   "name": "python3"
  },
  "language_info": {
   "codemirror_mode": {
    "name": "ipython",
    "version": 3
   },
   "file_extension": ".py",
   "mimetype": "text/x-python",
   "name": "python",
   "nbconvert_exporter": "python",
   "pygments_lexer": "ipython3",
   "version": "3.6.3"
  }
 },
 "nbformat": 4,
 "nbformat_minor": 2
}
