{
 "cells": [
  {
   "cell_type": "code",
   "execution_count": 13,
   "metadata": {
    "collapsed": true
   },
   "outputs": [],
   "source": [
    "import pandas as pd\n",
    "import csv\n",
    "import pickle\n",
    "from tqdm import tqdm_notebook as tqdm\n",
    "import collections\n"
   ]
  },
  {
   "cell_type": "code",
   "execution_count": 3,
   "metadata": {
    "collapsed": true
   },
   "outputs": [],
   "source": [
    "path = '/home/User1/data/self_citations/'"
   ]
  },
  {
   "cell_type": "code",
   "execution_count": 11,
   "metadata": {},
   "outputs": [
    {
     "name": "stdout",
     "output_type": "stream",
     "text": [
      "['ID_Art', 'ItemID', 'Annee_Bibliographique', 'Code_Revue', 'Nb_Reference', 'Nb_Auteur']\n"
     ]
    }
   ],
   "source": [
    "articles = {}\n",
    "with open(path+'article.txt','r') as f:\n",
    "    reader = csv.reader(f,delimiter='\\t')\n",
    "    print(next(reader))\n",
    "    for line in reader:\n",
    "        articles[int(line[0])] = int(line[2])"
   ]
  },
  {
   "cell_type": "code",
   "execution_count": 9,
   "metadata": {
    "collapsed": true
   },
   "outputs": [],
   "source": [
    "with open(path+'dict_citant.p','rb') as f:\n",
    "    dict_citant = pickle.load(f)"
   ]
  },
  {
   "cell_type": "code",
   "execution_count": 8,
   "metadata": {},
   "outputs": [],
   "source": [
    "with open(path+'dict_cluster_ID.p','rb') as f:\n",
    "    dict_cluster_ID = pickle.load(f)"
   ]
  },
  {
   "cell_type": "code",
   "execution_count": null,
   "metadata": {
    "collapsed": true
   },
   "outputs": [],
   "source": [
    "authors = list(dict_cluster_ID.keys())\n",
    "nb_authors = len(authors)\n",
    "idx = np.arange(nb_authors)\n",
    "np.random.shuffle(idx)"
   ]
  },
  {
   "cell_type": "code",
   "execution_count": 15,
   "metadata": {
    "collapsed": true
   },
   "outputs": [],
   "source": [
    "def find_with_list(myList, target):\n",
    "    inds = []\n",
    "    for i in range(len(myList)):\n",
    "        if myList[i] == target:\n",
    "            inds += i,\n",
    "    return inds"
   ]
  },
  {
   "cell_type": "code",
   "execution_count": 17,
   "metadata": {
    "collapsed": true
   },
   "outputs": [],
   "source": [
    "def is_in_ordered_list(cites,ordered):\n",
    "    ordered = set(ordered)\n",
    "    intersection = cites.intersection(ordered)\n",
    "    \n",
    "    if len(intersection) == len(cites):\n",
    "        in_list = True\n",
    "    else:\n",
    "        in_list = False\n",
    "    return in_list\n",
    "    "
   ]
  },
  {
   "cell_type": "code",
   "execution_count": null,
   "metadata": {
    "collapsed": true
   },
   "outputs": [],
   "source": [
    "for i in tqdm(range(nb_authors)):\n",
    "    cluster_ID = authors[idx[i]]\n",
    "    year_arts = {}\n",
    "    arts = np.array(dict_cluster_ID[cluster_ID])\n",
    "    for art in arts:\n",
    "        year_arts[art] = articles[art]\n",
    "    years = np.array(year_arts.values())\n",
    "    duplicates = [item for item, count in collections.Counter(years).items() if count > 1]\n",
    "    #When > 1 art is published in the same year, if A cite B, B comes before\n",
    "    for dup in duplicates:\n",
    "        inds = np.array(find_with_list(years,dup))\n",
    "        arts_dup = arts[inds]\n",
    "        nb_dup = len(arts_dup)\n",
    "        citant = {}\n",
    "        order_arts = []\n",
    "        for art in arts_dup:\n",
    "            cites = dict_citant[art]\n",
    "            intersection = cites.intersection(set(arts_dup))\n",
    "            if len(intersection) == 0:\n",
    "                order_arts.append(art)\n",
    "            else:\n",
    "                citant[art] = intersection\n",
    "        \n",
    "        while len(citant) > 0:\n",
    "            key = 0\n",
    "            art = list(citant.keys())[key]\n",
    "            cites = citant[art]\n",
    "            in_list = is_in_ordered_list(cites,order_arts)\n",
    "            if in_list:\n",
    "                order_arts.append(art)\n",
    "                del citant[art]\n",
    "                key = 0\n",
    "            else:\n",
    "                key += 1\n",
    "            \n",
    "            \n"
   ]
  }
 ],
 "metadata": {
  "kernelspec": {
   "display_name": "Python 3",
   "language": "python",
   "name": "python3"
  },
  "language_info": {
   "codemirror_mode": {
    "name": "ipython",
    "version": 3
   },
   "file_extension": ".py",
   "mimetype": "text/x-python",
   "name": "python",
   "nbconvert_exporter": "python",
   "pygments_lexer": "ipython3",
   "version": "3.6.3"
  }
 },
 "nbformat": 4,
 "nbformat_minor": 2
}
