{
 "cells": [
  {
   "cell_type": "code",
   "execution_count": 1,
   "metadata": {
    "collapsed": true
   },
   "outputs": [],
   "source": [
    "import pickle\n",
    "import csv\n",
    "from tqdm import tqdm_notebook as tqdm\n",
    "import numpy as np"
   ]
  },
  {
   "cell_type": "code",
   "execution_count": 2,
   "metadata": {
    "collapsed": true
   },
   "outputs": [],
   "source": [
    "path = '/home/User1/data/self_citations/'\n",
    "out_path = path + 'model/'"
   ]
  },
  {
   "cell_type": "markdown",
   "metadata": {},
   "source": [
    "### Get nb of articles"
   ]
  },
  {
   "cell_type": "code",
   "execution_count": 3,
   "metadata": {
    "collapsed": true
   },
   "outputs": [],
   "source": [
    "with open(path+'dict_cluster_ID.p','rb') as f:\n",
    "    dict_cluster_ID = pickle.load(f)"
   ]
  },
  {
   "cell_type": "code",
   "execution_count": 4,
   "metadata": {
    "collapsed": true
   },
   "outputs": [],
   "source": [
    "articles = {}\n",
    "with open(path+'article.txt','r') as f:\n",
    "    reader = csv.reader(f,delimiter='\\t')\n",
    "    next(reader)\n",
    "    for line in reader:\n",
    "        articles[int(line[0])] = int(line[2])"
   ]
  },
  {
   "cell_type": "code",
   "execution_count": 5,
   "metadata": {
    "collapsed": true
   },
   "outputs": [],
   "source": [
    "authors = list(dict_cluster_ID.keys())\n",
    "nb_authors = len(authors)"
   ]
  },
  {
   "cell_type": "code",
   "execution_count": 6,
   "metadata": {},
   "outputs": [
    {
     "name": "stderr",
     "output_type": "stream",
     "text": [
      "/home/User1/anaconda3/lib/python3.6/site-packages/ipykernel_launcher.py:8: TqdmDeprecationWarning: This function will be removed in tqdm==5.0.0\n",
      "Please use `tqdm.notebook.tqdm` instead of `tqdm.tqdm_notebook`\n",
      "  \n"
     ]
    },
    {
     "data": {
      "application/vnd.jupyter.widget-view+json": {
       "model_id": "b3598809c0c646c7a127e3af3c896f91",
       "version_major": 2,
       "version_minor": 0
      },
      "text/plain": [
       "A Jupyter Widget"
      ]
     },
     "metadata": {},
     "output_type": "display_data"
    },
    {
     "name": "stdout",
     "output_type": "stream",
     "text": [
      "\n"
     ]
    }
   ],
   "source": [
    "max_age = 20\n",
    "years = np.arange(max_age)\n",
    "with open(out_path+\"nb_articles.csv\",'w') as f:\n",
    "    header = [\"Cluster_ID\"]\n",
    "    years_header = [\"nb_art_\"+str(x+1) for x in years]\n",
    "    header = header + years_header\n",
    "    f.write(\",\".join(header) + '\\n')\n",
    "    for i in tqdm(range(nb_authors)):\n",
    "        author = int(authors[i])\n",
    "        arts_author = dict_cluster_ID[author]\n",
    "        arts_per_year = {}\n",
    "        for art in arts_author:\n",
    "            year_art = articles[art]\n",
    "            if year_art in arts_per_year:\n",
    "                arts_per_year[year_art] += 1\n",
    "            else:\n",
    "                arts_per_year[year_art] = 1\n",
    "        years_pub = list(arts_per_year.keys())\n",
    "        years_pub.sort()\n",
    "        min_year = years_pub[0]\n",
    "        nb_arts = np.zeros(len(years),dtype=np.int)\n",
    "        prev_age = 0\n",
    "        for year in years_pub:\n",
    "            age = year - min_year \n",
    "            if age == 0:\n",
    "                nb_arts[age] = arts_per_year[year]\n",
    "            elif age < max_age :\n",
    "                nb_arts[prev_age+1:age+1] = nb_arts[prev_age] + arts_per_year[year]\n",
    "            prev_age = age\n",
    "        if prev_age < max_age - 1:\n",
    "            nb_arts[prev_age+1:max_age] = nb_arts[prev_age] \n",
    "        f.write(str(author) + ',' + \",\".join(map(str,nb_arts)) + '\\n')\n",
    "    \n",
    "    \n",
    "    \n",
    "    "
   ]
  },
  {
   "cell_type": "markdown",
   "metadata": {},
   "source": [
    "### Get nb citations"
   ]
  },
  {
   "cell_type": "code",
   "execution_count": 18,
   "metadata": {
    "collapsed": true
   },
   "outputs": [],
   "source": [
    "from scipy import sparse"
   ]
  },
  {
   "cell_type": "code",
   "execution_count": 4,
   "metadata": {
    "collapsed": true
   },
   "outputs": [],
   "source": [
    "#Map to auth ID\n",
    "with open(path+'authors_disc.p','rb') as f:\n",
    "    authors_disc_idx = pickle.load(f)"
   ]
  },
  {
   "cell_type": "code",
   "execution_count": 10,
   "metadata": {
    "collapsed": true
   },
   "outputs": [],
   "source": [
    "list_disciplines = list(authors_disc_idx.keys())\n",
    "for disc in list_disciplines:\n",
    "    authors_disc_idx[disc] = {authors_disc_idx[disc][x]:x for x in authors_disc_idx[disc]}"
   ]
  },
  {
   "cell_type": "markdown",
   "metadata": {},
   "source": [
    "temp = authors_disc_idx[list_disciplines[0]]\n",
    "temp_keys = list(temp.keys())\n",
    "temp_keys[:10]"
   ]
  },
  {
   "cell_type": "code",
   "execution_count": 15,
   "metadata": {
    "collapsed": true
   },
   "outputs": [],
   "source": [
    "nb_disciplines = len(list_disciplines)"
   ]
  },
  {
   "cell_type": "code",
   "execution_count": 16,
   "metadata": {
    "collapsed": true
   },
   "outputs": [],
   "source": [
    "max_age = 20\n",
    "years = np.arange(max_age)"
   ]
  },
  {
   "cell_type": "code",
   "execution_count": null,
   "metadata": {
    "collapsed": true
   },
   "outputs": [],
   "source": [
    "types_cit = ['self','co','others']\n",
    "for type_i in [2]:#tqdm(range(len(types_cit))):\n",
    "    type_cit = types_cit[type_i]\n",
    "    with open(out_path + 'nb_citations_' + type_cit + '.csv','w') as f:\n",
    "        header = [\"Cluster_ID\"]\n",
    "        years_header = [\"nb_cits_\"+type_cit +'_'+str(x+1) for x in years]\n",
    "        header = header + years_header\n",
    "        f.write(\",\".join(header) + '\\n')\n",
    "        for i in tqdm(range(nb_disciplines)):\n",
    "            disc = list_disciplines[i]\n",
    "            arrays_cits = sparse.load_npz('{}/arrays/citations_{}_{}_array_norm.npz'.format(path,type_cit,disc)).todense()\n",
    "            nb_authors = arrays_cits.shape[0]\n",
    "            cum_cits = np.round(np.array(np.cumsum(arrays_cits,axis=1)),2)\n",
    "            for j in tqdm(range(nb_authors)):\n",
    "                author = str(int(authors_disc_idx[disc][j]))\n",
    "                f.write(author + ',' + ','.join(map(str,cum_cits[j,:max_age])) + '\\n')\n",
    "           "
   ]
  },
  {
   "cell_type": "markdown",
   "metadata": {},
   "source": [
    "### Get nb coauthors"
   ]
  },
  {
   "cell_type": "code",
   "execution_count": 3,
   "metadata": {
    "collapsed": true
   },
   "outputs": [],
   "source": [
    "with open(path+'IDs_network.p','rb') as f:\n",
    "    IDs_network = pickle.load(f)\n",
    "authors_network = {}\n",
    "count = 0\n",
    "with open(path+'author_network.npy','rb') as f:\n",
    "    while True:\n",
    "        try:\n",
    "            authors_network[IDs_network[count]] = np.load(f)\n",
    "            count += 1\n",
    "        except ValueError:\n",
    "            break\n",
    "del IDs_network"
   ]
  },
  {
   "cell_type": "code",
   "execution_count": 4,
   "metadata": {
    "collapsed": true
   },
   "outputs": [],
   "source": [
    "authors = list(authors_network.keys())\n",
    "nb_authors = len(authors)"
   ]
  },
  {
   "cell_type": "code",
   "execution_count": 8,
   "metadata": {},
   "outputs": [
    {
     "name": "stderr",
     "output_type": "stream",
     "text": [
      "/home/User1/anaconda3/lib/python3.6/site-packages/ipykernel_launcher.py:8: TqdmDeprecationWarning: This function will be removed in tqdm==5.0.0\n",
      "Please use `tqdm.notebook.tqdm` instead of `tqdm.tqdm_notebook`\n",
      "  \n"
     ]
    },
    {
     "data": {
      "application/vnd.jupyter.widget-view+json": {
       "model_id": "d2f3acc361d8433bacb7c1c70a6cc1d7",
       "version_major": 2,
       "version_minor": 0
      },
      "text/plain": [
       "A Jupyter Widget"
      ]
     },
     "metadata": {},
     "output_type": "display_data"
    },
    {
     "name": "stdout",
     "output_type": "stream",
     "text": [
      "\n"
     ]
    }
   ],
   "source": [
    "max_age = 20\n",
    "years = np.arange(max_age)\n",
    "with open(out_path+\"nb_coauthors.csv\",'w') as f:\n",
    "    header = [\"Cluster_ID\"]\n",
    "    years_header = [\"nb_art_\"+str(x+1) for x in years]\n",
    "    header = header + years_header\n",
    "    f.write(\",\".join(header) + '\\n')\n",
    "    for i in tqdm(range(nb_authors)):\n",
    "        author = int(authors[i])\n",
    "        coauthors = authors_network[author]\n",
    "        coauthors = coauthors[1,:].astype(np.int)\n",
    "        co_per_year = {}\n",
    "        nb_coauthors = len(coauthors)\n",
    "        for co_i in range(nb_coauthors):\n",
    "            year_co = coauthors[co_i]\n",
    "            if year_co in co_per_year:\n",
    "                co_per_year[year_co] += 1\n",
    "            else:\n",
    "                co_per_year[year_co] = 1\n",
    "        years_co = list(co_per_year.keys())\n",
    "        years_co.sort()\n",
    "        min_year = years_co[0]\n",
    "        cum_coauthors = np.zeros(max_age,dtype=np.int)\n",
    "        prev_age = 0\n",
    "        for year in years_co:\n",
    "            age = year - min_year \n",
    "            if age == 0:\n",
    "                cum_coauthors[age] = co_per_year[year]\n",
    "            elif age < max_age :\n",
    "                cum_coauthors[prev_age+1:age+1] = cum_coauthors[prev_age] + co_per_year[year]\n",
    "            prev_age = age\n",
    "        if prev_age < max_age - 1:\n",
    "            cum_coauthors[prev_age+1:max_age] = cum_coauthors[prev_age] \n",
    "        f.write(str(author) + ',' + \",\".join(map(str,cum_coauthors)) + '\\n')"
   ]
  },
  {
   "cell_type": "markdown",
   "metadata": {},
   "source": [
    "### Get country"
   ]
  },
  {
   "cell_type": "code",
   "execution_count": 3,
   "metadata": {
    "collapsed": true
   },
   "outputs": [],
   "source": [
    "articles = {}\n",
    "with open(path+'article.txt','r') as f:\n",
    "    reader = csv.reader(f,delimiter='\\t')\n",
    "    next(reader)\n",
    "    for line in reader:\n",
    "        articles[int(line[0])] = int(line[2])"
   ]
  },
  {
   "cell_type": "code",
   "execution_count": 4,
   "metadata": {},
   "outputs": [
    {
     "name": "stdout",
     "output_type": "stream",
     "text": [
      "['Cluster_ID', 'Full_Name', 'ID_Art', 'Institution', 'Ville', 'EPays', 'ERegroupement']\n"
     ]
    }
   ],
   "source": [
    "country_authors = {}\n",
    "with open(path+'clusters_locations.txt','r',encoding=\"latin-1\") as f:\n",
    "    reader = csv.reader(f,delimiter='\\t')\n",
    "    print(next(reader))\n",
    "    for line in reader:\n",
    "        ID = line[0]\n",
    "        if ID != '':\n",
    "            ID = int(ID)\n",
    "            if ID in country_authors:\n",
    "                country_authors[ID] = [np.append(country_authors[ID][0],line[6]),np.append(country_authors[ID][1],articles[int(line[2])])]\n",
    "            else:\n",
    "                country_authors[ID] = [np.array([line[6]]),np.array([articles[int(line[2])]])]"
   ]
  },
  {
   "cell_type": "code",
   "execution_count": 5,
   "metadata": {},
   "outputs": [
    {
     "data": {
      "text/plain": [
       "22166707"
      ]
     },
     "execution_count": 5,
     "metadata": {},
     "output_type": "execute_result"
    }
   ],
   "source": [
    "authors = list(country_authors.keys())\n",
    "nb_authors = len(authors)\n",
    "nb_authors"
   ]
  },
  {
   "cell_type": "code",
   "execution_count": 69,
   "metadata": {},
   "outputs": [
    {
     "name": "stderr",
     "output_type": "stream",
     "text": [
      "/home/User1/anaconda3/lib/python3.6/site-packages/ipykernel_launcher.py:10: TqdmDeprecationWarning: This function will be removed in tqdm==5.0.0\n",
      "Please use `tqdm.notebook.tqdm` instead of `tqdm.tqdm_notebook`\n",
      "  # Remove the CWD from sys.path while we load stuff.\n"
     ]
    },
    {
     "data": {
      "application/vnd.jupyter.widget-view+json": {
       "model_id": "ed6cb24f0e9249e395fe9a15417ca44b",
       "version_major": 2,
       "version_minor": 0
      },
      "text/plain": [
       "A Jupyter Widget"
      ]
     },
     "metadata": {},
     "output_type": "display_data"
    },
    {
     "name": "stdout",
     "output_type": "stream",
     "text": [
      "\n"
     ]
    }
   ],
   "source": [
    "#def line_profiler():\n",
    "max_age = 20\n",
    "years = np.arange(max_age)\n",
    "count = 0\n",
    "with open(out_path+\"country_authors.csv\",'w') as f:\n",
    "    header = [\"Cluster_ID\"]\n",
    "    years_header = [\"country_\"+str(x+1) for x in years]\n",
    "    header = header + years_header\n",
    "    f.write(\",\".join(header) + '\\n')\n",
    "    for i in tqdm(range(nb_authors)):\n",
    "#         count += 1\n",
    "#         if count == 200:\n",
    "#             break\n",
    "        author = int(authors[i])\n",
    "        countries_author = country_authors[author]\n",
    "        countries = countries_author[0].astype(object)\n",
    "        years = countries_author[1].astype(np.int)\n",
    "        max_count_year = {}\n",
    "        nb_countries = len(countries)\n",
    "        unique_years = np.unique(years)\n",
    "        unique_years.sort()\n",
    "\n",
    "        min_year = unique_years[0]\n",
    "        cum_country = np.empty(max_age, dtype=object)\n",
    "        prev_age = 0\n",
    "        for year in unique_years:\n",
    "            age = year - min_year \n",
    "            idx = np.where(years<=year)[0]\n",
    "            unique,pos = np.unique(countries[idx],return_inverse=True)\n",
    "            counts = np.bincount(pos)\n",
    "            maxpos = np.argwhere(counts == np.amax(counts))\n",
    "            #counts = np.bincount(countries[idx])\n",
    "            country = np.max(counts)\n",
    "            if len(maxpos) > 1:\n",
    "                country = unique[maxpos[0]][0]\n",
    "            else:\n",
    "                country = unique[maxpos][0][0]\n",
    "            if age == 0:\n",
    "                cum_country[age] = country\n",
    "            elif age < max_age :\n",
    "                cum_country[prev_age+1:age+1] = country\n",
    "            prev_age = age\n",
    "        if prev_age < max_age - 1:\n",
    "            cum_country[prev_age+1:max_age] = ''#cum_country[prev_age]\n",
    "        f.write(str(author) + ',' + \",\".join(map(str,cum_country)) + '\\n')"
   ]
  },
  {
   "cell_type": "code",
   "execution_count": 7,
   "metadata": {
    "collapsed": true,
    "scrolled": true
   },
   "outputs": [],
   "source": [
    "%load_ext line_profiler"
   ]
  },
  {
   "cell_type": "code",
   "execution_count": 17,
   "metadata": {
    "scrolled": true
   },
   "outputs": [
    {
     "name": "stderr",
     "output_type": "stream",
     "text": [
      "/home/User1/anaconda3/lib/python3.6/site-packages/ipykernel_launcher.py:10: TqdmDeprecationWarning: This function will be removed in tqdm==5.0.0\n",
      "Please use `tqdm.notebook.tqdm` instead of `tqdm.tqdm_notebook`\n",
      "  # Remove the CWD from sys.path while we load stuff.\n"
     ]
    },
    {
     "data": {
      "application/vnd.jupyter.widget-view+json": {
       "model_id": "e11a0a6db13148bd963f537e57fd85c8",
       "version_major": 2,
       "version_minor": 0
      },
      "text/plain": [
       "A Jupyter Widget"
      ]
     },
     "metadata": {},
     "output_type": "display_data"
    }
   ],
   "source": [
    "%lprun -f line_profiler line_profiler()"
   ]
  },
  {
   "cell_type": "markdown",
   "metadata": {},
   "source": [
    "### Years active"
   ]
  },
  {
   "cell_type": "code",
   "execution_count": 3,
   "metadata": {},
   "outputs": [
    {
     "ename": "KeyboardInterrupt",
     "evalue": "",
     "output_type": "error",
     "traceback": [
      "\u001b[0;31m---------------------------------------------------------------------------\u001b[0m",
      "\u001b[0;31mKeyboardInterrupt\u001b[0m                         Traceback (most recent call last)",
      "\u001b[0;32m<ipython-input-3-8717655265b0>\u001b[0m in \u001b[0;36m<module>\u001b[0;34m()\u001b[0m\n\u001b[1;32m      3\u001b[0m     \u001b[0mreader\u001b[0m \u001b[0;34m=\u001b[0m \u001b[0mcsv\u001b[0m\u001b[0;34m.\u001b[0m\u001b[0mreader\u001b[0m\u001b[0;34m(\u001b[0m\u001b[0mf\u001b[0m\u001b[0;34m,\u001b[0m\u001b[0mdelimiter\u001b[0m\u001b[0;34m=\u001b[0m\u001b[0;34m'\\t'\u001b[0m\u001b[0;34m)\u001b[0m\u001b[0;34m\u001b[0m\u001b[0m\n\u001b[1;32m      4\u001b[0m     \u001b[0mnext\u001b[0m\u001b[0;34m(\u001b[0m\u001b[0mreader\u001b[0m\u001b[0;34m)\u001b[0m\u001b[0;34m\u001b[0m\u001b[0m\n\u001b[0;32m----> 5\u001b[0;31m     \u001b[0;32mfor\u001b[0m \u001b[0mline\u001b[0m \u001b[0;32min\u001b[0m \u001b[0mreader\u001b[0m\u001b[0;34m:\u001b[0m\u001b[0;34m\u001b[0m\u001b[0m\n\u001b[0m\u001b[1;32m      6\u001b[0m         \u001b[0mauthors_info\u001b[0m\u001b[0;34m[\u001b[0m\u001b[0mint\u001b[0m\u001b[0;34m(\u001b[0m\u001b[0mline\u001b[0m\u001b[0;34m[\u001b[0m\u001b[0;36m0\u001b[0m\u001b[0;34m]\u001b[0m\u001b[0;34m)\u001b[0m\u001b[0;34m]\u001b[0m \u001b[0;34m=\u001b[0m \u001b[0;34m[\u001b[0m\u001b[0mline\u001b[0m\u001b[0;34m[\u001b[0m\u001b[0;36m1\u001b[0m\u001b[0;34m]\u001b[0m\u001b[0;34m,\u001b[0m\u001b[0mint\u001b[0m\u001b[0;34m(\u001b[0m\u001b[0mline\u001b[0m\u001b[0;34m[\u001b[0m\u001b[0;36m2\u001b[0m\u001b[0;34m]\u001b[0m\u001b[0;34m)\u001b[0m\u001b[0;34m]\u001b[0m\u001b[0;34m\u001b[0m\u001b[0m\n",
      "\u001b[0;31mKeyboardInterrupt\u001b[0m: "
     ]
    }
   ],
   "source": [
    "authors_info = {}\n",
    "with open(path+'authors_info.csv','r') as f:\n",
    "    reader = csv.reader(f,delimiter='\\t')\n",
    "    next(reader)\n",
    "    for line in reader:\n",
    "        authors_info[int(line[0])] = [line[1],int(line[2])]"
   ]
  },
  {
   "cell_type": "code",
   "execution_count": null,
   "metadata": {
    "collapsed": true
   },
   "outputs": [],
   "source": []
  }
 ],
 "metadata": {
  "kernelspec": {
   "display_name": "Python 3",
   "language": "python",
   "name": "python3"
  },
  "language_info": {
   "codemirror_mode": {
    "name": "ipython",
    "version": 3
   },
   "file_extension": ".py",
   "mimetype": "text/x-python",
   "name": "python",
   "nbconvert_exporter": "python",
   "pygments_lexer": "ipython3",
   "version": "3.6.3"
  }
 },
 "nbformat": 4,
 "nbformat_minor": 2
}
