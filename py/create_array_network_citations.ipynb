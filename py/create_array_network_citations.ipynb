{
 "cells": [
  {
   "cell_type": "markdown",
   "metadata": {},
   "source": [
    "### Use the 100 gb ram instance"
   ]
  },
  {
   "cell_type": "code",
   "execution_count": 1,
   "metadata": {
    "collapsed": true
   },
   "outputs": [],
   "source": [
    "import pandas as pd\n",
    "from tables import *\n",
    "import csv\n",
    "import numpy as np\n",
    "import pickle\n",
    "import time\n",
    "from scipy import sparse\n",
    "from tqdm import tqdm_notebook as tqdm"
   ]
  },
  {
   "cell_type": "code",
   "execution_count": 2,
   "metadata": {
    "collapsed": true
   },
   "outputs": [],
   "source": [
    "path = '/home/User1/data/self_citations/'"
   ]
  },
  {
   "cell_type": "code",
   "execution_count": 3,
   "metadata": {
    "collapsed": true,
    "scrolled": true
   },
   "outputs": [],
   "source": [
    "articles = {}\n",
    "with open(path+'article.txt','r') as f:\n",
    "    reader = csv.reader(f,delimiter='\\t')\n",
    "    next(reader)\n",
    "    for line in reader:\n",
    "        articles[int(line[0])] = int(line[2])"
   ]
  },
  {
   "cell_type": "code",
   "execution_count": 4,
   "metadata": {
    "collapsed": true
   },
   "outputs": [],
   "source": [
    "with open(path+'IDs_network.p','rb') as f:\n",
    "    IDs_network = pickle.load(f)\n",
    "authors_network = {}\n",
    "count = 0\n",
    "with open(path+'author_network.npy','rb') as f:\n",
    "    while True:\n",
    "        try:\n",
    "            authors_network[IDs_network[count]] = np.load(f)\n",
    "            count += 1\n",
    "        except ValueError:\n",
    "            break\n",
    "del IDs_network"
   ]
  },
  {
   "cell_type": "code",
   "execution_count": 5,
   "metadata": {
    "collapsed": true
   },
   "outputs": [],
   "source": [
    "with open(path+'dict_citant.p','rb') as f:\n",
    "    dict_citant = pickle.load(f)"
   ]
  },
  {
   "cell_type": "code",
   "execution_count": 6,
   "metadata": {
    "collapsed": true
   },
   "outputs": [],
   "source": [
    "with open(path+'dict_cluster_art.p','rb') as f:\n",
    "    dict_cluster_art = pickle.load(f)"
   ]
  },
  {
   "cell_type": "code",
   "execution_count": 7,
   "metadata": {
    "collapsed": true
   },
   "outputs": [],
   "source": [
    "with open(path+'authors_disc.p','rb') as f:\n",
    "    authors_disc_idx = pickle.load(f)\n",
    "list_disciplines = list(authors_disc_idx.keys())\n",
    "nb_disciplines = len(list_disciplines)"
   ]
  },
  {
   "cell_type": "code",
   "execution_count": 8,
   "metadata": {
    "collapsed": true
   },
   "outputs": [],
   "source": [
    "min_year = 1980\n",
    "max_year = 2019\n",
    "nb_years = max_year-min_year"
   ]
  },
  {
   "cell_type": "code",
   "execution_count": 9,
   "metadata": {
    "collapsed": true
   },
   "outputs": [],
   "source": [
    "authors_info = {}\n",
    "with open(path+'authors_info.csv','r') as f:\n",
    "    reader = csv.reader(f,delimiter='\\t')\n",
    "    next(reader)\n",
    "    for line in reader:\n",
    "        authors_info[int(line[0])] = [line[1],int(line[2])]"
   ]
  },
  {
   "cell_type": "code",
   "execution_count": 13,
   "metadata": {
    "collapsed": true
   },
   "outputs": [],
   "source": [
    "citants = list(dict_citant.keys())\n",
    "nb_citants = len(citants)\n",
    "idx = np.arange(nb_citants)\n",
    "np.random.shuffle(idx)\n",
    "types_cit = ['self']\n",
    "nb_types = len(types_cit)\n",
    "total_iterations = nb_citants*nb_types"
   ]
  },
  {
   "cell_type": "markdown",
   "metadata": {},
   "source": [
    "### Compute year normalized citations"
   ]
  },
  {
   "cell_type": "code",
   "execution_count": 11,
   "metadata": {},
   "outputs": [
    {
     "name": "stderr",
     "output_type": "stream",
     "text": [
      "/home/User1/anaconda3/lib/python3.6/site-packages/ipykernel_launcher.py:3: TqdmDeprecationWarning: This function will be removed in tqdm==5.0.0\n",
      "Please use `tqdm.notebook.tqdm` instead of `tqdm.tqdm_notebook`\n",
      "  This is separate from the ipykernel package so we can avoid doing imports until\n"
     ]
    },
    {
     "data": {
      "application/vnd.jupyter.widget-view+json": {
       "model_id": "55d12b95ee6647c8b39c14647070b46b",
       "version_major": 2,
       "version_minor": 0
      },
      "text/plain": [
       "A Jupyter Widget"
      ]
     },
     "metadata": {},
     "output_type": "display_data"
    },
    {
     "name": "stdout",
     "output_type": "stream",
     "text": [
      "\n"
     ]
    }
   ],
   "source": [
    "citant_per_year = np.zeros(nb_years)\n",
    "ref_per_year = np.zeros(nb_years)\n",
    "for i in tqdm(range(nb_citants)):\n",
    "    art_citant = citants[idx[i]]\n",
    "    year_citant = articles[art_citant]\n",
    "    if year_citant >= min_year and year_citant < max_year:\n",
    "        rel_year_citant = year_citant - min_year\n",
    "        citant_per_year[rel_year_citant] += 1\n",
    "        ref_per_year[rel_year_citant] += len(dict_citant[art_citant])\n",
    "cit_per_art_year = np.divide(ref_per_year,citant_per_year)"
   ]
  },
  {
   "cell_type": "code",
   "execution_count": 12,
   "metadata": {
    "collapsed": true
   },
   "outputs": [],
   "source": [
    "weight_citant = 1/(cit_per_art_year/max(cit_per_art_year))\n",
    "weight_citant = {year:weight_citant[i] for i,year in enumerate(range(min_year,max_year))}"
   ]
  },
  {
   "cell_type": "code",
   "execution_count": null,
   "metadata": {
    "collapsed": true
   },
   "outputs": [],
   "source": [
    "f = open(path+'progress.txt','w')\n",
    "count = 0\n",
    "start_time = time.time()\n",
    "for type_cit in types_cit:\n",
    "    rm_time = time.time()\n",
    "    references = {d:sparse.lil_matrix((len(authors_disc_idx[d]),nb_years)) for d in list_disciplines}\n",
    "    citations = {d:sparse.lil_matrix((len(authors_disc_idx[d]),nb_years)) for d in list_disciplines}\n",
    "    start_time = start_time + time.time() - rm_time\n",
    "    for i in range(nb_citants):\n",
    "        count += 1\n",
    "        art_citant = citants[idx[i]]\n",
    "        year_citant = articles[art_citant]\n",
    "        if year_citant >= min_year and year_citant < max_year:\n",
    "            weight = weight_citant[year_citant]\n",
    "            if art_citant in dict_cluster_art:\n",
    "                authors_citant = set(dict_cluster_art[art_citant])\n",
    "                networks_citant = {}\n",
    "                full_network_citant = set()\n",
    "                for ID_author_citant in authors_citant:\n",
    "                    if ID_author_citant in authors_network:\n",
    "                        network = authors_network[ID_author_citant]\n",
    "                        idx_net = np.where(network[1,:]<=year_citant)[0]\n",
    "                        network = set(network[0,idx_net])\n",
    "                        networks_citant[ID_author_citant] = network\n",
    "                        full_network_citant.update(network)\n",
    "                refs_citant = set(dict_citant[art_citant])\n",
    "                for ref in refs_citant:\n",
    "                    if ref in dict_cluster_art:\n",
    "                        authors_cite = set(dict_cluster_art[ref])\n",
    "                        int_authors = authors_cite.intersection(authors_citant)\n",
    "                        if len(int_authors) == 0:\n",
    "                            networks_cite = {}\n",
    "                            full_network_cite = set()\n",
    "                            for ID_author_cite in authors_cite:\n",
    "                                if ID_author_cite in authors_network:\n",
    "                                    network = authors_network[ID_author_cite]\n",
    "                                    idx_net = np.where(network[1,:]<=year_citant)[0]\n",
    "                                    network = set(network[0,idx_net])\n",
    "                                    networks_cite[ID_author_cite] = network\n",
    "                                    full_network_cite.update(network)\n",
    "\n",
    "                            for ID_author_cite in authors_cite:\n",
    "                                if ID_author_cite in authors_network:\n",
    "                                    if len(authors_citant.intersection(networks_cite[ID_author_cite])) > 0:\n",
    "                                        if type_cit == 'self':\n",
    "                                            info = authors_info[ID_author_cite]\n",
    "                                            author_age = year_citant - info[1]\n",
    "                                            if author_age < nb_years:\n",
    "                                                disc = info[0]\n",
    "                                                author_idx = authors_disc_idx[disc][ID_author_cite]\n",
    "                                                citations[disc][author_idx,author_age] += weight\n",
    "                                    else:\n",
    "                                        if type_cit == 'co':\n",
    "                                            if len(authors_citant.intersection(full_network_cite)) > 0:\n",
    "                                                info = authors_info[ID_author_cite]\n",
    "                                                author_age = year_citant - info[1]\n",
    "                                                if author_age < 0:\n",
    "                                                    author_age = 0\n",
    "                                                if author_age < nb_years:\n",
    "                                                    disc = info[0]\n",
    "                                                    author_idx = authors_disc_idx[disc][ID_author_cite]\n",
    "                                                    citations[disc][author_idx,author_age] += weight\n",
    "\n",
    "                            for ID_author_citant in authors_citant:\n",
    "                                if ID_author_citant in authors_network:\n",
    "                                    if len(authors_citant.intersection(networks_citant[ID_author_citant])) > 0:\n",
    "                                        if type_cit == 'self':\n",
    "                                            info = authors_info[ID_author_citant]\n",
    "                                            author_age = year_citant - info[1]\n",
    "                                            if author_age < nb_years:\n",
    "                                                disc = info[0]\n",
    "                                                author_idx = authors_disc_idx[disc][ID_author_citant]\n",
    "                                                references[disc][author_idx,author_age] += weight\n",
    "                                    else:\n",
    "                                        if type_cit == 'co':\n",
    "                                            if len(authors_citant.intersection(full_network_citant)) > 0:\n",
    "                                                info = authors_info[ID_author_citant]\n",
    "                                                author_age = year_citant - info[1]\n",
    "                                                if author_age < nb_years:\n",
    "                                                    disc = info[0]\n",
    "                                                    author_idx = authors_disc_idx[disc][ID_author_citant]\n",
    "                                                    references[disc][author_idx,author_age] += weight                                    \n",
    "        if count % 1000 == 1 :\n",
    "            elapsed_time = time.time() - start_time\n",
    "            elapsed_time_h = np.round(elapsed_time/3600,2)\n",
    "            time_per_art = elapsed_time/count\n",
    "            time_left_h = np.round(time_per_art*(total_iterations-count)/3600,2)\n",
    "            perc = np.round(count/total_iterations*100,3)\n",
    "            f.write('Progress: {} articles, {}%, Time since start: {}, Time left: {}\\n'.format(count,perc,elapsed_time_h,time_left_h))    \n",
    "            f.flush()\n",
    "    for disc in list_disciplines:\n",
    "        with open('{}/arrays/citations_{}_{}_network_array_norm.npz'.format(path,type_cit,disc),'wb') as f2:\n",
    "            sparse.save_npz(f2,sparse.csr_matrix(citations[disc]))\n",
    "        with open('{}/arrays/references_{}_{}_network_array_norm.npz'.format(path,type_cit,disc),'wb') as f2:\n",
    "            sparse.save_npz(f2,sparse.csr_matrix(references[disc]))"
   ]
  },
  {
   "cell_type": "markdown",
   "metadata": {},
   "source": [
    "### Direct only"
   ]
  },
  {
   "cell_type": "code",
   "execution_count": 18,
   "metadata": {
    "collapsed": true
   },
   "outputs": [],
   "source": [
    "from matplotlib import pyplot as plt\n"
   ]
  },
  {
   "cell_type": "code",
   "execution_count": 51,
   "metadata": {
    "collapsed": true
   },
   "outputs": [],
   "source": [
    "art_id = np.array(art_id)"
   ]
  },
  {
   "cell_type": "code",
   "execution_count": 52,
   "metadata": {
    "collapsed": true
   },
   "outputs": [],
   "source": [
    "arts_high = art_id[np.where(np.array(dist_time)>10)[0]]"
   ]
  },
  {
   "cell_type": "code",
   "execution_count": 53,
   "metadata": {},
   "outputs": [
    {
     "data": {
      "text/plain": [
       "array([  736,   737,  4771,  7105, 10992, 11249, 14739, 16828])"
      ]
     },
     "execution_count": 53,
     "metadata": {},
     "output_type": "execute_result"
    }
   ],
   "source": [
    "np.where(np.array(dist_time)>10)[0]"
   ]
  },
  {
   "cell_type": "code",
   "execution_count": 86,
   "metadata": {
    "collapsed": true
   },
   "outputs": [],
   "source": [
    "art_citant = arts_high[3]"
   ]
  },
  {
   "cell_type": "code",
   "execution_count": 87,
   "metadata": {
    "collapsed": true
   },
   "outputs": [],
   "source": [
    "authors_citant = dict_cluster_art[art_citant]"
   ]
  },
  {
   "cell_type": "code",
   "execution_count": 88,
   "metadata": {},
   "outputs": [
    {
     "data": {
      "text/plain": [
       "array([33043831], dtype=uint32)"
      ]
     },
     "execution_count": 88,
     "metadata": {},
     "output_type": "execute_result"
    }
   ],
   "source": [
    "authors_citant "
   ]
  },
  {
   "cell_type": "code",
   "execution_count": 89,
   "metadata": {},
   "outputs": [
    {
     "data": {
      "text/plain": [
       "1"
      ]
     },
     "execution_count": 89,
     "metadata": {},
     "output_type": "execute_result"
    }
   ],
   "source": [
    "len(authors_citant)"
   ]
  },
  {
   "cell_type": "code",
   "execution_count": 90,
   "metadata": {
    "collapsed": true
   },
   "outputs": [],
   "source": [
    "refs_citant = dict_citant[art_citant]"
   ]
  },
  {
   "cell_type": "code",
   "execution_count": 91,
   "metadata": {},
   "outputs": [
    {
     "data": {
      "text/plain": [
       "array([ 1884292,  2624172,  3744580,  4271313,  5206318,  5076034,\n",
       "        5371890,  9098587,  9971583, 10802197, 11027436, 11363399,\n",
       "       11230150, 13633345, 13996668, 14630182, 14793791, 15614376,\n",
       "       18046573, 19282165, 19446895, 19589280, 19675353, 19787635,\n",
       "       20216102, 20916387, 21057480, 21987619, 21933743, 23124596,\n",
       "       23173549, 23515792, 23502518, 23640748, 23649397, 23983719,\n",
       "       24160352, 24439789, 24518090, 24547714, 24526251, 25123639,\n",
       "       25417575, 25463071, 26220632, 26231363, 26274843, 26257774,\n",
       "       26584995, 26952145, 27277866, 27821210, 28183973, 29223183,\n",
       "       29244559, 29344082, 29594216, 30586891, 30887476, 31369021,\n",
       "       31415801, 32312594, 32535329, 32694982, 32820804, 37028590,\n",
       "       37698784, 39980493, 44735802, 45018750, 45196133, 45963098,\n",
       "       46438588, 46473056, 47236060, 47513168, 47563193, 47655414,\n",
       "       48220163, 48359925, 48483427, 48507790, 48536314, 48555241,\n",
       "       48813032, 49372528, 49731444, 49953391, 49979679, 50502128])"
      ]
     },
     "execution_count": 91,
     "metadata": {},
     "output_type": "execute_result"
    }
   ],
   "source": [
    "refs_citant"
   ]
  },
  {
   "cell_type": "code",
   "execution_count": 83,
   "metadata": {
    "collapsed": true
   },
   "outputs": [],
   "source": [
    "def prof_lines():\n",
    "    year_citant = articles[art_citant]\n",
    "    if year_citant >= min_year and year_citant < max_year:\n",
    "        art_start = time.time()\n",
    "\n",
    "        weight = weight_citant[year_citant]\n",
    "        if art_citant in dict_cluster_art:\n",
    "            authors_citant = set(dict_cluster_art[art_citant])\n",
    "            networks_citant = {}\n",
    "            for ID_author_citant in authors_citant:\n",
    "                if ID_author_citant in authors_network:\n",
    "                    network = authors_network[ID_author_citant]\n",
    "                    idx_net = np.where(network[1,:]<=year_citant)[0]\n",
    "                    network = set(network[0,idx_net])\n",
    "                    networks_citant[ID_author_citant] = network\n",
    "\n",
    "            refs_citant = set(dict_citant[art_citant])\n",
    "            for ref in refs_citant:\n",
    "                if ref in dict_cluster_art:\n",
    "                    authors_cite = set(dict_cluster_art[ref])\n",
    "                    int_authors = authors_cite.intersection(authors_citant)\n",
    "                    if len(int_authors) == 0:\n",
    "                        networks_cite = {}\n",
    "                        for ID_author_cite in authors_cite:\n",
    "                            if ID_author_cite in authors_network:\n",
    "                                network = authors_network[ID_author_cite]\n",
    "                                idx_net = np.where(network[1,:]<=year_citant)[0]\n",
    "                                network = set(network[0,idx_net])\n",
    "                                networks_cite[ID_author_cite] = network\n",
    "\n",
    "                        for ID_author_cite in authors_cite:\n",
    "                            if ID_author_cite in authors_network:\n",
    "                                if len(authors_citant.intersection(networks_cite[ID_author_cite])) > 0:\n",
    "                                    if type_cit == 'self':\n",
    "                                        info = authors_info[ID_author_cite]\n",
    "                                        author_age = year_citant - info[1]\n",
    "                                        if author_age < nb_years:\n",
    "                                            disc = info[0]\n",
    "                                            author_idx = authors_disc_idx[disc][ID_author_cite]\n",
    "                                            citations[disc][author_idx,author_age] += weight\n",
    "\n",
    "                        for ID_author_citant in authors_citant:\n",
    "                            if ID_author_citant in authors_network:\n",
    "                                if len(authors_citant.intersection(networks_citant[ID_author_citant])) > 0:\n",
    "                                    if type_cit == 'self':\n",
    "                                        info = authors_info[ID_author_citant]\n",
    "                                        author_age = year_citant - info[1]\n",
    "                                        if author_age < nb_years:\n",
    "                                            disc = info[0]\n",
    "                                            author_idx = authors_disc_idx[disc][ID_author_citant]\n",
    "                                            references[disc][author_idx,author_age] += weight"
   ]
  },
  {
   "cell_type": "code",
   "execution_count": 92,
   "metadata": {
    "collapsed": true
   },
   "outputs": [],
   "source": [
    "%lprun -f prof_lines prof_lines()"
   ]
  },
  {
   "cell_type": "code",
   "execution_count": 45,
   "metadata": {},
   "outputs": [
    {
     "data": {
      "image/png": "[encoded data removed]",
      "text/plain": [
       "<matplotlib.figure.Figure at 0x7fcfd28e99e8>"
      ]
     },
     "metadata": {},
     "output_type": "display_data"
    }
   ],
   "source": [
    "plt.hist(dist_time,bins=10,range=(5,90))\n",
    "plt.show()"
   ]
  },
  {
   "cell_type": "code",
   "execution_count": 43,
   "metadata": {
    "collapsed": true
   },
   "outputs": [],
   "source": [
    "dist_time = []\n",
    "art_id = []"
   ]
  },
  {
   "cell_type": "markdown",
   "metadata": {},
   "source": [
    "### With max "
   ]
  },
  {
   "cell_type": "code",
   "execution_count": 93,
   "metadata": {
    "collapsed": true
   },
   "outputs": [],
   "source": [
    "max_net = 1500\n",
    "max_aut = 1500"
   ]
  },
  {
   "cell_type": "code",
   "execution_count": 94,
   "metadata": {
    "collapsed": true
   },
   "outputs": [],
   "source": [
    "for key in authors_network:\n",
    "    if len(authors_network[key]) > max_net:\n",
    "        del authors_network[key]"
   ]
  },
  {
   "cell_type": "code",
   "execution_count": null,
   "metadata": {
    "collapsed": true
   },
   "outputs": [],
   "source": [
    "f = open(path+'progress.txt','w')\n",
    "count = 0\n",
    "start_time = time.time()\n",
    "for type_cit in types_cit:\n",
    "    rm_time = time.time()\n",
    "    references = {d:sparse.lil_matrix((len(authors_disc_idx[d]),nb_years)) for d in list_disciplines}\n",
    "    citations = {d:sparse.lil_matrix((len(authors_disc_idx[d]),nb_years)) for d in list_disciplines}\n",
    "    start_time = start_time + time.time() - rm_time\n",
    "    for i in range(nb_citants):\n",
    "        count += 1\n",
    "        art_citant = citants[idx[i]]\n",
    "        year_citant = articles[art_citant]\n",
    "        if year_citant >= min_year and year_citant < max_year:\n",
    "            art_start = time.time()\n",
    "            weight = weight_citant[year_citant]\n",
    "            if art_citant in dict_cluster_art:\n",
    "                authors_citant = set(dict_cluster_art[art_citant])\n",
    "                if len(authors_citant) < max_aut:\n",
    "                    networks_citant = {}\n",
    "                    for ID_author_citant in authors_citant:\n",
    "                        if ID_author_citant in authors_network:\n",
    "                            network = authors_network[ID_author_citant]\n",
    "                            idx_net = np.where(network[1,:]<=year_citant)[0]\n",
    "                            network = set(network[0,idx_net])\n",
    "                            networks_citant[ID_author_citant] = network\n",
    "\n",
    "                    refs_citant = set(dict_citant[art_citant])\n",
    "                    for ref in refs_citant:\n",
    "                        if ref in dict_cluster_art:\n",
    "                            authors_cite = set(dict_cluster_art[ref])\n",
    "                            int_authors = authors_cite.intersection(authors_citant)\n",
    "                            if len(int_authors) == 0:\n",
    "                                networks_cite = {}\n",
    "                                for ID_author_cite in authors_cite:\n",
    "                                    if ID_author_cite in authors_network:\n",
    "                                        network = authors_network[ID_author_cite]\n",
    "                                        idx_net = np.where(network[1,:]<=year_citant)[0]\n",
    "                                        network = set(network[0,idx_net])\n",
    "                                        networks_cite[ID_author_cite] = network\n",
    "\n",
    "                                for ID_author_cite in authors_cite:\n",
    "                                    if ID_author_cite in authors_network:\n",
    "                                        if len(authors_citant.intersection(networks_cite[ID_author_cite])) > 0:\n",
    "                                            if type_cit == 'self':\n",
    "                                                info = authors_info[ID_author_cite]\n",
    "                                                author_age = year_citant - info[1]\n",
    "                                                if author_age < nb_years:\n",
    "                                                    disc = info[0]\n",
    "                                                    author_idx = authors_disc_idx[disc][ID_author_cite]\n",
    "                                                    citations[disc][author_idx,author_age] += weight\n",
    "\n",
    "                                for ID_author_citant in authors_citant:\n",
    "                                    if ID_author_citant in authors_network:\n",
    "                                        if len(authors_citant.intersection(networks_citant[ID_author_citant])) > 0:\n",
    "                                            if type_cit == 'self':\n",
    "                                                info = authors_info[ID_author_citant]\n",
    "                                                author_age = year_citant - info[1]\n",
    "                                                if author_age < nb_years:\n",
    "                                                    disc = info[0]\n",
    "                                                    author_idx = authors_disc_idx[disc][ID_author_citant]\n",
    "                                                    references[disc][author_idx,author_age] += weight\n",
    "            #dist_time.append(time.time()-art_start)\n",
    "            #art_id.append(art_citant)                                                     \n",
    "        if count % 1000 == 1 :\n",
    "            elapsed_time = time.time() - start_time\n",
    "            elapsed_time_h = np.round(elapsed_time/3600,2)\n",
    "            time_per_art = elapsed_time/count\n",
    "            time_left_h = np.round(time_per_art*(total_iterations-count)/3600,2)\n",
    "            perc = np.round(count/total_iterations*100,3)\n",
    "            f.write('Progress: {} articles, {}%, Time since start: {}, Time left: {}\\n'.format(count,perc,elapsed_time_h,time_left_h))    \n",
    "            f.flush()\n",
    "    for disc in list_disciplines:\n",
    "        with open('{}/arrays/citations_{}_{}_network_array_norm.npz'.format(path,type_cit,disc),'wb') as f2:\n",
    "            sparse.save_npz(f2,sparse.csr_matrix(citations[disc]))\n",
    "        with open('{}/arrays/references_{}_{}_network_array_norm.npz'.format(path,type_cit,disc),'wb') as f2:\n",
    "            sparse.save_npz(f2,sparse.csr_matrix(references[disc]))"
   ]
  },
  {
   "cell_type": "markdown",
   "metadata": {},
   "source": [
    "### Author based"
   ]
  },
  {
   "cell_type": "code",
   "execution_count": null,
   "metadata": {
    "collapsed": true
   },
   "outputs": [],
   "source": [
    "f = open(path+'progress.txt','w')\n",
    "count = 0\n",
    "start_time = time.time()\n",
    "\n",
    "for type_cit in types_cit:\n",
    "    rm_time = time.time()\n",
    "    references = {d:sparse.lil_matrix((len(authors_disc_idx[d]),nb_years)) for d in list_disciplines}\n",
    "    citations = {d:sparse.lil_matrix((len(authors_disc_idx[d]),nb_years)) for d in list_disciplines}\n",
    "    start_time = start_time + time.time() - rm_time\n",
    "    for i in range(nb_authors):\n",
    "    \n",
    "    for i in range(nb_citants):\n",
    "        count += 1\n",
    "        art_citant = citants[idx[i]]\n",
    "        year_citant = articles[art_citant]\n",
    "        if year_citant >= min_year and year_citant < max_year:\n",
    "            art_start = time.time()\n",
    "            weight = weight_citant[year_citant]\n",
    "            if art_citant in dict_cluster_art:\n",
    "                authors_citant = set(dict_cluster_art[art_citant])\n",
    "                if len(authors_citant) < max_aut:\n",
    "                    networks_citant = {}\n",
    "                    for ID_author_citant in authors_citant:\n",
    "                        if ID_author_citant in authors_network:\n",
    "                            network = authors_network[ID_author_citant]\n",
    "                            idx_net = np.where(network[1,:]<=year_citant)[0]\n",
    "                            network = set(network[0,idx_net])\n",
    "                            networks_citant[ID_author_citant] = network\n",
    "\n",
    "                    refs_citant = set(dict_citant[art_citant])\n",
    "                    for ref in refs_citant:\n",
    "                        if ref in dict_cluster_art:\n",
    "                            authors_cite = set(dict_cluster_art[ref])\n",
    "                            int_authors = authors_cite.intersection(authors_citant)\n",
    "                            if len(int_authors) == 0:\n",
    "                                networks_cite = {}\n",
    "                                for ID_author_cite in authors_cite:\n",
    "                                    if ID_author_cite in authors_network:\n",
    "                                        network = authors_network[ID_author_cite]\n",
    "                                        idx_net = np.where(network[1,:]<=year_citant)[0]\n",
    "                                        network = set(network[0,idx_net])\n",
    "                                        networks_cite[ID_author_cite] = network\n",
    "\n",
    "                                for ID_author_cite in authors_cite:\n",
    "                                    if ID_author_cite in authors_network:\n",
    "                                        if len(authors_citant.intersection(networks_cite[ID_author_cite])) > 0:\n",
    "                                            if type_cit == 'self':\n",
    "                                                info = authors_info[ID_author_cite]\n",
    "                                                author_age = year_citant - info[1]\n",
    "                                                if author_age < nb_years:\n",
    "                                                    disc = info[0]\n",
    "                                                    author_idx = authors_disc_idx[disc][ID_author_cite]\n",
    "                                                    citations[disc][author_idx,author_age] += weight\n",
    "\n",
    "                                for ID_author_citant in authors_citant:\n",
    "                                    if ID_author_citant in authors_network:\n",
    "                                        if len(authors_citant.intersection(networks_citant[ID_author_citant])) > 0:\n",
    "                                            if type_cit == 'self':\n",
    "                                                info = authors_info[ID_author_citant]\n",
    "                                                author_age = year_citant - info[1]\n",
    "                                                if author_age < nb_years:\n",
    "                                                    disc = info[0]\n",
    "                                                    author_idx = authors_disc_idx[disc][ID_author_citant]\n",
    "                                                    references[disc][author_idx,author_age] += weight\n",
    "            #dist_time.append(time.time()-art_start)\n",
    "            #art_id.append(art_citant)                                                     \n",
    "        if count % 1000 == 1 :\n",
    "            elapsed_time = time.time() - start_time\n",
    "            elapsed_time_h = np.round(elapsed_time/3600,2)\n",
    "            time_per_art = elapsed_time/count\n",
    "            time_left_h = np.round(time_per_art*(total_iterations-count)/3600,2)\n",
    "            perc = np.round(count/total_iterations*100,3)\n",
    "            f.write('Progress: {} articles, {}%, Time since start: {}, Time left: {}\\n'.format(count,perc,elapsed_time_h,time_left_h))    \n",
    "            f.flush()\n",
    "    for disc in list_disciplines:\n",
    "        with open('{}/arrays/citations_{}_{}_network_array_norm.npz'.format(path,type_cit,disc),'wb') as f2:\n",
    "            sparse.save_npz(f2,sparse.csr_matrix(citations[disc]))\n",
    "        with open('{}/arrays/references_{}_{}_network_array_norm.npz'.format(path,type_cit,disc),'wb') as f2:\n",
    "            sparse.save_npz(f2,sparse.csr_matrix(references[disc]))"
   ]
  },
  {
   "cell_type": "markdown",
   "metadata": {},
   "source": [
    "### Direct cits"
   ]
  },
  {
   "cell_type": "code",
   "execution_count": 44,
   "metadata": {},
   "outputs": [
    {
     "ename": "KeyboardInterrupt",
     "evalue": "",
     "output_type": "error",
     "traceback": [
      "\u001b[0;31m---------------------------------------------------------------------------\u001b[0m",
      "\u001b[0;31mKeyboardInterrupt\u001b[0m                         Traceback (most recent call last)",
      "\u001b[0;32m<ipython-input-44-7c23b06eee09>\u001b[0m in \u001b[0;36m<module>\u001b[0;34m()\u001b[0m\n\u001b[1;32m     36\u001b[0m                                     \u001b[0mnetwork\u001b[0m \u001b[0;34m=\u001b[0m \u001b[0mauthors_network\u001b[0m\u001b[0;34m[\u001b[0m\u001b[0mID_author_cite\u001b[0m\u001b[0;34m]\u001b[0m\u001b[0;34m\u001b[0m\u001b[0m\n\u001b[1;32m     37\u001b[0m                                     \u001b[0midx_net\u001b[0m \u001b[0;34m=\u001b[0m \u001b[0mnp\u001b[0m\u001b[0;34m.\u001b[0m\u001b[0mwhere\u001b[0m\u001b[0;34m(\u001b[0m\u001b[0mnetwork\u001b[0m\u001b[0;34m[\u001b[0m\u001b[0;36m1\u001b[0m\u001b[0;34m,\u001b[0m\u001b[0;34m:\u001b[0m\u001b[0;34m]\u001b[0m\u001b[0;34m<=\u001b[0m\u001b[0myear_citant\u001b[0m\u001b[0;34m)\u001b[0m\u001b[0;34m[\u001b[0m\u001b[0;36m0\u001b[0m\u001b[0;34m]\u001b[0m\u001b[0;34m\u001b[0m\u001b[0m\n\u001b[0;32m---> 38\u001b[0;31m                                     \u001b[0mnetwork\u001b[0m \u001b[0;34m=\u001b[0m \u001b[0mset\u001b[0m\u001b[0;34m(\u001b[0m\u001b[0mnetwork\u001b[0m\u001b[0;34m[\u001b[0m\u001b[0;36m0\u001b[0m\u001b[0;34m,\u001b[0m\u001b[0midx_net\u001b[0m\u001b[0;34m]\u001b[0m\u001b[0;34m)\u001b[0m\u001b[0;34m\u001b[0m\u001b[0m\n\u001b[0m\u001b[1;32m     39\u001b[0m                                     \u001b[0mnetworks_cite\u001b[0m\u001b[0;34m[\u001b[0m\u001b[0mID_author_cite\u001b[0m\u001b[0;34m]\u001b[0m \u001b[0;34m=\u001b[0m \u001b[0mnetwork\u001b[0m\u001b[0;34m\u001b[0m\u001b[0m\n\u001b[1;32m     40\u001b[0m \u001b[0;34m\u001b[0m\u001b[0m\n",
      "\u001b[0;31mKeyboardInterrupt\u001b[0m: "
     ]
    }
   ],
   "source": [
    "f = open(path+'progress.txt','w')\n",
    "count = 0\n",
    "start_time = time.time()\n",
    "for type_cit in types_cit:\n",
    "    rm_time = time.time()\n",
    "    references = {d:sparse.lil_matrix((len(authors_disc_idx[d]),nb_years)) for d in list_disciplines}\n",
    "    citations = {d:sparse.lil_matrix((len(authors_disc_idx[d]),nb_years)) for d in list_disciplines}\n",
    "    start_time = start_time + time.time() - rm_time\n",
    "    for i in range(nb_citants):\n",
    "        count += 1\n",
    "        art_citant = citants[idx[i]]\n",
    "        year_citant = articles[art_citant]\n",
    "        if year_citant >= min_year and year_citant < max_year:\n",
    "            art_start = time.time()\n",
    "            \n",
    "            weight = weight_citant[year_citant]\n",
    "            if art_citant in dict_cluster_art:\n",
    "                authors_citant = set(dict_cluster_art[art_citant])\n",
    "                if len(authors_citant) < max_citant:\n",
    "                    networks_citant = {}\n",
    "                    for ID_author_citant in authors_citant:\n",
    "                        if ID_author_citant in authors_network:\n",
    "                            network = authors_network[ID_author_citant]\n",
    "                            idx_net = np.where(network[1,:]<=year_citant)[0]\n",
    "                            network = set(network[0,idx_net])\n",
    "                            networks_citant[ID_author_citant] = network\n",
    "\n",
    "                    refs_citant = set(dict_citant[art_citant])\n",
    "                    for ref in refs_citant:\n",
    "                        if ref in dict_cluster_art:\n",
    "                            authors_cite = set(dict_cluster_art[ref])\n",
    "                            int_authors = authors_cite.intersection(authors_citant)\n",
    "                            if len(int_authors) == 0:\n",
    "                                networks_cite = {}\n",
    "                                for ID_author_cite in authors_cite:\n",
    "                                    if ID_author_cite in authors_network:\n",
    "                                        network = authors_network[ID_author_cite]\n",
    "                                        idx_net = np.where(network[1,:]<=year_citant)[0]\n",
    "                                        network = set(network[0,idx_net])\n",
    "                                        networks_cite[ID_author_cite] = network\n",
    "\n",
    "                                for ID_author_cite in authors_cite:\n",
    "                                    if ID_author_cite in authors_network:\n",
    "                                        if len(authors_citant.intersection(networks_cite[ID_author_cite])) > 0:\n",
    "                                            if type_cit == 'self':\n",
    "                                                info = authors_info[ID_author_cite]\n",
    "                                                author_age = year_citant - info[1]\n",
    "                                                if author_age < nb_years:\n",
    "                                                    disc = info[0]\n",
    "                                                    author_idx = authors_disc_idx[disc][ID_author_cite]\n",
    "                                                    citations[disc][author_idx,author_age] += weight\n",
    "\n",
    "                                for ID_author_citant in authors_citant:\n",
    "                                    if ID_author_citant in authors_network:\n",
    "                                        if len(authors_citant.intersection(networks_citant[ID_author_citant])) > 0:\n",
    "                                            if type_cit == 'self':\n",
    "                                                info = authors_info[ID_author_citant]\n",
    "                                                author_age = year_citant - info[1]\n",
    "                                                if author_age < nb_years:\n",
    "                                                    disc = info[0]\n",
    "                                                    author_idx = authors_disc_idx[disc][ID_author_citant]\n",
    "                                                    references[disc][author_idx,author_age] += weight\n",
    "            #dist_time.append(time.time()-art_start)\n",
    "            #art_id.append(art_citant)                                                     \n",
    "        if count % 1000 == 1 :\n",
    "            elapsed_time = time.time() - start_time\n",
    "            elapsed_time_h = np.round(elapsed_time/3600,2)\n",
    "            time_per_art = elapsed_time/count\n",
    "            time_left_h = np.round(time_per_art*(total_iterations-count)/3600,2)\n",
    "            perc = np.round(count/total_iterations*100,3)\n",
    "            f.write('Progress: {} articles, {}%, Time since start: {}, Time left: {}\\n'.format(count,perc,elapsed_time_h,time_left_h))    \n",
    "            f.flush()\n",
    "    for disc in list_disciplines:\n",
    "        with open('{}/arrays/citations_{}_{}_network_array_norm.npz'.format(path,type_cit,disc),'wb') as f2:\n",
    "            sparse.save_npz(f2,sparse.csr_matrix(citations[disc]))\n",
    "        with open('{}/arrays/references_{}_{}_network_array_norm.npz'.format(path,type_cit,disc),'wb') as f2:\n",
    "            sparse.save_npz(f2,sparse.csr_matrix(references[disc]))"
   ]
  },
  {
   "cell_type": "code",
   "execution_count": 14,
   "metadata": {
    "collapsed": true
   },
   "outputs": [],
   "source": [
    "%load_ext cython"
   ]
  },
  {
   "cell_type": "markdown",
   "metadata": {},
   "source": [
    "### cython"
   ]
  },
  {
   "cell_type": "code",
   "execution_count": 21,
   "metadata": {
    "collapsed": true
   },
   "outputs": [],
   "source": [
    "%load_ext Cython"
   ]
  },
  {
   "cell_type": "code",
   "execution_count": 25,
   "metadata": {},
   "outputs": [
    {
     "ename": "OSError",
     "evalue": "[Errno 12] Cannot allocate memory",
     "output_type": "error",
     "traceback": [
      "\u001b[0;31m---------------------------------------------------------------------------\u001b[0m",
      "\u001b[0;31mOSError\u001b[0m                                   Traceback (most recent call last)",
      "\u001b[0;32m<ipython-input-25-9700ff150fac>\u001b[0m in \u001b[0;36m<module>\u001b[0;34m()\u001b[0m\n\u001b[0;32m----> 1\u001b[0;31m \u001b[0mget_ipython\u001b[0m\u001b[0;34m(\u001b[0m\u001b[0;34m)\u001b[0m\u001b[0;34m.\u001b[0m\u001b[0mrun_cell_magic\u001b[0m\u001b[0;34m(\u001b[0m\u001b[0;34m'cython'\u001b[0m\u001b[0;34m,\u001b[0m \u001b[0;34m''\u001b[0m\u001b[0;34m,\u001b[0m \u001b[0;34m\"import numpy as np\\n\\nimport time\\nfrom scipy import sparse\\n\\ndef computeOverlap(set testSet, set targetSets):\\n    cdef list obsOverlaps  = []\\n    cdef int i, N\\n    cdef set overlap\\n    N = len(targetSets)\\n    for i in range(N):\\n        overlap = testSet & targetSets[i]\\n        if len(overlap) <= 1:\\n            obsOverlaps.append(0)\\n        else:\\n            obsOverlaps.append(len(overlap))\\n    return obsOverlaps\\n\\ndef create_network(path,types_cit,authors_disc_idx,authors_info,list list_disciplines,dict_citant,articles,\\n                  int min_year,int max_year,int nb_years,weight_citant,dict_cluster_art,authors_network):\\n    \\n    citants = list(dict_citant.keys())\\n    nb_citants = len(citants)\\n    idx = np.arange(nb_citants)\\n    np.random.shuffle(idx)\\n    types_cit = ['co','self']\\n    nb_types = len(types_cit)\\n    total_iterations = nb_citants*nb_types\\n    \\n    f = open(path+'progress.txt','w')\\n    count = 0\\n    start_time = time.time()\\n    for type_cit in types_cit:\\n        rm_time = time.time()\\n        references = {d:sparse.lil_matrix((len(authors_disc_idx[d]),nb_years)) for d in list_disciplines}\\n        citations = {d:sparse.lil_matrix((len(authors_disc_idx[d]),nb_years)) for d in list_disciplines}\\n        start_time = start_time + time.time() - rm_time\\n        for i in range(nb_citants):\\n            count += 1\\n            art_citant = citants[idx[i]]\\n            year_citant = articles[art_citant]\\n            if year_citant >= min_year and year_citant < max_year:\\n                weight = weight_citant[year_citant]\\n                if art_citant in dict_cluster_art:\\n                    authors_citant = set(dict_cluster_art[art_citant])\\n                    networks_citant = {}\\n                    full_network_citant = set()\\n                    for ID_author_citant in authors_citant:\\n                        if ID_author_citant in authors_network:\\n                            network = authors_network[ID_author_citant]\\n                            idx_net = np.where(network[1,:]<=year_citant)[0]\\n                            network = set(network[0,idx_net])\\n                            networks_citant[ID_author_citant] = network\\n                            full_network_citant = full_network_citant|network\\n                    refs_citant = set(dict_citant[art_citant])\\n                    for ref in refs_citant:\\n                        if ref in dict_cluster_art:\\n                            authors_cite = set(dict_cluster_art[ref])\\n                            int_authors = authors_cite.intersection(authors_citant)\\n                            if len(int_authors) == 0:\\n                                networks_cite = {}\\n                                full_network_cite = set()\\n                                for ID_author_cite in authors_cite:\\n                                    if ID_author_cite in authors_network:\\n                                        network = authors_network[ID_author_cite]\\n                                        idx_net = np.where(network[1,:]<=year_citant)[0]\\n                                        network = set(network[0,idx_net])\\n                                        networks_cite[ID_author_cite] = network\\n                                        full_network_cite = full_network_cite|network\\n\\n                                for ID_author_cite in authors_cite:\\n                                    if ID_author_cite in authors_network:\\n                                        if len(authors_citant.intersection(networks_cite[ID_author_cite])) > 0:\\n                                            if type_cit == 'self':\\n                                                info = authors_info[ID_author_cite]\\n                                                author_age = year_citant - info[1]\\n                                                if author_age < nb_years:\\n                                                    disc = info[0]\\n                                                    author_idx = authors_disc_idx[disc][ID_author_cite]\\n                                                    citations[disc][author_idx,author_age] += weight\\n                                        else:\\n                                            if type_cit == 'co':\\n                                                if len(authors_citant.intersection(full_network_cite)) > 0:\\n                                                    info = authors_info[ID_author_cite]\\n                                                    author_age = year_citant - info[1]\\n                                                    if author_age < 0:\\n                                                        author_age = 0\\n                                                    if author_age < nb_years:\\n                                                        disc = info[0]\\n                                                        author_idx = authors_disc_idx[disc][ID_author_cite]\\n                                                        citations[disc][author_idx,author_age] += weight\\n\\n                                for ID_author_citant in authors_citant:\\n                                    if ID_author_citant in authors_network:\\n                                        if len(authors_citant.intersection(networks_citant[ID_author_citant])) > 0:\\n                                            if type_cit == 'self':\\n                                                info = authors_info[ID_author_citant]\\n                                                author_age = year_citant - info[1]\\n                                                if author_age < nb_years:\\n                                                    disc = info[0]\\n                                                    author_idx = authors_disc_idx[disc][ID_author_citant]\\n                                                    references[disc][author_idx,author_age] += weight\\n                                        else:\\n                                            if type_cit == 'co':\\n                                                if len(authors_citant.intersection(full_network_citant)) > 0:\\n                                                    info = authors_info[ID_author_citant]\\n                                                    author_age = year_citant - info[1]\\n                                                    if author_age < nb_years:\\n                                                        disc = info[0]\\n                                                        author_idx = authors_disc_idx[disc][ID_author_citant]\\n                                                        references[disc][author_idx,author_age] += weight                                    \\n            if count % 1000 == 1 :\\n                elapsed_time = time.time() - start_time\\n                elapsed_time_h = np.round(elapsed_time/3600,2)\\n                time_per_art = elapsed_time/count\\n                time_left_h = np.round(time_per_art*(total_iterations-count)/3600,2)\\n                perc = np.round(count/total_iterations*100,3)\\n                f.write('Progress: {} articles, {}%, Time since start: {}, Time left: {}\\\\n'.format(count,perc,elapsed_time_h,time_left_h))    \\n                f.flush()\\n        for disc in list_disciplines:\\n            with open('{}/arrays/citations_{}_{}_network_array_norm.npz'.format(path,type_cit,disc),'wb') as f2:\\n                sparse.save_npz(f2,sparse.csr_matrix(citations[disc]))\\n            with open('{}/arrays/references_{}_{}_network_array_norm.npz'.format(path,type_cit,disc),'wb') as f2:\\n                sparse.save_npz(f2,sparse.csr_matrix(references[disc]))\"\u001b[0m\u001b[0;34m)\u001b[0m\u001b[0;34m\u001b[0m\u001b[0m\n\u001b[0m",
      "\u001b[0;32m~/anaconda3/lib/python3.6/site-packages/IPython/core/interactiveshell.py\u001b[0m in \u001b[0;36mrun_cell_magic\u001b[0;34m(self, magic_name, line, cell)\u001b[0m\n\u001b[1;32m   2101\u001b[0m             \u001b[0mmagic_arg_s\u001b[0m \u001b[0;34m=\u001b[0m \u001b[0mself\u001b[0m\u001b[0;34m.\u001b[0m\u001b[0mvar_expand\u001b[0m\u001b[0;34m(\u001b[0m\u001b[0mline\u001b[0m\u001b[0;34m,\u001b[0m \u001b[0mstack_depth\u001b[0m\u001b[0;34m)\u001b[0m\u001b[0;34m\u001b[0m\u001b[0m\n\u001b[1;32m   2102\u001b[0m             \u001b[0;32mwith\u001b[0m \u001b[0mself\u001b[0m\u001b[0;34m.\u001b[0m\u001b[0mbuiltin_trap\u001b[0m\u001b[0;34m:\u001b[0m\u001b[0;34m\u001b[0m\u001b[0m\n\u001b[0;32m-> 2103\u001b[0;31m                 \u001b[0mresult\u001b[0m \u001b[0;34m=\u001b[0m \u001b[0mfn\u001b[0m\u001b[0;34m(\u001b[0m\u001b[0mmagic_arg_s\u001b[0m\u001b[0;34m,\u001b[0m \u001b[0mcell\u001b[0m\u001b[0;34m)\u001b[0m\u001b[0;34m\u001b[0m\u001b[0m\n\u001b[0m\u001b[1;32m   2104\u001b[0m             \u001b[0;32mreturn\u001b[0m \u001b[0mresult\u001b[0m\u001b[0;34m\u001b[0m\u001b[0m\n\u001b[1;32m   2105\u001b[0m \u001b[0;34m\u001b[0m\u001b[0m\n",
      "\u001b[0;32m<decorator-gen-127>\u001b[0m in \u001b[0;36mcython\u001b[0;34m(self, line, cell)\u001b[0m\n",
      "\u001b[0;32m~/anaconda3/lib/python3.6/site-packages/IPython/core/magic.py\u001b[0m in \u001b[0;36m<lambda>\u001b[0;34m(f, *a, **k)\u001b[0m\n\u001b[1;32m    185\u001b[0m     \u001b[0;31m# but it's overkill for just that one bit of state.\u001b[0m\u001b[0;34m\u001b[0m\u001b[0;34m\u001b[0m\u001b[0m\n\u001b[1;32m    186\u001b[0m     \u001b[0;32mdef\u001b[0m \u001b[0mmagic_deco\u001b[0m\u001b[0;34m(\u001b[0m\u001b[0marg\u001b[0m\u001b[0;34m)\u001b[0m\u001b[0;34m:\u001b[0m\u001b[0;34m\u001b[0m\u001b[0m\n\u001b[0;32m--> 187\u001b[0;31m         \u001b[0mcall\u001b[0m \u001b[0;34m=\u001b[0m \u001b[0;32mlambda\u001b[0m \u001b[0mf\u001b[0m\u001b[0;34m,\u001b[0m \u001b[0;34m*\u001b[0m\u001b[0ma\u001b[0m\u001b[0;34m,\u001b[0m \u001b[0;34m**\u001b[0m\u001b[0mk\u001b[0m\u001b[0;34m:\u001b[0m \u001b[0mf\u001b[0m\u001b[0;34m(\u001b[0m\u001b[0;34m*\u001b[0m\u001b[0ma\u001b[0m\u001b[0;34m,\u001b[0m \u001b[0;34m**\u001b[0m\u001b[0mk\u001b[0m\u001b[0;34m)\u001b[0m\u001b[0;34m\u001b[0m\u001b[0m\n\u001b[0m\u001b[1;32m    188\u001b[0m \u001b[0;34m\u001b[0m\u001b[0m\n\u001b[1;32m    189\u001b[0m         \u001b[0;32mif\u001b[0m \u001b[0mcallable\u001b[0m\u001b[0;34m(\u001b[0m\u001b[0marg\u001b[0m\u001b[0;34m)\u001b[0m\u001b[0;34m:\u001b[0m\u001b[0;34m\u001b[0m\u001b[0m\n",
      "\u001b[0;32m~/anaconda3/lib/python3.6/site-packages/Cython/Build/IpythonMagic.py\u001b[0m in \u001b[0;36mcython\u001b[0;34m(self, line, cell)\u001b[0m\n\u001b[1;32m    304\u001b[0m             \u001b[0mbuild_extension\u001b[0m\u001b[0;34m.\u001b[0m\u001b[0mbuild_temp\u001b[0m \u001b[0;34m=\u001b[0m \u001b[0mos\u001b[0m\u001b[0;34m.\u001b[0m\u001b[0mpath\u001b[0m\u001b[0;34m.\u001b[0m\u001b[0mdirname\u001b[0m\u001b[0;34m(\u001b[0m\u001b[0mpyx_file\u001b[0m\u001b[0;34m)\u001b[0m\u001b[0;34m\u001b[0m\u001b[0m\n\u001b[1;32m    305\u001b[0m             \u001b[0mbuild_extension\u001b[0m\u001b[0;34m.\u001b[0m\u001b[0mbuild_lib\u001b[0m \u001b[0;34m=\u001b[0m \u001b[0mlib_dir\u001b[0m\u001b[0;34m\u001b[0m\u001b[0m\n\u001b[0;32m--> 306\u001b[0;31m             \u001b[0mbuild_extension\u001b[0m\u001b[0;34m.\u001b[0m\u001b[0mrun\u001b[0m\u001b[0;34m(\u001b[0m\u001b[0;34m)\u001b[0m\u001b[0;34m\u001b[0m\u001b[0m\n\u001b[0m\u001b[1;32m    307\u001b[0m             \u001b[0mself\u001b[0m\u001b[0;34m.\u001b[0m\u001b[0m_code_cache\u001b[0m\u001b[0;34m[\u001b[0m\u001b[0mkey\u001b[0m\u001b[0;34m]\u001b[0m \u001b[0;34m=\u001b[0m \u001b[0mmodule_name\u001b[0m\u001b[0;34m\u001b[0m\u001b[0m\n\u001b[1;32m    308\u001b[0m \u001b[0;34m\u001b[0m\u001b[0m\n",
      "\u001b[0;32m~/anaconda3/lib/python3.6/distutils/command/build_ext.py\u001b[0m in \u001b[0;36mrun\u001b[0;34m(self)\u001b[0m\n\u001b[1;32m    337\u001b[0m \u001b[0;34m\u001b[0m\u001b[0m\n\u001b[1;32m    338\u001b[0m         \u001b[0;31m# Now actually compile and link everything.\u001b[0m\u001b[0;34m\u001b[0m\u001b[0;34m\u001b[0m\u001b[0m\n\u001b[0;32m--> 339\u001b[0;31m         \u001b[0mself\u001b[0m\u001b[0;34m.\u001b[0m\u001b[0mbuild_extensions\u001b[0m\u001b[0;34m(\u001b[0m\u001b[0;34m)\u001b[0m\u001b[0;34m\u001b[0m\u001b[0m\n\u001b[0m\u001b[1;32m    340\u001b[0m \u001b[0;34m\u001b[0m\u001b[0m\n\u001b[1;32m    341\u001b[0m     \u001b[0;32mdef\u001b[0m \u001b[0mcheck_extensions_list\u001b[0m\u001b[0;34m(\u001b[0m\u001b[0mself\u001b[0m\u001b[0;34m,\u001b[0m \u001b[0mextensions\u001b[0m\u001b[0;34m)\u001b[0m\u001b[0;34m:\u001b[0m\u001b[0;34m\u001b[0m\u001b[0m\n",
      "\u001b[0;32m~/anaconda3/lib/python3.6/distutils/command/build_ext.py\u001b[0m in \u001b[0;36mbuild_extensions\u001b[0;34m(self)\u001b[0m\n\u001b[1;32m    446\u001b[0m             \u001b[0mself\u001b[0m\u001b[0;34m.\u001b[0m\u001b[0m_build_extensions_parallel\u001b[0m\u001b[0;34m(\u001b[0m\u001b[0;34m)\u001b[0m\u001b[0;34m\u001b[0m\u001b[0m\n\u001b[1;32m    447\u001b[0m         \u001b[0;32melse\u001b[0m\u001b[0;34m:\u001b[0m\u001b[0;34m\u001b[0m\u001b[0m\n\u001b[0;32m--> 448\u001b[0;31m             \u001b[0mself\u001b[0m\u001b[0;34m.\u001b[0m\u001b[0m_build_extensions_serial\u001b[0m\u001b[0;34m(\u001b[0m\u001b[0;34m)\u001b[0m\u001b[0;34m\u001b[0m\u001b[0m\n\u001b[0m\u001b[1;32m    449\u001b[0m \u001b[0;34m\u001b[0m\u001b[0m\n\u001b[1;32m    450\u001b[0m     \u001b[0;32mdef\u001b[0m \u001b[0m_build_extensions_parallel\u001b[0m\u001b[0;34m(\u001b[0m\u001b[0mself\u001b[0m\u001b[0;34m)\u001b[0m\u001b[0;34m:\u001b[0m\u001b[0;34m\u001b[0m\u001b[0m\n",
      "\u001b[0;32m~/anaconda3/lib/python3.6/distutils/command/build_ext.py\u001b[0m in \u001b[0;36m_build_extensions_serial\u001b[0;34m(self)\u001b[0m\n\u001b[1;32m    471\u001b[0m         \u001b[0;32mfor\u001b[0m \u001b[0mext\u001b[0m \u001b[0;32min\u001b[0m \u001b[0mself\u001b[0m\u001b[0;34m.\u001b[0m\u001b[0mextensions\u001b[0m\u001b[0;34m:\u001b[0m\u001b[0;34m\u001b[0m\u001b[0m\n\u001b[1;32m    472\u001b[0m             \u001b[0;32mwith\u001b[0m \u001b[0mself\u001b[0m\u001b[0;34m.\u001b[0m\u001b[0m_filter_build_errors\u001b[0m\u001b[0;34m(\u001b[0m\u001b[0mext\u001b[0m\u001b[0;34m)\u001b[0m\u001b[0;34m:\u001b[0m\u001b[0;34m\u001b[0m\u001b[0m\n\u001b[0;32m--> 473\u001b[0;31m                 \u001b[0mself\u001b[0m\u001b[0;34m.\u001b[0m\u001b[0mbuild_extension\u001b[0m\u001b[0;34m(\u001b[0m\u001b[0mext\u001b[0m\u001b[0;34m)\u001b[0m\u001b[0;34m\u001b[0m\u001b[0m\n\u001b[0m\u001b[1;32m    474\u001b[0m \u001b[0;34m\u001b[0m\u001b[0m\n\u001b[1;32m    475\u001b[0m     \u001b[0;34m@\u001b[0m\u001b[0mcontextlib\u001b[0m\u001b[0;34m.\u001b[0m\u001b[0mcontextmanager\u001b[0m\u001b[0;34m\u001b[0m\u001b[0m\n",
      "\u001b[0;32m~/anaconda3/lib/python3.6/distutils/command/build_ext.py\u001b[0m in \u001b[0;36mbuild_extension\u001b[0;34m(self, ext)\u001b[0m\n\u001b[1;32m    531\u001b[0m                                          \u001b[0mdebug\u001b[0m\u001b[0;34m=\u001b[0m\u001b[0mself\u001b[0m\u001b[0;34m.\u001b[0m\u001b[0mdebug\u001b[0m\u001b[0;34m,\u001b[0m\u001b[0;34m\u001b[0m\u001b[0m\n\u001b[1;32m    532\u001b[0m                                          \u001b[0mextra_postargs\u001b[0m\u001b[0;34m=\u001b[0m\u001b[0mextra_args\u001b[0m\u001b[0;34m,\u001b[0m\u001b[0;34m\u001b[0m\u001b[0m\n\u001b[0;32m--> 533\u001b[0;31m                                          depends=ext.depends)\n\u001b[0m\u001b[1;32m    534\u001b[0m \u001b[0;34m\u001b[0m\u001b[0m\n\u001b[1;32m    535\u001b[0m         \u001b[0;31m# XXX outdated variable, kept here in case third-part code\u001b[0m\u001b[0;34m\u001b[0m\u001b[0;34m\u001b[0m\u001b[0m\n",
      "\u001b[0;32m~/anaconda3/lib/python3.6/distutils/ccompiler.py\u001b[0m in \u001b[0;36mcompile\u001b[0;34m(self, sources, output_dir, macros, include_dirs, debug, extra_preargs, extra_postargs, depends)\u001b[0m\n\u001b[1;32m    572\u001b[0m             \u001b[0;32mexcept\u001b[0m \u001b[0mKeyError\u001b[0m\u001b[0;34m:\u001b[0m\u001b[0;34m\u001b[0m\u001b[0m\n\u001b[1;32m    573\u001b[0m                 \u001b[0;32mcontinue\u001b[0m\u001b[0;34m\u001b[0m\u001b[0m\n\u001b[0;32m--> 574\u001b[0;31m             \u001b[0mself\u001b[0m\u001b[0;34m.\u001b[0m\u001b[0m_compile\u001b[0m\u001b[0;34m(\u001b[0m\u001b[0mobj\u001b[0m\u001b[0;34m,\u001b[0m \u001b[0msrc\u001b[0m\u001b[0;34m,\u001b[0m \u001b[0mext\u001b[0m\u001b[0;34m,\u001b[0m \u001b[0mcc_args\u001b[0m\u001b[0;34m,\u001b[0m \u001b[0mextra_postargs\u001b[0m\u001b[0;34m,\u001b[0m \u001b[0mpp_opts\u001b[0m\u001b[0;34m)\u001b[0m\u001b[0;34m\u001b[0m\u001b[0m\n\u001b[0m\u001b[1;32m    575\u001b[0m \u001b[0;34m\u001b[0m\u001b[0m\n\u001b[1;32m    576\u001b[0m         \u001b[0;31m# Return *all* object filenames, not just the ones we just built.\u001b[0m\u001b[0;34m\u001b[0m\u001b[0;34m\u001b[0m\u001b[0m\n",
      "\u001b[0;32m~/anaconda3/lib/python3.6/distutils/unixccompiler.py\u001b[0m in \u001b[0;36m_compile\u001b[0;34m(self, obj, src, ext, cc_args, extra_postargs, pp_opts)\u001b[0m\n\u001b[1;32m    116\u001b[0m         \u001b[0;32mtry\u001b[0m\u001b[0;34m:\u001b[0m\u001b[0;34m\u001b[0m\u001b[0m\n\u001b[1;32m    117\u001b[0m             self.spawn(compiler_so + cc_args + [src, '-o', obj] +\n\u001b[0;32m--> 118\u001b[0;31m                        extra_postargs)\n\u001b[0m\u001b[1;32m    119\u001b[0m         \u001b[0;32mexcept\u001b[0m \u001b[0mDistutilsExecError\u001b[0m \u001b[0;32mas\u001b[0m \u001b[0mmsg\u001b[0m\u001b[0;34m:\u001b[0m\u001b[0;34m\u001b[0m\u001b[0m\n\u001b[1;32m    120\u001b[0m             \u001b[0;32mraise\u001b[0m \u001b[0mCompileError\u001b[0m\u001b[0;34m(\u001b[0m\u001b[0mmsg\u001b[0m\u001b[0;34m)\u001b[0m\u001b[0;34m\u001b[0m\u001b[0m\n",
      "\u001b[0;32m~/anaconda3/lib/python3.6/distutils/ccompiler.py\u001b[0m in \u001b[0;36mspawn\u001b[0;34m(self, cmd)\u001b[0m\n\u001b[1;32m    907\u001b[0m \u001b[0;34m\u001b[0m\u001b[0m\n\u001b[1;32m    908\u001b[0m     \u001b[0;32mdef\u001b[0m \u001b[0mspawn\u001b[0m\u001b[0;34m(\u001b[0m\u001b[0mself\u001b[0m\u001b[0;34m,\u001b[0m \u001b[0mcmd\u001b[0m\u001b[0;34m)\u001b[0m\u001b[0;34m:\u001b[0m\u001b[0;34m\u001b[0m\u001b[0m\n\u001b[0;32m--> 909\u001b[0;31m         \u001b[0mspawn\u001b[0m\u001b[0;34m(\u001b[0m\u001b[0mcmd\u001b[0m\u001b[0;34m,\u001b[0m \u001b[0mdry_run\u001b[0m\u001b[0;34m=\u001b[0m\u001b[0mself\u001b[0m\u001b[0;34m.\u001b[0m\u001b[0mdry_run\u001b[0m\u001b[0;34m)\u001b[0m\u001b[0;34m\u001b[0m\u001b[0m\n\u001b[0m\u001b[1;32m    910\u001b[0m \u001b[0;34m\u001b[0m\u001b[0m\n\u001b[1;32m    911\u001b[0m     \u001b[0;32mdef\u001b[0m \u001b[0mmove_file\u001b[0m\u001b[0;34m(\u001b[0m\u001b[0mself\u001b[0m\u001b[0;34m,\u001b[0m \u001b[0msrc\u001b[0m\u001b[0;34m,\u001b[0m \u001b[0mdst\u001b[0m\u001b[0;34m)\u001b[0m\u001b[0;34m:\u001b[0m\u001b[0;34m\u001b[0m\u001b[0m\n",
      "\u001b[0;32m~/anaconda3/lib/python3.6/distutils/spawn.py\u001b[0m in \u001b[0;36mspawn\u001b[0;34m(cmd, search_path, verbose, dry_run)\u001b[0m\n\u001b[1;32m     34\u001b[0m     \u001b[0mcmd\u001b[0m \u001b[0;34m=\u001b[0m \u001b[0mlist\u001b[0m\u001b[0;34m(\u001b[0m\u001b[0mcmd\u001b[0m\u001b[0;34m)\u001b[0m\u001b[0;34m\u001b[0m\u001b[0m\n\u001b[1;32m     35\u001b[0m     \u001b[0;32mif\u001b[0m \u001b[0mos\u001b[0m\u001b[0;34m.\u001b[0m\u001b[0mname\u001b[0m \u001b[0;34m==\u001b[0m \u001b[0;34m'posix'\u001b[0m\u001b[0;34m:\u001b[0m\u001b[0;34m\u001b[0m\u001b[0m\n\u001b[0;32m---> 36\u001b[0;31m         \u001b[0m_spawn_posix\u001b[0m\u001b[0;34m(\u001b[0m\u001b[0mcmd\u001b[0m\u001b[0;34m,\u001b[0m \u001b[0msearch_path\u001b[0m\u001b[0;34m,\u001b[0m \u001b[0mdry_run\u001b[0m\u001b[0;34m=\u001b[0m\u001b[0mdry_run\u001b[0m\u001b[0;34m)\u001b[0m\u001b[0;34m\u001b[0m\u001b[0m\n\u001b[0m\u001b[1;32m     37\u001b[0m     \u001b[0;32melif\u001b[0m \u001b[0mos\u001b[0m\u001b[0;34m.\u001b[0m\u001b[0mname\u001b[0m \u001b[0;34m==\u001b[0m \u001b[0;34m'nt'\u001b[0m\u001b[0;34m:\u001b[0m\u001b[0;34m\u001b[0m\u001b[0m\n\u001b[1;32m     38\u001b[0m         \u001b[0m_spawn_nt\u001b[0m\u001b[0;34m(\u001b[0m\u001b[0mcmd\u001b[0m\u001b[0;34m,\u001b[0m \u001b[0msearch_path\u001b[0m\u001b[0;34m,\u001b[0m \u001b[0mdry_run\u001b[0m\u001b[0;34m=\u001b[0m\u001b[0mdry_run\u001b[0m\u001b[0;34m)\u001b[0m\u001b[0;34m\u001b[0m\u001b[0m\n",
      "\u001b[0;32m~/anaconda3/lib/python3.6/distutils/spawn.py\u001b[0m in \u001b[0;36m_spawn_posix\u001b[0;34m(cmd, search_path, verbose, dry_run)\u001b[0m\n\u001b[1;32m    113\u001b[0m                        MACOSX_DEPLOYMENT_TARGET=cur_target)\n\u001b[1;32m    114\u001b[0m             \u001b[0mexec_fn\u001b[0m \u001b[0;34m=\u001b[0m \u001b[0msearch_path\u001b[0m \u001b[0;32mand\u001b[0m \u001b[0mos\u001b[0m\u001b[0;34m.\u001b[0m\u001b[0mexecvpe\u001b[0m \u001b[0;32mor\u001b[0m \u001b[0mos\u001b[0m\u001b[0;34m.\u001b[0m\u001b[0mexecve\u001b[0m\u001b[0;34m\u001b[0m\u001b[0m\n\u001b[0;32m--> 115\u001b[0;31m     \u001b[0mpid\u001b[0m \u001b[0;34m=\u001b[0m \u001b[0mos\u001b[0m\u001b[0;34m.\u001b[0m\u001b[0mfork\u001b[0m\u001b[0;34m(\u001b[0m\u001b[0;34m)\u001b[0m\u001b[0;34m\u001b[0m\u001b[0m\n\u001b[0m\u001b[1;32m    116\u001b[0m     \u001b[0;32mif\u001b[0m \u001b[0mpid\u001b[0m \u001b[0;34m==\u001b[0m \u001b[0;36m0\u001b[0m\u001b[0;34m:\u001b[0m \u001b[0;31m# in the child\u001b[0m\u001b[0;34m\u001b[0m\u001b[0m\n\u001b[1;32m    117\u001b[0m         \u001b[0;32mtry\u001b[0m\u001b[0;34m:\u001b[0m\u001b[0;34m\u001b[0m\u001b[0m\n",
      "\u001b[0;31mOSError\u001b[0m: [Errno 12] Cannot allocate memory"
     ]
    }
   ],
   "source": [
    "%%cython\n",
    "import numpy as np\n",
    "\n",
    "import time\n",
    "from scipy import sparse\n",
    "\n",
    "def computeOverlap(set testSet, set targetSets):\n",
    "    cdef list obsOverlaps  = []\n",
    "    cdef int i, N\n",
    "    cdef set overlap\n",
    "    N = len(targetSets)\n",
    "    for i in range(N):\n",
    "        overlap = testSet & targetSets[i]\n",
    "        if len(overlap) <= 1:\n",
    "            obsOverlaps.append(0)\n",
    "        else:\n",
    "            obsOverlaps.append(len(overlap))\n",
    "    return obsOverlaps\n",
    "\n",
    "def create_network(path,types_cit,authors_disc_idx,authors_info,list list_disciplines,dict_citant,articles,\n",
    "                  int min_year,int max_year,int nb_years,weight_citant,dict_cluster_art,authors_network):\n",
    "    \n",
    "    citants = list(dict_citant.keys())\n",
    "    nb_citants = len(citants)\n",
    "    idx = np.arange(nb_citants)\n",
    "    np.random.shuffle(idx)\n",
    "    types_cit = ['co','self']\n",
    "    nb_types = len(types_cit)\n",
    "    total_iterations = nb_citants*nb_types\n",
    "    \n",
    "    f = open(path+'progress.txt','w')\n",
    "    count = 0\n",
    "    start_time = time.time()\n",
    "    for type_cit in types_cit:\n",
    "        rm_time = time.time()\n",
    "        references = {d:sparse.lil_matrix((len(authors_disc_idx[d]),nb_years)) for d in list_disciplines}\n",
    "        citations = {d:sparse.lil_matrix((len(authors_disc_idx[d]),nb_years)) for d in list_disciplines}\n",
    "        start_time = start_time + time.time() - rm_time\n",
    "        for i in range(nb_citants):\n",
    "            count += 1\n",
    "            art_citant = citants[idx[i]]\n",
    "            year_citant = articles[art_citant]\n",
    "            if year_citant >= min_year and year_citant < max_year:\n",
    "                weight = weight_citant[year_citant]\n",
    "                if art_citant in dict_cluster_art:\n",
    "                    authors_citant = set(dict_cluster_art[art_citant])\n",
    "                    networks_citant = {}\n",
    "                    full_network_citant = set()\n",
    "                    for ID_author_citant in authors_citant:\n",
    "                        if ID_author_citant in authors_network:\n",
    "                            network = authors_network[ID_author_citant]\n",
    "                            idx_net = np.where(network[1,:]<=year_citant)[0]\n",
    "                            network = set(network[0,idx_net])\n",
    "                            networks_citant[ID_author_citant] = network\n",
    "                            full_network_citant = full_network_citant|network\n",
    "                    refs_citant = set(dict_citant[art_citant])\n",
    "                    for ref in refs_citant:\n",
    "                        if ref in dict_cluster_art:\n",
    "                            authors_cite = set(dict_cluster_art[ref])\n",
    "                            int_authors = authors_cite.intersection(authors_citant)\n",
    "                            if len(int_authors) == 0:\n",
    "                                networks_cite = {}\n",
    "                                full_network_cite = set()\n",
    "                                for ID_author_cite in authors_cite:\n",
    "                                    if ID_author_cite in authors_network:\n",
    "                                        network = authors_network[ID_author_cite]\n",
    "                                        idx_net = np.where(network[1,:]<=year_citant)[0]\n",
    "                                        network = set(network[0,idx_net])\n",
    "                                        networks_cite[ID_author_cite] = network\n",
    "                                        full_network_cite = full_network_cite|network\n",
    "\n",
    "                                for ID_author_cite in authors_cite:\n",
    "                                    if ID_author_cite in authors_network:\n",
    "                                        if len(authors_citant.intersection(networks_cite[ID_author_cite])) > 0:\n",
    "                                            if type_cit == 'self':\n",
    "                                                info = authors_info[ID_author_cite]\n",
    "                                                author_age = year_citant - info[1]\n",
    "                                                if author_age < nb_years:\n",
    "                                                    disc = info[0]\n",
    "                                                    author_idx = authors_disc_idx[disc][ID_author_cite]\n",
    "                                                    citations[disc][author_idx,author_age] += weight\n",
    "                                        else:\n",
    "                                            if type_cit == 'co':\n",
    "                                                if len(authors_citant.intersection(full_network_cite)) > 0:\n",
    "                                                    info = authors_info[ID_author_cite]\n",
    "                                                    author_age = year_citant - info[1]\n",
    "                                                    if author_age < 0:\n",
    "                                                        author_age = 0\n",
    "                                                    if author_age < nb_years:\n",
    "                                                        disc = info[0]\n",
    "                                                        author_idx = authors_disc_idx[disc][ID_author_cite]\n",
    "                                                        citations[disc][author_idx,author_age] += weight\n",
    "\n",
    "                                for ID_author_citant in authors_citant:\n",
    "                                    if ID_author_citant in authors_network:\n",
    "                                        if len(authors_citant.intersection(networks_citant[ID_author_citant])) > 0:\n",
    "                                            if type_cit == 'self':\n",
    "                                                info = authors_info[ID_author_citant]\n",
    "                                                author_age = year_citant - info[1]\n",
    "                                                if author_age < nb_years:\n",
    "                                                    disc = info[0]\n",
    "                                                    author_idx = authors_disc_idx[disc][ID_author_citant]\n",
    "                                                    references[disc][author_idx,author_age] += weight\n",
    "                                        else:\n",
    "                                            if type_cit == 'co':\n",
    "                                                if len(authors_citant.intersection(full_network_citant)) > 0:\n",
    "                                                    info = authors_info[ID_author_citant]\n",
    "                                                    author_age = year_citant - info[1]\n",
    "                                                    if author_age < nb_years:\n",
    "                                                        disc = info[0]\n",
    "                                                        author_idx = authors_disc_idx[disc][ID_author_citant]\n",
    "                                                        references[disc][author_idx,author_age] += weight                                    \n",
    "            if count % 1000 == 1 :\n",
    "                elapsed_time = time.time() - start_time\n",
    "                elapsed_time_h = np.round(elapsed_time/3600,2)\n",
    "                time_per_art = elapsed_time/count\n",
    "                time_left_h = np.round(time_per_art*(total_iterations-count)/3600,2)\n",
    "                perc = np.round(count/total_iterations*100,3)\n",
    "                f.write('Progress: {} articles, {}%, Time since start: {}, Time left: {}\\n'.format(count,perc,elapsed_time_h,time_left_h))    \n",
    "                f.flush()\n",
    "        for disc in list_disciplines:\n",
    "            with open('{}/arrays/citations_{}_{}_network_array_norm.npz'.format(path,type_cit,disc),'wb') as f2:\n",
    "                sparse.save_npz(f2,sparse.csr_matrix(citations[disc]))\n",
    "            with open('{}/arrays/references_{}_{}_network_array_norm.npz'.format(path,type_cit,disc),'wb') as f2:\n",
    "                sparse.save_npz(f2,sparse.csr_matrix(references[disc]))"
   ]
  },
  {
   "cell_type": "code",
   "execution_count": 24,
   "metadata": {
    "collapsed": true
   },
   "outputs": [],
   "source": [
    "references = {d:sparse.lil_matrix((len(authors_disc_idx[d]),nb_years)) for d in list_disciplines}\n",
    "citations = {d:sparse.lil_matrix((len(authors_disc_idx[d]),nb_years)) for d in list_disciplines}"
   ]
  },
  {
   "cell_type": "code",
   "execution_count": 26,
   "metadata": {
    "collapsed": true
   },
   "outputs": [],
   "source": [
    "def prof_lines():\n",
    "    count = 0\n",
    "    for i in range(200):#range(nb_citants):\n",
    "        count += 1\n",
    "        art_citant = citants[idx[i]]\n",
    "        year_citant = articles[art_citant]\n",
    "        if year_citant >= min_year and year_citant < max_year:\n",
    "            weight = weight_citant[year_citant]\n",
    "            if art_citant in dict_cluster_art:\n",
    "                authors_citant = dict_cluster_art[art_citant]\n",
    "                networks_citant = {}\n",
    "                full_network_citant = np.array([])\n",
    "                for ID_author_citant in authors_citant:\n",
    "                    if ID_author_citant in authors_network:\n",
    "                        network = authors_network[ID_author_citant]\n",
    "                        idx_net = np.where(network[1,:]<=year_citant)[0]\n",
    "                        network = network[0,idx_net]\n",
    "                        networks_citant[ID_author_citant] = network\n",
    "                        full_network_citant = np.append(full_network_citant,network)\n",
    "                refs_citant = set(dict_citant[art_citant])\n",
    "                for ref in refs_citant:\n",
    "                    if ref in dict_cluster_art:\n",
    "                        authors_cite = set(dict_cluster_art[ref])\n",
    "                        int_authors = authors_cite.intersection(authors_citant)\n",
    "                        if len(int_authors) == 0:\n",
    "                            networks_cite = {}\n",
    "                            full_network_cite = np.array([])\n",
    "                            for ID_author_cite in authors_cite:\n",
    "                                if ID_author_cite in authors_network:\n",
    "                                    network = authors_network[ID_author_cite]\n",
    "                                    idx_net = np.where(network[1,:]<=year_citant)[0]\n",
    "                                    network = network[0,idx_net]\n",
    "                                    networks_cite[ID_author_cite] = network\n",
    "                                    full_network_cite = np.append(full_network_cite,network)\n",
    "\n",
    "                            for ID_author_cite in authors_cite:\n",
    "                                if ID_author_cite in authors_network:\n",
    "                                    #if np.sum(authors_citant.isin(networks_cite[ID_author_cite])) > 0:\n",
    "                                    if len(np.intersect1d(authors_citant,networks_cite[ID_author_cite])) > 0:\n",
    "                                        if type_cit == 'self':\n",
    "                                            info = authors_info[ID_author_cite]\n",
    "                                            author_age = year_citant - info[1]\n",
    "                                            if author_age < nb_years:\n",
    "                                                disc = info[0]\n",
    "                                                author_idx = authors_disc_idx[disc][ID_author_cite]\n",
    "                                                citations[disc][author_idx,author_age] += weight\n",
    "                                    else:\n",
    "                                        if type_cit == 'co':\n",
    "                                            if len(np.intersect1d(authors_citant,full_network_cite)) > 0:\n",
    "                                            #if np.sum(authors_citant.isin(full_network_cite)) > 0:\n",
    "                                                info = authors_info[ID_author_cite]\n",
    "                                                author_age = year_citant - info[1]\n",
    "                                                if author_age < 0:\n",
    "                                                    author_age = 0\n",
    "                                                if author_age < nb_years:\n",
    "                                                    disc = info[0]\n",
    "                                                    author_idx = authors_disc_idx[disc][ID_author_cite]\n",
    "                                                    citations[disc][author_idx,author_age] += weight\n",
    "\n",
    "                            for ID_author_citant in authors_citant:\n",
    "                                if ID_author_citant in authors_network:\n",
    "                                    if len(np.intersect1d(authors_citant,networks_citant[ID_author_citant])) > 0:\n",
    "                                        if type_cit == 'self':\n",
    "                                            info = authors_info[ID_author_citant]\n",
    "                                            author_age = year_citant - info[1]\n",
    "                                            if author_age < nb_years:\n",
    "                                                disc = info[0]\n",
    "                                                author_idx = authors_disc_idx[disc][ID_author_citant]\n",
    "                                                references[disc][author_idx,author_age] += weight\n",
    "                                    else:\n",
    "                                        if type_cit == 'co':\n",
    "                                            if len(np.intersect1d(authors_citant,full_network_citant)) > 0:\n",
    "                                                info = authors_info[ID_author_citant]\n",
    "                                                author_age = year_citant - info[1]\n",
    "                                                if author_age < nb_years:\n",
    "                                                    disc = info[0]\n",
    "                                                    author_idx = authors_disc_idx[disc][ID_author_citant]\n",
    "                                                    references[disc][author_idx,author_age] += weight"
   ]
  },
  {
   "cell_type": "code",
   "execution_count": 31,
   "metadata": {
    "scrolled": true
   },
   "outputs": [
    {
     "ename": "OSError",
     "evalue": "[Errno 12] Cannot allocate memory",
     "output_type": "error",
     "traceback": [
      "\u001b[0;31m---------------------------------------------------------------------------\u001b[0m",
      "\u001b[0;31mOSError\u001b[0m                                   Traceback (most recent call last)",
      "\u001b[0;32m<ipython-input-31-4c88ec49cd5b>\u001b[0m in \u001b[0;36m<module>\u001b[0;34m()\u001b[0m\n\u001b[0;32m----> 1\u001b[0;31m \u001b[0mget_ipython\u001b[0m\u001b[0;34m(\u001b[0m\u001b[0;34m)\u001b[0m\u001b[0;34m.\u001b[0m\u001b[0mrun_cell_magic\u001b[0m\u001b[0;34m(\u001b[0m\u001b[0;34m'cython'\u001b[0m\u001b[0;34m,\u001b[0m \u001b[0;34m''\u001b[0m\u001b[0;34m,\u001b[0m \u001b[0;34m'def computeOverlap(set testSet, set targetSets):\\n    cdef list obsOverlaps  = []\\n    cdef int i, N\\n    cdef set overlap\\n    N = len(targetSets)\\n    for i in range(N):\\n        overlap = testSet & targetSets[i]\\n        if len(overlap) <= 1:\\n            obsOverlaps.append(0)\\n        else:\\n            obsOverlaps.append(len(overlap))\\n    return obsOverlaps'\u001b[0m\u001b[0;34m)\u001b[0m\u001b[0;34m\u001b[0m\u001b[0m\n\u001b[0m",
      "\u001b[0;32m~/anaconda3/lib/python3.6/site-packages/IPython/core/interactiveshell.py\u001b[0m in \u001b[0;36mrun_cell_magic\u001b[0;34m(self, magic_name, line, cell)\u001b[0m\n\u001b[1;32m   2101\u001b[0m             \u001b[0mmagic_arg_s\u001b[0m \u001b[0;34m=\u001b[0m \u001b[0mself\u001b[0m\u001b[0;34m.\u001b[0m\u001b[0mvar_expand\u001b[0m\u001b[0;34m(\u001b[0m\u001b[0mline\u001b[0m\u001b[0;34m,\u001b[0m \u001b[0mstack_depth\u001b[0m\u001b[0;34m)\u001b[0m\u001b[0;34m\u001b[0m\u001b[0m\n\u001b[1;32m   2102\u001b[0m             \u001b[0;32mwith\u001b[0m \u001b[0mself\u001b[0m\u001b[0;34m.\u001b[0m\u001b[0mbuiltin_trap\u001b[0m\u001b[0;34m:\u001b[0m\u001b[0;34m\u001b[0m\u001b[0m\n\u001b[0;32m-> 2103\u001b[0;31m                 \u001b[0mresult\u001b[0m \u001b[0;34m=\u001b[0m \u001b[0mfn\u001b[0m\u001b[0;34m(\u001b[0m\u001b[0mmagic_arg_s\u001b[0m\u001b[0;34m,\u001b[0m \u001b[0mcell\u001b[0m\u001b[0;34m)\u001b[0m\u001b[0;34m\u001b[0m\u001b[0m\n\u001b[0m\u001b[1;32m   2104\u001b[0m             \u001b[0;32mreturn\u001b[0m \u001b[0mresult\u001b[0m\u001b[0;34m\u001b[0m\u001b[0m\n\u001b[1;32m   2105\u001b[0m \u001b[0;34m\u001b[0m\u001b[0m\n",
      "\u001b[0;32m<decorator-gen-127>\u001b[0m in \u001b[0;36mcython\u001b[0;34m(self, line, cell)\u001b[0m\n",
      "\u001b[0;32m~/anaconda3/lib/python3.6/site-packages/IPython/core/magic.py\u001b[0m in \u001b[0;36m<lambda>\u001b[0;34m(f, *a, **k)\u001b[0m\n\u001b[1;32m    185\u001b[0m     \u001b[0;31m# but it's overkill for just that one bit of state.\u001b[0m\u001b[0;34m\u001b[0m\u001b[0;34m\u001b[0m\u001b[0m\n\u001b[1;32m    186\u001b[0m     \u001b[0;32mdef\u001b[0m \u001b[0mmagic_deco\u001b[0m\u001b[0;34m(\u001b[0m\u001b[0marg\u001b[0m\u001b[0;34m)\u001b[0m\u001b[0;34m:\u001b[0m\u001b[0;34m\u001b[0m\u001b[0m\n\u001b[0;32m--> 187\u001b[0;31m         \u001b[0mcall\u001b[0m \u001b[0;34m=\u001b[0m \u001b[0;32mlambda\u001b[0m \u001b[0mf\u001b[0m\u001b[0;34m,\u001b[0m \u001b[0;34m*\u001b[0m\u001b[0ma\u001b[0m\u001b[0;34m,\u001b[0m \u001b[0;34m**\u001b[0m\u001b[0mk\u001b[0m\u001b[0;34m:\u001b[0m \u001b[0mf\u001b[0m\u001b[0;34m(\u001b[0m\u001b[0;34m*\u001b[0m\u001b[0ma\u001b[0m\u001b[0;34m,\u001b[0m \u001b[0;34m**\u001b[0m\u001b[0mk\u001b[0m\u001b[0;34m)\u001b[0m\u001b[0;34m\u001b[0m\u001b[0m\n\u001b[0m\u001b[1;32m    188\u001b[0m \u001b[0;34m\u001b[0m\u001b[0m\n\u001b[1;32m    189\u001b[0m         \u001b[0;32mif\u001b[0m \u001b[0mcallable\u001b[0m\u001b[0;34m(\u001b[0m\u001b[0marg\u001b[0m\u001b[0;34m)\u001b[0m\u001b[0;34m:\u001b[0m\u001b[0;34m\u001b[0m\u001b[0m\n",
      "\u001b[0;32m~/anaconda3/lib/python3.6/site-packages/Cython/Build/IpythonMagic.py\u001b[0m in \u001b[0;36mcython\u001b[0;34m(self, line, cell)\u001b[0m\n\u001b[1;32m    304\u001b[0m             \u001b[0mbuild_extension\u001b[0m\u001b[0;34m.\u001b[0m\u001b[0mbuild_temp\u001b[0m \u001b[0;34m=\u001b[0m \u001b[0mos\u001b[0m\u001b[0;34m.\u001b[0m\u001b[0mpath\u001b[0m\u001b[0;34m.\u001b[0m\u001b[0mdirname\u001b[0m\u001b[0;34m(\u001b[0m\u001b[0mpyx_file\u001b[0m\u001b[0;34m)\u001b[0m\u001b[0;34m\u001b[0m\u001b[0m\n\u001b[1;32m    305\u001b[0m             \u001b[0mbuild_extension\u001b[0m\u001b[0;34m.\u001b[0m\u001b[0mbuild_lib\u001b[0m \u001b[0;34m=\u001b[0m \u001b[0mlib_dir\u001b[0m\u001b[0;34m\u001b[0m\u001b[0m\n\u001b[0;32m--> 306\u001b[0;31m             \u001b[0mbuild_extension\u001b[0m\u001b[0;34m.\u001b[0m\u001b[0mrun\u001b[0m\u001b[0;34m(\u001b[0m\u001b[0;34m)\u001b[0m\u001b[0;34m\u001b[0m\u001b[0m\n\u001b[0m\u001b[1;32m    307\u001b[0m             \u001b[0mself\u001b[0m\u001b[0;34m.\u001b[0m\u001b[0m_code_cache\u001b[0m\u001b[0;34m[\u001b[0m\u001b[0mkey\u001b[0m\u001b[0;34m]\u001b[0m \u001b[0;34m=\u001b[0m \u001b[0mmodule_name\u001b[0m\u001b[0;34m\u001b[0m\u001b[0m\n\u001b[1;32m    308\u001b[0m \u001b[0;34m\u001b[0m\u001b[0m\n",
      "\u001b[0;32m~/anaconda3/lib/python3.6/distutils/command/build_ext.py\u001b[0m in \u001b[0;36mrun\u001b[0;34m(self)\u001b[0m\n\u001b[1;32m    337\u001b[0m \u001b[0;34m\u001b[0m\u001b[0m\n\u001b[1;32m    338\u001b[0m         \u001b[0;31m# Now actually compile and link everything.\u001b[0m\u001b[0;34m\u001b[0m\u001b[0;34m\u001b[0m\u001b[0m\n\u001b[0;32m--> 339\u001b[0;31m         \u001b[0mself\u001b[0m\u001b[0;34m.\u001b[0m\u001b[0mbuild_extensions\u001b[0m\u001b[0;34m(\u001b[0m\u001b[0;34m)\u001b[0m\u001b[0;34m\u001b[0m\u001b[0m\n\u001b[0m\u001b[1;32m    340\u001b[0m \u001b[0;34m\u001b[0m\u001b[0m\n\u001b[1;32m    341\u001b[0m     \u001b[0;32mdef\u001b[0m \u001b[0mcheck_extensions_list\u001b[0m\u001b[0;34m(\u001b[0m\u001b[0mself\u001b[0m\u001b[0;34m,\u001b[0m \u001b[0mextensions\u001b[0m\u001b[0;34m)\u001b[0m\u001b[0;34m:\u001b[0m\u001b[0;34m\u001b[0m\u001b[0m\n",
      "\u001b[0;32m~/anaconda3/lib/python3.6/distutils/command/build_ext.py\u001b[0m in \u001b[0;36mbuild_extensions\u001b[0;34m(self)\u001b[0m\n\u001b[1;32m    446\u001b[0m             \u001b[0mself\u001b[0m\u001b[0;34m.\u001b[0m\u001b[0m_build_extensions_parallel\u001b[0m\u001b[0;34m(\u001b[0m\u001b[0;34m)\u001b[0m\u001b[0;34m\u001b[0m\u001b[0m\n\u001b[1;32m    447\u001b[0m         \u001b[0;32melse\u001b[0m\u001b[0;34m:\u001b[0m\u001b[0;34m\u001b[0m\u001b[0m\n\u001b[0;32m--> 448\u001b[0;31m             \u001b[0mself\u001b[0m\u001b[0;34m.\u001b[0m\u001b[0m_build_extensions_serial\u001b[0m\u001b[0;34m(\u001b[0m\u001b[0;34m)\u001b[0m\u001b[0;34m\u001b[0m\u001b[0m\n\u001b[0m\u001b[1;32m    449\u001b[0m \u001b[0;34m\u001b[0m\u001b[0m\n\u001b[1;32m    450\u001b[0m     \u001b[0;32mdef\u001b[0m \u001b[0m_build_extensions_parallel\u001b[0m\u001b[0;34m(\u001b[0m\u001b[0mself\u001b[0m\u001b[0;34m)\u001b[0m\u001b[0;34m:\u001b[0m\u001b[0;34m\u001b[0m\u001b[0m\n",
      "\u001b[0;32m~/anaconda3/lib/python3.6/distutils/command/build_ext.py\u001b[0m in \u001b[0;36m_build_extensions_serial\u001b[0;34m(self)\u001b[0m\n\u001b[1;32m    471\u001b[0m         \u001b[0;32mfor\u001b[0m \u001b[0mext\u001b[0m \u001b[0;32min\u001b[0m \u001b[0mself\u001b[0m\u001b[0;34m.\u001b[0m\u001b[0mextensions\u001b[0m\u001b[0;34m:\u001b[0m\u001b[0;34m\u001b[0m\u001b[0m\n\u001b[1;32m    472\u001b[0m             \u001b[0;32mwith\u001b[0m \u001b[0mself\u001b[0m\u001b[0;34m.\u001b[0m\u001b[0m_filter_build_errors\u001b[0m\u001b[0;34m(\u001b[0m\u001b[0mext\u001b[0m\u001b[0;34m)\u001b[0m\u001b[0;34m:\u001b[0m\u001b[0;34m\u001b[0m\u001b[0m\n\u001b[0;32m--> 473\u001b[0;31m                 \u001b[0mself\u001b[0m\u001b[0;34m.\u001b[0m\u001b[0mbuild_extension\u001b[0m\u001b[0;34m(\u001b[0m\u001b[0mext\u001b[0m\u001b[0;34m)\u001b[0m\u001b[0;34m\u001b[0m\u001b[0m\n\u001b[0m\u001b[1;32m    474\u001b[0m \u001b[0;34m\u001b[0m\u001b[0m\n\u001b[1;32m    475\u001b[0m     \u001b[0;34m@\u001b[0m\u001b[0mcontextlib\u001b[0m\u001b[0;34m.\u001b[0m\u001b[0mcontextmanager\u001b[0m\u001b[0;34m\u001b[0m\u001b[0m\n",
      "\u001b[0;32m~/anaconda3/lib/python3.6/distutils/command/build_ext.py\u001b[0m in \u001b[0;36mbuild_extension\u001b[0;34m(self, ext)\u001b[0m\n\u001b[1;32m    531\u001b[0m                                          \u001b[0mdebug\u001b[0m\u001b[0;34m=\u001b[0m\u001b[0mself\u001b[0m\u001b[0;34m.\u001b[0m\u001b[0mdebug\u001b[0m\u001b[0;34m,\u001b[0m\u001b[0;34m\u001b[0m\u001b[0m\n\u001b[1;32m    532\u001b[0m                                          \u001b[0mextra_postargs\u001b[0m\u001b[0;34m=\u001b[0m\u001b[0mextra_args\u001b[0m\u001b[0;34m,\u001b[0m\u001b[0;34m\u001b[0m\u001b[0m\n\u001b[0;32m--> 533\u001b[0;31m                                          depends=ext.depends)\n\u001b[0m\u001b[1;32m    534\u001b[0m \u001b[0;34m\u001b[0m\u001b[0m\n\u001b[1;32m    535\u001b[0m         \u001b[0;31m# XXX outdated variable, kept here in case third-part code\u001b[0m\u001b[0;34m\u001b[0m\u001b[0;34m\u001b[0m\u001b[0m\n",
      "\u001b[0;32m~/anaconda3/lib/python3.6/distutils/ccompiler.py\u001b[0m in \u001b[0;36mcompile\u001b[0;34m(self, sources, output_dir, macros, include_dirs, debug, extra_preargs, extra_postargs, depends)\u001b[0m\n\u001b[1;32m    572\u001b[0m             \u001b[0;32mexcept\u001b[0m \u001b[0mKeyError\u001b[0m\u001b[0;34m:\u001b[0m\u001b[0;34m\u001b[0m\u001b[0m\n\u001b[1;32m    573\u001b[0m                 \u001b[0;32mcontinue\u001b[0m\u001b[0;34m\u001b[0m\u001b[0m\n\u001b[0;32m--> 574\u001b[0;31m             \u001b[0mself\u001b[0m\u001b[0;34m.\u001b[0m\u001b[0m_compile\u001b[0m\u001b[0;34m(\u001b[0m\u001b[0mobj\u001b[0m\u001b[0;34m,\u001b[0m \u001b[0msrc\u001b[0m\u001b[0;34m,\u001b[0m \u001b[0mext\u001b[0m\u001b[0;34m,\u001b[0m \u001b[0mcc_args\u001b[0m\u001b[0;34m,\u001b[0m \u001b[0mextra_postargs\u001b[0m\u001b[0;34m,\u001b[0m \u001b[0mpp_opts\u001b[0m\u001b[0;34m)\u001b[0m\u001b[0;34m\u001b[0m\u001b[0m\n\u001b[0m\u001b[1;32m    575\u001b[0m \u001b[0;34m\u001b[0m\u001b[0m\n\u001b[1;32m    576\u001b[0m         \u001b[0;31m# Return *all* object filenames, not just the ones we just built.\u001b[0m\u001b[0;34m\u001b[0m\u001b[0;34m\u001b[0m\u001b[0m\n",
      "\u001b[0;32m~/anaconda3/lib/python3.6/distutils/unixccompiler.py\u001b[0m in \u001b[0;36m_compile\u001b[0;34m(self, obj, src, ext, cc_args, extra_postargs, pp_opts)\u001b[0m\n\u001b[1;32m    116\u001b[0m         \u001b[0;32mtry\u001b[0m\u001b[0;34m:\u001b[0m\u001b[0;34m\u001b[0m\u001b[0m\n\u001b[1;32m    117\u001b[0m             self.spawn(compiler_so + cc_args + [src, '-o', obj] +\n\u001b[0;32m--> 118\u001b[0;31m                        extra_postargs)\n\u001b[0m\u001b[1;32m    119\u001b[0m         \u001b[0;32mexcept\u001b[0m \u001b[0mDistutilsExecError\u001b[0m \u001b[0;32mas\u001b[0m \u001b[0mmsg\u001b[0m\u001b[0;34m:\u001b[0m\u001b[0;34m\u001b[0m\u001b[0m\n\u001b[1;32m    120\u001b[0m             \u001b[0;32mraise\u001b[0m \u001b[0mCompileError\u001b[0m\u001b[0;34m(\u001b[0m\u001b[0mmsg\u001b[0m\u001b[0;34m)\u001b[0m\u001b[0;34m\u001b[0m\u001b[0m\n",
      "\u001b[0;32m~/anaconda3/lib/python3.6/distutils/ccompiler.py\u001b[0m in \u001b[0;36mspawn\u001b[0;34m(self, cmd)\u001b[0m\n\u001b[1;32m    907\u001b[0m \u001b[0;34m\u001b[0m\u001b[0m\n\u001b[1;32m    908\u001b[0m     \u001b[0;32mdef\u001b[0m \u001b[0mspawn\u001b[0m\u001b[0;34m(\u001b[0m\u001b[0mself\u001b[0m\u001b[0;34m,\u001b[0m \u001b[0mcmd\u001b[0m\u001b[0;34m)\u001b[0m\u001b[0;34m:\u001b[0m\u001b[0;34m\u001b[0m\u001b[0m\n\u001b[0;32m--> 909\u001b[0;31m         \u001b[0mspawn\u001b[0m\u001b[0;34m(\u001b[0m\u001b[0mcmd\u001b[0m\u001b[0;34m,\u001b[0m \u001b[0mdry_run\u001b[0m\u001b[0;34m=\u001b[0m\u001b[0mself\u001b[0m\u001b[0;34m.\u001b[0m\u001b[0mdry_run\u001b[0m\u001b[0;34m)\u001b[0m\u001b[0;34m\u001b[0m\u001b[0m\n\u001b[0m\u001b[1;32m    910\u001b[0m \u001b[0;34m\u001b[0m\u001b[0m\n\u001b[1;32m    911\u001b[0m     \u001b[0;32mdef\u001b[0m \u001b[0mmove_file\u001b[0m\u001b[0;34m(\u001b[0m\u001b[0mself\u001b[0m\u001b[0;34m,\u001b[0m \u001b[0msrc\u001b[0m\u001b[0;34m,\u001b[0m \u001b[0mdst\u001b[0m\u001b[0;34m)\u001b[0m\u001b[0;34m:\u001b[0m\u001b[0;34m\u001b[0m\u001b[0m\n",
      "\u001b[0;32m~/anaconda3/lib/python3.6/distutils/spawn.py\u001b[0m in \u001b[0;36mspawn\u001b[0;34m(cmd, search_path, verbose, dry_run)\u001b[0m\n\u001b[1;32m     34\u001b[0m     \u001b[0mcmd\u001b[0m \u001b[0;34m=\u001b[0m \u001b[0mlist\u001b[0m\u001b[0;34m(\u001b[0m\u001b[0mcmd\u001b[0m\u001b[0;34m)\u001b[0m\u001b[0;34m\u001b[0m\u001b[0m\n\u001b[1;32m     35\u001b[0m     \u001b[0;32mif\u001b[0m \u001b[0mos\u001b[0m\u001b[0;34m.\u001b[0m\u001b[0mname\u001b[0m \u001b[0;34m==\u001b[0m \u001b[0;34m'posix'\u001b[0m\u001b[0;34m:\u001b[0m\u001b[0;34m\u001b[0m\u001b[0m\n\u001b[0;32m---> 36\u001b[0;31m         \u001b[0m_spawn_posix\u001b[0m\u001b[0;34m(\u001b[0m\u001b[0mcmd\u001b[0m\u001b[0;34m,\u001b[0m \u001b[0msearch_path\u001b[0m\u001b[0;34m,\u001b[0m \u001b[0mdry_run\u001b[0m\u001b[0;34m=\u001b[0m\u001b[0mdry_run\u001b[0m\u001b[0;34m)\u001b[0m\u001b[0;34m\u001b[0m\u001b[0m\n\u001b[0m\u001b[1;32m     37\u001b[0m     \u001b[0;32melif\u001b[0m \u001b[0mos\u001b[0m\u001b[0;34m.\u001b[0m\u001b[0mname\u001b[0m \u001b[0;34m==\u001b[0m \u001b[0;34m'nt'\u001b[0m\u001b[0;34m:\u001b[0m\u001b[0;34m\u001b[0m\u001b[0m\n\u001b[1;32m     38\u001b[0m         \u001b[0m_spawn_nt\u001b[0m\u001b[0;34m(\u001b[0m\u001b[0mcmd\u001b[0m\u001b[0;34m,\u001b[0m \u001b[0msearch_path\u001b[0m\u001b[0;34m,\u001b[0m \u001b[0mdry_run\u001b[0m\u001b[0;34m=\u001b[0m\u001b[0mdry_run\u001b[0m\u001b[0;34m)\u001b[0m\u001b[0;34m\u001b[0m\u001b[0m\n",
      "\u001b[0;32m~/anaconda3/lib/python3.6/distutils/spawn.py\u001b[0m in \u001b[0;36m_spawn_posix\u001b[0;34m(cmd, search_path, verbose, dry_run)\u001b[0m\n\u001b[1;32m    113\u001b[0m                        MACOSX_DEPLOYMENT_TARGET=cur_target)\n\u001b[1;32m    114\u001b[0m             \u001b[0mexec_fn\u001b[0m \u001b[0;34m=\u001b[0m \u001b[0msearch_path\u001b[0m \u001b[0;32mand\u001b[0m \u001b[0mos\u001b[0m\u001b[0;34m.\u001b[0m\u001b[0mexecvpe\u001b[0m \u001b[0;32mor\u001b[0m \u001b[0mos\u001b[0m\u001b[0;34m.\u001b[0m\u001b[0mexecve\u001b[0m\u001b[0;34m\u001b[0m\u001b[0m\n\u001b[0;32m--> 115\u001b[0;31m     \u001b[0mpid\u001b[0m \u001b[0;34m=\u001b[0m \u001b[0mos\u001b[0m\u001b[0;34m.\u001b[0m\u001b[0mfork\u001b[0m\u001b[0;34m(\u001b[0m\u001b[0;34m)\u001b[0m\u001b[0;34m\u001b[0m\u001b[0m\n\u001b[0m\u001b[1;32m    116\u001b[0m     \u001b[0;32mif\u001b[0m \u001b[0mpid\u001b[0m \u001b[0;34m==\u001b[0m \u001b[0;36m0\u001b[0m\u001b[0;34m:\u001b[0m \u001b[0;31m# in the child\u001b[0m\u001b[0;34m\u001b[0m\u001b[0m\n\u001b[1;32m    117\u001b[0m         \u001b[0;32mtry\u001b[0m\u001b[0;34m:\u001b[0m\u001b[0;34m\u001b[0m\u001b[0m\n",
      "\u001b[0;31mOSError\u001b[0m: [Errno 12] Cannot allocate memory"
     ]
    }
   ],
   "source": [
    "%%cython\n",
    "def computeOverlap(set testSet, set targetSets):\n",
    "    cdef list obsOverlaps  = []\n",
    "    cdef int i, N\n",
    "    cdef set overlap\n",
    "    N = len(targetSets)\n",
    "    for i in range(N):\n",
    "        overlap = testSet & targetSets[i]\n",
    "        if len(overlap) <= 1:\n",
    "            obsOverlaps.append(0)\n",
    "        else:\n",
    "            obsOverlaps.append(len(overlap))\n",
    "    return obsOverlaps"
   ]
  },
  {
   "cell_type": "code",
   "execution_count": 32,
   "metadata": {},
   "outputs": [
    {
     "ename": "OSError",
     "evalue": "[Errno 12] Cannot allocate memory",
     "output_type": "error",
     "traceback": [
      "\u001b[0;31m---------------------------------------------------------------------------\u001b[0m",
      "\u001b[0;31mOSError\u001b[0m                                   Traceback (most recent call last)",
      "\u001b[0;32m<ipython-input-32-ef731038cff3>\u001b[0m in \u001b[0;36m<module>\u001b[0;34m()\u001b[0m\n\u001b[1;32m      1\u001b[0m \u001b[0;32mimport\u001b[0m \u001b[0mos\u001b[0m\u001b[0;34m\u001b[0m\u001b[0m\n\u001b[0;32m----> 2\u001b[0;31m \u001b[0mpid\u001b[0m \u001b[0;34m=\u001b[0m \u001b[0mos\u001b[0m\u001b[0;34m.\u001b[0m\u001b[0mfork\u001b[0m\u001b[0;34m(\u001b[0m\u001b[0;34m)\u001b[0m\u001b[0;34m\u001b[0m\u001b[0m\n\u001b[0m",
      "\u001b[0;31mOSError\u001b[0m: [Errno 12] Cannot allocate memory"
     ]
    }
   ],
   "source": [
    "import os\n",
    "pid = os.fork()"
   ]
  },
  {
   "cell_type": "code",
   "execution_count": 65,
   "metadata": {
    "collapsed": true
   },
   "outputs": [],
   "source": [
    "def prof_lines():\n",
    "    count=0\n",
    "    for i in range(200):#range(nb_citants):\n",
    "        count += 1\n",
    "        art_citant = citants[idx[i]]\n",
    "        year_citant = articles[art_citant]\n",
    "        if year_citant >= min_year and year_citant < max_year:\n",
    "            weight = weight_citant[year_citant]\n",
    "            if art_citant in dict_cluster_art:\n",
    "                authors_citant = set(dict_cluster_art[art_citant])\n",
    "                networks_citant = {}\n",
    "                full_network_citant = set()\n",
    "                for ID_author_citant in authors_citant:\n",
    "                    if ID_author_citant in authors_network:\n",
    "                        network = authors_network[ID_author_citant]\n",
    "                        idx_net = np.where(network[1,:]<=year_citant)[0]\n",
    "                        network = set(network[0,idx_net])\n",
    "                        networks_citant[ID_author_citant] = network\n",
    "                        full_network_citant.update(network)\n",
    "                        #full_network_citant = full_network_citant + list(network)\n",
    "                #full_network_citant = set(full_network_citant)\n",
    "                refs_citant = set(dict_citant[art_citant])\n",
    "                for ref in refs_citant:\n",
    "                    if ref in dict_cluster_art:\n",
    "                        authors_cite = set(dict_cluster_art[ref])\n",
    "                        int_authors = authors_cite.intersection(authors_citant)\n",
    "                        if len(int_authors) == 0:\n",
    "                            networks_cite = {}\n",
    "                            full_network_cite = set()\n",
    "                            for ID_author_cite in authors_cite:\n",
    "                                if ID_author_cite in authors_network:\n",
    "                                    network = authors_network[ID_author_cite]\n",
    "                                    idx_net = np.where(network[1,:]<=year_citant)[0]\n",
    "                                    temp = network[0,idx_net]\n",
    "                                    network = set(temp)\n",
    "                                    networks_cite[ID_author_cite] = network\n",
    "                                    full_network_cite.update(network)\n",
    "                                    #full_network_cite.extend(list(network))\n",
    "                                    #full_network_cite = full_network_cite + list(network)\n",
    "                            #full_network_cite = set(full_network_cite)\n",
    "\n",
    "                            for ID_author_cite in authors_cite:\n",
    "                                if ID_author_cite in authors_network:\n",
    "                                    if len(authors_citant.intersection(networks_cite[ID_author_cite])) > 0:\n",
    "                                        if type_cit == 'self':\n",
    "                                            info = authors_info[ID_author_cite]\n",
    "                                            author_age = year_citant - info[1]\n",
    "                                            if author_age < nb_years:\n",
    "                                                disc = info[0]\n",
    "                                                author_idx = authors_disc_idx[disc][ID_author_cite]\n",
    "                                                citations[disc][author_idx,author_age] += weight\n",
    "                                    else:\n",
    "                                        if type_cit == 'co':\n",
    "                                            if len(authors_citant.intersection(full_network_cite)) > 0:\n",
    "                                                info = authors_info[ID_author_cite]\n",
    "                                                author_age = year_citant - info[1]\n",
    "                                                if author_age < 0:\n",
    "                                                    author_age = 0\n",
    "                                                if author_age < nb_years:\n",
    "                                                    disc = info[0]\n",
    "                                                    author_idx = authors_disc_idx[disc][ID_author_cite]\n",
    "                                                    citations[disc][author_idx,author_age] += weight\n",
    "\n",
    "                            for ID_author_citant in authors_citant:\n",
    "                                if ID_author_citant in authors_network:\n",
    "                                    if len(authors_citant.intersection(networks_citant[ID_author_citant])) > 0:\n",
    "                                        if type_cit == 'self':\n",
    "                                            info = authors_info[ID_author_citant]\n",
    "                                            author_age = year_citant - info[1]\n",
    "                                            if author_age < nb_years:\n",
    "                                                disc = info[0]\n",
    "                                                author_idx = authors_disc_idx[disc][ID_author_citant]\n",
    "                                                references[disc][author_idx,author_age] += weight\n",
    "                                    else:\n",
    "                                        if type_cit == 'co':\n",
    "                                            if len(authors_citant.intersection(full_network_citant)) > 0:\n",
    "                                                info = authors_info[ID_author_citant]\n",
    "                                                author_age = year_citant - info[1]\n",
    "                                                if author_age < nb_years:\n",
    "                                                    disc = info[0]\n",
    "                                                    author_idx = authors_disc_idx[disc][ID_author_citant]\n",
    "                                                    references[disc][author_idx,author_age] += weight  "
   ]
  },
  {
   "cell_type": "code",
   "execution_count": 72,
   "metadata": {
    "collapsed": true
   },
   "outputs": [],
   "source": [
    "%load_ext line_profiler"
   ]
  },
  {
   "cell_type": "code",
   "execution_count": 73,
   "metadata": {
    "collapsed": true,
    "scrolled": true
   },
   "outputs": [],
   "source": [
    "%lprun -f prof_lines prof_lines()"
   ]
  },
  {
   "cell_type": "code",
   "execution_count": null,
   "metadata": {
    "collapsed": true
   },
   "outputs": [],
   "source": []
  }
 ],
 "metadata": {
  "kernelspec": {
   "display_name": "Python 3",
   "language": "python",
   "name": "python3"
  },
  "language_info": {
   "codemirror_mode": {
    "name": "ipython",
    "version": 3
   },
   "file_extension": ".py",
   "mimetype": "text/x-python",
   "name": "python",
   "nbconvert_exporter": "python",
   "pygments_lexer": "ipython3",
   "version": "3.6.3"
  }
 },
 "nbformat": 4,
 "nbformat_minor": 2
}
