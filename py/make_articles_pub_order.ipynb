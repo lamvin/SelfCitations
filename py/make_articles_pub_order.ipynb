{
 "cells": [
  {
   "cell_type": "code",
   "execution_count": 19,
   "metadata": {
    "collapsed": true
   },
   "outputs": [],
   "source": [
    "import pandas as pd\n",
    "import csv\n",
    "import pickle\n",
    "from tqdm import tqdm_notebook as tqdm\n",
    "import collections\n",
    "import numpy as np"
   ]
  },
  {
   "cell_type": "code",
   "execution_count": 3,
   "metadata": {
    "collapsed": true
   },
   "outputs": [],
   "source": [
    "path = '/home/User1/data/self_citations/'"
   ]
  },
  {
   "cell_type": "code",
   "execution_count": 11,
   "metadata": {},
   "outputs": [
    {
     "name": "stdout",
     "output_type": "stream",
     "text": [
      "['ID_Art', 'ItemID', 'Annee_Bibliographique', 'Code_Revue', 'Nb_Reference', 'Nb_Auteur']\n"
     ]
    }
   ],
   "source": [
    "articles = {}\n",
    "with open(path+'article.txt','r') as f:\n",
    "    reader = csv.reader(f,delimiter='\\t')\n",
    "    print(next(reader))\n",
    "    for line in reader:\n",
    "        articles[int(line[0])] = int(line[2])"
   ]
  },
  {
   "cell_type": "code",
   "execution_count": 9,
   "metadata": {
    "collapsed": true
   },
   "outputs": [],
   "source": [
    "with open(path+'dict_citant.p','rb') as f:\n",
    "    dict_citant = pickle.load(f)"
   ]
  },
  {
   "cell_type": "code",
   "execution_count": 8,
   "metadata": {},
   "outputs": [],
   "source": [
    "with open(path+'dict_cluster_ID.p','rb') as f:\n",
    "    dict_cluster_ID = pickle.load(f)"
   ]
  },
  {
   "cell_type": "code",
   "execution_count": 159,
   "metadata": {
    "collapsed": true
   },
   "outputs": [],
   "source": [
    "authors = list(dict_cluster_ID.keys())\n",
    "nb_authors = len(authors)\n",
    "idx = np.arange(nb_authors)\n",
    "np.random.shuffle(idx)"
   ]
  },
  {
   "cell_type": "code",
   "execution_count": 15,
   "metadata": {
    "collapsed": true
   },
   "outputs": [],
   "source": [
    "def find_with_list(myList, target):\n",
    "    inds = []\n",
    "    for i in range(len(myList)):\n",
    "        if myList[i] == target:\n",
    "            inds += i,\n",
    "    return inds"
   ]
  },
  {
   "cell_type": "code",
   "execution_count": 17,
   "metadata": {
    "collapsed": true
   },
   "outputs": [],
   "source": [
    "def is_in_ordered_list(cites,ordered):\n",
    "    ordered = set(ordered)\n",
    "    intersection = cites.intersection(ordered)\n",
    "    \n",
    "    if len(intersection) == len(cites):\n",
    "        in_list = True\n",
    "    else:\n",
    "        in_list = False\n",
    "    return in_list\n",
    "    "
   ]
  },
  {
   "cell_type": "code",
   "execution_count": 227,
   "metadata": {},
   "outputs": [],
   "source": [
    "ordered_arts = {}"
   ]
  },
  {
   "cell_type": "code",
   "execution_count": 228,
   "metadata": {},
   "outputs": [
    {
     "name": "stderr",
     "output_type": "stream",
     "text": [
      "/home/User1/anaconda3/lib/python3.6/site-packages/ipykernel_launcher.py:1: TqdmDeprecationWarning: This function will be removed in tqdm==5.0.0\n",
      "Please use `tqdm.notebook.tqdm` instead of `tqdm.tqdm_notebook`\n",
      "  \"\"\"Entry point for launching an IPython kernel.\n"
     ]
    },
    {
     "data": {
      "application/vnd.jupyter.widget-view+json": {
       "model_id": "de59fda1e89049478edf8ff9b98114df",
       "version_major": 2,
       "version_minor": 0
      },
      "text/plain": [
       "A Jupyter Widget"
      ]
     },
     "metadata": {},
     "output_type": "display_data"
    },
    {
     "name": "stdout",
     "output_type": "stream",
     "text": [
      "\n"
     ]
    }
   ],
   "source": [
    "for i in tqdm(range(nb_authors)):\n",
    "    cluster_ID = authors[idx[i]]\n",
    "    year_arts = {}\n",
    "    arts = np.unique(np.array(dict_cluster_ID[cluster_ID]))\n",
    "    for art in arts:\n",
    "        year_arts[art] = articles[art]\n",
    "    years = np.array(list(year_arts.values())).astype(np.float)\n",
    "    duplicates = [item for item, count in collections.Counter(years).items() if count > 1]\n",
    "    #When > 1 art is published in the same year, if A cite B, B comes before\n",
    "    for dup in duplicates:\n",
    "        inds = np.array(find_with_list(years,dup))\n",
    "        arts_dup = arts[inds]\n",
    "        nb_dup = len(arts_dup)\n",
    "        citant = {}\n",
    "        order_arts = []\n",
    "        for art in arts_dup:\n",
    "            if art in dict_citant:\n",
    "                cites = set(dict_citant[art])\n",
    "                intersection = cites.intersection(set(arts_dup))\n",
    "            else:\n",
    "                intersection = set()\n",
    "            if len(intersection) == 0:\n",
    "                order_arts.append(art)\n",
    "            else:\n",
    "                citant[art] = intersection\n",
    "        \n",
    "        key = 0\n",
    "        while len(citant) > 0:\n",
    "            art = list(citant.keys())[key]\n",
    "            cites = citant[art]\n",
    "            in_list = is_in_ordered_list(cites,order_arts)\n",
    "            if in_list:\n",
    "                order_arts.append(art)\n",
    "                del citant[art]\n",
    "                key = 0\n",
    "            else:\n",
    "                if key == len(citant)-1:\n",
    "                    break\n",
    "                else:\n",
    "                    key += 1\n",
    "        if len(citant) > 0:\n",
    "            for art in citant:\n",
    "                order_arts.append(art)\n",
    "        years_mod = np.linspace(years[inds[0]],years[inds[0]]+0.99,nb_dup)\n",
    "        years_map = {}\n",
    "        for k in range(nb_dup):\n",
    "            art = order_arts[k]\n",
    "            id_art = np.where(arts==art)\n",
    "            years[id_art] = years_mod[k]\n",
    "    idx_sort = np.argsort(years)\n",
    "    years_sort = years[idx_sort]\n",
    "    arts_sort = arts[idx_sort]\n",
    "    ordered_arts[cluster_ID] = np.concatenate([arts_sort,years_sort],axis=0)\n",
    "            \n",
    "            \n"
   ]
  },
  {
   "cell_type": "code",
   "execution_count": 229,
   "metadata": {},
   "outputs": [],
   "source": [
    "with open(path+'ordered_arts.p','wb') as f:\n",
    "    pickle.dump(ordered_arts,f)"
   ]
  },
  {
   "cell_type": "code",
   "execution_count": 210,
   "metadata": {},
   "outputs": [
    {
     "name": "stdout",
     "output_type": "stream",
     "text": [
      "found\n"
     ]
    }
   ],
   "source": [
    "for dup in duplicates:\n",
    "    inds = np.array(find_with_list(years,dup))\n",
    "    arts_dup = arts[inds]\n",
    "    nb_dup = len(arts_dup)\n",
    "    citantt = {}\n",
    "    order_arts = []\n",
    "    for art in arts_dup:\n",
    "        if art in dict_citant:\n",
    "            cites = set(dict_citant[art])\n",
    "            intersection = cites.intersection(set(arts_dup))\n",
    "        else:\n",
    "            intersection = set()\n",
    "        if len(intersection) == 0:\n",
    "            order_arts.append(art)\n",
    "        else:\n",
    "            citantt[art] = intersection\n",
    "    if len(citantt) > 0:\n",
    "        print('found')\n",
    "        break"
   ]
  },
  {
   "cell_type": "code",
   "execution_count": 212,
   "metadata": {},
   "outputs": [],
   "source": [
    "for dup in duplicates:\n",
    "    inds = np.array(find_with_list(years,dup))\n",
    "    arts_dup = arts[inds]\n",
    "    nb_dup = len(arts_dup)\n",
    "    citant = {}\n",
    "    order_arts = []\n",
    "    for art in arts_dup:\n",
    "        if art in dict_citant:\n",
    "            cites = set(dict_citant[art])\n",
    "            intersection = cites.intersection(set(arts_dup))\n",
    "        else:\n",
    "            intersection = set()\n",
    "        if len(intersection) == 0:\n",
    "            order_arts.append(art)\n",
    "        else:\n",
    "            citant[art] = intersection\n",
    "    key = 0\n",
    "    while len(citant) > 0:\n",
    "        art = list(citant.keys())[key]\n",
    "        cites = citant[art]\n",
    "        in_list = is_in_ordered_list(cites,order_arts)\n",
    "        if in_list:\n",
    "            order_arts.append(art)\n",
    "            del citant[art]\n",
    "            key = 0\n",
    "        else:\n",
    "            if key == len(citant)-1:\n",
    "                break\n",
    "            else:\n",
    "                key += 1\n",
    "    if len(citant) > 0:\n",
    "        for art in citant:\n",
    "            order_arts.append(art)\n",
    "    years_mod = np.linspace(years[inds[0]],years[inds[0]]+0.99,nb_dup)\n",
    "    years_map = {}\n",
    "    for k in range(nb_dup):\n",
    "        art = order_arts[k]\n",
    "        id_art = np.where(arts==art)\n",
    "        years[id_art] = years_mod[k]\n",
    "    \n"
   ]
  },
  {
   "cell_type": "code",
   "execution_count": 213,
   "metadata": {
    "collapsed": true
   },
   "outputs": [],
   "source": [
    "idx_sort = np.argsort(years)\n",
    "years_sort = years[idx_sort]\n",
    "arts_sort = arts[idx_sort]"
   ]
  },
  {
   "cell_type": "code",
   "execution_count": 211,
   "metadata": {},
   "outputs": [
    {
     "data": {
      "text/plain": [
       "{50549820: {49957664}, 51565941: {49957664, 50549820}}"
      ]
     },
     "execution_count": 211,
     "metadata": {},
     "output_type": "execute_result"
    }
   ],
   "source": [
    "citantt"
   ]
  },
  {
   "cell_type": "code",
   "execution_count": 214,
   "metadata": {},
   "outputs": [
    {
     "data": {
      "text/plain": [
       "array([2010.   , 2011.   , 2013.   , 2013.495, 2013.99 ])"
      ]
     },
     "execution_count": 214,
     "metadata": {},
     "output_type": "execute_result"
    }
   ],
   "source": [
    "years_sort"
   ]
  },
  {
   "cell_type": "code",
   "execution_count": 215,
   "metadata": {},
   "outputs": [
    {
     "data": {
      "text/plain": [
       "array([44844472, 46330679, 49957664, 50549820, 51565941])"
      ]
     },
     "execution_count": 215,
     "metadata": {},
     "output_type": "execute_result"
    }
   ],
   "source": [
    "arts_sort"
   ]
  },
  {
   "cell_type": "code",
   "execution_count": 117,
   "metadata": {},
   "outputs": [
    {
     "data": {
      "text/plain": [
       "array([2015.  , 2016.  , 2017.  , 2016.  , 2017.33, 2009.  , 2010.  ,\n",
       "       2011.  , 2011.  , 2010.  , 2013.  , 2013.  , 2014.  , 2015.  ,\n",
       "       2016.  , 2016.  , 2016.  , 2017.66, 2016.  , 2017.99])"
      ]
     },
     "execution_count": 117,
     "metadata": {},
     "output_type": "execute_result"
    }
   ],
   "source": [
    "years"
   ]
  },
  {
   "cell_type": "code",
   "execution_count": 48,
   "metadata": {},
   "outputs": [
    {
     "data": {
      "text/plain": [
       "dtype('int64')"
      ]
     },
     "execution_count": 48,
     "metadata": {},
     "output_type": "execute_result"
    }
   ],
   "source": [
    "years.dtype"
   ]
  }
 ],
 "metadata": {
  "kernelspec": {
   "display_name": "Python 3",
   "language": "python",
   "name": "python3"
  },
  "language_info": {
   "codemirror_mode": {
    "name": "ipython",
    "version": 3
   },
   "file_extension": ".py",
   "mimetype": "text/x-python",
   "name": "python",
   "nbconvert_exporter": "python",
   "pygments_lexer": "ipython3",
   "version": "3.6.3"
  }
 },
 "nbformat": 4,
 "nbformat_minor": 2
}
