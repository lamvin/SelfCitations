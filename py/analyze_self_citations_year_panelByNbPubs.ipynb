{
 "cells": [
  {
   "cell_type": "code",
   "execution_count": 1,
   "metadata": {
    "collapsed": true
   },
   "outputs": [],
   "source": [
    "import pandas as pd\n",
    "from tables import *\n",
    "import numpy as np\n",
    "from tqdm import tqdm_notebook as tqdm\n",
    "import csv\n",
    "from scipy import sparse\n",
    "import pickle\n",
    "import os"
   ]
  },
  {
   "cell_type": "code",
   "execution_count": 2,
   "metadata": {
    "collapsed": true
   },
   "outputs": [],
   "source": [
    "path = '/home/User1/data/self_citations/'"
   ]
  },
  {
   "cell_type": "code",
   "execution_count": 3,
   "metadata": {
    "collapsed": true
   },
   "outputs": [],
   "source": [
    "min_year = 1980\n",
    "max_year = 2020\n",
    "nb_years = max_year-min_year"
   ]
  },
  {
   "cell_type": "code",
   "execution_count": 4,
   "metadata": {
    "collapsed": true
   },
   "outputs": [],
   "source": [
    "disciplines = pd.read_csv(path+'liste_discipline.txt',encoding='latin_1',sep='\\t')\n",
    "list_disciplines = pd.unique(disciplines['EDiscipline'])\n",
    "nb_disciplines = len(list_disciplines)"
   ]
  },
  {
   "cell_type": "code",
   "execution_count": 5,
   "metadata": {
    "collapsed": true
   },
   "outputs": [],
   "source": [
    "from matplotlib import pyplot as plt"
   ]
  },
  {
   "cell_type": "code",
   "execution_count": 6,
   "metadata": {
    "collapsed": true
   },
   "outputs": [],
   "source": [
    "types_cit = ['self','co','others']"
   ]
  },
  {
   "cell_type": "markdown",
   "metadata": {
    "collapsed": true
   },
   "source": [
    "authors_info = {}\n",
    "with open(path+'model/authors_infos_model.csv','r') as f:\n",
    "    reader = csv.reader(f,delimiter='\\t')\n",
    "    next(reader)\n",
    "    for line in reader:\n",
    "        authors_info[int(line[0])] = [line[1],int(line[2]),int(line[4])]"
   ]
  },
  {
   "cell_type": "code",
   "execution_count": 7,
   "metadata": {
    "collapsed": true
   },
   "outputs": [],
   "source": [
    "bins_nb_arts = [0,1,3,5,8,14,20,30,40,50,70,100,150,200,300,500,10000]\n",
    "labels=bins_nb_arts[1:-1] + ['501+']\n"
   ]
  },
  {
   "cell_type": "markdown",
   "metadata": {},
   "source": [
    "authors_df = pd.read_csv(path+'model/authors_infos_model.csv',sep='\\t')"
   ]
  },
  {
   "cell_type": "markdown",
   "metadata": {},
   "source": [
    "authors_df.head()"
   ]
  },
  {
   "cell_type": "markdown",
   "metadata": {},
   "source": [
    "authors_df['binned_arts'] = pd.cut(authors_df['nb_articles'],bins=bins_nb_arts,labels=labels)"
   ]
  },
  {
   "cell_type": "markdown",
   "metadata": {},
   "source": [
    "authors_info = {}\n",
    "for i in range(len(authors_df)):\n",
    "    row = authors_df.iloc[i]\n",
    "    authors_info[row['Cluster_ID']] = [row['discipline'],row['min_year'],row['binned_arts']]"
   ]
  },
  {
   "cell_type": "markdown",
   "metadata": {},
   "source": [
    "with open(path+'authors_info_bin_arts.p','wb') as f:\n",
    "    pickle.dump(authors_info,f)"
   ]
  },
  {
   "cell_type": "code",
   "execution_count": null,
   "metadata": {
    "collapsed": true
   },
   "outputs": [],
   "source": [
    "with open(path+'authors_info_bin_arts.p','rb') as f:\n",
    "    authors_info = pickle.load(f)"
   ]
  },
  {
   "cell_type": "code",
   "execution_count": null,
   "metadata": {
    "collapsed": true
   },
   "outputs": [],
   "source": [
    "#Map to auth ID\n",
    "with open(path+'authors_disc.p','rb') as f:\n",
    "    authors_disc_idx = pickle.load(f)"
   ]
  },
  {
   "cell_type": "code",
   "execution_count": null,
   "metadata": {
    "collapsed": true
   },
   "outputs": [],
   "source": [
    "#Keys:idx,values:authorID\n",
    "for disc in list_disciplines:\n",
    "    authors_disc_idx[disc] = {authors_disc_idx[disc][x]:x for x in authors_disc_idx[disc]}"
   ]
  },
  {
   "cell_type": "code",
   "execution_count": null,
   "metadata": {
    "collapsed": true
   },
   "outputs": [],
   "source": [
    "disc_groups = {'Arts and Humanities':['Arts','Humanities'],\n",
    "              'Natural Sciences and Engineering':['Biology','Physics','Mathematics','Engineering and Technology','Earth and Space','Chemistry'],\n",
    "              'Social Sciences':['Social Sciences','Psychology','Professional Fields','Health'],\n",
    "             'Health Sciences':['Biomedical Research','Clinical Medicine']}\n",
    "\n",
    "nb_groups = len(disc_groups)\n",
    "group_names = list(disc_groups.keys())\n",
    "min_pubs = 5"
   ]
  },
  {
   "cell_type": "code",
   "execution_count": null,
   "metadata": {
    "collapsed": true
   },
   "outputs": [],
   "source": [
    "nb_plots = len(labels)"
   ]
  },
  {
   "cell_type": "markdown",
   "metadata": {},
   "source": [
    "### Porp with network"
   ]
  },
  {
   "cell_type": "markdown",
   "metadata": {},
   "source": [
    "### With network and condensed disc"
   ]
  },
  {
   "cell_type": "code",
   "execution_count": null,
   "metadata": {
    "collapsed": true
   },
   "outputs": [],
   "source": [
    "for i in tqdm(range(nb_groups)):\n",
    "    group = group_names[i]   \n",
    "    disc_group = disc_groups[group]\n",
    "    arrays_refs = {}\n",
    "    arrays_cits = {}\n",
    "    fig1, ax1 = plt.subplots(4, 4,figsize=(25,25))\n",
    "    fig2, ax2 = plt.subplots(4, 4,figsize=(25,25))\n",
    "    nb_pubs = []\n",
    "    for type_cit in types_cit:\n",
    "        for disc in disc_group:\n",
    "            load_ref = sparse.load_npz('{}/arrays/references_{}_{}_array_norm.npz'.format(path,type_cit,disc)).todense()\n",
    "            load_cit = sparse.load_npz('{}/arrays/citations_{}_{}_array_norm.npz'.format(path,type_cit,disc)).todense()\n",
    "            if type_cit == 'self':\n",
    "                nb_auts = load_cit.shape[0]\n",
    "                nb_pubs = nb_pubs + [authors_info[authors_disc_idx[disc][x]][2] for x in range(nb_auts)]\n",
    "            if type_cit in arrays_cits: \n",
    "                arrays_cits[type_cit] = np.concatenate([arrays_cits[type_cit],load_cit],axis=0)\n",
    "                arrays_refs[type_cit] = np.concatenate([arrays_refs[type_cit],load_ref],axis=0)\n",
    "            else:\n",
    "                arrays_cits[type_cit] = load_cit\n",
    "                arrays_refs[type_cit] = load_ref\n",
    "\n",
    "\n",
    "    for disc in disc_group:\n",
    "        load_ref = sparse.load_npz('{}/arrays/references_self_{}_network_array_norm.npz'.format(path,disc)).todense()\n",
    "        load_cit = sparse.load_npz('{}/arrays/citations_self_{}_network_array_norm.npz'.format(path,disc)).todense()\n",
    "\n",
    "        if 'self_net' in arrays_cits:\n",
    "            arrays_cits['self_net'] = np.concatenate([arrays_cits['self_net'],\n",
    "                                                   load_cit],axis=0)\n",
    "            arrays_refs['self_net'] = np.concatenate([arrays_refs['self_net'],\n",
    "                                                   load_ref],axis=0)\n",
    "        else:\n",
    "            arrays_cits['self_net'] = load_cit\n",
    "            arrays_refs['self_net'] = load_ref\n",
    "\n",
    "    nb_pubs = np.array(nb_pubs)\n",
    "    row_i = 0\n",
    "    col_i = 0\n",
    "    for j in range(nb_plots):\n",
    "        bin_plot = str(labels[j])\n",
    "        bin_idx = np.where(nb_pubs==bin_plot)[0]\n",
    "        arrays_refs_bin = {}\n",
    "        arrays_cits_bin = {}\n",
    "        for type_cit in types_cit + ['self_net']:\n",
    "            arrays_refs_bin[type_cit] = arrays_refs[type_cit][bin_idx,:]\n",
    "            arrays_cits_bin[type_cit] = arrays_cits[type_cit][bin_idx,:]\n",
    "        total_refs = arrays_refs_bin['self'] + arrays_refs_bin['co'] + arrays_refs_bin['others'] \n",
    "        total_cits =  arrays_cits_bin['self'] + arrays_cits_bin['co'] + arrays_cits_bin['others'] \n",
    "        total_refs_cumul = np.sum(total_refs,axis=1)\n",
    "        total_cits_cumul = np.sum(total_cits,axis=1)\n",
    "        rows_refs = np.where(total_refs_cumul)[0]\n",
    "        rows_cits = np.where(total_cits_cumul)[0]\n",
    "\n",
    "        plot_types = ['self','co','self_net']\n",
    "        stats_refs = {}\n",
    "        stats_cits = {}\n",
    "\n",
    "        for type_cit in plot_types:\n",
    "            arrays_refs_bin[type_cit + '_perc_year'] = np.zeros(arrays_refs_bin[type_cit].shape) \n",
    "            arrays_cits_bin[type_cit + '_perc_year'] = np.zeros(arrays_cits_bin[type_cit].shape) \n",
    "\n",
    "            idx_cits = total_cits.nonzero()\n",
    "            idx_refs = total_refs.nonzero()\n",
    "            arrays_refs_bin[type_cit + '_perc_year'][idx_refs] = (arrays_refs_bin[type_cit][idx_refs]/total_refs[idx_refs])*100\n",
    "            arrays_cits_bin[type_cit + '_perc_year'][idx_cits] = (arrays_cits_bin[type_cit][idx_cits]/total_cits[idx_cits])*100\n",
    "\n",
    "\n",
    "\n",
    "            count_cits = np.count_nonzero(total_cits,axis=0)\n",
    "            idx_count_cits = np.where(count_cits)[1]\n",
    "            stats_cits[type_cit + '_perc_year'] = np.zeros(nb_years)\n",
    "            stats_cits[type_cit + '_perc_year'][idx_count_cits] = np.divide(np.sum(arrays_cits_bin[type_cit + '_perc_year'],axis=0)[idx_count_cits],\n",
    "                                                                           count_cits[0,idx_count_cits])\n",
    "\n",
    "\n",
    "            count_refs = np.count_nonzero(total_refs,axis=0)\n",
    "            idx_count_refs = np.where(count_refs)[1]\n",
    "            stats_refs[type_cit + '_perc_year'] = np.zeros(nb_years)\n",
    "            stats_refs[type_cit + '_perc_year'][idx_count_refs] = np.divide(np.sum(arrays_refs_bin[type_cit + '_perc_year'],axis=0)[idx_count_refs],\n",
    "                                                                            count_refs[0,idx_count_refs])                                     \n",
    "\n",
    "\n",
    "\n",
    "\n",
    "        ax1[row_i,col_i].plot(stats_cits['self_perc_year'][:37],'r',label='% direct citations',linewidth=2)\n",
    "        ax1[row_i,col_i].plot(stats_cits['co_perc_year'][:37],'r--',label='% coauthors citations',linewidth=2)\n",
    "        ax1[row_i,col_i].plot(stats_cits['self_net_perc_year'][:37],'r-.',label='% collaborators citations',linewidth=2)\n",
    "        ax1[row_i,col_i].plot(stats_refs['self_perc_year'][:37],'g',label='% direct references',linewidth=2)\n",
    "        ax1[row_i,col_i].plot(stats_refs['co_perc_year'][:37],'g--',label='% coauthors references',linewidth=2)\n",
    "        ax1[row_i,col_i].plot(stats_refs['self_net_perc_year'][:37],'g-.',label='% collaborators references',linewidth=2)\n",
    "\n",
    "\n",
    "\n",
    "\n",
    "        ax2[row_i,col_i].plot(stats_cits['self_perc_year'][:37] + stats_cits['co_perc_year'][:37] ,'b',label='% self citations',linewidth=2)\n",
    "        ax2[row_i,col_i].plot(stats_cits['self_perc_year'][:37] + stats_cits['co_perc_year'][:37] + stats_cits['self_net_perc_year'][:37],\n",
    "                      'b--',label='% self citations + collaborators',linewidth=2)\n",
    "        ax2[row_i,col_i].plot(stats_refs['self_perc_year'][:37]+stats_refs['co_perc_year'][:37],'orange',label = '% self references',linewidth=2)\n",
    "        ax2[row_i,col_i].plot(stats_refs['self_perc_year'][:37] + stats_refs['co_perc_year'][:37] + stats_refs['self_net_perc_year'][:37],\n",
    "                          color='orange',linestyle='--',label='% references + collaborators',linewidth=2)\n",
    "\n",
    "\n",
    "        ax1[row_i,col_i].set_title(str(labels[j]) + ' papers',fontsize=20)\n",
    "        ax2[row_i,col_i].set_title(str(labels[j]) + ' papers',fontsize=20)\n",
    "        if col_i == 0:\n",
    "            ax1[row_i,col_i].set_ylabel('%',fontsize=20)\n",
    "            ax2[row_i,col_i].set_ylabel('%',fontsize=20)\n",
    "        if row_i == 3:\n",
    "            ax1[row_i,col_i].set_xlabel('Academic age',fontsize=20)\n",
    "            ax2[row_i,col_i].set_xlabel('Academic age',fontsize=20)\n",
    "        if j == 0:\n",
    "            ax1[row_i,col_i].legend()\n",
    "            ax2[row_i,col_i].legend()\n",
    "            ax1[row_i,col_i].legend(prop=dict(size=15))\n",
    "            ax2[row_i,col_i].legend(prop=dict(size=15))\n",
    "        ax1[row_i,col_i].tick_params(labelsize=18)\n",
    "        ax2[row_i,col_i].tick_params(labelsize=18)\n",
    "\n",
    "        col_i += 1\n",
    "        if col_i == 4:\n",
    "            col_i = 0\n",
    "            row_i+=1\n",
    "    fig1.suptitle(group, fontsize=25)\n",
    "    fig2.suptitle(group, fontsize=25)\n",
    "    \n",
    "    out_path = path+'results/perc_w_network_panels_nPubs/'\n",
    "    if not os.path.exists(out_path):\n",
    "        os.makedirs(out_path)\n",
    "    fig1.savefig(out_path + group + '.png')\n",
    "    fig1.savefig(out_path + group + '.svg')\n",
    "    \n",
    "    fig2.savefig(out_path + group + '_combined.png')\n",
    "    fig2.savefig(out_path + group + '_combined.svg')\n",
    "\n",
    "    plt.close(fig1)\n",
    "    plt.close(fig2)\n",
    "    del stats_refs, stats_cits,load_ref,load_cit,arrays_cits,arrays_refs"
   ]
  },
  {
   "cell_type": "markdown",
   "metadata": {},
   "source": [
    "### Get raw count of citations"
   ]
  },
  {
   "cell_type": "markdown",
   "metadata": {},
   "source": [
    "#### Groups"
   ]
  },
  {
   "cell_type": "code",
   "execution_count": 16,
   "metadata": {
    "collapsed": true
   },
   "outputs": [],
   "source": [
    "plt.close()"
   ]
  },
  {
   "cell_type": "code",
   "execution_count": 17,
   "metadata": {},
   "outputs": [
    {
     "name": "stderr",
     "output_type": "stream",
     "text": [
      "/home/User1/anaconda3/lib/python3.6/site-packages/ipykernel_launcher.py:1: TqdmDeprecationWarning: This function will be removed in tqdm==5.0.0\n",
      "Please use `tqdm.notebook.tqdm` instead of `tqdm.tqdm_notebook`\n",
      "  \"\"\"Entry point for launching an IPython kernel.\n"
     ]
    },
    {
     "data": {
      "application/vnd.jupyter.widget-view+json": {
       "model_id": "f0ec982190334d909808c59ca9f798ee",
       "version_major": 2,
       "version_minor": 0
      },
      "text/plain": [
       "A Jupyter Widget"
      ]
     },
     "metadata": {},
     "output_type": "display_data"
    },
    {
     "name": "stdout",
     "output_type": "stream",
     "text": [
      "\n"
     ]
    }
   ],
   "source": [
    "for i in tqdm(range(nb_groups)):\n",
    "    group = group_names[i]   \n",
    "    disc_group = disc_groups[group]\n",
    "    arrays_refs = {}\n",
    "    arrays_cits = {}\n",
    "    \n",
    "    fig1, ax1 = plt.subplots(4, 4,figsize=(25,25))\n",
    "    nb_pubs = []\n",
    "    for type_cit in types_cit:\n",
    "        for disc in disc_group:\n",
    "            load_cit = sparse.load_npz('{}/arrays/citations_{}_{}_array_norm.npz'.format(path,type_cit,disc)).todense()\n",
    "            if type_cit == 'self':\n",
    "                nb_auts = load_cit.shape[0]\n",
    "                nb_pubs = nb_pubs + [authors_info[authors_disc_idx[disc][x]][2] for x in range(nb_auts)]\n",
    "            if type_cit in arrays_cits: \n",
    "                arrays_cits[type_cit] = np.concatenate([arrays_cits[type_cit],load_cit],axis=0)\n",
    "            else:\n",
    "                arrays_cits[type_cit] = load_cit\n",
    "\n",
    "    nb_pubs = np.array(nb_pubs)\n",
    "    row_i = 0\n",
    "    col_i = 0\n",
    "    for j in range(nb_plots):\n",
    "        bin_plot = str(labels[j])\n",
    "        bin_idx = np.where(nb_pubs==bin_plot)[0]\n",
    "        arrays_cits_bin = {}\n",
    "        for type_cit in types_cit:\n",
    "            arrays_cits_bin[type_cit] = arrays_cits[type_cit][bin_idx,:]\n",
    "            \n",
    "        active = np.zeros(arrays_cits_bin[type_cit].shape)\n",
    "        last_nz = (arrays_cits_bin[type_cit]!=0).cumsum(1).argmax(1)\n",
    "        nb_cit = np.sum(arrays_cits_bin[type_cit],axis=1)\n",
    "        for k in range(active.shape[0]):\n",
    "            if nb_cit[k] > 0:\n",
    "                last_idx = np.asarray(last_nz[k])[0][0]\n",
    "                active[k,:last_idx+1] = 1\n",
    "        nb_active = np.sum(active,axis=0)\n",
    "        plot_types = ['self','co','others']\n",
    "        stats_cits = {}\n",
    "        #idx_active = np.where()\n",
    "        for type_cit in plot_types:\n",
    "            #stats_cits[type_cit + '_count_year'] = np.zeros(nb_years)\n",
    "            stats_cits[type_cit + '_count_year'] = np.divide(np.squeeze(np.asarray(np.sum(arrays_cits_bin[type_cit],axis=0))),nb_active)    \n",
    "\n",
    "        ax1[row_i,col_i].plot(stats_cits['self_count_year'][:37],'r',label='Self')\n",
    "        ax1[row_i,col_i].plot(stats_cits['co_count_year'][:37],'r--',label='Coauthors')\n",
    "        if j == 0:\n",
    "            ax1[row_i,col_i].legend()\n",
    "            ax1[row_i,col_i].legend(prop=dict(size=15))\n",
    "      \n",
    "        #ax1[row_i,col_i].twinx()\n",
    "        ax1[row_i,col_i].plot(stats_cits['others_count_year'][:37],'k',label='Non-self')\n",
    "        ax1[row_i,col_i].set_title(str(labels[j]) + ' papers',fontsize=20)\n",
    "        if col_i == 0:\n",
    "            ax1[row_i,col_i].set_ylabel('# citations',fontsize=20)\n",
    "        if row_i == 3:\n",
    "            ax1[row_i,col_i].set_xlabel('Academic age',fontsize=20)\n",
    "        if j == 0:\n",
    "            #ax1[row_i,col_i].legend()\n",
    "            ax1[row_i,col_i].legend(prop=dict(size=15))\n",
    "\n",
    "        ax1[row_i,col_i].tick_params(labelsize=18)\n",
    "\n",
    "        col_i += 1\n",
    "        if col_i == 4:\n",
    "            col_i = 0\n",
    "            row_i+=1\n",
    "    fig1.suptitle(group, fontsize=25)\n",
    "\n",
    "    out_path = path+'results/perc_w_network_panels_nPubs/'\n",
    "    if not os.path.exists(out_path):\n",
    "        os.makedirs(out_path)\n",
    "    fig1.savefig(out_path + group + '_count.png')\n",
    "    plt.close(fig1)\n",
    "    del  stats_cits,load_cit,arrays_cits"
   ]
  },
  {
   "cell_type": "markdown",
   "metadata": {},
   "source": [
    "### Show cumulative data"
   ]
  },
  {
   "cell_type": "code",
   "execution_count": 19,
   "metadata": {},
   "outputs": [
    {
     "name": "stderr",
     "output_type": "stream",
     "text": [
      "/home/User1/anaconda3/lib/python3.6/site-packages/ipykernel_launcher.py:1: TqdmDeprecationWarning: This function will be removed in tqdm==5.0.0\n",
      "Please use `tqdm.notebook.tqdm` instead of `tqdm.tqdm_notebook`\n",
      "  \"\"\"Entry point for launching an IPython kernel.\n"
     ]
    },
    {
     "data": {
      "application/vnd.jupyter.widget-view+json": {
       "model_id": "7dbed419652f4a40b51c864aa60bdc79",
       "version_major": 2,
       "version_minor": 0
      },
      "text/plain": [
       "A Jupyter Widget"
      ]
     },
     "metadata": {},
     "output_type": "display_data"
    },
    {
     "name": "stdout",
     "output_type": "stream",
     "text": [
      "\n"
     ]
    }
   ],
   "source": [
    "for i in tqdm(range(nb_groups)):\n",
    "    group = group_names[i]   \n",
    "    disc_group = disc_groups[group]\n",
    "    arrays_refs = {}\n",
    "    arrays_cits = {}\n",
    "    fig1, ax1 = plt.subplots(4, 4,figsize=(25,25))\n",
    "    fig2, ax2 = plt.subplots(4, 4,figsize=(25,25))\n",
    "    nb_pubs = []\n",
    "    for type_cit in types_cit:\n",
    "        for disc in disc_group:\n",
    "            load_ref = sparse.load_npz('{}/arrays/references_{}_{}_array_norm.npz'.format(path,type_cit,disc)).todense()\n",
    "            load_cit = sparse.load_npz('{}/arrays/citations_{}_{}_array_norm.npz'.format(path,type_cit,disc)).todense()\n",
    "            if type_cit == 'self':\n",
    "                nb_auts = load_cit.shape[0]\n",
    "                nb_pubs = nb_pubs + [authors_info[authors_disc_idx[disc][x]][2] for x in range(nb_auts)]\n",
    "            if type_cit in arrays_cits: \n",
    "                arrays_cits[type_cit] = np.concatenate([arrays_cits[type_cit],load_cit],axis=0)\n",
    "                arrays_refs[type_cit] = np.concatenate([arrays_refs[type_cit],load_ref],axis=0)\n",
    "            else:\n",
    "                arrays_cits[type_cit] = load_cit\n",
    "                arrays_refs[type_cit] = load_ref\n",
    "    \n",
    "\n",
    "    for disc in disc_group:\n",
    "        load_ref = sparse.load_npz('{}/arrays/references_self_{}_network_array_norm.npz'.format(path,disc)).todense()\n",
    "        load_cit = sparse.load_npz('{}/arrays/citations_self_{}_network_array_norm.npz'.format(path,disc)).todense()\n",
    "\n",
    "        if 'self_net' in arrays_cits:\n",
    "            arrays_cits['self_net'] = np.concatenate([arrays_cits['self_net'],\n",
    "                                                   load_cit],axis=0)\n",
    "            arrays_refs['self_net'] = np.concatenate([arrays_refs['self_net'],\n",
    "                                                   load_ref],axis=0)\n",
    "        else:\n",
    "            arrays_cits['self_net'] = load_cit\n",
    "            arrays_refs['self_net'] = load_ref\n",
    "    del load_ref,load_cit\n",
    "    nb_pubs = np.array(nb_pubs)\n",
    "    row_i = 0\n",
    "    col_i = 0\n",
    "    for j in range(nb_plots):\n",
    "        bin_plot = str(labels[j])\n",
    "        bin_idx = np.where(nb_pubs==bin_plot)[0]\n",
    "        arrays_refs_bin = {}\n",
    "        arrays_cits_bin = {}\n",
    "        for type_cit in types_cit + ['self_net']:\n",
    "            arrays_refs_bin[type_cit] = arrays_refs[type_cit][bin_idx,:]\n",
    "            arrays_cits_bin[type_cit] = arrays_cits[type_cit][bin_idx,:]\n",
    "        for type_cit in types_cit:\n",
    "            arrays_cits_bin[type_cit] = np.cumsum(arrays_cits_bin[type_cit],axis=1)\n",
    "            arrays_refs_bin[type_cit] = np.cumsum(arrays_refs_bin[type_cit],axis=1)\n",
    "        total_refs = arrays_refs_bin['self'] + arrays_refs_bin['co'] + arrays_refs_bin['others'] \n",
    "        total_cits =  arrays_cits_bin['self'] + arrays_cits_bin['co'] + arrays_cits_bin['others'] \n",
    "        total_refs_cumul = np.sum(total_refs,axis=1)\n",
    "        total_cits_cumul = np.sum(total_cits,axis=1)\n",
    "        rows_refs = np.where(total_refs_cumul)[0]\n",
    "        rows_cits = np.where(total_cits_cumul)[0]\n",
    "\n",
    "        plot_types = ['self','co','self_net']\n",
    "        stats_refs = {}\n",
    "        stats_cits = {}\n",
    "\n",
    "        for type_cit in plot_types:\n",
    "            arrays_refs_bin[type_cit + '_perc_year'] = np.zeros(arrays_refs_bin[type_cit].shape) \n",
    "            arrays_cits_bin[type_cit + '_perc_year'] = np.zeros(arrays_cits_bin[type_cit].shape) \n",
    "\n",
    "            idx_cits = total_cits.nonzero()\n",
    "            idx_refs = total_refs.nonzero()\n",
    "            arrays_refs_bin[type_cit + '_perc_year'][idx_refs] = (arrays_refs_bin[type_cit][idx_refs]/total_refs[idx_refs])*100\n",
    "            arrays_cits_bin[type_cit + '_perc_year'][idx_cits] = (arrays_cits_bin[type_cit][idx_cits]/total_cits[idx_cits])*100\n",
    "\n",
    "\n",
    "\n",
    "            count_cits = np.count_nonzero(total_cits,axis=0)\n",
    "            idx_count_cits = np.where(count_cits)[1]\n",
    "            stats_cits[type_cit + '_perc_year'] = np.zeros(nb_years)\n",
    "            stats_cits[type_cit + '_perc_year'][idx_count_cits] = np.divide(np.sum(arrays_cits_bin[type_cit + '_perc_year'],axis=0)[idx_count_cits],\n",
    "                                                                           count_cits[0,idx_count_cits])\n",
    "\n",
    "\n",
    "            count_refs = np.count_nonzero(total_refs,axis=0)\n",
    "            idx_count_refs = np.where(count_refs)[1]\n",
    "            stats_refs[type_cit + '_perc_year'] = np.zeros(nb_years)\n",
    "            stats_refs[type_cit + '_perc_year'][idx_count_refs] = np.divide(np.sum(arrays_refs_bin[type_cit + '_perc_year'],axis=0)[idx_count_refs],\n",
    "                                                                            count_refs[0,idx_count_refs])                                   \n",
    "\n",
    "\n",
    "\n",
    "\n",
    "        ax1[row_i,col_i].plot(stats_cits['self_perc_year'][:37],'r',label='% self citations',linewidth=2)\n",
    "        ax1[row_i,col_i].plot(stats_cits['co_perc_year'][:37],'r--',label='% coauthors citations',linewidth=2)\n",
    "        ax1[row_i,col_i].plot(stats_cits['self_net_perc_year'][:37],'r-.',label='% network citations',linewidth=2)\n",
    "        ax1[row_i,col_i].plot(stats_refs['self_perc_year'][:37],'g',label='% self references',linewidth=2)\n",
    "        ax1[row_i,col_i].plot(stats_refs['co_perc_year'][:37],'g--',label='% coauthors references',linewidth=2)\n",
    "        ax1[row_i,col_i].plot(stats_refs['self_net_perc_year'][:37],'g-.',label='% network references',linewidth=2)\n",
    "\n",
    "\n",
    "\n",
    "\n",
    "        ax2[row_i,col_i].plot(stats_cits['self_perc_year'][:37] + stats_cits['co_perc_year'][:37] ,'b',label='% citations',linewidth=2)\n",
    "        ax2[row_i,col_i].plot(stats_cits['self_perc_year'][:37] + stats_cits['co_perc_year'][:37] + stats_cits['self_net_perc_year'][:37],\n",
    "                      'b--',label='% citations w\\\\ network',linewidth=2)\n",
    "        ax2[row_i,col_i].plot(stats_refs['self_perc_year'][:37]+stats_refs['co_perc_year'][:37],'orange',label = '% references',linewidth=2)\n",
    "        ax2[row_i,col_i].plot(stats_refs['self_perc_year'][:37] + stats_refs['co_perc_year'][:37] + stats_refs['self_net_perc_year'][:37],\n",
    "                          color='orange',linestyle='--',label='% references w\\\\ network',linewidth=2)\n",
    "\n",
    "\n",
    "        ax1[row_i,col_i].set_title(str(labels[j]) + ' papers',fontsize=20)\n",
    "        ax2[row_i,col_i].set_title(str(labels[j]) + ' papers',fontsize=20)\n",
    "        if col_i == 0:\n",
    "            ax1[row_i,col_i].set_ylabel('%',fontsize=20)\n",
    "            ax2[row_i,col_i].set_ylabel('%',fontsize=20)\n",
    "        if row_i == 3:\n",
    "            ax1[row_i,col_i].set_xlabel('Academic age',fontsize=20)\n",
    "            ax2[row_i,col_i].set_xlabel('Academic age',fontsize=20)\n",
    "        if j == 0:\n",
    "            ax1[row_i,col_i].legend()\n",
    "            ax2[row_i,col_i].legend()\n",
    "            ax1[row_i,col_i].legend(prop=dict(size=15))\n",
    "            ax2[row_i,col_i].legend(prop=dict(size=15))\n",
    "        ax1[row_i,col_i].tick_params(labelsize=18)\n",
    "        ax2[row_i,col_i].tick_params(labelsize=18)\n",
    "\n",
    "        col_i += 1\n",
    "        if col_i == 4:\n",
    "            col_i = 0\n",
    "            row_i+=1\n",
    "    fig1.suptitle(group, fontsize=25)\n",
    "    fig2.suptitle(group, fontsize=25)\n",
    "    \n",
    "    out_path = path+'results/perc_w_network_panels_nPubs/'\n",
    "    if not os.path.exists(out_path):\n",
    "        os.makedirs(out_path)\n",
    "    fig1.savefig(out_path + group + '_cumul.png')\n",
    "    fig2.savefig(out_path + group + '_cumul.svg')\n",
    "\n",
    "    plt.close(fig1)\n",
    "    plt.close(fig2)\n",
    "    del stats_refs, stats_cits,arrays_cits,arrays_refs"
   ]
  },
  {
   "cell_type": "code",
   "execution_count": 18,
   "metadata": {},
   "outputs": [
    {
     "name": "stderr",
     "output_type": "stream",
     "text": [
      "/home/User1/anaconda3/lib/python3.6/site-packages/ipykernel_launcher.py:1: TqdmDeprecationWarning: This function will be removed in tqdm==5.0.0\n",
      "Please use `tqdm.notebook.tqdm` instead of `tqdm.tqdm_notebook`\n",
      "  \"\"\"Entry point for launching an IPython kernel.\n"
     ]
    },
    {
     "data": {
      "application/vnd.jupyter.widget-view+json": {
       "model_id": "1ed7dace942e4bba8250d84dec876a11",
       "version_major": 2,
       "version_minor": 0
      },
      "text/plain": [
       "A Jupyter Widget"
      ]
     },
     "metadata": {},
     "output_type": "display_data"
    },
    {
     "ename": "TypeError",
     "evalue": "'<' not supported between instances of 'numpy.ndarray' and 'int'",
     "output_type": "error",
     "traceback": [
      "\u001b[0;31m---------------------------------------------------------------------------\u001b[0m",
      "\u001b[0;31mTypeError\u001b[0m                                 Traceback (most recent call last)",
      "\u001b[0;32m<ipython-input-18-bc824e6d8af9>\u001b[0m in \u001b[0;36m<module>\u001b[0;34m()\u001b[0m\n\u001b[1;32m     11\u001b[0m             \u001b[0mnb_auts\u001b[0m \u001b[0;34m=\u001b[0m \u001b[0mload_cit\u001b[0m\u001b[0;34m.\u001b[0m\u001b[0mshape\u001b[0m\u001b[0;34m[\u001b[0m\u001b[0;36m0\u001b[0m\u001b[0;34m]\u001b[0m\u001b[0;34m\u001b[0m\u001b[0m\n\u001b[1;32m     12\u001b[0m             \u001b[0mnb_pubs\u001b[0m \u001b[0;34m=\u001b[0m \u001b[0mnp\u001b[0m\u001b[0;34m.\u001b[0m\u001b[0marray\u001b[0m\u001b[0;34m(\u001b[0m\u001b[0;34m[\u001b[0m\u001b[0mauthors_info\u001b[0m\u001b[0;34m[\u001b[0m\u001b[0mauthors_disc_idx\u001b[0m\u001b[0;34m[\u001b[0m\u001b[0mdisc\u001b[0m\u001b[0;34m]\u001b[0m\u001b[0;34m[\u001b[0m\u001b[0mx\u001b[0m\u001b[0;34m]\u001b[0m\u001b[0;34m]\u001b[0m\u001b[0;34m[\u001b[0m\u001b[0;36m2\u001b[0m\u001b[0;34m]\u001b[0m \u001b[0;32mfor\u001b[0m \u001b[0mx\u001b[0m \u001b[0;32min\u001b[0m \u001b[0mrange\u001b[0m\u001b[0;34m(\u001b[0m\u001b[0mnb_auts\u001b[0m\u001b[0;34m)\u001b[0m\u001b[0;34m]\u001b[0m\u001b[0;34m)\u001b[0m\u001b[0;34m\u001b[0m\u001b[0m\n\u001b[0;32m---> 13\u001b[0;31m             \u001b[0mno_min_pub\u001b[0m \u001b[0;34m=\u001b[0m \u001b[0mnp\u001b[0m\u001b[0;34m.\u001b[0m\u001b[0mwhere\u001b[0m\u001b[0;34m(\u001b[0m\u001b[0mnb_pubs\u001b[0m\u001b[0;34m<\u001b[0m\u001b[0mmin_pubs\u001b[0m\u001b[0;34m)\u001b[0m\u001b[0;34m[\u001b[0m\u001b[0;36m0\u001b[0m\u001b[0;34m]\u001b[0m\u001b[0;34m\u001b[0m\u001b[0m\n\u001b[0m\u001b[1;32m     14\u001b[0m             \u001b[0mload_cit\u001b[0m\u001b[0;34m[\u001b[0m\u001b[0mno_min_pub\u001b[0m\u001b[0;34m,\u001b[0m\u001b[0;34m:\u001b[0m\u001b[0;34m]\u001b[0m \u001b[0;34m=\u001b[0m \u001b[0;36m0\u001b[0m\u001b[0;34m\u001b[0m\u001b[0m\n\u001b[1;32m     15\u001b[0m \u001b[0;34m\u001b[0m\u001b[0m\n",
      "\u001b[0;31mTypeError\u001b[0m: '<' not supported between instances of 'numpy.ndarray' and 'int'"
     ]
    }
   ],
   "source": [
    "for i in tqdm(range(nb_groups)):\n",
    "    group = group_names[i]   \n",
    "    disc_group = disc_groups[group]\n",
    "    arrays_refs = {}\n",
    "    arrays_cits = {}\n",
    "    \n",
    "    for type_cit in types_cit:\n",
    "        for disc in disc_group:\n",
    "            load_ref = sparse.load_npz('{}/arrays/references_{}_{}_array_norm.npz'.format(path,type_cit,disc)).todense()\n",
    "            load_cit = sparse.load_npz('{}/arrays/citations_{}_{}_array_norm.npz'.format(path,type_cit,disc)).todense()\n",
    "            nb_auts = load_cit.shape[0]\n",
    "            nb_pubs = np.array([authors_info[authors_disc_idx[disc][x]][2] for x in range(nb_auts)])\n",
    "            no_min_pub = np.where(nb_pubs<min_pubs)[0]\n",
    "            load_cit[no_min_pub,:] = 0 \n",
    "\n",
    "            if type_cit in arrays_cits: \n",
    "                arrays_cits[type_cit] = np.concatenate([arrays_cits[type_cit],load_cit],axis=0)\n",
    "                arrays_refs[type_cit] = np.concatenate([arrays_refs[type_cit],load_ref],axis=0)\n",
    "            else:\n",
    "                arrays_cits[type_cit] = load_cit\n",
    "                arrays_refs[type_cit] = load_ref\n",
    "            \n",
    "    for disc in disc_group:\n",
    "        load_ref = sparse.load_npz('{}/arrays/references_self_{}_network_array_norm.npz'.format(path,disc)).todense()\n",
    "        load_cit = sparse.load_npz('{}/arrays/citations_self_{}_network_array_norm.npz'.format(path,disc)).todense()\n",
    "        nb_auts = load_cit.shape[0]\n",
    "        nb_pubs = np.array([authors_info[authors_disc_idx[disc][x]][2] for x in range(nb_auts)])\n",
    "        no_min_pub = np.where(nb_pubs<min_pubs)[0]\n",
    "        load_cit[no_min_pub,:] = 0 \n",
    "        if 'self_net' in arrays_cits:\n",
    "            arrays_cits['self_net'] = np.concatenate([arrays_cits['self_net'],\n",
    "                                                   load_cit],axis=0)\n",
    "            arrays_refs['self_net'] = np.concatenate([arrays_refs['self_net'],\n",
    "                                                   load_ref],axis=0)\n",
    "        else:\n",
    "            arrays_cits['self_net'] = load_cit\n",
    "            arrays_refs['self_net'] = load_ref\n",
    "            \n",
    "    for type_cit in types_cit:\n",
    "        arrays_cits[type_cit] = np.cumsum(arrays_cits[type_cit],axis=1)\n",
    "        arrays_refs[type_cit] = np.cumsum(arrays_refs[type_cit],axis=1)\n",
    "        \n",
    "    #arrays_cits['self_net'] = sparse.load_npz('{}/arrays/citations_self_{}_network_array_norm.npz'.format(path,disc)).todense()\n",
    "    #arrays_refs['self_net'] = sparse.load_npz('{}/arrays/references_self_{}_network_array_norm.npz'.format(path,disc)).todense()\n",
    "    total_refs = arrays_refs['self'] + arrays_refs['co'] + arrays_refs['others'] \n",
    "    total_cits =  arrays_cits['self'] + arrays_cits['co'] + arrays_cits['others'] \n",
    "    total_refs_cumul = np.sum(total_refs,axis=1)\n",
    "    total_cits_cumul = np.sum(total_cits,axis=1)\n",
    "    rows_refs = np.where(total_refs_cumul)[0]\n",
    "    rows_cits = np.where(total_cits_cumul)[0]\n",
    "    \n",
    "    plot_types = ['self','co','self_net']\n",
    "    stats_refs = {}\n",
    "    stats_cits = {}\n",
    "        \n",
    "    for type_cit in plot_types:\n",
    "        arrays_refs[type_cit + '_perc_year'] = np.zeros(arrays_refs[type_cit].shape) \n",
    "        arrays_cits[type_cit + '_perc_year'] = np.zeros(arrays_cits[type_cit].shape) \n",
    "        \n",
    "        idx_cits = total_cits.nonzero()\n",
    "        idx_refs = total_refs.nonzero()\n",
    "        arrays_refs[type_cit + '_perc_year'][idx_refs] = (arrays_refs[type_cit][idx_refs]/total_refs[idx_refs])*100\n",
    "        arrays_cits[type_cit + '_perc_year'][idx_cits] = (arrays_cits[type_cit][idx_cits]/total_cits[idx_cits])*100\n",
    "        \n",
    "\n",
    "     \n",
    "        count_cits = np.count_nonzero(total_cits,axis=0)\n",
    "        idx_count_cits = np.where(count_cits)[1]\n",
    "        stats_cits[type_cit + '_perc_year'] = np.zeros(nb_years)\n",
    "        stats_cits[type_cit + '_perc_year'][idx_count_cits] = np.divide(np.sum(arrays_cits[type_cit + '_perc_year'],axis=0)[idx_count_cits],\n",
    "                                                                       count_cits[0,idx_count_cits])\n",
    "        \n",
    "        \n",
    "        count_refs = np.count_nonzero(total_refs,axis=0)\n",
    "        idx_count_refs = np.where(count_refs)[1]\n",
    "        stats_refs[type_cit + '_perc_year'] = np.zeros(nb_years)\n",
    "        stats_refs[type_cit + '_perc_year'][idx_count_refs] = np.divide(np.sum(arrays_refs[type_cit + '_perc_year'],axis=0)[idx_count_refs],\n",
    "                                                                        count_refs[0,idx_count_refs])                                     \n",
    "\n",
    "    \n",
    "    \n",
    "    plt.figure(figsize=(15,6))\n",
    "    plt.subplot(121)\n",
    "    plt.plot(stats_cits['self_perc_year'][:37],'r',label='% self citations',linewidth=2)\n",
    "    plt.plot(stats_cits['co_perc_year'][:37],'r--',label='% coauthors citations',linewidth=2)\n",
    "    plt.plot(stats_cits['self_net_perc_year'][:37],'r-.',label='% network citations',linewidth=2)\n",
    "    plt.plot(stats_refs['self_perc_year'][:37],'g',label='% self references',linewidth=2)\n",
    "    plt.plot(stats_refs['co_perc_year'][:37],'g--',label='% coauthors references',linewidth=2)\n",
    "    plt.plot(stats_refs['self_net_perc_year'][:37],'g-.',label='% network references',linewidth=2)\n",
    "    plt.title(group,fontsize=20)\n",
    "    plt.ylabel('%',fontsize=20)\n",
    "    plt.xlabel('Year since first publication',fontsize=20)\n",
    "    plt.legend()\n",
    "    plt.tick_params(labelsize=18)\n",
    "\n",
    "\n",
    "    plt.subplot(122)\n",
    "    plt.plot(stats_cits['self_perc_year'][:37] + stats_cits['co_perc_year'][:37] ,'b',label='% citations',linewidth=2)\n",
    "    plt.plot(stats_cits['self_perc_year'][:37] + stats_cits['co_perc_year'][:37] + stats_cits['self_net_perc_year'][:37],\n",
    "             'b--',label='% citations w\\\\ network',linewidth=2)\n",
    "    plt.plot(stats_refs['self_perc_year'][:37]+stats_refs['co_perc_year'][:37],'orange',label = '% references',linewidth=2)\n",
    "    plt.plot(stats_refs['self_perc_year'][:37] + stats_refs['co_perc_year'][:37] + stats_refs['self_net_perc_year'][:37],\n",
    "             color='orange',linestyle='--',label='% references w\\\\ network',linewidth=2)\n",
    "    plt.title(group,fontsize=20)\n",
    "    plt.ylabel('%',fontsize=20)\n",
    "    plt.xlabel('Year since first publication',fontsize=20)\n",
    "    plt.legend()\n",
    "    plt.tick_params(labelsize=18)\n",
    "    \n",
    "    \n",
    "    plt.legend()\n",
    "    out_path = path+'results/perc_cumulative_w_network_min{}pubs/'.format(min_pubs)\n",
    "    #plt.show()\n",
    "    if not os.path.exists(out_path):\n",
    "        os.makedirs(out_path)\n",
    "    plt.savefig(out_path + group + '.png')\n",
    "    plt.savefig(out_path + group + '.svg')\n",
    "\n",
    "    plt.close()"
   ]
  },
  {
   "cell_type": "code",
   "execution_count": null,
   "metadata": {
    "collapsed": true
   },
   "outputs": [],
   "source": []
  }
 ],
 "metadata": {
  "kernelspec": {
   "display_name": "Python 3",
   "language": "python",
   "name": "python3"
  },
  "language_info": {
   "codemirror_mode": {
    "name": "ipython",
    "version": 3
   },
   "file_extension": ".py",
   "mimetype": "text/x-python",
   "name": "python",
   "nbconvert_exporter": "python",
   "pygments_lexer": "ipython3",
   "version": "3.6.3"
  }
 },
 "nbformat": 4,
 "nbformat_minor": 2
}
