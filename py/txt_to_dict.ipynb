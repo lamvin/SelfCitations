{
 "cells": [
  {
   "cell_type": "code",
   "execution_count": 1,
   "metadata": {
    "collapsed": true
   },
   "outputs": [],
   "source": [
    "import numpy as np\n",
    "import csv\n",
    "import pickle\n",
    "import pandas as pd"
   ]
  },
  {
   "cell_type": "code",
   "execution_count": 2,
   "metadata": {
    "collapsed": true
   },
   "outputs": [],
   "source": [
    "path = '/home/User1/data/self_citations/'"
   ]
  },
  {
   "cell_type": "code",
   "execution_count": 3,
   "metadata": {},
   "outputs": [
    {
     "ename": "KeyboardInterrupt",
     "evalue": "",
     "output_type": "error",
     "traceback": [
      "\u001b[0;31m---------------------------------------------------------------------------\u001b[0m",
      "\u001b[0;31mKeyboardInterrupt\u001b[0m                         Traceback (most recent call last)",
      "\u001b[0;32m<ipython-input-3-4bfe138dccf2>\u001b[0m in \u001b[0;36m<module>\u001b[0;34m()\u001b[0m\n\u001b[1;32m     14\u001b[0m \u001b[0;34m\u001b[0m\u001b[0m\n\u001b[1;32m     15\u001b[0m         \u001b[0;32mif\u001b[0m \u001b[0mkey_cite\u001b[0m \u001b[0;32min\u001b[0m \u001b[0mdict_cite\u001b[0m\u001b[0;34m:\u001b[0m\u001b[0;34m\u001b[0m\u001b[0m\n\u001b[0;32m---> 16\u001b[0;31m             \u001b[0mdict_cite\u001b[0m\u001b[0;34m[\u001b[0m\u001b[0mkey_cite\u001b[0m\u001b[0;34m]\u001b[0m \u001b[0;34m=\u001b[0m \u001b[0mnp\u001b[0m\u001b[0;34m.\u001b[0m\u001b[0mappend\u001b[0m\u001b[0;34m(\u001b[0m\u001b[0mdict_cite\u001b[0m\u001b[0;34m[\u001b[0m\u001b[0mkey_cite\u001b[0m\u001b[0;34m]\u001b[0m\u001b[0;34m,\u001b[0m\u001b[0mkey_citant\u001b[0m\u001b[0;34m)\u001b[0m\u001b[0;34m\u001b[0m\u001b[0m\n\u001b[0m\u001b[1;32m     17\u001b[0m         \u001b[0;32melse\u001b[0m\u001b[0;34m:\u001b[0m\u001b[0;34m\u001b[0m\u001b[0m\n\u001b[1;32m     18\u001b[0m             \u001b[0mdict_cite\u001b[0m\u001b[0;34m[\u001b[0m\u001b[0mkey_cite\u001b[0m\u001b[0;34m]\u001b[0m \u001b[0;34m=\u001b[0m \u001b[0mnp\u001b[0m\u001b[0;34m.\u001b[0m\u001b[0marray\u001b[0m\u001b[0;34m(\u001b[0m\u001b[0;34m[\u001b[0m\u001b[0mkey_citant\u001b[0m\u001b[0;34m]\u001b[0m\u001b[0;34m,\u001b[0m\u001b[0mdtype\u001b[0m\u001b[0;34m=\u001b[0m\u001b[0mnp\u001b[0m\u001b[0;34m.\u001b[0m\u001b[0muint32\u001b[0m\u001b[0;34m)\u001b[0m\u001b[0;34m\u001b[0m\u001b[0m\n",
      "\u001b[0;31mKeyboardInterrupt\u001b[0m: "
     ]
    }
   ],
   "source": [
    "dict_citant = {}\n",
    "dict_cite = {}\n",
    "with open(path+'../cit2010minus.txt','r') as f:\n",
    "    reader = csv.reader(f,delimiter='\\t')\n",
    "    next(reader)\n",
    "    for line in reader:\n",
    "        key_citant = int(line[1])\n",
    "        key_cite = int(line[0])\n",
    "        if key_citant in dict_citant:\n",
    "            dict_citant[key_citant] = np.append(dict_citant[key_citant],key_cite) \n",
    "        else:\n",
    "            dict_citant[key_citant] = np.array([key_cite],dtype=np.uint32) \n",
    "            \n",
    "        \n",
    "        if key_cite in dict_cite:\n",
    "            dict_cite[key_cite] = np.append(dict_cite[key_cite],key_citant) \n",
    "        else:\n",
    "            dict_cite[key_cite] = np.array([key_citant],dtype=np.uint32) \n",
    "print('*')            \n",
    "with open(path+'../cit2010plus.txt','r') as f:\n",
    "    reader = csv.reader(f,delimiter='\\t')\n",
    "    next(reader)\n",
    "    for line in reader:\n",
    "        key_citant = int(line[1])\n",
    "        key_cite = int(line[0])\n",
    "        if key_citant in dict_citant:\n",
    "            dict_citant[key_citant] = np.append(dict_citant[key_citant],key_cite) \n",
    "        else:\n",
    "            dict_citant[key_citant] = np.array([key_cite],dtype=np.uint32) \n",
    "            \n",
    "        \n",
    "        if key_cite in dict_cite:\n",
    "            dict_cite[key_cite] = np.append(dict_cite[key_cite],key_citant) \n",
    "        else:\n",
    "            dict_cite[key_cite] = np.array([key_citant],dtype=np.uint32) "
   ]
  },
  {
   "cell_type": "code",
   "execution_count": 4,
   "metadata": {},
   "outputs": [
    {
     "name": "stdout",
     "output_type": "stream",
     "text": [
      "*\n"
     ]
    }
   ],
   "source": [
    "dict_citant = {}\n",
    "dict_cite = {}\n",
    "with open(path+'../cit2010minus.txt','r') as f:\n",
    "    reader = csv.reader(f,delimiter='\\t')\n",
    "    next(reader)\n",
    "    for line in reader:\n",
    "        key_citant = int(line[1])\n",
    "        key_cite = int(line[0])       \n",
    "        if key_cite in dict_cite:\n",
    "            dict_cite[key_cite] = np.append(dict_cite[key_cite],key_citant) \n",
    "        else:\n",
    "            dict_cite[key_cite] = np.array([key_citant],dtype=np.uint32) \n",
    "print('*')            \n",
    "with open(path+'../cit2010plus.txt','r') as f:\n",
    "    reader = csv.reader(f,delimiter='\\t')\n",
    "    next(reader)\n",
    "    for line in reader:\n",
    "        key_cite = int(line[0])\n",
    "        key_citant = int(line[1])\n",
    "        if key_cite in dict_cite:\n",
    "            dict_cite[key_cite] = np.append(dict_cite[key_cite],key_citant) \n",
    "        else:\n",
    "            dict_cite[key_cite] = np.array([key_citant],dtype=np.uint32) \n",
    "with open(path+'dict_cite.p','wb') as f:\n",
    "    pickle.dump(dict_cite,f)"
   ]
  },
  {
   "cell_type": "code",
   "execution_count": null,
   "metadata": {
    "collapsed": true
   },
   "outputs": [],
   "source": [
    "with open(path+'dict_citant.p','wb') as f:\n",
    "    pickle.dump(dict_citant,f)\n",
    "with open(path+'dict_cite.p','wb') as f:\n",
    "    pickle.dump(dict_cite,f)"
   ]
  },
  {
   "cell_type": "code",
   "execution_count": null,
   "metadata": {
    "collapsed": true
   },
   "outputs": [],
   "source": [
    "articles = pd.read_csv(path+'article.txt',sep='\\t')\n",
    "clusterID = pd.read_csv(path+'clusterID.txt',sep='\\t')\n",
    "clusterID = clusterID.merge(articles[['ID_Art','ItemID']],left_on='UT',right_on='ItemID')\n",
    "clusterID = clusterID.drop(['UT','ItemID'],axis=1)"
   ]
  },
  {
   "cell_type": "code",
   "execution_count": 2,
   "metadata": {},
   "outputs": [
    {
     "ename": "NameError",
     "evalue": "name 'clusterID' is not defined",
     "output_type": "error",
     "traceback": [
      "\u001b[0;31m---------------------------------------------------------------------------\u001b[0m",
      "\u001b[0;31mNameError\u001b[0m                                 Traceback (most recent call last)",
      "\u001b[0;32m<ipython-input-2-99264f8e7e00>\u001b[0m in \u001b[0;36m<module>\u001b[0;34m()\u001b[0m\n\u001b[1;32m      2\u001b[0m \u001b[0mdict_cluster_art\u001b[0m \u001b[0;34m=\u001b[0m \u001b[0;34m{\u001b[0m\u001b[0;34m}\u001b[0m\u001b[0;34m\u001b[0m\u001b[0m\n\u001b[1;32m      3\u001b[0m \u001b[0mj\u001b[0m\u001b[0;34m=\u001b[0m\u001b[0;36m0\u001b[0m\u001b[0;34m\u001b[0m\u001b[0m\n\u001b[0;32m----> 4\u001b[0;31m \u001b[0;32mfor\u001b[0m \u001b[0mrow\u001b[0m \u001b[0;32min\u001b[0m \u001b[0mclusterID\u001b[0m\u001b[0;34m.\u001b[0m\u001b[0miterrows\u001b[0m\u001b[0;34m(\u001b[0m\u001b[0;34m)\u001b[0m\u001b[0;34m:\u001b[0m\u001b[0;34m\u001b[0m\u001b[0m\n\u001b[0m\u001b[1;32m      5\u001b[0m     \u001b[0mprint\u001b[0m\u001b[0;34m(\u001b[0m\u001b[0mrow\u001b[0m\u001b[0;34m)\u001b[0m\u001b[0;34m\u001b[0m\u001b[0m\n\u001b[1;32m      6\u001b[0m     \u001b[0mj\u001b[0m\u001b[0;34m+=\u001b[0m\u001b[0;36m1\u001b[0m\u001b[0;34m\u001b[0m\u001b[0m\n",
      "\u001b[0;31mNameError\u001b[0m: name 'clusterID' is not defined"
     ]
    }
   ],
   "source": [
    "dict_cluster_ID = {}\n",
    "dict_cluster_art = {}\n",
    "for row in clusterID.iterrows():\n",
    "    ID_Art = row[1]['ID_Art']\n",
    "    Cluster_ID = row[1]['Cluster_ID']\n",
    "    if ID_Art in dict_cluster_art:\n",
    "        dict_cluster_art[ID_Art] = np.append(dict_cluster_art[ID_Art],Cluster_ID) \n",
    "    else:\n",
    "        dict_cluster_art[ID_Art] = np.array([Cluster_ID],dtype=np.uint32) \n",
    "\n",
    "    if Cluster_ID in dict_cluster_ID:\n",
    "        dict_cluster_ID[Cluster_ID] = np.append(dict_cluster_ID[Cluster_ID],ID_Art) \n",
    "    else:\n",
    "        dict_cluster_ID[Cluster_ID] = np.array([ID_Art],dtype=np.uint32) "
   ]
  },
  {
   "cell_type": "code",
   "execution_count": null,
   "metadata": {
    "collapsed": true
   },
   "outputs": [],
   "source": [
    "with open(path+'dict_cluster_ID.p','wb') as f:\n",
    "    pickle.dump(dict_cluster_ID,f)\n",
    "with open(path+'dict_cluster_art.p','wb') as f:\n",
    "    pickle.dump(dict_cluster_art,f)"
   ]
  },
  {
   "cell_type": "code",
   "execution_count": null,
   "metadata": {
    "collapsed": true
   },
   "outputs": [],
   "source": []
  }
 ],
 "metadata": {
  "kernelspec": {
   "display_name": "Python 3",
   "language": "python",
   "name": "python3"
  },
  "language_info": {
   "codemirror_mode": {
    "name": "ipython",
    "version": 3
   },
   "file_extension": ".py",
   "mimetype": "text/x-python",
   "name": "python",
   "nbconvert_exporter": "python",
   "pygments_lexer": "ipython3",
   "version": "3.6.3"
  }
 },
 "nbformat": 4,
 "nbformat_minor": 2
}
