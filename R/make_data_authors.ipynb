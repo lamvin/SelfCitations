{
 "cells": [
  {
   "cell_type": "code",
   "execution_count": 1,
   "metadata": {
    "collapsed": true
   },
   "outputs": [],
   "source": [
    "path <- '/home/User1/data/self_citations/model/'"
   ]
  },
  {
   "cell_type": "markdown",
   "metadata": {},
   "source": [
    "### Predict papers n years"
   ]
  },
  {
   "cell_type": "code",
   "execution_count": 2,
   "metadata": {
    "collapsed": true
   },
   "outputs": [],
   "source": [
    "year_start = 5\n",
    "diff_year = 10\n",
    "year_pred = year_start+diff_year"
   ]
  },
  {
   "cell_type": "code",
   "execution_count": 3,
   "metadata": {
    "collapsed": true
   },
   "outputs": [],
   "source": [
    "total_years_file <- 20\n",
    "col_status <- rep(\"NULL\",total_years_file+1)\n",
    "col_status[c(1,year_start+1,year_start+diff_year+1)] <- \"integer\"\n",
    "data <- read.csv(file=paste0(path,'nb_articles.csv'),colClasses =col_status)"
   ]
  },
  {
   "cell_type": "code",
   "execution_count": 4,
   "metadata": {
    "collapsed": true
   },
   "outputs": [],
   "source": [
    "col_status <- rep(\"NULL\",total_years_file+1)\n",
    "col_status[c(1,year_start+1,year_start+diff_year+1)] <- \"double\"\n",
    "types_cit <- c('self','co','others')\n",
    "dfs_nb_cit <- list()\n",
    "for(i in 1:length(types_cit)){\n",
    "    type_cit <- types_cit[i]\n",
    "    dfs_nb_cit[[i]] <- read.csv(file=paste0(path,'nb_citations_',type_cit,'.csv'),colClasses=col_status)\n",
    "}"
   ]
  },
  {
   "cell_type": "code",
   "execution_count": 5,
   "metadata": {
    "collapsed": true
   },
   "outputs": [],
   "source": [
    "authors_info <- read.csv(file=paste0(path,'authors_infos_model.csv'),sep='\\t')"
   ]
  },
  {
   "cell_type": "code",
   "execution_count": 6,
   "metadata": {
    "collapsed": true
   },
   "outputs": [],
   "source": [
    "for(i in 1:length(types_cit)){\n",
    "    data <- merge(data,dfs_nb_cit[[i]],by=\"Cluster_ID\")\n",
    "}"
   ]
  },
  {
   "cell_type": "code",
   "execution_count": 7,
   "metadata": {
    "collapsed": true
   },
   "outputs": [],
   "source": [
    "rm(dfs_nb_cit)"
   ]
  },
  {
   "cell_type": "code",
   "execution_count": 8,
   "metadata": {
    "collapsed": true
   },
   "outputs": [],
   "source": [
    "data <- merge(data,authors_info,by=\"Cluster_ID\")"
   ]
  },
  {
   "cell_type": "code",
   "execution_count": 9,
   "metadata": {
    "collapsed": true
   },
   "outputs": [],
   "source": [
    "nb_coauthors <- read.csv(file=paste0(path,'nb_coauthors.csv'),colClasses =col_status)"
   ]
  },
  {
   "cell_type": "code",
   "execution_count": 10,
   "metadata": {
    "collapsed": true
   },
   "outputs": [],
   "source": [
    "colnames(nb_coauthors)[c(2,3)] <- c(paste0(\"nb_co_\",year_start),paste0(\"nb_co_\",year_start+diff_year))"
   ]
  },
  {
   "cell_type": "code",
   "execution_count": 11,
   "metadata": {},
   "outputs": [
    {
     "data": {
      "text/html": [
       "<table>\n",
       "<caption>A data.frame: 6 × 3</caption>\n",
       "<thead>\n",
       "\t<tr><th></th><th scope=col>Cluster_ID</th><th scope=col>nb_co_5</th><th scope=col>nb_co_15</th></tr>\n",
       "\t<tr><th></th><th scope=col>&lt;dbl&gt;</th><th scope=col>&lt;dbl&gt;</th><th scope=col>&lt;dbl&gt;</th></tr>\n",
       "</thead>\n",
       "<tbody>\n",
       "\t<tr><th scope=row>1</th><td>31905805</td><td> 5</td><td> 5</td></tr>\n",
       "\t<tr><th scope=row>2</th><td>10925507</td><td> 7</td><td> 7</td></tr>\n",
       "\t<tr><th scope=row>3</th><td>37274983</td><td> 9</td><td>33</td></tr>\n",
       "\t<tr><th scope=row>4</th><td>11452931</td><td>13</td><td>13</td></tr>\n",
       "\t<tr><th scope=row>5</th><td>38788724</td><td> 5</td><td> 5</td></tr>\n",
       "\t<tr><th scope=row>6</th><td>43195937</td><td> 3</td><td> 3</td></tr>\n",
       "</tbody>\n",
       "</table>\n"
      ],
      "text/latex": [
       "A data.frame: 6 × 3\n",
       "\\begin{tabular}{r|lll}\n",
       "  & Cluster\\_ID & nb\\_co\\_5 & nb\\_co\\_15\\\\\n",
       "  & <dbl> & <dbl> & <dbl>\\\\\n",
       "\\hline\n",
       "\t1 & 31905805 &  5 &  5\\\\\n",
       "\t2 & 10925507 &  7 &  7\\\\\n",
       "\t3 & 37274983 &  9 & 33\\\\\n",
       "\t4 & 11452931 & 13 & 13\\\\\n",
       "\t5 & 38788724 &  5 &  5\\\\\n",
       "\t6 & 43195937 &  3 &  3\\\\\n",
       "\\end{tabular}\n"
      ],
      "text/markdown": [
       "\n",
       "A data.frame: 6 × 3\n",
       "\n",
       "| <!--/--> | Cluster_ID &lt;dbl&gt; | nb_co_5 &lt;dbl&gt; | nb_co_15 &lt;dbl&gt; |\n",
       "|---|---|---|---|\n",
       "| 1 | 31905805 |  5 |  5 |\n",
       "| 2 | 10925507 |  7 |  7 |\n",
       "| 3 | 37274983 |  9 | 33 |\n",
       "| 4 | 11452931 | 13 | 13 |\n",
       "| 5 | 38788724 |  5 |  5 |\n",
       "| 6 | 43195937 |  3 |  3 |\n",
       "\n"
      ],
      "text/plain": [
       "  Cluster_ID nb_co_5 nb_co_15\n",
       "1 31905805    5       5      \n",
       "2 10925507    7       7      \n",
       "3 37274983    9      33      \n",
       "4 11452931   13      13      \n",
       "5 38788724    5       5      \n",
       "6 43195937    3       3      "
      ]
     },
     "metadata": {},
     "output_type": "display_data"
    }
   ],
   "source": [
    "head(nb_coauthors)"
   ]
  },
  {
   "cell_type": "code",
   "execution_count": 12,
   "metadata": {
    "collapsed": true
   },
   "outputs": [],
   "source": [
    "col_status_char <- rep(\"NULL\",total_years_file+1)\n",
    "col_status_char[c(1,year_start+1,year_start+diff_year+1)] <- \"character\""
   ]
  },
  {
   "cell_type": "code",
   "execution_count": 13,
   "metadata": {
    "collapsed": true,
    "scrolled": true
   },
   "outputs": [],
   "source": [
    "countries <- read.csv(file=paste0(path,'country_authors.csv'),colClasses =col_status_char)"
   ]
  },
  {
   "cell_type": "code",
   "execution_count": 14,
   "metadata": {
    "collapsed": true
   },
   "outputs": [],
   "source": [
    "data <- merge(data,nb_coauthors,by=\"Cluster_ID\")"
   ]
  },
  {
   "cell_type": "code",
   "execution_count": 15,
   "metadata": {
    "collapsed": true
   },
   "outputs": [],
   "source": [
    "data <- merge(data,countries,by=\"Cluster_ID\")"
   ]
  },
  {
   "cell_type": "code",
   "execution_count": 16,
   "metadata": {
    "collapsed": true
   },
   "outputs": [],
   "source": [
    "data$discipline <- as.character(data$discipline)"
   ]
  },
  {
   "cell_type": "code",
   "execution_count": 17,
   "metadata": {
    "collapsed": true
   },
   "outputs": [],
   "source": [
    "groups_disc <- read.csv(file=paste0(path,'groups_disc.csv'),header=F)"
   ]
  },
  {
   "cell_type": "code",
   "execution_count": 18,
   "metadata": {
    "collapsed": true
   },
   "outputs": [],
   "source": [
    "colnames(groups_disc) <- c(\"group\",\"discipline\")"
   ]
  },
  {
   "cell_type": "code",
   "execution_count": 19,
   "metadata": {
    "collapsed": true
   },
   "outputs": [],
   "source": [
    "data <- merge(data,groups_disc,by='discipline')"
   ]
  },
  {
   "cell_type": "code",
   "execution_count": 20,
   "metadata": {
    "collapsed": true
   },
   "outputs": [],
   "source": [
    "gender <- read.csv(file=paste0(path,'cluster_gender.txt'),sep='\\t')"
   ]
  },
  {
   "cell_type": "code",
   "execution_count": 21,
   "metadata": {
    "collapsed": true
   },
   "outputs": [],
   "source": [
    "gender$gender <- tolower(gender$gender)"
   ]
  },
  {
   "cell_type": "code",
   "execution_count": 22,
   "metadata": {
    "collapsed": true
   },
   "outputs": [],
   "source": [
    "gender <- gender[gender$gender %in% c(\"m\",\"f\"),]"
   ]
  },
  {
   "cell_type": "markdown",
   "metadata": {},
   "source": [
    "gender[gender$gender == \"m\",\"gender\"] <- 1\n",
    "gender[gender$gender == \"f\",\"gender\"] <- 0\n",
    "gender$gender <- as.numeric(gender$gender)"
   ]
  },
  {
   "cell_type": "code",
   "execution_count": 23,
   "metadata": {
    "collapsed": true
   },
   "outputs": [],
   "source": [
    "colnames(gender) <- c(\"Cluster_ID\",\"gender\")"
   ]
  },
  {
   "cell_type": "code",
   "execution_count": 24,
   "metadata": {
    "collapsed": true
   },
   "outputs": [],
   "source": [
    "data <- merge(data,gender,by='Cluster_ID')"
   ]
  },
  {
   "cell_type": "code",
   "execution_count": 37,
   "metadata": {},
   "outputs": [
    {
     "data": {
      "text/html": [
       "<table>\n",
       "<caption>A data.frame: 6 × 19</caption>\n",
       "<thead>\n",
       "\t<tr><th></th><th scope=col>Cluster_ID</th><th scope=col>discipline</th><th scope=col>nb_art_5</th><th scope=col>nb_art_15</th><th scope=col>nb_cits_self_5</th><th scope=col>nb_cits_self_15</th><th scope=col>nb_cits_co_5</th><th scope=col>nb_cits_co_15</th><th scope=col>nb_cits_others_5</th><th scope=col>nb_cits_others_15</th><th scope=col>min_year</th><th scope=col>max_year</th><th scope=col>nb_co_5</th><th scope=col>nb_co_15</th><th scope=col>country_5</th><th scope=col>country_15</th><th scope=col>group</th><th scope=col>gender</th><th scope=col>norm_co_5</th></tr>\n",
       "\t<tr><th></th><th scope=col>&lt;int&gt;</th><th scope=col>&lt;chr&gt;</th><th scope=col>&lt;int&gt;</th><th scope=col>&lt;int&gt;</th><th scope=col>&lt;dbl&gt;</th><th scope=col>&lt;dbl&gt;</th><th scope=col>&lt;dbl&gt;</th><th scope=col>&lt;dbl&gt;</th><th scope=col>&lt;dbl&gt;</th><th scope=col>&lt;dbl&gt;</th><th scope=col>&lt;int&gt;</th><th scope=col>&lt;int&gt;</th><th scope=col>&lt;dbl&gt;</th><th scope=col>&lt;dbl&gt;</th><th scope=col>&lt;chr&gt;</th><th scope=col>&lt;chr&gt;</th><th scope=col>&lt;fct&gt;</th><th scope=col>&lt;chr&gt;</th><th scope=col>&lt;dbl&gt;</th></tr>\n",
       "</thead>\n",
       "<tbody>\n",
       "\t<tr><th scope=row>1</th><td> 3</td><td>Chemistry                 </td><td> 1</td><td> 1</td><td> 0.00</td><td>  0.00</td><td>  2.19</td><td>  2.19</td><td> 17.31</td><td>  17.31</td><td>2013</td><td>2013</td><td> 4</td><td>  4</td><td>Sweden </td><td>Sweden </td><td>Natural Sciences and Engineering</td><td>m</td><td>4.000000</td></tr>\n",
       "\t<tr><th scope=row>2</th><td> 4</td><td>Chemistry                 </td><td> 1</td><td> 1</td><td> 0.00</td><td>  0.00</td><td>  1.08</td><td>  1.08</td><td>  0.00</td><td>   0.00</td><td>2015</td><td>2015</td><td> 6</td><td>  6</td><td>Sweden </td><td>Sweden </td><td>Natural Sciences and Engineering</td><td>f</td><td>6.000000</td></tr>\n",
       "\t<tr><th scope=row>3</th><td> 6</td><td>Mathematics               </td><td> 2</td><td> 2</td><td> 1.04</td><td>  1.04</td><td>  0.00</td><td>  0.00</td><td>  1.04</td><td>   1.04</td><td>2016</td><td>2017</td><td> 2</td><td>  2</td><td>Tunisia</td><td>Tunisia</td><td>Natural Sciences and Engineering</td><td>m</td><td>1.000000</td></tr>\n",
       "\t<tr><th scope=row>4</th><td> 9</td><td>Physics                   </td><td> 9</td><td>23</td><td> 4.74</td><td> 28.91</td><td>  3.60</td><td> 10.25</td><td>  4.90</td><td>  61.68</td><td>2009</td><td>2018</td><td>23</td><td> 23</td><td>Italy  </td><td>Italy  </td><td>Natural Sciences and Engineering</td><td>m</td><td>2.555556</td></tr>\n",
       "\t<tr><th scope=row>5</th><td>13</td><td>Physics                   </td><td>15</td><td>31</td><td>38.70</td><td>123.51</td><td>115.11</td><td>153.02</td><td>840.79</td><td>1130.13</td><td>2012</td><td>2018</td><td>78</td><td>275</td><td>Israel </td><td>Israel </td><td>Natural Sciences and Engineering</td><td>m</td><td>5.200000</td></tr>\n",
       "\t<tr><th scope=row>6</th><td>28</td><td>Engineering and Technology</td><td> 1</td><td> 1</td><td> 0.00</td><td>  0.00</td><td>  0.00</td><td>  0.00</td><td>  5.26</td><td>   5.26</td><td>2016</td><td>2016</td><td> 5</td><td>  5</td><td>Russia </td><td>Russia </td><td>Natural Sciences and Engineering</td><td>m</td><td>5.000000</td></tr>\n",
       "</tbody>\n",
       "</table>\n"
      ],
      "text/latex": [
       "A data.frame: 6 × 19\n",
       "\\begin{tabular}{r|lllllllllllllllllll}\n",
       "  & Cluster\\_ID & discipline & nb\\_art\\_5 & nb\\_art\\_15 & nb\\_cits\\_self\\_5 & nb\\_cits\\_self\\_15 & nb\\_cits\\_co\\_5 & nb\\_cits\\_co\\_15 & nb\\_cits\\_others\\_5 & nb\\_cits\\_others\\_15 & min\\_year & max\\_year & nb\\_co\\_5 & nb\\_co\\_15 & country\\_5 & country\\_15 & group & gender & norm\\_co\\_5\\\\\n",
       "  & <int> & <chr> & <int> & <int> & <dbl> & <dbl> & <dbl> & <dbl> & <dbl> & <dbl> & <int> & <int> & <dbl> & <dbl> & <chr> & <chr> & <fct> & <chr> & <dbl>\\\\\n",
       "\\hline\n",
       "\t1 &  3 & Chemistry                  &  1 &  1 &  0.00 &   0.00 &   2.19 &   2.19 &  17.31 &   17.31 & 2013 & 2013 &  4 &   4 & Sweden  & Sweden  & Natural Sciences and Engineering & m & 4.000000\\\\\n",
       "\t2 &  4 & Chemistry                  &  1 &  1 &  0.00 &   0.00 &   1.08 &   1.08 &   0.00 &    0.00 & 2015 & 2015 &  6 &   6 & Sweden  & Sweden  & Natural Sciences and Engineering & f & 6.000000\\\\\n",
       "\t3 &  6 & Mathematics                &  2 &  2 &  1.04 &   1.04 &   0.00 &   0.00 &   1.04 &    1.04 & 2016 & 2017 &  2 &   2 & Tunisia & Tunisia & Natural Sciences and Engineering & m & 1.000000\\\\\n",
       "\t4 &  9 & Physics                    &  9 & 23 &  4.74 &  28.91 &   3.60 &  10.25 &   4.90 &   61.68 & 2009 & 2018 & 23 &  23 & Italy   & Italy   & Natural Sciences and Engineering & m & 2.555556\\\\\n",
       "\t5 & 13 & Physics                    & 15 & 31 & 38.70 & 123.51 & 115.11 & 153.02 & 840.79 & 1130.13 & 2012 & 2018 & 78 & 275 & Israel  & Israel  & Natural Sciences and Engineering & m & 5.200000\\\\\n",
       "\t6 & 28 & Engineering and Technology &  1 &  1 &  0.00 &   0.00 &   0.00 &   0.00 &   5.26 &    5.26 & 2016 & 2016 &  5 &   5 & Russia  & Russia  & Natural Sciences and Engineering & m & 5.000000\\\\\n",
       "\\end{tabular}\n"
      ],
      "text/markdown": [
       "\n",
       "A data.frame: 6 × 19\n",
       "\n",
       "| <!--/--> | Cluster_ID &lt;int&gt; | discipline &lt;chr&gt; | nb_art_5 &lt;int&gt; | nb_art_15 &lt;int&gt; | nb_cits_self_5 &lt;dbl&gt; | nb_cits_self_15 &lt;dbl&gt; | nb_cits_co_5 &lt;dbl&gt; | nb_cits_co_15 &lt;dbl&gt; | nb_cits_others_5 &lt;dbl&gt; | nb_cits_others_15 &lt;dbl&gt; | min_year &lt;int&gt; | max_year &lt;int&gt; | nb_co_5 &lt;dbl&gt; | nb_co_15 &lt;dbl&gt; | country_5 &lt;chr&gt; | country_15 &lt;chr&gt; | group &lt;fct&gt; | gender &lt;chr&gt; | norm_co_5 &lt;dbl&gt; |\n",
       "|---|---|---|---|---|---|---|---|---|---|---|---|---|---|---|---|---|---|---|---|\n",
       "| 1 |  3 | Chemistry                  |  1 |  1 |  0.00 |   0.00 |   2.19 |   2.19 |  17.31 |   17.31 | 2013 | 2013 |  4 |   4 | Sweden  | Sweden  | Natural Sciences and Engineering | m | 4.000000 |\n",
       "| 2 |  4 | Chemistry                  |  1 |  1 |  0.00 |   0.00 |   1.08 |   1.08 |   0.00 |    0.00 | 2015 | 2015 |  6 |   6 | Sweden  | Sweden  | Natural Sciences and Engineering | f | 6.000000 |\n",
       "| 3 |  6 | Mathematics                |  2 |  2 |  1.04 |   1.04 |   0.00 |   0.00 |   1.04 |    1.04 | 2016 | 2017 |  2 |   2 | Tunisia | Tunisia | Natural Sciences and Engineering | m | 1.000000 |\n",
       "| 4 |  9 | Physics                    |  9 | 23 |  4.74 |  28.91 |   3.60 |  10.25 |   4.90 |   61.68 | 2009 | 2018 | 23 |  23 | Italy   | Italy   | Natural Sciences and Engineering | m | 2.555556 |\n",
       "| 5 | 13 | Physics                    | 15 | 31 | 38.70 | 123.51 | 115.11 | 153.02 | 840.79 | 1130.13 | 2012 | 2018 | 78 | 275 | Israel  | Israel  | Natural Sciences and Engineering | m | 5.200000 |\n",
       "| 6 | 28 | Engineering and Technology |  1 |  1 |  0.00 |   0.00 |   0.00 |   0.00 |   5.26 |    5.26 | 2016 | 2016 |  5 |   5 | Russia  | Russia  | Natural Sciences and Engineering | m | 5.000000 |\n",
       "\n"
      ],
      "text/plain": [
       "  Cluster_ID discipline                 nb_art_5 nb_art_15 nb_cits_self_5\n",
       "1  3         Chemistry                   1        1         0.00         \n",
       "2  4         Chemistry                   1        1         0.00         \n",
       "3  6         Mathematics                 2        2         1.04         \n",
       "4  9         Physics                     9       23         4.74         \n",
       "5 13         Physics                    15       31        38.70         \n",
       "6 28         Engineering and Technology  1        1         0.00         \n",
       "  nb_cits_self_15 nb_cits_co_5 nb_cits_co_15 nb_cits_others_5 nb_cits_others_15\n",
       "1   0.00            2.19         2.19         17.31             17.31          \n",
       "2   0.00            1.08         1.08          0.00              0.00          \n",
       "3   1.04            0.00         0.00          1.04              1.04          \n",
       "4  28.91            3.60        10.25          4.90             61.68          \n",
       "5 123.51          115.11       153.02        840.79           1130.13          \n",
       "6   0.00            0.00         0.00          5.26              5.26          \n",
       "  min_year max_year nb_co_5 nb_co_15 country_5 country_15\n",
       "1 2013     2013      4        4      Sweden    Sweden    \n",
       "2 2015     2015      6        6      Sweden    Sweden    \n",
       "3 2016     2017      2        2      Tunisia   Tunisia   \n",
       "4 2009     2018     23       23      Italy     Italy     \n",
       "5 2012     2018     78      275      Israel    Israel    \n",
       "6 2016     2016      5        5      Russia    Russia    \n",
       "  group                            gender norm_co_5\n",
       "1 Natural Sciences and Engineering m      4.000000 \n",
       "2 Natural Sciences and Engineering f      6.000000 \n",
       "3 Natural Sciences and Engineering m      1.000000 \n",
       "4 Natural Sciences and Engineering m      2.555556 \n",
       "5 Natural Sciences and Engineering m      5.200000 \n",
       "6 Natural Sciences and Engineering m      5.000000 "
      ]
     },
     "metadata": {},
     "output_type": "display_data"
    }
   ],
   "source": [
    "head(data)"
   ]
  },
  {
   "cell_type": "code",
   "execution_count": 38,
   "metadata": {},
   "outputs": [],
   "source": [
    "data[paste0(\"norm_cits_co_\",year_start)] <- data[paste0(\"nb_cits_co_\",year_start)]/data[paste0(\"nb_art_\",year_start)]\n",
    "data[paste0(\"norm_cits_self_\",year_start)] <- data[paste0(\"nb_cits_self_\",year_start)]/data[paste0(\"nb_art_\",year_start)]\n",
    "data[paste0(\"norm_cits_others_\",year_start)] <- data[paste0(\"nb_cits_others_\",year_start)]/data[paste0(\"nb_art_\",year_start)]"
   ]
  },
  {
   "cell_type": "code",
   "execution_count": 39,
   "metadata": {
    "collapsed": true
   },
   "outputs": [],
   "source": [
    "# As time of start\n",
    "min_year <- 1995\n",
    "max_year <- 2007\n",
    "# Min year car start\n",
    "min_year_start  <- min_year - year_start\n",
    "max_year_start <- max_year - year_start\n",
    "\n",
    "data_model <- data[which((data['min_year'] >=min_year_start) & (data['min_year'] <= max_year_start)),]"
   ]
  },
  {
   "cell_type": "code",
   "execution_count": 40,
   "metadata": {
    "collapsed": true
   },
   "outputs": [],
   "source": [
    "list_disciplines <- unique(data_model$discipline)"
   ]
  },
  {
   "cell_type": "code",
   "execution_count": 41,
   "metadata": {
    "collapsed": true
   },
   "outputs": [],
   "source": [
    "act_from_start = year_pred\n",
    "act_var <- paste0('active_',act_from_start)\n",
    "data_model['nb_years_active'] <- data_model['max_year'] - data_model['min_year'] \n",
    "data_model[act_var] = data_model['nb_years_active'] >= act_from_start"
   ]
  },
  {
   "cell_type": "code",
   "execution_count": 42,
   "metadata": {
    "collapsed": true
   },
   "outputs": [],
   "source": [
    "data_model$group <- as.character(data_model$group)"
   ]
  },
  {
   "cell_type": "code",
   "execution_count": 43,
   "metadata": {
    "collapsed": true
   },
   "outputs": [],
   "source": [
    "col_status <- rep(\"NULL\",total_years_file+1)\n",
    "col_status[c(1,year_start+1,year_start+diff_year+1)] <- \"numeric\"\n",
    "rank_authors <- read.csv(file=paste0(path,'rank_authors.csv'),colClasses =col_status)"
   ]
  },
  {
   "cell_type": "code",
   "execution_count": 44,
   "metadata": {
    "collapsed": true
   },
   "outputs": [],
   "source": [
    "data_model_rank <- merge(data_model,rank_authors,by=\"Cluster_ID\")"
   ]
  },
  {
   "cell_type": "code",
   "execution_count": 45,
   "metadata": {
    "collapsed": true
   },
   "outputs": [],
   "source": [
    "groups <- unique(data_model$group)"
   ]
  },
  {
   "cell_type": "markdown",
   "metadata": {},
   "source": [
    "#### Get stats"
   ]
  },
  {
   "cell_type": "code",
   "execution_count": 46,
   "metadata": {},
   "outputs": [],
   "source": [
    "write.csv(data_model_rank,paste0(path,\"data_authors_rank.csv\"))"
   ]
  },
  {
   "cell_type": "code",
   "execution_count": 47,
   "metadata": {
    "collapsed": true
   },
   "outputs": [],
   "source": [
    "write.csv(data,paste0(path,\"data_authors.csv\"))"
   ]
  }
 ],
 "metadata": {
  "kernelspec": {
   "display_name": "R",
   "language": "R",
   "name": "ir"
  },
  "language_info": {
   "codemirror_mode": "r",
   "file_extension": ".r",
   "mimetype": "text/x-r-source",
   "name": "R",
   "pygments_lexer": "r",
   "version": "3.6.3"
  }
 },
 "nbformat": 4,
 "nbformat_minor": 2
}
