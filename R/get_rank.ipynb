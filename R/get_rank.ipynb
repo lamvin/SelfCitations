{
 "cells": [
  {
   "cell_type": "code",
   "execution_count": 1,
   "metadata": {},
   "outputs": [
    {
     "name": "stderr",
     "output_type": "stream",
     "text": [
      "Installing packages into ‘/home/User1/R/x86_64-pc-linux-gnu-library/3.6’\n",
      "(as ‘lib’ is unspecified)\n",
      "\n",
      "also installing the dependencies ‘lifecycle’, ‘purrr’, ‘rematch’, ‘hms’, ‘prettyunits’, ‘magrittr’, ‘stringi’, ‘pkgconfig’, ‘R6’, ‘tibble’, ‘tidyselect’, ‘BH’, ‘plogr’, ‘cellranger’, ‘progress’\n",
      "\n",
      "\n"
     ]
    }
   ],
   "source": [
    "install.packages(c(\"stringr\",\"stringdist\",\"dplyr\",\"readxl\"))"
   ]
  },
  {
   "cell_type": "code",
   "execution_count": 1,
   "metadata": {},
   "outputs": [
    {
     "name": "stderr",
     "output_type": "stream",
     "text": [
      "\n",
      "Attaching package: ‘dplyr’\n",
      "\n",
      "\n",
      "The following objects are masked from ‘package:stats’:\n",
      "\n",
      "    filter, lag\n",
      "\n",
      "\n",
      "The following objects are masked from ‘package:base’:\n",
      "\n",
      "    intersect, setdiff, setequal, union\n",
      "\n",
      "\n"
     ]
    }
   ],
   "source": [
    "library(stringr)\n",
    "library(stringdist)\n",
    "library(dplyr)\n",
    "library(readxl)"
   ]
  },
  {
   "cell_type": "code",
   "execution_count": 2,
   "metadata": {
    "collapsed": true
   },
   "outputs": [],
   "source": [
    "path <- '/home/User1/data/self_citations/'"
   ]
  },
  {
   "cell_type": "code",
   "execution_count": 81,
   "metadata": {
    "collapsed": true
   },
   "outputs": [],
   "source": [
    "col_status <- rep(\"NULL\",7)\n",
    "col_status[c(4,7)] <- \"character\"\n",
    "col_status[1] <- 'integer'\n",
    "df_authors <- read.csv(paste0(path,\"clusters_locations.txt\"),sep=\"\\t\",colClasses =col_status)"
   ]
  },
  {
   "cell_type": "code",
   "execution_count": 3,
   "metadata": {
    "collapsed": true
   },
   "outputs": [],
   "source": [
    "df_inst <- unique(df_authors[,c(2,3)])\n",
    "#df_inst$Institution <- tolower(df_inst$Institution)"
   ]
  },
  {
   "cell_type": "code",
   "execution_count": 4,
   "metadata": {
    "collapsed": true
   },
   "outputs": [],
   "source": [
    "#Map author's institution to Leid institution with fuzzy matching and export\n",
    "file_name_lei <- paste0(path,'model/Leiden_ranking.xlsx')\n",
    "df_leiden_raw <- read_excel(file_name_lei,sheet=2, col_types = \"text\")\n",
    "var_leiden <- c(\"University\",\"Country\",\"Field\",\"Period\",\"PP_top5\")\n",
    "\n",
    "\n",
    "fields <- unique(df_leiden_raw$Field)\n",
    "\n",
    "df_leiden <- df_leiden_raw %>%\n",
    "  subset(Frac_counting==1 & Period == \"2006–2009\" & Field == \"All sciences\")\n",
    "df_leiden$University <- iconv(df_leiden$University,from=\"UTF-8\",to=\"ASCII//TRANSLIT\")\n",
    "df_leiden <- df_leiden[,var_leiden]\n",
    "rm(df_leiden_raw)\n"
   ]
  },
  {
   "cell_type": "code",
   "execution_count": 95,
   "metadata": {
    "collapsed": true
   },
   "outputs": [],
   "source": [
    "write.csv(df_leiden,paste0(path,'leid_prop5.csv'),row.names = FALSE)"
   ]
  },
  {
   "cell_type": "code",
   "execution_count": 76,
   "metadata": {
    "collapsed": true
   },
   "outputs": [],
   "source": [
    "#df_leiden$Country <- tolower(df_leiden$Country)"
   ]
  },
  {
   "cell_type": "code",
   "execution_count": 5,
   "metadata": {
    "collapsed": true
   },
   "outputs": [],
   "source": [
    "df_leiden <- data.frame(df_leiden)"
   ]
  },
  {
   "cell_type": "code",
   "execution_count": 7,
   "metadata": {
    "collapsed": true
   },
   "outputs": [],
   "source": [
    "nb_comp <- nrow(df_inst)"
   ]
  },
  {
   "cell_type": "code",
   "execution_count": 94,
   "metadata": {},
   "outputs": [
    {
     "data": {
      "text/html": [
       "<table>\n",
       "<caption>A data.frame: 6 × 5</caption>\n",
       "<thead>\n",
       "\t<tr><th></th><th scope=col>University</th><th scope=col>Country</th><th scope=col>Field</th><th scope=col>Period</th><th scope=col>PP_top5</th></tr>\n",
       "\t<tr><th></th><th scope=col>&lt;chr&gt;</th><th scope=col>&lt;chr&gt;</th><th scope=col>&lt;chr&gt;</th><th scope=col>&lt;chr&gt;</th><th scope=col>&lt;chr&gt;</th></tr>\n",
       "</thead>\n",
       "<tbody>\n",
       "\t<tr><th scope=row>1</th><td>aalborg university                      </td><td>denmark</td><td>All sciences</td><td>2006–2009</td><td>3.9527131084826E-2   </td></tr>\n",
       "\t<tr><th scope=row>2</th><td>aalto university                        </td><td>finland</td><td>All sciences</td><td>2006–2009</td><td>4.7843169987152698E-2</td></tr>\n",
       "\t<tr><th scope=row>3</th><td>aarhus university                       </td><td>denmark</td><td>All sciences</td><td>2006–2009</td><td>6.2751106656845898E-2</td></tr>\n",
       "\t<tr><th scope=row>4</th><td>adam mickiewicz university in poznan    </td><td>poland </td><td>All sciences</td><td>2006–2009</td><td>1.41971144761704E-2  </td></tr>\n",
       "\t<tr><th scope=row>5</th><td>agh university of science and technology</td><td>poland </td><td>All sciences</td><td>2006–2009</td><td>9.8638073842913804E-3</td></tr>\n",
       "\t<tr><th scope=row>6</th><td>ain shams university                    </td><td>egypt  </td><td>All sciences</td><td>2006–2009</td><td>2.7408554772684699E-2</td></tr>\n",
       "</tbody>\n",
       "</table>\n"
      ],
      "text/latex": [
       "A data.frame: 6 × 5\n",
       "\\begin{tabular}{r|lllll}\n",
       "  & University & Country & Field & Period & PP\\_top5\\\\\n",
       "  & <chr> & <chr> & <chr> & <chr> & <chr>\\\\\n",
       "\\hline\n",
       "\t1 & aalborg university                       & denmark & All sciences & 2006–2009 & 3.9527131084826E-2   \\\\\n",
       "\t2 & aalto university                         & finland & All sciences & 2006–2009 & 4.7843169987152698E-2\\\\\n",
       "\t3 & aarhus university                        & denmark & All sciences & 2006–2009 & 6.2751106656845898E-2\\\\\n",
       "\t4 & adam mickiewicz university in poznan     & poland  & All sciences & 2006–2009 & 1.41971144761704E-2  \\\\\n",
       "\t5 & agh university of science and technology & poland  & All sciences & 2006–2009 & 9.8638073842913804E-3\\\\\n",
       "\t6 & ain shams university                     & egypt   & All sciences & 2006–2009 & 2.7408554772684699E-2\\\\\n",
       "\\end{tabular}\n"
      ],
      "text/markdown": [
       "\n",
       "A data.frame: 6 × 5\n",
       "\n",
       "| <!--/--> | University &lt;chr&gt; | Country &lt;chr&gt; | Field &lt;chr&gt; | Period &lt;chr&gt; | PP_top5 &lt;chr&gt; |\n",
       "|---|---|---|---|---|---|\n",
       "| 1 | aalborg university                       | denmark | All sciences | 2006–2009 | 3.9527131084826E-2    |\n",
       "| 2 | aalto university                         | finland | All sciences | 2006–2009 | 4.7843169987152698E-2 |\n",
       "| 3 | aarhus university                        | denmark | All sciences | 2006–2009 | 6.2751106656845898E-2 |\n",
       "| 4 | adam mickiewicz university in poznan     | poland  | All sciences | 2006–2009 | 1.41971144761704E-2   |\n",
       "| 5 | agh university of science and technology | poland  | All sciences | 2006–2009 | 9.8638073842913804E-3 |\n",
       "| 6 | ain shams university                     | egypt   | All sciences | 2006–2009 | 2.7408554772684699E-2 |\n",
       "\n"
      ],
      "text/plain": [
       "  University                               Country Field        Period   \n",
       "1 aalborg university                       denmark All sciences 2006–2009\n",
       "2 aalto university                         finland All sciences 2006–2009\n",
       "3 aarhus university                        denmark All sciences 2006–2009\n",
       "4 adam mickiewicz university in poznan     poland  All sciences 2006–2009\n",
       "5 agh university of science and technology poland  All sciences 2006–2009\n",
       "6 ain shams university                     egypt   All sciences 2006–2009\n",
       "  PP_top5              \n",
       "1 3.9527131084826E-2   \n",
       "2 4.7843169987152698E-2\n",
       "3 6.2751106656845898E-2\n",
       "4 1.41971144761704E-2  \n",
       "5 9.8638073842913804E-3\n",
       "6 2.7408554772684699E-2"
      ]
     },
     "metadata": {},
     "output_type": "display_data"
    }
   ],
   "source": [
    "head(df_leiden)"
   ]
  },
  {
   "cell_type": "code",
   "execution_count": 16,
   "metadata": {
    "collapsed": true
   },
   "outputs": [],
   "source": [
    "#leid_inst <- unique(df_leiden$University)\n",
    "leid_country <- unique(df_leiden$Country)\n",
    "leid_country_lo <- tolower(leid_country)"
   ]
  },
  {
   "cell_type": "code",
   "execution_count": 21,
   "metadata": {
    "collapsed": true
   },
   "outputs": [],
   "source": [
    "all_inst <- data.frame(inst=character(),\n",
    "                       leid_inst=character(),\n",
    "                       country=character(),\n",
    "                       leid_country=character(),\n",
    "                       dist_inst=double(),stringsAsFactors=FALSE)"
   ]
  },
  {
   "cell_type": "code",
   "execution_count": 22,
   "metadata": {},
   "outputs": [
    {
     "data": {
      "text/html": [
       "1753827"
      ],
      "text/latex": [
       "1753827"
      ],
      "text/markdown": [
       "1753827"
      ],
      "text/plain": [
       "[1] 1753827"
      ]
     },
     "metadata": {},
     "output_type": "display_data"
    }
   ],
   "source": [
    "nb_comp"
   ]
  },
  {
   "cell_type": "code",
   "execution_count": null,
   "metadata": {
    "collapsed": true
   },
   "outputs": [],
   "source": [
    "\n",
    "for(i in 1573370:nb_comp){\n",
    "    inst <- df_inst[i,\"Institution\"]\n",
    "    country <- df_inst[i,\"ERegroupement\"]\n",
    "    inst_lo <- tolower(inst)\n",
    "    country_lo <- tolower(country)\n",
    "    if(!is.na(inst) & nchar(inst)>1 & !is.na(country) & nchar(country)>1){\n",
    "        \n",
    "        dist_country <- lapply(leid_country_lo,function(x){stringdist(country_lo,x,method='cosine',q=2)})\n",
    "        min_country <- Reduce(min,dist_country)\n",
    "        argmin_country <- which.min(unlist(dist_country))\n",
    "        country_min <- leid_country[argmin_country]\n",
    "        \n",
    "        leid_inst <- df_leiden[df_leiden$Country==country_min,\"University\"]\n",
    "        dist_inst <- lapply(leid_inst,function(x){stringdist(inst_lo,tolower(x),method='cosine',q=2)})\n",
    "        min_inst <- Reduce(min,dist_inst)\n",
    "        argmin_inst <- which.min(unlist(dist_inst))\n",
    "        \n",
    "        inst_min <- leid_inst[argmin_inst]  \n",
    "        all_inst[i,] <- c(inst,inst_min,country,country_min,min_inst)\n",
    "            \n",
    "        \n",
    "    }\n",
    "}"
   ]
  },
  {
   "cell_type": "code",
   "execution_count": 111,
   "metadata": {
    "collapsed": true
   },
   "outputs": [],
   "source": [
    "new_DF <- all_inst[all_inst['dist_inst'] == 'NA',]"
   ]
  },
  {
   "cell_type": "code",
   "execution_count": 112,
   "metadata": {},
   "outputs": [
    {
     "data": {
      "text/html": [
       "<table>\n",
       "<caption>A data.frame: 0 × 5</caption>\n",
       "<thead>\n",
       "\t<tr><th scope=col>inst</th><th scope=col>leid_inst</th><th scope=col>country</th><th scope=col>leid_country</th><th scope=col>dist_inst</th></tr>\n",
       "\t<tr><th scope=col>&lt;chr&gt;</th><th scope=col>&lt;chr&gt;</th><th scope=col>&lt;chr&gt;</th><th scope=col>&lt;chr&gt;</th><th scope=col>&lt;chr&gt;</th></tr>\n",
       "</thead>\n",
       "<tbody>\n",
       "</tbody>\n",
       "</table>\n"
      ],
      "text/latex": [
       "A data.frame: 0 × 5\n",
       "\\begin{tabular}{lllll}\n",
       " inst & leid\\_inst & country & leid\\_country & dist\\_inst\\\\\n",
       " <chr> & <chr> & <chr> & <chr> & <chr>\\\\\n",
       "\\hline\n",
       "\\end{tabular}\n"
      ],
      "text/markdown": [
       "\n",
       "A data.frame: 0 × 5\n",
       "\n",
       "| inst &lt;chr&gt; | leid_inst &lt;chr&gt; | country &lt;chr&gt; | leid_country &lt;chr&gt; | dist_inst &lt;chr&gt; |\n",
       "|---|---|---|---|---|\n",
       "\n"
      ],
      "text/plain": [
       "     inst leid_inst country leid_country dist_inst"
      ]
     },
     "metadata": {},
     "output_type": "display_data"
    }
   ],
   "source": [
    "head(new_DF)"
   ]
  },
  {
   "cell_type": "code",
   "execution_count": 105,
   "metadata": {
    "collapsed": true
   },
   "outputs": [],
   "source": [
    "all_inst <- all_inst[rowSums(is.na(all_inst)) == 0,]"
   ]
  },
  {
   "cell_type": "code",
   "execution_count": 108,
   "metadata": {
    "collapsed": true
   },
   "outputs": [],
   "source": [
    "new_DF <- all_inst[rowSums(is.na(all_inst)) > 0,]"
   ]
  },
  {
   "cell_type": "code",
   "execution_count": 110,
   "metadata": {},
   "outputs": [
    {
     "data": {
      "text/html": [
       "<table>\n",
       "<caption>A data.frame: 4 × 5</caption>\n",
       "<thead>\n",
       "\t<tr><th></th><th scope=col>inst</th><th scope=col>leid_inst</th><th scope=col>country</th><th scope=col>leid_country</th><th scope=col>dist_inst</th></tr>\n",
       "\t<tr><th></th><th scope=col>&lt;chr&gt;</th><th scope=col>&lt;chr&gt;</th><th scope=col>&lt;chr&gt;</th><th scope=col>&lt;chr&gt;</th><th scope=col>&lt;chr&gt;</th></tr>\n",
       "</thead>\n",
       "<tbody>\n",
       "\t<tr><th scope=row>447019</th><td>RIVERSIDE-REG-CTY-MED-CTR</td><td>University of California, Riverside</td><td>United States</td><td>United States</td><td>0.609905251197253</td></tr>\n",
       "\t<tr><th scope=row>452163</th><td>WHITE-RIVER-JUNCTION-VAH </td><td>Ohio University                    </td><td>United States</td><td>United States</td><td>0.609905251197253</td></tr>\n",
       "\t<tr><th scope=row>473521</th><td>MONTREAL-CRCHUM          </td><td>Universite de Montreal             </td><td>Canada       </td><td>Canada       </td><td>0.609905251197253</td></tr>\n",
       "\t<tr><th scope=row>478732</th><td>PARAMADINA-UNIV          </td><td>Banaras Hindu University           </td><td>Indonesia    </td><td>India        </td><td>0.609905251197253</td></tr>\n",
       "</tbody>\n",
       "</table>\n"
      ],
      "text/latex": [
       "A data.frame: 4 × 5\n",
       "\\begin{tabular}{r|lllll}\n",
       "  & inst & leid\\_inst & country & leid\\_country & dist\\_inst\\\\\n",
       "  & <chr> & <chr> & <chr> & <chr> & <chr>\\\\\n",
       "\\hline\n",
       "\t447019 & RIVERSIDE-REG-CTY-MED-CTR & University of California, Riverside & United States & United States & 0.609905251197253\\\\\n",
       "\t452163 & WHITE-RIVER-JUNCTION-VAH  & Ohio University                     & United States & United States & 0.609905251197253\\\\\n",
       "\t473521 & MONTREAL-CRCHUM           & Universite de Montreal              & Canada        & Canada        & 0.609905251197253\\\\\n",
       "\t478732 & PARAMADINA-UNIV           & Banaras Hindu University            & Indonesia     & India         & 0.609905251197253\\\\\n",
       "\\end{tabular}\n"
      ],
      "text/markdown": [
       "\n",
       "A data.frame: 4 × 5\n",
       "\n",
       "| <!--/--> | inst &lt;chr&gt; | leid_inst &lt;chr&gt; | country &lt;chr&gt; | leid_country &lt;chr&gt; | dist_inst &lt;chr&gt; |\n",
       "|---|---|---|---|---|---|\n",
       "| 447019 | RIVERSIDE-REG-CTY-MED-CTR | University of California, Riverside | United States | United States | 0.609905251197253 |\n",
       "| 452163 | WHITE-RIVER-JUNCTION-VAH  | Ohio University                     | United States | United States | 0.609905251197253 |\n",
       "| 473521 | MONTREAL-CRCHUM           | Universite de Montreal              | Canada        | Canada        | 0.609905251197253 |\n",
       "| 478732 | PARAMADINA-UNIV           | Banaras Hindu University            | Indonesia     | India         | 0.609905251197253 |\n",
       "\n"
      ],
      "text/plain": [
       "       inst                      leid_inst                          \n",
       "447019 RIVERSIDE-REG-CTY-MED-CTR University of California, Riverside\n",
       "452163 WHITE-RIVER-JUNCTION-VAH  Ohio University                    \n",
       "473521 MONTREAL-CRCHUM           Universite de Montreal             \n",
       "478732 PARAMADINA-UNIV           Banaras Hindu University           \n",
       "       country       leid_country  dist_inst        \n",
       "447019 United States United States 0.609905251197253\n",
       "452163 United States United States 0.609905251197253\n",
       "473521 Canada        Canada        0.609905251197253\n",
       "478732 Indonesia     India         0.609905251197253"
      ]
     },
     "metadata": {},
     "output_type": "display_data"
    }
   ],
   "source": [
    "all_inst[154553:154556,]"
   ]
  },
  {
   "cell_type": "code",
   "execution_count": 106,
   "metadata": {},
   "outputs": [
    {
     "data": {
      "text/html": [
       "<table>\n",
       "<caption>A data.frame: 6 × 5</caption>\n",
       "<thead>\n",
       "\t<tr><th></th><th scope=col>inst</th><th scope=col>leid_inst</th><th scope=col>country</th><th scope=col>leid_country</th><th scope=col>dist_inst</th></tr>\n",
       "\t<tr><th></th><th scope=col>&lt;chr&gt;</th><th scope=col>&lt;chr&gt;</th><th scope=col>&lt;chr&gt;</th><th scope=col>&lt;chr&gt;</th><th scope=col>&lt;chr&gt;</th></tr>\n",
       "</thead>\n",
       "<tbody>\n",
       "\t<tr><th scope=row>540975</th><td>LOUGHBOROUGHUNIVERSITY</td><td>Loughborough University</td><td>United Kingdom</td><td>United Kingdom</td><td>0.0543891423106997</td></tr>\n",
       "\t<tr><th scope=row>303772</th><td>KAROLINSKAINSTITUTET  </td><td>Karolinska Institutet  </td><td>Sweden        </td><td>Sweden        </td><td>0.0586425513367167</td></tr>\n",
       "\t<tr><th scope=row>65424</th><td>NANCHANGUNIVERSITY    </td><td>Nanchang University    </td><td>China         </td><td>China         </td><td>0.0766194831233614</td></tr>\n",
       "\t<tr><th scope=row>183569</th><td>YEUNGNAMUNIVERSITY    </td><td>Yeungnam University    </td><td>South Korea   </td><td>South Korea   </td><td>0.0766194831233614</td></tr>\n",
       "\t<tr><th scope=row>485656</th><td>TSINGHUAUNIVERSITY    </td><td>Tsinghua University    </td><td>China         </td><td>China         </td><td>0.0766194831233614</td></tr>\n",
       "\t<tr><th scope=row>228592</th><td>KAROLINSKA-INSTITUTET </td><td>Karolinska Institutet  </td><td>Sweden        </td><td>Sweden        </td><td>0.0769230769230768</td></tr>\n",
       "</tbody>\n",
       "</table>\n"
      ],
      "text/latex": [
       "A data.frame: 6 × 5\n",
       "\\begin{tabular}{r|lllll}\n",
       "  & inst & leid\\_inst & country & leid\\_country & dist\\_inst\\\\\n",
       "  & <chr> & <chr> & <chr> & <chr> & <chr>\\\\\n",
       "\\hline\n",
       "\t540975 & LOUGHBOROUGHUNIVERSITY & Loughborough University & United Kingdom & United Kingdom & 0.0543891423106997\\\\\n",
       "\t303772 & KAROLINSKAINSTITUTET   & Karolinska Institutet   & Sweden         & Sweden         & 0.0586425513367167\\\\\n",
       "\t65424 & NANCHANGUNIVERSITY     & Nanchang University     & China          & China          & 0.0766194831233614\\\\\n",
       "\t183569 & YEUNGNAMUNIVERSITY     & Yeungnam University     & South Korea    & South Korea    & 0.0766194831233614\\\\\n",
       "\t485656 & TSINGHUAUNIVERSITY     & Tsinghua University     & China          & China          & 0.0766194831233614\\\\\n",
       "\t228592 & KAROLINSKA-INSTITUTET  & Karolinska Institutet   & Sweden         & Sweden         & 0.0769230769230768\\\\\n",
       "\\end{tabular}\n"
      ],
      "text/markdown": [
       "\n",
       "A data.frame: 6 × 5\n",
       "\n",
       "| <!--/--> | inst &lt;chr&gt; | leid_inst &lt;chr&gt; | country &lt;chr&gt; | leid_country &lt;chr&gt; | dist_inst &lt;chr&gt; |\n",
       "|---|---|---|---|---|---|\n",
       "| 540975 | LOUGHBOROUGHUNIVERSITY | Loughborough University | United Kingdom | United Kingdom | 0.0543891423106997 |\n",
       "| 303772 | KAROLINSKAINSTITUTET   | Karolinska Institutet   | Sweden         | Sweden         | 0.0586425513367167 |\n",
       "| 65424 | NANCHANGUNIVERSITY     | Nanchang University     | China          | China          | 0.0766194831233614 |\n",
       "| 183569 | YEUNGNAMUNIVERSITY     | Yeungnam University     | South Korea    | South Korea    | 0.0766194831233614 |\n",
       "| 485656 | TSINGHUAUNIVERSITY     | Tsinghua University     | China          | China          | 0.0766194831233614 |\n",
       "| 228592 | KAROLINSKA-INSTITUTET  | Karolinska Institutet   | Sweden         | Sweden         | 0.0769230769230768 |\n",
       "\n"
      ],
      "text/plain": [
       "       inst                   leid_inst               country       \n",
       "540975 LOUGHBOROUGHUNIVERSITY Loughborough University United Kingdom\n",
       "303772 KAROLINSKAINSTITUTET   Karolinska Institutet   Sweden        \n",
       "65424  NANCHANGUNIVERSITY     Nanchang University     China         \n",
       "183569 YEUNGNAMUNIVERSITY     Yeungnam University     South Korea   \n",
       "485656 TSINGHUAUNIVERSITY     Tsinghua University     China         \n",
       "228592 KAROLINSKA-INSTITUTET  Karolinska Institutet   Sweden        \n",
       "       leid_country   dist_inst         \n",
       "540975 United Kingdom 0.0543891423106997\n",
       "303772 Sweden         0.0586425513367167\n",
       "65424  China          0.0766194831233614\n",
       "183569 South Korea    0.0766194831233614\n",
       "485656 China          0.0766194831233614\n",
       "228592 Sweden         0.0769230769230768"
      ]
     },
     "metadata": {},
     "output_type": "display_data"
    }
   ],
   "source": [
    "head(all_inst)"
   ]
  },
  {
   "cell_type": "code",
   "execution_count": 113,
   "metadata": {
    "collapsed": true
   },
   "outputs": [],
   "source": [
    "write.csv(all_inst,paste0(path,'merged_leid_inst.csv'),row.names = FALSE)"
   ]
  },
  {
   "cell_type": "code",
   "execution_count": 37,
   "metadata": {
    "collapsed": true
   },
   "outputs": [],
   "source": [
    "all_inst <- all_inst[order(all_inst$dist_inst),]"
   ]
  },
  {
   "cell_type": "code",
   "execution_count": 64,
   "metadata": {
    "collapsed": true
   },
   "outputs": [],
   "source": [
    "all_inst_compl <- all_inst[complete.cases(all_inst),]"
   ]
  },
  {
   "cell_type": "code",
   "execution_count": 116,
   "metadata": {
    "collapsed": true
   },
   "outputs": [],
   "source": [
    "options(repr.matrix.max.rows=100, repr.matrix.max.cols=200)"
   ]
  },
  {
   "cell_type": "code",
   "execution_count": 40,
   "metadata": {},
   "outputs": [
    {
     "data": {
      "text/html": [
       "<table>\n",
       "<caption>A data.frame: 100 × 5</caption>\n",
       "<thead>\n",
       "\t<tr><th></th><th scope=col>inst</th><th scope=col>leid_inst</th><th scope=col>country</th><th scope=col>leid_country</th><th scope=col>dist_inst</th></tr>\n",
       "\t<tr><th></th><th scope=col>&lt;chr&gt;</th><th scope=col>&lt;chr&gt;</th><th scope=col>&lt;chr&gt;</th><th scope=col>&lt;chr&gt;</th><th scope=col>&lt;chr&gt;</th></tr>\n",
       "</thead>\n",
       "<tbody>\n",
       "\t<tr><th scope=row>124103</th><td>UNIV-PITTSBURGH-HLTH-SCI      </td><td>University of Pittsburgh                   </td><td>United States </td><td>United States </td><td>0.48             </td></tr>\n",
       "\t<tr><th scope=row>149631</th><td>JOURNAL-NANJING-MED-UNIV      </td><td>Nanjing Medical University                 </td><td>China         </td><td>China         </td><td>0.48             </td></tr>\n",
       "\t<tr><th scope=row>170196</th><td><span style=white-space:pre-wrap>UNIV-MANITOBA-&amp;-HLTH-SCI      </span></td><td><span style=white-space:pre-wrap>University of Manitoba                     </span></td><td><span style=white-space:pre-wrap>Canada        </span></td><td><span style=white-space:pre-wrap>Canada        </span></td><td><span style=white-space:pre-wrap>0.48             </span></td></tr>\n",
       "\t<tr><th scope=row>214608</th><td>UNIV-PITTSBURGH-SHCOOL-MED    </td><td>University of Pittsburgh                   </td><td>United States </td><td>United States </td><td>0.48             </td></tr>\n",
       "\t<tr><th scope=row>223707</th><td>BUENOS-AIRES-UNIV-HOSP        </td><td>University of Buenos Aires                 </td><td>Argentina     </td><td>Argentina     </td><td>0.48             </td></tr>\n",
       "\t<tr><th scope=row>260733</th><td>SCHWARZ-EB-UNIV-PITTSBURGH    </td><td>University of Pittsburgh                   </td><td>United States </td><td>United States </td><td>0.48             </td></tr>\n",
       "\t<tr><th scope=row>397191</th><td>UNIV-VIRGINIA-HEATH-SYST      </td><td>West Virginia University                   </td><td>United States </td><td>United States </td><td>0.48             </td></tr>\n",
       "\t<tr><th scope=row>403980</th><td>W-VIRGINIA-UNIV-RES-CORP      </td><td>West Virginia University                   </td><td>United States </td><td>United States </td><td>0.48             </td></tr>\n",
       "\t<tr><th scope=row>406411</th><td>SUN-YAT-SEN-UNIV-CHINA        </td><td>Sun Yat-sen University                     </td><td>China         </td><td>China         </td><td>0.48             </td></tr>\n",
       "\t<tr><th scope=row>410465</th><td>SAN-DIEGO-STATE-UNIV-CALIF    </td><td>San Diego State University                 </td><td>United States </td><td>United States </td><td>0.48             </td></tr>\n",
       "\t<tr><th scope=row>546090</th><td>UNIV-DENIS-DIDEROT-2          </td><td>Universite Paris Diderot                   </td><td>France        </td><td>France        </td><td>0.48             </td></tr>\n",
       "\t<tr><th scope=row>600072</th><td>WEST-VIRGINIA-WESLEYAN        </td><td>West Virginia University                   </td><td>United States </td><td>United States </td><td>0.48             </td></tr>\n",
       "\t<tr><th scope=row>722211</th><td>MANITOBA-RURAL-INITIAT        </td><td>University of Manitoba                     </td><td>Canada        </td><td>Canada        </td><td>0.48             </td></tr>\n",
       "\t<tr><th scope=row>745550</th><td>WEST-VIRGINIA-MED-INST        </td><td>West Virginia University                   </td><td>United States </td><td>United States </td><td>0.48             </td></tr>\n",
       "\t<tr><th scope=row>991599</th><td>UNIV-BUENOS-AIRES-HOSP        </td><td>University of Buenos Aires                 </td><td>Argentina     </td><td>Argentina     </td><td>0.48             </td></tr>\n",
       "\t<tr><th scope=row>992523</th><td>UNIV-BUENOS-AIRES-FCEN        </td><td>University of Buenos Aires                 </td><td>Argentina     </td><td>Argentina     </td><td>0.48             </td></tr>\n",
       "\t<tr><th scope=row>1066943</th><td>UNIV-PITTSBURGH-MED-CTR-JC    </td><td>University of Pittsburgh                   </td><td>United States </td><td>United States </td><td>0.48             </td></tr>\n",
       "\t<tr><th scope=row>1068439</th><td>PITTSBURGH-SCH-NURSING        </td><td>University of Pittsburgh                   </td><td>United States </td><td>United States </td><td>0.48             </td></tr>\n",
       "\t<tr><th scope=row>1164472</th><td>UNIV-PITTSBURGH-CANC-CTR      </td><td>University of Pittsburgh                   </td><td>United States </td><td>United States </td><td>0.48             </td></tr>\n",
       "\t<tr><th scope=row>1241793</th><td>UNIV-PITTSBURGH-FAMILY-MED    </td><td>University of Pittsburgh                   </td><td>United States </td><td>United States </td><td>0.48             </td></tr>\n",
       "\t<tr><th scope=row>1247291</th><td>FORESTRY-FOREST-PROD-RES-INST </td><td>Northwest Agriculture &amp; Forestry University</td><td><span style=white-space:pre-wrap>Philippines   </span></td><td><span style=white-space:pre-wrap>China         </span></td><td><span style=white-space:pre-wrap>0.48             </span></td></tr>\n",
       "\t<tr><th scope=row>1438129</th><td>CARNEGIE-MELLON-PITTSBURGH    </td><td>Carnegie Mellon University                 </td><td>United States </td><td>United States </td><td>0.48             </td></tr>\n",
       "\t<tr><th scope=row>1521794</th><td>SASKATCHEWAN-PULSE-GROWERS    </td><td>University of Saskatchewan                 </td><td>Canada        </td><td>Canada        </td><td>0.48             </td></tr>\n",
       "\t<tr><th scope=row>1523945</th><td>UNIV-DENIS-DIDEROT-7          </td><td>Universite Paris Diderot                   </td><td>France        </td><td>France        </td><td>0.48             </td></tr>\n",
       "\t<tr><th scope=row>89638</th><td>SUN-YAT-SEN-UNIV-MED-SCI      </td><td>Sun Yat-sen University                     </td><td>China         </td><td>China         </td><td>0.480053053104255</td></tr>\n",
       "\t<tr><th scope=row>170124</th><td>HEMATOONCOL-UNIV-PARIS-DIDEROT</td><td>Universite Paris Diderot                   </td><td>France        </td><td>France        </td><td>0.480053053104255</td></tr>\n",
       "\t<tr><th scope=row>202612</th><td>POLE-UNIV-PSYCHIAT-MARSEILLE  </td><td>Aix-Marseille University                   </td><td>France        </td><td>France        </td><td>0.480053053104255</td></tr>\n",
       "\t<tr><th scope=row>221037</th><td>CREININ-MD-UNIV-PITTSBURGH    </td><td>University of Pittsburgh                   </td><td>United States </td><td>United States </td><td>0.480053053104255</td></tr>\n",
       "\t<tr><th scope=row>261467</th><td>SUN-YAT-SEN-UNIV-SHANTOU      </td><td>Sun Yat-sen University                     </td><td>China         </td><td>China         </td><td>0.480053053104255</td></tr>\n",
       "\t<tr><th scope=row>354685</th><td>CENTACAT-QUEENS-UNIV-BELFAST  </td><td>Queen's University Belfast                 </td><td>United Kingdom</td><td>United Kingdom</td><td>0.480053053104255</td></tr>\n",
       "\t<tr><th scope=row>⋮</th><td>⋮</td><td>⋮</td><td>⋮</td><td>⋮</td><td>⋮</td></tr>\n",
       "\t<tr><th scope=row>1236602</th><td>SAKARYA-UNIV-SAKARYA-MYO-MECHATRON               </td><td>Sakarya University                                </td><td>Turkey        </td><td>Turkey        </td><td>0.480280803493572</td></tr>\n",
       "\t<tr><th scope=row>100787</th><td>LIVERPOOL-MED-SCH                                </td><td>University of Liverpool                           </td><td>United Kingdom</td><td>United Kingdom</td><td>0.480298849612313</td></tr>\n",
       "\t<tr><th scope=row>121393</th><td>YIILDIZ-TECN-UNIV                                </td><td>Yildiz Technical University                       </td><td>Turkey        </td><td>Turkey        </td><td>0.480298849612313</td></tr>\n",
       "\t<tr><th scope=row>139501</th><td>KYUNG-WOON-UNIV                                  </td><td>Sungkyunkwan University                           </td><td>South Korea   </td><td>South Korea   </td><td>0.480298849612313</td></tr>\n",
       "\t<tr><th scope=row>225487</th><td>KEPLER-UNIVKLIN                                  </td><td>Johannes Kepler University Linz                   </td><td>Austria       </td><td>Austria       </td><td>0.480298849612313</td></tr>\n",
       "\t<tr><th scope=row>280198</th><td>BUNDESVERBAND-GERIATRIE                          </td><td>Friedrich-Alexander-Universitat Erlangen-Nurnberg </td><td>Germany       </td><td>Germany       </td><td>0.480298849612313</td></tr>\n",
       "\t<tr><th scope=row>289062</th><td>KYUNG-LICE-UNIV                                  </td><td>Sungkyunkwan University                           </td><td>South Korea   </td><td>South Korea   </td><td>0.480298849612313</td></tr>\n",
       "\t<tr><th scope=row>307239</th><td>SHANGHAI-JIAOTONG-UNIV-AFFILIATED-FIRST-PEOPLES-H</td><td>Shanghai Jiao Tong University                     </td><td>China         </td><td>China         </td><td>0.480298849612313</td></tr>\n",
       "\t<tr><th scope=row>309942</th><td>UNI-CALIF-DAVIS                                  </td><td>University of California, Davis                   </td><td>United States </td><td>United States </td><td>0.480298849612313</td></tr>\n",
       "\t<tr><th scope=row>347469</th><td>SOOTHERN-MED-UNIV                                </td><td>Southern Medical University                       </td><td>China         </td><td>China         </td><td>0.480298849612313</td></tr>\n",
       "\t<tr><th scope=row>425384</th><td>ERLANGEN                                         </td><td>Friedrich-Alexander-Universitat Erlangen-Nurnberg </td><td>Germany       </td><td>Germany       </td><td>0.480298849612313</td></tr>\n",
       "\t<tr><th scope=row>432154</th><td>WEITZMAN-INST-SCI                                </td><td>Weizmann Institute of Science                     </td><td>Israel        </td><td>Israel        </td><td>0.480298849612313</td></tr>\n",
       "\t<tr><th scope=row>537949</th><td>YILDIZ-TEKCH-UNIV                                </td><td>Yildiz Technical University                       </td><td>Turkey        </td><td>Turkey        </td><td>0.480298849612313</td></tr>\n",
       "\t<tr><th scope=row>538859</th><td>NE-FORESTY-UNIV                                  </td><td>Northeast Forestry University                     </td><td>China         </td><td>China         </td><td>0.480298849612313</td></tr>\n",
       "\t<tr><th scope=row>545699</th><td>NATL-TSING-UNIV                                  </td><td>National Tsing Hua University                     </td><td>Taiwan        </td><td>Taiwan        </td><td>0.480298849612313</td></tr>\n",
       "\t<tr><th scope=row>555426</th><td>LIVERPOOL-LAW-SCH                                </td><td>University of Liverpool                           </td><td>United Kingdom</td><td>United Kingdom</td><td>0.480298849612313</td></tr>\n",
       "\t<tr><th scope=row>617600</th><td>MTECHNOLOGY-INC                                  </td><td>Georgia Institute of Technology                   </td><td>United States </td><td>United States </td><td>0.480298849612313</td></tr>\n",
       "\t<tr><th scope=row>723182</th><td>DERMATOL-UNIV-KLIN-ERLANGEN                      </td><td>Friedrich-Alexander-Universitat Erlangen-Nurnberg </td><td>Germany       </td><td>Germany       </td><td>0.480298849612313</td></tr>\n",
       "\t<tr><th scope=row>903845</th><td>XIZHOU-TEACHERS-UNIV-SHANXI                      </td><td>Shanxi University                                 </td><td>China         </td><td>China         </td><td>0.480298849612313</td></tr>\n",
       "\t<tr><th scope=row>1123968</th><td>MCGILL-UNIV-3610-UNIV                            </td><td>McGill University                                 </td><td>Canada        </td><td>Canada        </td><td>0.480298849612313</td></tr>\n",
       "\t<tr><th scope=row>1124163</th><td>UNIV-MEDITERRANEAN-KARPASIA                      </td><td>Ankara University                                 </td><td>Turkey        </td><td>Turkey        </td><td>0.480298849612313</td></tr>\n",
       "\t<tr><th scope=row>1142153</th><td>UNIV-CALI-DAVIS                                  </td><td>University of California, Davis                   </td><td>United States </td><td>United States </td><td>0.480298849612313</td></tr>\n",
       "\t<tr><th scope=row>1280441</th><td>NE-FORESTRY-UNI                                  </td><td>Northeast Forestry University                     </td><td>China         </td><td>China         </td><td>0.480298849612313</td></tr>\n",
       "\t<tr><th scope=row>1312608</th><td>LIVERPOOL-DIOCESE                                </td><td>University of Liverpool                           </td><td>United Kingdom</td><td>United Kingdom</td><td>0.480298849612313</td></tr>\n",
       "\t<tr><th scope=row>1383819</th><td>LIVERPOOL-SCH-HYG                                </td><td>University of Liverpool                           </td><td>United Kingdom</td><td>United Kingdom</td><td>0.480298849612313</td></tr>\n",
       "\t<tr><th scope=row>1404988</th><td>RUTGERSE-NEW-JERSEY-MED-SCH                      </td><td>Rutgers, The State University of New Jersey       </td><td>United States </td><td>United States </td><td>0.480298849612313</td></tr>\n",
       "\t<tr><th scope=row>1522296</th><td>KYUNG-UNIV-HOSP                                  </td><td>Sungkyunkwan University                           </td><td>South Korea   </td><td>South Korea   </td><td>0.480298849612313</td></tr>\n",
       "\t<tr><th scope=row>878259</th><td>EDIGENOSSISCHE-FORSCHUNGSANSTALT-WALD-SCHNEE-&amp;-LA</td><td><span style=white-space:pre-wrap>Eidgenossische Technische Hochschule Zurich       </span></td><td><span style=white-space:pre-wrap>Switzerland   </span></td><td><span style=white-space:pre-wrap>Switzerland   </span></td><td><span style=white-space:pre-wrap>0.4803232538832  </span></td></tr>\n",
       "\t<tr><th scope=row>83112</th><td>CH-VERSAILLES                                    </td><td>Universite de Versailles Saint-Quentin-en-Yvelines</td><td>France        </td><td>France        </td><td>0.480344158030695</td></tr>\n",
       "\t<tr><th scope=row>407512</th><td><span style=white-space:pre-wrap>BEIJING-UNIV-AERONAUT-&amp;-ASTRONAUT-BEIHANG-UNIV   </span></td><td>Nanjing University of Aeronautics and Astronautics</td><td><span style=white-space:pre-wrap>China         </span></td><td><span style=white-space:pre-wrap>China         </span></td><td>0.480344158030695</td></tr>\n",
       "</tbody>\n",
       "</table>\n"
      ],
      "text/latex": [
       "A data.frame: 100 × 5\n",
       "\\begin{tabular}{r|lllll}\n",
       "  & inst & leid\\_inst & country & leid\\_country & dist\\_inst\\\\\n",
       "  & <chr> & <chr> & <chr> & <chr> & <chr>\\\\\n",
       "\\hline\n",
       "\t124103 & UNIV-PITTSBURGH-HLTH-SCI       & University of Pittsburgh                    & United States  & United States  & 0.48             \\\\\n",
       "\t149631 & JOURNAL-NANJING-MED-UNIV       & Nanjing Medical University                  & China          & China          & 0.48             \\\\\n",
       "\t170196 & UNIV-MANITOBA-\\&-HLTH-SCI       & University of Manitoba                      & Canada         & Canada         & 0.48             \\\\\n",
       "\t214608 & UNIV-PITTSBURGH-SHCOOL-MED     & University of Pittsburgh                    & United States  & United States  & 0.48             \\\\\n",
       "\t223707 & BUENOS-AIRES-UNIV-HOSP         & University of Buenos Aires                  & Argentina      & Argentina      & 0.48             \\\\\n",
       "\t260733 & SCHWARZ-EB-UNIV-PITTSBURGH     & University of Pittsburgh                    & United States  & United States  & 0.48             \\\\\n",
       "\t397191 & UNIV-VIRGINIA-HEATH-SYST       & West Virginia University                    & United States  & United States  & 0.48             \\\\\n",
       "\t403980 & W-VIRGINIA-UNIV-RES-CORP       & West Virginia University                    & United States  & United States  & 0.48             \\\\\n",
       "\t406411 & SUN-YAT-SEN-UNIV-CHINA         & Sun Yat-sen University                      & China          & China          & 0.48             \\\\\n",
       "\t410465 & SAN-DIEGO-STATE-UNIV-CALIF     & San Diego State University                  & United States  & United States  & 0.48             \\\\\n",
       "\t546090 & UNIV-DENIS-DIDEROT-2           & Universite Paris Diderot                    & France         & France         & 0.48             \\\\\n",
       "\t600072 & WEST-VIRGINIA-WESLEYAN         & West Virginia University                    & United States  & United States  & 0.48             \\\\\n",
       "\t722211 & MANITOBA-RURAL-INITIAT         & University of Manitoba                      & Canada         & Canada         & 0.48             \\\\\n",
       "\t745550 & WEST-VIRGINIA-MED-INST         & West Virginia University                    & United States  & United States  & 0.48             \\\\\n",
       "\t991599 & UNIV-BUENOS-AIRES-HOSP         & University of Buenos Aires                  & Argentina      & Argentina      & 0.48             \\\\\n",
       "\t992523 & UNIV-BUENOS-AIRES-FCEN         & University of Buenos Aires                  & Argentina      & Argentina      & 0.48             \\\\\n",
       "\t1066943 & UNIV-PITTSBURGH-MED-CTR-JC     & University of Pittsburgh                    & United States  & United States  & 0.48             \\\\\n",
       "\t1068439 & PITTSBURGH-SCH-NURSING         & University of Pittsburgh                    & United States  & United States  & 0.48             \\\\\n",
       "\t1164472 & UNIV-PITTSBURGH-CANC-CTR       & University of Pittsburgh                    & United States  & United States  & 0.48             \\\\\n",
       "\t1241793 & UNIV-PITTSBURGH-FAMILY-MED     & University of Pittsburgh                    & United States  & United States  & 0.48             \\\\\n",
       "\t1247291 & FORESTRY-FOREST-PROD-RES-INST  & Northwest Agriculture \\& Forestry University & Philippines    & China          & 0.48             \\\\\n",
       "\t1438129 & CARNEGIE-MELLON-PITTSBURGH     & Carnegie Mellon University                  & United States  & United States  & 0.48             \\\\\n",
       "\t1521794 & SASKATCHEWAN-PULSE-GROWERS     & University of Saskatchewan                  & Canada         & Canada         & 0.48             \\\\\n",
       "\t1523945 & UNIV-DENIS-DIDEROT-7           & Universite Paris Diderot                    & France         & France         & 0.48             \\\\\n",
       "\t89638 & SUN-YAT-SEN-UNIV-MED-SCI       & Sun Yat-sen University                      & China          & China          & 0.480053053104255\\\\\n",
       "\t170124 & HEMATOONCOL-UNIV-PARIS-DIDEROT & Universite Paris Diderot                    & France         & France         & 0.480053053104255\\\\\n",
       "\t202612 & POLE-UNIV-PSYCHIAT-MARSEILLE   & Aix-Marseille University                    & France         & France         & 0.480053053104255\\\\\n",
       "\t221037 & CREININ-MD-UNIV-PITTSBURGH     & University of Pittsburgh                    & United States  & United States  & 0.480053053104255\\\\\n",
       "\t261467 & SUN-YAT-SEN-UNIV-SHANTOU       & Sun Yat-sen University                      & China          & China          & 0.480053053104255\\\\\n",
       "\t354685 & CENTACAT-QUEENS-UNIV-BELFAST   & Queen's University Belfast                  & United Kingdom & United Kingdom & 0.480053053104255\\\\\n",
       "\t⋮ & ⋮ & ⋮ & ⋮ & ⋮ & ⋮\\\\\n",
       "\t1236602 & SAKARYA-UNIV-SAKARYA-MYO-MECHATRON                & Sakarya University                                 & Turkey         & Turkey         & 0.480280803493572\\\\\n",
       "\t100787 & LIVERPOOL-MED-SCH                                 & University of Liverpool                            & United Kingdom & United Kingdom & 0.480298849612313\\\\\n",
       "\t121393 & YIILDIZ-TECN-UNIV                                 & Yildiz Technical University                        & Turkey         & Turkey         & 0.480298849612313\\\\\n",
       "\t139501 & KYUNG-WOON-UNIV                                   & Sungkyunkwan University                            & South Korea    & South Korea    & 0.480298849612313\\\\\n",
       "\t225487 & KEPLER-UNIVKLIN                                   & Johannes Kepler University Linz                    & Austria        & Austria        & 0.480298849612313\\\\\n",
       "\t280198 & BUNDESVERBAND-GERIATRIE                           & Friedrich-Alexander-Universitat Erlangen-Nurnberg  & Germany        & Germany        & 0.480298849612313\\\\\n",
       "\t289062 & KYUNG-LICE-UNIV                                   & Sungkyunkwan University                            & South Korea    & South Korea    & 0.480298849612313\\\\\n",
       "\t307239 & SHANGHAI-JIAOTONG-UNIV-AFFILIATED-FIRST-PEOPLES-H & Shanghai Jiao Tong University                      & China          & China          & 0.480298849612313\\\\\n",
       "\t309942 & UNI-CALIF-DAVIS                                   & University of California, Davis                    & United States  & United States  & 0.480298849612313\\\\\n",
       "\t347469 & SOOTHERN-MED-UNIV                                 & Southern Medical University                        & China          & China          & 0.480298849612313\\\\\n",
       "\t425384 & ERLANGEN                                          & Friedrich-Alexander-Universitat Erlangen-Nurnberg  & Germany        & Germany        & 0.480298849612313\\\\\n",
       "\t432154 & WEITZMAN-INST-SCI                                 & Weizmann Institute of Science                      & Israel         & Israel         & 0.480298849612313\\\\\n",
       "\t537949 & YILDIZ-TEKCH-UNIV                                 & Yildiz Technical University                        & Turkey         & Turkey         & 0.480298849612313\\\\\n",
       "\t538859 & NE-FORESTY-UNIV                                   & Northeast Forestry University                      & China          & China          & 0.480298849612313\\\\\n",
       "\t545699 & NATL-TSING-UNIV                                   & National Tsing Hua University                      & Taiwan         & Taiwan         & 0.480298849612313\\\\\n",
       "\t555426 & LIVERPOOL-LAW-SCH                                 & University of Liverpool                            & United Kingdom & United Kingdom & 0.480298849612313\\\\\n",
       "\t617600 & MTECHNOLOGY-INC                                   & Georgia Institute of Technology                    & United States  & United States  & 0.480298849612313\\\\\n",
       "\t723182 & DERMATOL-UNIV-KLIN-ERLANGEN                       & Friedrich-Alexander-Universitat Erlangen-Nurnberg  & Germany        & Germany        & 0.480298849612313\\\\\n",
       "\t903845 & XIZHOU-TEACHERS-UNIV-SHANXI                       & Shanxi University                                  & China          & China          & 0.480298849612313\\\\\n",
       "\t1123968 & MCGILL-UNIV-3610-UNIV                             & McGill University                                  & Canada         & Canada         & 0.480298849612313\\\\\n",
       "\t1124163 & UNIV-MEDITERRANEAN-KARPASIA                       & Ankara University                                  & Turkey         & Turkey         & 0.480298849612313\\\\\n",
       "\t1142153 & UNIV-CALI-DAVIS                                   & University of California, Davis                    & United States  & United States  & 0.480298849612313\\\\\n",
       "\t1280441 & NE-FORESTRY-UNI                                   & Northeast Forestry University                      & China          & China          & 0.480298849612313\\\\\n",
       "\t1312608 & LIVERPOOL-DIOCESE                                 & University of Liverpool                            & United Kingdom & United Kingdom & 0.480298849612313\\\\\n",
       "\t1383819 & LIVERPOOL-SCH-HYG                                 & University of Liverpool                            & United Kingdom & United Kingdom & 0.480298849612313\\\\\n",
       "\t1404988 & RUTGERSE-NEW-JERSEY-MED-SCH                       & Rutgers, The State University of New Jersey        & United States  & United States  & 0.480298849612313\\\\\n",
       "\t1522296 & KYUNG-UNIV-HOSP                                   & Sungkyunkwan University                            & South Korea    & South Korea    & 0.480298849612313\\\\\n",
       "\t878259 & EDIGENOSSISCHE-FORSCHUNGSANSTALT-WALD-SCHNEE-\\&-LA & Eidgenossische Technische Hochschule Zurich        & Switzerland    & Switzerland    & 0.4803232538832  \\\\\n",
       "\t83112 & CH-VERSAILLES                                     & Universite de Versailles Saint-Quentin-en-Yvelines & France         & France         & 0.480344158030695\\\\\n",
       "\t407512 & BEIJING-UNIV-AERONAUT-\\&-ASTRONAUT-BEIHANG-UNIV    & Nanjing University of Aeronautics and Astronautics & China          & China          & 0.480344158030695\\\\\n",
       "\\end{tabular}\n"
      ],
      "text/markdown": [
       "\n",
       "A data.frame: 100 × 5\n",
       "\n",
       "| <!--/--> | inst &lt;chr&gt; | leid_inst &lt;chr&gt; | country &lt;chr&gt; | leid_country &lt;chr&gt; | dist_inst &lt;chr&gt; |\n",
       "|---|---|---|---|---|---|\n",
       "| 124103 | UNIV-PITTSBURGH-HLTH-SCI       | University of Pittsburgh                    | United States  | United States  | 0.48              |\n",
       "| 149631 | JOURNAL-NANJING-MED-UNIV       | Nanjing Medical University                  | China          | China          | 0.48              |\n",
       "| 170196 | UNIV-MANITOBA-&amp;-HLTH-SCI       | University of Manitoba                      | Canada         | Canada         | 0.48              |\n",
       "| 214608 | UNIV-PITTSBURGH-SHCOOL-MED     | University of Pittsburgh                    | United States  | United States  | 0.48              |\n",
       "| 223707 | BUENOS-AIRES-UNIV-HOSP         | University of Buenos Aires                  | Argentina      | Argentina      | 0.48              |\n",
       "| 260733 | SCHWARZ-EB-UNIV-PITTSBURGH     | University of Pittsburgh                    | United States  | United States  | 0.48              |\n",
       "| 397191 | UNIV-VIRGINIA-HEATH-SYST       | West Virginia University                    | United States  | United States  | 0.48              |\n",
       "| 403980 | W-VIRGINIA-UNIV-RES-CORP       | West Virginia University                    | United States  | United States  | 0.48              |\n",
       "| 406411 | SUN-YAT-SEN-UNIV-CHINA         | Sun Yat-sen University                      | China          | China          | 0.48              |\n",
       "| 410465 | SAN-DIEGO-STATE-UNIV-CALIF     | San Diego State University                  | United States  | United States  | 0.48              |\n",
       "| 546090 | UNIV-DENIS-DIDEROT-2           | Universite Paris Diderot                    | France         | France         | 0.48              |\n",
       "| 600072 | WEST-VIRGINIA-WESLEYAN         | West Virginia University                    | United States  | United States  | 0.48              |\n",
       "| 722211 | MANITOBA-RURAL-INITIAT         | University of Manitoba                      | Canada         | Canada         | 0.48              |\n",
       "| 745550 | WEST-VIRGINIA-MED-INST         | West Virginia University                    | United States  | United States  | 0.48              |\n",
       "| 991599 | UNIV-BUENOS-AIRES-HOSP         | University of Buenos Aires                  | Argentina      | Argentina      | 0.48              |\n",
       "| 992523 | UNIV-BUENOS-AIRES-FCEN         | University of Buenos Aires                  | Argentina      | Argentina      | 0.48              |\n",
       "| 1066943 | UNIV-PITTSBURGH-MED-CTR-JC     | University of Pittsburgh                    | United States  | United States  | 0.48              |\n",
       "| 1068439 | PITTSBURGH-SCH-NURSING         | University of Pittsburgh                    | United States  | United States  | 0.48              |\n",
       "| 1164472 | UNIV-PITTSBURGH-CANC-CTR       | University of Pittsburgh                    | United States  | United States  | 0.48              |\n",
       "| 1241793 | UNIV-PITTSBURGH-FAMILY-MED     | University of Pittsburgh                    | United States  | United States  | 0.48              |\n",
       "| 1247291 | FORESTRY-FOREST-PROD-RES-INST  | Northwest Agriculture &amp; Forestry University | Philippines    | China          | 0.48              |\n",
       "| 1438129 | CARNEGIE-MELLON-PITTSBURGH     | Carnegie Mellon University                  | United States  | United States  | 0.48              |\n",
       "| 1521794 | SASKATCHEWAN-PULSE-GROWERS     | University of Saskatchewan                  | Canada         | Canada         | 0.48              |\n",
       "| 1523945 | UNIV-DENIS-DIDEROT-7           | Universite Paris Diderot                    | France         | France         | 0.48              |\n",
       "| 89638 | SUN-YAT-SEN-UNIV-MED-SCI       | Sun Yat-sen University                      | China          | China          | 0.480053053104255 |\n",
       "| 170124 | HEMATOONCOL-UNIV-PARIS-DIDEROT | Universite Paris Diderot                    | France         | France         | 0.480053053104255 |\n",
       "| 202612 | POLE-UNIV-PSYCHIAT-MARSEILLE   | Aix-Marseille University                    | France         | France         | 0.480053053104255 |\n",
       "| 221037 | CREININ-MD-UNIV-PITTSBURGH     | University of Pittsburgh                    | United States  | United States  | 0.480053053104255 |\n",
       "| 261467 | SUN-YAT-SEN-UNIV-SHANTOU       | Sun Yat-sen University                      | China          | China          | 0.480053053104255 |\n",
       "| 354685 | CENTACAT-QUEENS-UNIV-BELFAST   | Queen's University Belfast                  | United Kingdom | United Kingdom | 0.480053053104255 |\n",
       "| ⋮ | ⋮ | ⋮ | ⋮ | ⋮ | ⋮ |\n",
       "| 1236602 | SAKARYA-UNIV-SAKARYA-MYO-MECHATRON                | Sakarya University                                 | Turkey         | Turkey         | 0.480280803493572 |\n",
       "| 100787 | LIVERPOOL-MED-SCH                                 | University of Liverpool                            | United Kingdom | United Kingdom | 0.480298849612313 |\n",
       "| 121393 | YIILDIZ-TECN-UNIV                                 | Yildiz Technical University                        | Turkey         | Turkey         | 0.480298849612313 |\n",
       "| 139501 | KYUNG-WOON-UNIV                                   | Sungkyunkwan University                            | South Korea    | South Korea    | 0.480298849612313 |\n",
       "| 225487 | KEPLER-UNIVKLIN                                   | Johannes Kepler University Linz                    | Austria        | Austria        | 0.480298849612313 |\n",
       "| 280198 | BUNDESVERBAND-GERIATRIE                           | Friedrich-Alexander-Universitat Erlangen-Nurnberg  | Germany        | Germany        | 0.480298849612313 |\n",
       "| 289062 | KYUNG-LICE-UNIV                                   | Sungkyunkwan University                            | South Korea    | South Korea    | 0.480298849612313 |\n",
       "| 307239 | SHANGHAI-JIAOTONG-UNIV-AFFILIATED-FIRST-PEOPLES-H | Shanghai Jiao Tong University                      | China          | China          | 0.480298849612313 |\n",
       "| 309942 | UNI-CALIF-DAVIS                                   | University of California, Davis                    | United States  | United States  | 0.480298849612313 |\n",
       "| 347469 | SOOTHERN-MED-UNIV                                 | Southern Medical University                        | China          | China          | 0.480298849612313 |\n",
       "| 425384 | ERLANGEN                                          | Friedrich-Alexander-Universitat Erlangen-Nurnberg  | Germany        | Germany        | 0.480298849612313 |\n",
       "| 432154 | WEITZMAN-INST-SCI                                 | Weizmann Institute of Science                      | Israel         | Israel         | 0.480298849612313 |\n",
       "| 537949 | YILDIZ-TEKCH-UNIV                                 | Yildiz Technical University                        | Turkey         | Turkey         | 0.480298849612313 |\n",
       "| 538859 | NE-FORESTY-UNIV                                   | Northeast Forestry University                      | China          | China          | 0.480298849612313 |\n",
       "| 545699 | NATL-TSING-UNIV                                   | National Tsing Hua University                      | Taiwan         | Taiwan         | 0.480298849612313 |\n",
       "| 555426 | LIVERPOOL-LAW-SCH                                 | University of Liverpool                            | United Kingdom | United Kingdom | 0.480298849612313 |\n",
       "| 617600 | MTECHNOLOGY-INC                                   | Georgia Institute of Technology                    | United States  | United States  | 0.480298849612313 |\n",
       "| 723182 | DERMATOL-UNIV-KLIN-ERLANGEN                       | Friedrich-Alexander-Universitat Erlangen-Nurnberg  | Germany        | Germany        | 0.480298849612313 |\n",
       "| 903845 | XIZHOU-TEACHERS-UNIV-SHANXI                       | Shanxi University                                  | China          | China          | 0.480298849612313 |\n",
       "| 1123968 | MCGILL-UNIV-3610-UNIV                             | McGill University                                  | Canada         | Canada         | 0.480298849612313 |\n",
       "| 1124163 | UNIV-MEDITERRANEAN-KARPASIA                       | Ankara University                                  | Turkey         | Turkey         | 0.480298849612313 |\n",
       "| 1142153 | UNIV-CALI-DAVIS                                   | University of California, Davis                    | United States  | United States  | 0.480298849612313 |\n",
       "| 1280441 | NE-FORESTRY-UNI                                   | Northeast Forestry University                      | China          | China          | 0.480298849612313 |\n",
       "| 1312608 | LIVERPOOL-DIOCESE                                 | University of Liverpool                            | United Kingdom | United Kingdom | 0.480298849612313 |\n",
       "| 1383819 | LIVERPOOL-SCH-HYG                                 | University of Liverpool                            | United Kingdom | United Kingdom | 0.480298849612313 |\n",
       "| 1404988 | RUTGERSE-NEW-JERSEY-MED-SCH                       | Rutgers, The State University of New Jersey        | United States  | United States  | 0.480298849612313 |\n",
       "| 1522296 | KYUNG-UNIV-HOSP                                   | Sungkyunkwan University                            | South Korea    | South Korea    | 0.480298849612313 |\n",
       "| 878259 | EDIGENOSSISCHE-FORSCHUNGSANSTALT-WALD-SCHNEE-&amp;-LA | Eidgenossische Technische Hochschule Zurich        | Switzerland    | Switzerland    | 0.4803232538832   |\n",
       "| 83112 | CH-VERSAILLES                                     | Universite de Versailles Saint-Quentin-en-Yvelines | France         | France         | 0.480344158030695 |\n",
       "| 407512 | BEIJING-UNIV-AERONAUT-&amp;-ASTRONAUT-BEIHANG-UNIV    | Nanjing University of Aeronautics and Astronautics | China          | China          | 0.480344158030695 |\n",
       "\n"
      ],
      "text/plain": [
       "        inst                                             \n",
       "124103  UNIV-PITTSBURGH-HLTH-SCI                         \n",
       "149631  JOURNAL-NANJING-MED-UNIV                         \n",
       "170196  UNIV-MANITOBA-&-HLTH-SCI                         \n",
       "214608  UNIV-PITTSBURGH-SHCOOL-MED                       \n",
       "223707  BUENOS-AIRES-UNIV-HOSP                           \n",
       "260733  SCHWARZ-EB-UNIV-PITTSBURGH                       \n",
       "397191  UNIV-VIRGINIA-HEATH-SYST                         \n",
       "403980  W-VIRGINIA-UNIV-RES-CORP                         \n",
       "406411  SUN-YAT-SEN-UNIV-CHINA                           \n",
       "410465  SAN-DIEGO-STATE-UNIV-CALIF                       \n",
       "546090  UNIV-DENIS-DIDEROT-2                             \n",
       "600072  WEST-VIRGINIA-WESLEYAN                           \n",
       "722211  MANITOBA-RURAL-INITIAT                           \n",
       "745550  WEST-VIRGINIA-MED-INST                           \n",
       "991599  UNIV-BUENOS-AIRES-HOSP                           \n",
       "992523  UNIV-BUENOS-AIRES-FCEN                           \n",
       "1066943 UNIV-PITTSBURGH-MED-CTR-JC                       \n",
       "1068439 PITTSBURGH-SCH-NURSING                           \n",
       "1164472 UNIV-PITTSBURGH-CANC-CTR                         \n",
       "1241793 UNIV-PITTSBURGH-FAMILY-MED                       \n",
       "1247291 FORESTRY-FOREST-PROD-RES-INST                    \n",
       "1438129 CARNEGIE-MELLON-PITTSBURGH                       \n",
       "1521794 SASKATCHEWAN-PULSE-GROWERS                       \n",
       "1523945 UNIV-DENIS-DIDEROT-7                             \n",
       "89638   SUN-YAT-SEN-UNIV-MED-SCI                         \n",
       "170124  HEMATOONCOL-UNIV-PARIS-DIDEROT                   \n",
       "202612  POLE-UNIV-PSYCHIAT-MARSEILLE                     \n",
       "221037  CREININ-MD-UNIV-PITTSBURGH                       \n",
       "261467  SUN-YAT-SEN-UNIV-SHANTOU                         \n",
       "354685  CENTACAT-QUEENS-UNIV-BELFAST                     \n",
       "⋮       ⋮                                                \n",
       "1236602 SAKARYA-UNIV-SAKARYA-MYO-MECHATRON               \n",
       "100787  LIVERPOOL-MED-SCH                                \n",
       "121393  YIILDIZ-TECN-UNIV                                \n",
       "139501  KYUNG-WOON-UNIV                                  \n",
       "225487  KEPLER-UNIVKLIN                                  \n",
       "280198  BUNDESVERBAND-GERIATRIE                          \n",
       "289062  KYUNG-LICE-UNIV                                  \n",
       "307239  SHANGHAI-JIAOTONG-UNIV-AFFILIATED-FIRST-PEOPLES-H\n",
       "309942  UNI-CALIF-DAVIS                                  \n",
       "347469  SOOTHERN-MED-UNIV                                \n",
       "425384  ERLANGEN                                         \n",
       "432154  WEITZMAN-INST-SCI                                \n",
       "537949  YILDIZ-TEKCH-UNIV                                \n",
       "538859  NE-FORESTY-UNIV                                  \n",
       "545699  NATL-TSING-UNIV                                  \n",
       "555426  LIVERPOOL-LAW-SCH                                \n",
       "617600  MTECHNOLOGY-INC                                  \n",
       "723182  DERMATOL-UNIV-KLIN-ERLANGEN                      \n",
       "903845  XIZHOU-TEACHERS-UNIV-SHANXI                      \n",
       "1123968 MCGILL-UNIV-3610-UNIV                            \n",
       "1124163 UNIV-MEDITERRANEAN-KARPASIA                      \n",
       "1142153 UNIV-CALI-DAVIS                                  \n",
       "1280441 NE-FORESTRY-UNI                                  \n",
       "1312608 LIVERPOOL-DIOCESE                                \n",
       "1383819 LIVERPOOL-SCH-HYG                                \n",
       "1404988 RUTGERSE-NEW-JERSEY-MED-SCH                      \n",
       "1522296 KYUNG-UNIV-HOSP                                  \n",
       "878259  EDIGENOSSISCHE-FORSCHUNGSANSTALT-WALD-SCHNEE-&-LA\n",
       "83112   CH-VERSAILLES                                    \n",
       "407512  BEIJING-UNIV-AERONAUT-&-ASTRONAUT-BEIHANG-UNIV   \n",
       "        leid_inst                                          country       \n",
       "124103  University of Pittsburgh                           United States \n",
       "149631  Nanjing Medical University                         China         \n",
       "170196  University of Manitoba                             Canada        \n",
       "214608  University of Pittsburgh                           United States \n",
       "223707  University of Buenos Aires                         Argentina     \n",
       "260733  University of Pittsburgh                           United States \n",
       "397191  West Virginia University                           United States \n",
       "403980  West Virginia University                           United States \n",
       "406411  Sun Yat-sen University                             China         \n",
       "410465  San Diego State University                         United States \n",
       "546090  Universite Paris Diderot                           France        \n",
       "600072  West Virginia University                           United States \n",
       "722211  University of Manitoba                             Canada        \n",
       "745550  West Virginia University                           United States \n",
       "991599  University of Buenos Aires                         Argentina     \n",
       "992523  University of Buenos Aires                         Argentina     \n",
       "1066943 University of Pittsburgh                           United States \n",
       "1068439 University of Pittsburgh                           United States \n",
       "1164472 University of Pittsburgh                           United States \n",
       "1241793 University of Pittsburgh                           United States \n",
       "1247291 Northwest Agriculture & Forestry University        Philippines   \n",
       "1438129 Carnegie Mellon University                         United States \n",
       "1521794 University of Saskatchewan                         Canada        \n",
       "1523945 Universite Paris Diderot                           France        \n",
       "89638   Sun Yat-sen University                             China         \n",
       "170124  Universite Paris Diderot                           France        \n",
       "202612  Aix-Marseille University                           France        \n",
       "221037  University of Pittsburgh                           United States \n",
       "261467  Sun Yat-sen University                             China         \n",
       "354685  Queen's University Belfast                         United Kingdom\n",
       "⋮       ⋮                                                  ⋮             \n",
       "1236602 Sakarya University                                 Turkey        \n",
       "100787  University of Liverpool                            United Kingdom\n",
       "121393  Yildiz Technical University                        Turkey        \n",
       "139501  Sungkyunkwan University                            South Korea   \n",
       "225487  Johannes Kepler University Linz                    Austria       \n",
       "280198  Friedrich-Alexander-Universitat Erlangen-Nurnberg  Germany       \n",
       "289062  Sungkyunkwan University                            South Korea   \n",
       "307239  Shanghai Jiao Tong University                      China         \n",
       "309942  University of California, Davis                    United States \n",
       "347469  Southern Medical University                        China         \n",
       "425384  Friedrich-Alexander-Universitat Erlangen-Nurnberg  Germany       \n",
       "432154  Weizmann Institute of Science                      Israel        \n",
       "537949  Yildiz Technical University                        Turkey        \n",
       "538859  Northeast Forestry University                      China         \n",
       "545699  National Tsing Hua University                      Taiwan        \n",
       "555426  University of Liverpool                            United Kingdom\n",
       "617600  Georgia Institute of Technology                    United States \n",
       "723182  Friedrich-Alexander-Universitat Erlangen-Nurnberg  Germany       \n",
       "903845  Shanxi University                                  China         \n",
       "1123968 McGill University                                  Canada        \n",
       "1124163 Ankara University                                  Turkey        \n",
       "1142153 University of California, Davis                    United States \n",
       "1280441 Northeast Forestry University                      China         \n",
       "1312608 University of Liverpool                            United Kingdom\n",
       "1383819 University of Liverpool                            United Kingdom\n",
       "1404988 Rutgers, The State University of New Jersey        United States \n",
       "1522296 Sungkyunkwan University                            South Korea   \n",
       "878259  Eidgenossische Technische Hochschule Zurich        Switzerland   \n",
       "83112   Universite de Versailles Saint-Quentin-en-Yvelines France        \n",
       "407512  Nanjing University of Aeronautics and Astronautics China         \n",
       "        leid_country   dist_inst        \n",
       "124103  United States  0.48             \n",
       "149631  China          0.48             \n",
       "170196  Canada         0.48             \n",
       "214608  United States  0.48             \n",
       "223707  Argentina      0.48             \n",
       "260733  United States  0.48             \n",
       "397191  United States  0.48             \n",
       "403980  United States  0.48             \n",
       "406411  China          0.48             \n",
       "410465  United States  0.48             \n",
       "546090  France         0.48             \n",
       "600072  United States  0.48             \n",
       "722211  Canada         0.48             \n",
       "745550  United States  0.48             \n",
       "991599  Argentina      0.48             \n",
       "992523  Argentina      0.48             \n",
       "1066943 United States  0.48             \n",
       "1068439 United States  0.48             \n",
       "1164472 United States  0.48             \n",
       "1241793 United States  0.48             \n",
       "1247291 China          0.48             \n",
       "1438129 United States  0.48             \n",
       "1521794 Canada         0.48             \n",
       "1523945 France         0.48             \n",
       "89638   China          0.480053053104255\n",
       "170124  France         0.480053053104255\n",
       "202612  France         0.480053053104255\n",
       "221037  United States  0.480053053104255\n",
       "261467  China          0.480053053104255\n",
       "354685  United Kingdom 0.480053053104255\n",
       "⋮       ⋮              ⋮                \n",
       "1236602 Turkey         0.480280803493572\n",
       "100787  United Kingdom 0.480298849612313\n",
       "121393  Turkey         0.480298849612313\n",
       "139501  South Korea    0.480298849612313\n",
       "225487  Austria        0.480298849612313\n",
       "280198  Germany        0.480298849612313\n",
       "289062  South Korea    0.480298849612313\n",
       "307239  China          0.480298849612313\n",
       "309942  United States  0.480298849612313\n",
       "347469  China          0.480298849612313\n",
       "425384  Germany        0.480298849612313\n",
       "432154  Israel         0.480298849612313\n",
       "537949  Turkey         0.480298849612313\n",
       "538859  China          0.480298849612313\n",
       "545699  Taiwan         0.480298849612313\n",
       "555426  United Kingdom 0.480298849612313\n",
       "617600  United States  0.480298849612313\n",
       "723182  Germany        0.480298849612313\n",
       "903845  China          0.480298849612313\n",
       "1123968 Canada         0.480298849612313\n",
       "1124163 Turkey         0.480298849612313\n",
       "1142153 United States  0.480298849612313\n",
       "1280441 China          0.480298849612313\n",
       "1312608 United Kingdom 0.480298849612313\n",
       "1383819 United Kingdom 0.480298849612313\n",
       "1404988 United States  0.480298849612313\n",
       "1522296 South Korea    0.480298849612313\n",
       "878259  Switzerland    0.4803232538832  \n",
       "83112   France         0.480344158030695\n",
       "407512  China          0.480344158030695"
      ]
     },
     "metadata": {},
     "output_type": "display_data"
    }
   ],
   "source": [
    "head(all_inst[all_inst$dist_inst>=0.48,],100)"
   ]
  },
  {
   "cell_type": "code",
   "execution_count": 42,
   "metadata": {
    "collapsed": true
   },
   "outputs": [],
   "source": [
    "threshold <- 0.5"
   ]
  },
  {
   "cell_type": "code",
   "execution_count": 66,
   "metadata": {
    "collapsed": true
   },
   "outputs": [],
   "source": [
    "all_inst_thresh <- all_inst[all_inst_compl$dist_inst<threshold,]"
   ]
  },
  {
   "cell_type": "code",
   "execution_count": 86,
   "metadata": {
    "collapsed": true
   },
   "outputs": [],
   "source": [
    "df_matched <- merge(df_authors,all_inst_thresh[,c('inst','country','leid_inst')],by.x=c('Institution','ERegroupement'),by.y=c('inst','country'))"
   ]
  },
  {
   "cell_type": "code",
   "execution_count": 102,
   "metadata": {
    "scrolled": true
   },
   "outputs": [
    {
     "data": {
      "text/html": [
       "<table>\n",
       "<caption>A data.frame: 0 × 4</caption>\n",
       "<thead>\n",
       "\t<tr><th scope=col>Institution</th><th scope=col>ERegroupement</th><th scope=col>Cluster_ID</th><th scope=col>leid_inst</th></tr>\n",
       "\t<tr><th scope=col>&lt;chr&gt;</th><th scope=col>&lt;chr&gt;</th><th scope=col>&lt;int&gt;</th><th scope=col>&lt;chr&gt;</th></tr>\n",
       "</thead>\n",
       "<tbody>\n",
       "</tbody>\n",
       "</table>\n"
      ],
      "text/latex": [
       "A data.frame: 0 × 4\n",
       "\\begin{tabular}{llll}\n",
       " Institution & ERegroupement & Cluster\\_ID & leid\\_inst\\\\\n",
       " <chr> & <chr> & <int> & <chr>\\\\\n",
       "\\hline\n",
       "\\end{tabular}\n"
      ],
      "text/markdown": [
       "\n",
       "A data.frame: 0 × 4\n",
       "\n",
       "| Institution &lt;chr&gt; | ERegroupement &lt;chr&gt; | Cluster_ID &lt;int&gt; | leid_inst &lt;chr&gt; |\n",
       "|---|---|---|---|\n",
       "\n"
      ],
      "text/plain": [
       "     Institution ERegroupement Cluster_ID leid_inst"
      ]
     },
     "metadata": {},
     "output_type": "display_data"
    }
   ],
   "source": [
    "head(new_DF)"
   ]
  },
  {
   "cell_type": "code",
   "execution_count": 90,
   "metadata": {
    "collapsed": true
   },
   "outputs": [],
   "source": [
    "write.csv(df_matched,paste0(path,'matched_leid_inst.csv'),row.names = FALSE)"
   ]
  },
  {
   "cell_type": "code",
   "execution_count": 92,
   "metadata": {
    "collapsed": true
   },
   "outputs": [],
   "source": [
    "df_matched <- merge(df_matched,df_leiden[,c(\"Country\",\"University\",\"PP_top5\")],by.x=c(\"ERegroupement\",\"leid_inst\"),by.y=c(\"Country\",\"University\"))"
   ]
  },
  {
   "cell_type": "code",
   "execution_count": 85,
   "metadata": {},
   "outputs": [
    {
     "data": {
      "text/html": [
       "22166707"
      ],
      "text/latex": [
       "22166707"
      ],
      "text/markdown": [
       "22166707"
      ],
      "text/plain": [
       "[1] 22166707"
      ]
     },
     "metadata": {},
     "output_type": "display_data"
    }
   ],
   "source": [
    "length(unique(df_authors$Cluster_ID))"
   ]
  },
  {
   "cell_type": "code",
   "execution_count": 89,
   "metadata": {},
   "outputs": [
    {
     "data": {
      "text/html": [
       "<table>\n",
       "<caption>A data.frame: 6 × 4</caption>\n",
       "<thead>\n",
       "\t<tr><th></th><th scope=col>Institution</th><th scope=col>ERegroupement</th><th scope=col>Cluster_ID</th><th scope=col>leid_inst</th></tr>\n",
       "\t<tr><th></th><th scope=col>&lt;chr&gt;</th><th scope=col>&lt;chr&gt;</th><th scope=col>&lt;int&gt;</th><th scope=col>&lt;chr&gt;</th></tr>\n",
       "</thead>\n",
       "<tbody>\n",
       "\t<tr><th scope=row>1</th><td>00014-UNIV-HELSINKI</td><td>Finland</td><td>34160162</td><td>University of Helsinki</td></tr>\n",
       "\t<tr><th scope=row>2</th><td>00014-UNIV-HELSINKI</td><td>Finland</td><td>22212131</td><td>University of Helsinki</td></tr>\n",
       "\t<tr><th scope=row>3</th><td>00014-UNIV-HELSINKI</td><td>Finland</td><td>41363395</td><td>University of Helsinki</td></tr>\n",
       "\t<tr><th scope=row>4</th><td>00014-UNIV-HELSINKI</td><td>Finland</td><td> 9022469</td><td>University of Helsinki</td></tr>\n",
       "\t<tr><th scope=row>5</th><td>00014-UNIV-HELSINKI</td><td>Finland</td><td>41363395</td><td>University of Helsinki</td></tr>\n",
       "\t<tr><th scope=row>6</th><td>00014-UNIV-HELSINKI</td><td>Finland</td><td>23390018</td><td>University of Helsinki</td></tr>\n",
       "</tbody>\n",
       "</table>\n"
      ],
      "text/latex": [
       "A data.frame: 6 × 4\n",
       "\\begin{tabular}{r|llll}\n",
       "  & Institution & ERegroupement & Cluster\\_ID & leid\\_inst\\\\\n",
       "  & <chr> & <chr> & <int> & <chr>\\\\\n",
       "\\hline\n",
       "\t1 & 00014-UNIV-HELSINKI & Finland & 34160162 & University of Helsinki\\\\\n",
       "\t2 & 00014-UNIV-HELSINKI & Finland & 22212131 & University of Helsinki\\\\\n",
       "\t3 & 00014-UNIV-HELSINKI & Finland & 41363395 & University of Helsinki\\\\\n",
       "\t4 & 00014-UNIV-HELSINKI & Finland &  9022469 & University of Helsinki\\\\\n",
       "\t5 & 00014-UNIV-HELSINKI & Finland & 41363395 & University of Helsinki\\\\\n",
       "\t6 & 00014-UNIV-HELSINKI & Finland & 23390018 & University of Helsinki\\\\\n",
       "\\end{tabular}\n"
      ],
      "text/markdown": [
       "\n",
       "A data.frame: 6 × 4\n",
       "\n",
       "| <!--/--> | Institution &lt;chr&gt; | ERegroupement &lt;chr&gt; | Cluster_ID &lt;int&gt; | leid_inst &lt;chr&gt; |\n",
       "|---|---|---|---|---|\n",
       "| 1 | 00014-UNIV-HELSINKI | Finland | 34160162 | University of Helsinki |\n",
       "| 2 | 00014-UNIV-HELSINKI | Finland | 22212131 | University of Helsinki |\n",
       "| 3 | 00014-UNIV-HELSINKI | Finland | 41363395 | University of Helsinki |\n",
       "| 4 | 00014-UNIV-HELSINKI | Finland |  9022469 | University of Helsinki |\n",
       "| 5 | 00014-UNIV-HELSINKI | Finland | 41363395 | University of Helsinki |\n",
       "| 6 | 00014-UNIV-HELSINKI | Finland | 23390018 | University of Helsinki |\n",
       "\n"
      ],
      "text/plain": [
       "  Institution         ERegroupement Cluster_ID leid_inst             \n",
       "1 00014-UNIV-HELSINKI Finland       34160162   University of Helsinki\n",
       "2 00014-UNIV-HELSINKI Finland       22212131   University of Helsinki\n",
       "3 00014-UNIV-HELSINKI Finland       41363395   University of Helsinki\n",
       "4 00014-UNIV-HELSINKI Finland        9022469   University of Helsinki\n",
       "5 00014-UNIV-HELSINKI Finland       41363395   University of Helsinki\n",
       "6 00014-UNIV-HELSINKI Finland       23390018   University of Helsinki"
      ]
     },
     "metadata": {},
     "output_type": "display_data"
    }
   ],
   "source": [
    "head(df_matched)"
   ]
  },
  {
   "cell_type": "code",
   "execution_count": 91,
   "metadata": {},
   "outputs": [
    {
     "data": {
      "text/html": [
       "<table>\n",
       "<caption>A data.frame: 6 × 5</caption>\n",
       "<thead>\n",
       "\t<tr><th></th><th scope=col>University</th><th scope=col>Country</th><th scope=col>Field</th><th scope=col>Period</th><th scope=col>PP_top5</th></tr>\n",
       "\t<tr><th></th><th scope=col>&lt;chr&gt;</th><th scope=col>&lt;chr&gt;</th><th scope=col>&lt;chr&gt;</th><th scope=col>&lt;chr&gt;</th><th scope=col>&lt;chr&gt;</th></tr>\n",
       "</thead>\n",
       "<tbody>\n",
       "\t<tr><th scope=row>1</th><td>Aalborg University                      </td><td>Denmark</td><td>All sciences</td><td>2006–2009</td><td>3.9527131084826E-2   </td></tr>\n",
       "\t<tr><th scope=row>2</th><td>Aalto University                        </td><td>Finland</td><td>All sciences</td><td>2006–2009</td><td>4.7843169987152698E-2</td></tr>\n",
       "\t<tr><th scope=row>3</th><td>Aarhus University                       </td><td>Denmark</td><td>All sciences</td><td>2006–2009</td><td>6.2751106656845898E-2</td></tr>\n",
       "\t<tr><th scope=row>4</th><td>Adam Mickiewicz University in Poznan    </td><td>Poland </td><td>All sciences</td><td>2006–2009</td><td>1.41971144761704E-2  </td></tr>\n",
       "\t<tr><th scope=row>5</th><td>AGH University of Science and Technology</td><td>Poland </td><td>All sciences</td><td>2006–2009</td><td>9.8638073842913804E-3</td></tr>\n",
       "\t<tr><th scope=row>6</th><td>Ain Shams University                    </td><td>Egypt  </td><td>All sciences</td><td>2006–2009</td><td>2.7408554772684699E-2</td></tr>\n",
       "</tbody>\n",
       "</table>\n"
      ],
      "text/latex": [
       "A data.frame: 6 × 5\n",
       "\\begin{tabular}{r|lllll}\n",
       "  & University & Country & Field & Period & PP\\_top5\\\\\n",
       "  & <chr> & <chr> & <chr> & <chr> & <chr>\\\\\n",
       "\\hline\n",
       "\t1 & Aalborg University                       & Denmark & All sciences & 2006–2009 & 3.9527131084826E-2   \\\\\n",
       "\t2 & Aalto University                         & Finland & All sciences & 2006–2009 & 4.7843169987152698E-2\\\\\n",
       "\t3 & Aarhus University                        & Denmark & All sciences & 2006–2009 & 6.2751106656845898E-2\\\\\n",
       "\t4 & Adam Mickiewicz University in Poznan     & Poland  & All sciences & 2006–2009 & 1.41971144761704E-2  \\\\\n",
       "\t5 & AGH University of Science and Technology & Poland  & All sciences & 2006–2009 & 9.8638073842913804E-3\\\\\n",
       "\t6 & Ain Shams University                     & Egypt   & All sciences & 2006–2009 & 2.7408554772684699E-2\\\\\n",
       "\\end{tabular}\n"
      ],
      "text/markdown": [
       "\n",
       "A data.frame: 6 × 5\n",
       "\n",
       "| <!--/--> | University &lt;chr&gt; | Country &lt;chr&gt; | Field &lt;chr&gt; | Period &lt;chr&gt; | PP_top5 &lt;chr&gt; |\n",
       "|---|---|---|---|---|---|\n",
       "| 1 | Aalborg University                       | Denmark | All sciences | 2006–2009 | 3.9527131084826E-2    |\n",
       "| 2 | Aalto University                         | Finland | All sciences | 2006–2009 | 4.7843169987152698E-2 |\n",
       "| 3 | Aarhus University                        | Denmark | All sciences | 2006–2009 | 6.2751106656845898E-2 |\n",
       "| 4 | Adam Mickiewicz University in Poznan     | Poland  | All sciences | 2006–2009 | 1.41971144761704E-2   |\n",
       "| 5 | AGH University of Science and Technology | Poland  | All sciences | 2006–2009 | 9.8638073842913804E-3 |\n",
       "| 6 | Ain Shams University                     | Egypt   | All sciences | 2006–2009 | 2.7408554772684699E-2 |\n",
       "\n"
      ],
      "text/plain": [
       "  University                               Country Field        Period   \n",
       "1 Aalborg University                       Denmark All sciences 2006–2009\n",
       "2 Aalto University                         Finland All sciences 2006–2009\n",
       "3 Aarhus University                        Denmark All sciences 2006–2009\n",
       "4 Adam Mickiewicz University in Poznan     Poland  All sciences 2006–2009\n",
       "5 AGH University of Science and Technology Poland  All sciences 2006–2009\n",
       "6 Ain Shams University                     Egypt   All sciences 2006–2009\n",
       "  PP_top5              \n",
       "1 3.9527131084826E-2   \n",
       "2 4.7843169987152698E-2\n",
       "3 6.2751106656845898E-2\n",
       "4 1.41971144761704E-2  \n",
       "5 9.8638073842913804E-3\n",
       "6 2.7408554772684699E-2"
      ]
     },
     "metadata": {},
     "output_type": "display_data"
    }
   ],
   "source": [
    "head(df_leiden)"
   ]
  }
 ],
 "metadata": {
  "kernelspec": {
   "display_name": "R",
   "language": "R",
   "name": "ir"
  },
  "language_info": {
   "codemirror_mode": "r",
   "file_extension": ".r",
   "mimetype": "text/x-r-source",
   "name": "R",
   "pygments_lexer": "r",
   "version": "3.6.3"
  }
 },
 "nbformat": 4,
 "nbformat_minor": 2
}
