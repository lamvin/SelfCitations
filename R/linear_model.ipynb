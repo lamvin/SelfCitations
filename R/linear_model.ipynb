{
 "cells": [
  {
   "cell_type": "code",
   "execution_count": 1,
   "metadata": {
    "collapsed": true
   },
   "outputs": [],
   "source": [
    "path <- '/home/User1/data/self_citations/model/'"
   ]
  },
  {
   "cell_type": "markdown",
   "metadata": {},
   "source": [
    "### Predict papers n years"
   ]
  },
  {
   "cell_type": "code",
   "execution_count": 2,
   "metadata": {
    "collapsed": true
   },
   "outputs": [],
   "source": [
    "year_start = 5\n",
    "diff_year = 10\n",
    "year_pred = year_start+diff_year"
   ]
  },
  {
   "cell_type": "code",
   "execution_count": 3,
   "metadata": {
    "collapsed": true
   },
   "outputs": [],
   "source": [
    "total_years_file <- 20\n",
    "col_status <- rep(\"NULL\",total_years_file+1)\n",
    "col_status[c(1,year_start+1,year_start+diff_year+1)] <- \"integer\"\n",
    "data <- read.csv(file=paste0(path,'nb_articles.csv'),colClasses =col_status)"
   ]
  },
  {
   "cell_type": "code",
   "execution_count": null,
   "metadata": {
    "collapsed": true
   },
   "outputs": [],
   "source": [
    "col_status <- rep(\"NULL\",total_years_file+1)\n",
    "col_status[c(1,year_start+1,year_start+diff_year+1)] <- \"double\"\n",
    "types_cit <- c('self','co','others')\n",
    "dfs_nb_cit <- list()\n",
    "for(i in 1:length(types_cit)){\n",
    "    type_cit <- types_cit[i]\n",
    "    dfs_nb_cit[[i]] <- read.csv(file=paste0(path,'nb_citations_',type_cit,'.csv'),colClasses=col_status)\n",
    "}"
   ]
  },
  {
   "cell_type": "code",
   "execution_count": null,
   "metadata": {
    "collapsed": true
   },
   "outputs": [],
   "source": [
    "authors_info <- read.csv(file=paste0(path,'authors_infos_model.csv'),sep='\\t')"
   ]
  },
  {
   "cell_type": "code",
   "execution_count": null,
   "metadata": {
    "collapsed": true
   },
   "outputs": [],
   "source": [
    "for(i in 1:length(types_cit)){\n",
    "    data <- merge(data,dfs_nb_cit[[i]],by=\"Cluster_ID\")\n",
    "}"
   ]
  },
  {
   "cell_type": "code",
   "execution_count": null,
   "metadata": {
    "collapsed": true
   },
   "outputs": [],
   "source": [
    "rm(dfs_nb_cit)"
   ]
  },
  {
   "cell_type": "code",
   "execution_count": null,
   "metadata": {
    "collapsed": true
   },
   "outputs": [],
   "source": [
    "data <- merge(data,authors_info,by=\"Cluster_ID\")"
   ]
  },
  {
   "cell_type": "code",
   "execution_count": null,
   "metadata": {
    "collapsed": true
   },
   "outputs": [],
   "source": [
    "nb_coauthors <- read.csv(file=paste0(path,'nb_coauthors.csv'),colClasses =col_status)"
   ]
  },
  {
   "cell_type": "code",
   "execution_count": null,
   "metadata": {
    "collapsed": true
   },
   "outputs": [],
   "source": [
    "colnames(nb_coauthors)[c(2,3)] <- c(paste0(\"nb_co_\",year_start),paste0(\"nb_co_\",year_start+diff_year))"
   ]
  },
  {
   "cell_type": "code",
   "execution_count": 19,
   "metadata": {},
   "outputs": [
    {
     "data": {
      "text/html": [
       "<table>\n",
       "<caption>A data.frame: 6 × 3</caption>\n",
       "<thead>\n",
       "\t<tr><th></th><th scope=col>Cluster_ID</th><th scope=col>nb_co_5</th><th scope=col>nb_co_15</th></tr>\n",
       "\t<tr><th></th><th scope=col>&lt;dbl&gt;</th><th scope=col>&lt;dbl&gt;</th><th scope=col>&lt;dbl&gt;</th></tr>\n",
       "</thead>\n",
       "<tbody>\n",
       "\t<tr><th scope=row>1</th><td>31905805</td><td> 5</td><td> 5</td></tr>\n",
       "\t<tr><th scope=row>2</th><td>10925507</td><td> 7</td><td> 7</td></tr>\n",
       "\t<tr><th scope=row>3</th><td>37274983</td><td> 9</td><td>33</td></tr>\n",
       "\t<tr><th scope=row>4</th><td>11452931</td><td>13</td><td>13</td></tr>\n",
       "\t<tr><th scope=row>5</th><td>38788724</td><td> 5</td><td> 5</td></tr>\n",
       "\t<tr><th scope=row>6</th><td>43195937</td><td> 3</td><td> 3</td></tr>\n",
       "</tbody>\n",
       "</table>\n"
      ],
      "text/latex": [
       "A data.frame: 6 × 3\n",
       "\\begin{tabular}{r|lll}\n",
       "  & Cluster\\_ID & nb\\_co\\_5 & nb\\_co\\_15\\\\\n",
       "  & <dbl> & <dbl> & <dbl>\\\\\n",
       "\\hline\n",
       "\t1 & 31905805 &  5 &  5\\\\\n",
       "\t2 & 10925507 &  7 &  7\\\\\n",
       "\t3 & 37274983 &  9 & 33\\\\\n",
       "\t4 & 11452931 & 13 & 13\\\\\n",
       "\t5 & 38788724 &  5 &  5\\\\\n",
       "\t6 & 43195937 &  3 &  3\\\\\n",
       "\\end{tabular}\n"
      ],
      "text/markdown": [
       "\n",
       "A data.frame: 6 × 3\n",
       "\n",
       "| <!--/--> | Cluster_ID &lt;dbl&gt; | nb_co_5 &lt;dbl&gt; | nb_co_15 &lt;dbl&gt; |\n",
       "|---|---|---|---|\n",
       "| 1 | 31905805 |  5 |  5 |\n",
       "| 2 | 10925507 |  7 |  7 |\n",
       "| 3 | 37274983 |  9 | 33 |\n",
       "| 4 | 11452931 | 13 | 13 |\n",
       "| 5 | 38788724 |  5 |  5 |\n",
       "| 6 | 43195937 |  3 |  3 |\n",
       "\n"
      ],
      "text/plain": [
       "  Cluster_ID nb_co_5 nb_co_15\n",
       "1 31905805    5       5      \n",
       "2 10925507    7       7      \n",
       "3 37274983    9      33      \n",
       "4 11452931   13      13      \n",
       "5 38788724    5       5      \n",
       "6 43195937    3       3      "
      ]
     },
     "metadata": {},
     "output_type": "display_data"
    }
   ],
   "source": [
    "head(nb_coauthors)"
   ]
  },
  {
   "cell_type": "code",
   "execution_count": null,
   "metadata": {
    "collapsed": true
   },
   "outputs": [],
   "source": [
    "col_status_char <- rep(\"NULL\",total_years_file+1)\n",
    "col_status_char[c(1,year_start+1,year_start+diff_year+1)] <- \"character\""
   ]
  },
  {
   "cell_type": "code",
   "execution_count": null,
   "metadata": {
    "collapsed": true,
    "scrolled": true
   },
   "outputs": [],
   "source": [
    "countries <- read.csv(file=paste0(path,'country_authors.csv'),colClasses =col_status_char)"
   ]
  },
  {
   "cell_type": "code",
   "execution_count": null,
   "metadata": {
    "collapsed": true
   },
   "outputs": [],
   "source": [
    "data <- merge(data,nb_coauthors,by=\"Cluster_ID\")"
   ]
  },
  {
   "cell_type": "code",
   "execution_count": null,
   "metadata": {
    "collapsed": true
   },
   "outputs": [],
   "source": [
    "data <- merge(data,countries,by=\"Cluster_ID\")"
   ]
  },
  {
   "cell_type": "code",
   "execution_count": null,
   "metadata": {
    "collapsed": true
   },
   "outputs": [],
   "source": [
    "data$discipline <- as.character(data$discipline)"
   ]
  },
  {
   "cell_type": "code",
   "execution_count": null,
   "metadata": {
    "collapsed": true
   },
   "outputs": [],
   "source": [
    "groups_disc <- read.csv(file=paste0(path,'groups_disc.csv'),header=F)"
   ]
  },
  {
   "cell_type": "code",
   "execution_count": null,
   "metadata": {
    "collapsed": true
   },
   "outputs": [],
   "source": [
    "colnames(groups_disc) <- c(\"group\",\"discipline\")"
   ]
  },
  {
   "cell_type": "code",
   "execution_count": null,
   "metadata": {
    "collapsed": true
   },
   "outputs": [],
   "source": [
    "data <- merge(data,groups_disc,by='discipline')"
   ]
  },
  {
   "cell_type": "code",
   "execution_count": null,
   "metadata": {
    "collapsed": true
   },
   "outputs": [],
   "source": [
    "# As time of start\n",
    "min_year <- 1995\n",
    "max_year <- 2007\n",
    "# Min year car start\n",
    "min_year_start  <- min_year - year_start\n",
    "max_year_start <- max_year - year_start\n",
    "\n",
    "data_model <- data[which((data['min_year'] >=min_year_start) & (data['min_year'] <= max_year_start)),]"
   ]
  },
  {
   "cell_type": "code",
   "execution_count": null,
   "metadata": {
    "collapsed": true
   },
   "outputs": [],
   "source": [
    "list_disciplines <- unique(data_model$discipline)"
   ]
  },
  {
   "cell_type": "code",
   "execution_count": null,
   "metadata": {
    "collapsed": true
   },
   "outputs": [],
   "source": [
    "groups <- unique(data_model$group)"
   ]
  },
  {
   "cell_type": "code",
   "execution_count": 86,
   "metadata": {},
   "outputs": [
    {
     "data": {
      "text/html": [
       "<table>\n",
       "<caption>A data.frame: 5 × 16</caption>\n",
       "<thead>\n",
       "\t<tr><th></th><th scope=col>Cluster_ID</th><th scope=col>nb_art_5</th><th scope=col>nb_art_15</th><th scope=col>nb_cits_self_5</th><th scope=col>nb_cits_self_15</th><th scope=col>nb_cits_co_5</th><th scope=col>nb_cits_co_15</th><th scope=col>nb_cits_others_5</th><th scope=col>nb_cits_others_15</th><th scope=col>discipline</th><th scope=col>min_year</th><th scope=col>max_year</th><th scope=col>nb_co_5</th><th scope=col>nb_co_15</th><th scope=col>country_5</th><th scope=col>country_15</th></tr>\n",
       "\t<tr><th></th><th scope=col>&lt;int&gt;</th><th scope=col>&lt;int&gt;</th><th scope=col>&lt;int&gt;</th><th scope=col>&lt;dbl&gt;</th><th scope=col>&lt;dbl&gt;</th><th scope=col>&lt;dbl&gt;</th><th scope=col>&lt;dbl&gt;</th><th scope=col>&lt;dbl&gt;</th><th scope=col>&lt;dbl&gt;</th><th scope=col>&lt;chr&gt;</th><th scope=col>&lt;int&gt;</th><th scope=col>&lt;int&gt;</th><th scope=col>&lt;dbl&gt;</th><th scope=col>&lt;dbl&gt;</th><th scope=col>&lt;chr&gt;</th><th scope=col>&lt;chr&gt;</th></tr>\n",
       "</thead>\n",
       "<tbody>\n",
       "\t<tr><th scope=row>24</th><td> 53</td><td> 7</td><td>124</td><td>  0.00</td><td>265.03</td><td>  0.0</td><td>  79.40</td><td> 5.64</td><td>1268.23</td><td>Clinical Medicine</td><td>1990</td><td>2018</td><td> 13</td><td>241</td><td>Japan   </td><td>Japan   </td></tr>\n",
       "\t<tr><th scope=row>25</th><td> 54</td><td> 5</td><td> 28</td><td>  9.34</td><td> 59.39</td><td>  0.0</td><td>  27.27</td><td>22.70</td><td> 456.12</td><td>Clinical Medicine</td><td>1992</td><td>2015</td><td> 11</td><td> 62</td><td>Japan   </td><td>Japan   </td></tr>\n",
       "\t<tr><th scope=row>26</th><td> 55</td><td> 5</td><td> 13</td><td>  0.00</td><td>  1.46</td><td>  0.0</td><td>   1.38</td><td> 7.96</td><td> 151.92</td><td>Clinical Medicine</td><td>1998</td><td>2012</td><td> 22</td><td> 38</td><td>Japan   </td><td>Japan   </td></tr>\n",
       "\t<tr><th scope=row>28</th><td> 57</td><td>48</td><td> 84</td><td>256.10</td><td>423.26</td><td>352.4</td><td>1277.60</td><td>81.06</td><td> 421.19</td><td>Physics          </td><td>1999</td><td>2017</td><td>362</td><td>562</td><td>Japan   </td><td>Japan   </td></tr>\n",
       "\t<tr><th scope=row>40</th><td>100</td><td> 3</td><td> 16</td><td>  0.00</td><td>  2.51</td><td>  0.0</td><td>   0.00</td><td> 0.00</td><td>   9.59</td><td>Clinical Medicine</td><td>2001</td><td>2018</td><td>  9</td><td> 25</td><td>Slovenia</td><td>Slovenia</td></tr>\n",
       "</tbody>\n",
       "</table>\n"
      ],
      "text/latex": [
       "A data.frame: 5 × 16\n",
       "\\begin{tabular}{r|llllllllllllllll}\n",
       "  & Cluster\\_ID & nb\\_art\\_5 & nb\\_art\\_15 & nb\\_cits\\_self\\_5 & nb\\_cits\\_self\\_15 & nb\\_cits\\_co\\_5 & nb\\_cits\\_co\\_15 & nb\\_cits\\_others\\_5 & nb\\_cits\\_others\\_15 & discipline & min\\_year & max\\_year & nb\\_co\\_5 & nb\\_co\\_15 & country\\_5 & country\\_15\\\\\n",
       "  & <int> & <int> & <int> & <dbl> & <dbl> & <dbl> & <dbl> & <dbl> & <dbl> & <chr> & <int> & <int> & <dbl> & <dbl> & <chr> & <chr>\\\\\n",
       "\\hline\n",
       "\t24 &  53 &  7 & 124 &   0.00 & 265.03 &   0.0 &   79.40 &  5.64 & 1268.23 & Clinical Medicine & 1990 & 2018 &  13 & 241 & Japan    & Japan   \\\\\n",
       "\t25 &  54 &  5 &  28 &   9.34 &  59.39 &   0.0 &   27.27 & 22.70 &  456.12 & Clinical Medicine & 1992 & 2015 &  11 &  62 & Japan    & Japan   \\\\\n",
       "\t26 &  55 &  5 &  13 &   0.00 &   1.46 &   0.0 &    1.38 &  7.96 &  151.92 & Clinical Medicine & 1998 & 2012 &  22 &  38 & Japan    & Japan   \\\\\n",
       "\t28 &  57 & 48 &  84 & 256.10 & 423.26 & 352.4 & 1277.60 & 81.06 &  421.19 & Physics           & 1999 & 2017 & 362 & 562 & Japan    & Japan   \\\\\n",
       "\t40 & 100 &  3 &  16 &   0.00 &   2.51 &   0.0 &    0.00 &  0.00 &    9.59 & Clinical Medicine & 2001 & 2018 &   9 &  25 & Slovenia & Slovenia\\\\\n",
       "\\end{tabular}\n"
      ],
      "text/markdown": [
       "\n",
       "A data.frame: 5 × 16\n",
       "\n",
       "| <!--/--> | Cluster_ID &lt;int&gt; | nb_art_5 &lt;int&gt; | nb_art_15 &lt;int&gt; | nb_cits_self_5 &lt;dbl&gt; | nb_cits_self_15 &lt;dbl&gt; | nb_cits_co_5 &lt;dbl&gt; | nb_cits_co_15 &lt;dbl&gt; | nb_cits_others_5 &lt;dbl&gt; | nb_cits_others_15 &lt;dbl&gt; | discipline &lt;chr&gt; | min_year &lt;int&gt; | max_year &lt;int&gt; | nb_co_5 &lt;dbl&gt; | nb_co_15 &lt;dbl&gt; | country_5 &lt;chr&gt; | country_15 &lt;chr&gt; |\n",
       "|---|---|---|---|---|---|---|---|---|---|---|---|---|---|---|---|---|\n",
       "| 24 |  53 |  7 | 124 |   0.00 | 265.03 |   0.0 |   79.40 |  5.64 | 1268.23 | Clinical Medicine | 1990 | 2018 |  13 | 241 | Japan    | Japan    |\n",
       "| 25 |  54 |  5 |  28 |   9.34 |  59.39 |   0.0 |   27.27 | 22.70 |  456.12 | Clinical Medicine | 1992 | 2015 |  11 |  62 | Japan    | Japan    |\n",
       "| 26 |  55 |  5 |  13 |   0.00 |   1.46 |   0.0 |    1.38 |  7.96 |  151.92 | Clinical Medicine | 1998 | 2012 |  22 |  38 | Japan    | Japan    |\n",
       "| 28 |  57 | 48 |  84 | 256.10 | 423.26 | 352.4 | 1277.60 | 81.06 |  421.19 | Physics           | 1999 | 2017 | 362 | 562 | Japan    | Japan    |\n",
       "| 40 | 100 |  3 |  16 |   0.00 |   2.51 |   0.0 |    0.00 |  0.00 |    9.59 | Clinical Medicine | 2001 | 2018 |   9 |  25 | Slovenia | Slovenia |\n",
       "\n"
      ],
      "text/plain": [
       "   Cluster_ID nb_art_5 nb_art_15 nb_cits_self_5 nb_cits_self_15 nb_cits_co_5\n",
       "24  53         7       124         0.00         265.03            0.0       \n",
       "25  54         5        28         9.34          59.39            0.0       \n",
       "26  55         5        13         0.00           1.46            0.0       \n",
       "28  57        48        84       256.10         423.26          352.4       \n",
       "40 100         3        16         0.00           2.51            0.0       \n",
       "   nb_cits_co_15 nb_cits_others_5 nb_cits_others_15 discipline        min_year\n",
       "24   79.40        5.64            1268.23           Clinical Medicine 1990    \n",
       "25   27.27       22.70             456.12           Clinical Medicine 1992    \n",
       "26    1.38        7.96             151.92           Clinical Medicine 1998    \n",
       "28 1277.60       81.06             421.19           Physics           1999    \n",
       "40    0.00        0.00               9.59           Clinical Medicine 2001    \n",
       "   max_year nb_co_5 nb_co_15 country_5 country_15\n",
       "24 2018      13     241      Japan     Japan     \n",
       "25 2015      11      62      Japan     Japan     \n",
       "26 2012      22      38      Japan     Japan     \n",
       "28 2017     362     562      Japan     Japan     \n",
       "40 2018       9      25      Slovenia  Slovenia  "
      ]
     },
     "metadata": {},
     "output_type": "display_data"
    }
   ],
   "source": [
    "head(data_model,5)"
   ]
  },
  {
   "cell_type": "markdown",
   "metadata": {},
   "source": [
    "#### Run model"
   ]
  },
  {
   "cell_type": "markdown",
   "metadata": {},
   "source": [
    "install.packages(\"lme4\")\n",
    "install.packages(\"arm\")\n",
    "install.packages(\"lm.beta\")"
   ]
  },
  {
   "cell_type": "code",
   "execution_count": null,
   "metadata": {
    "collapsed": true
   },
   "outputs": [],
   "source": [
    "library(lme4) \n",
    "library(arm)\n",
    "library(lm.beta)"
   ]
  },
  {
   "cell_type": "code",
   "execution_count": 142,
   "metadata": {
    "collapsed": true
   },
   "outputs": [],
   "source": [
    "dep <- paste(\"nb_art\",year_pred,sep=\"_\")\n",
    "var_base_dv_cits <- c(\"nb_cits_others\",\"nb_co\",\"nb_art\",\"rank\")\n",
    "var_base <- c(\"nb_cits_self\",\"nb_cits_co\",\"nb_cits_others\",\"nb_co\")\n",
    "ind_names <- c(\"nb_cits_others\",\"nb_cits_others\",\"nb_co\")\n",
    "ind_var <- lapply(ind_names,function(x) paste(x,year_start,sep=\"_\"))\n",
    "formula <- as.formula(paste0(dep,'~',paste(ind_var, collapse=\"+\")))"
   ]
  },
  {
   "cell_type": "markdown",
   "metadata": {},
   "source": [
    "#### conditions\n"
   ]
  },
  {
   "cell_type": "code",
   "execution_count": 143,
   "metadata": {
    "collapsed": true
   },
   "outputs": [],
   "source": [
    "country <- \"United States\"\n",
    "disc <- list_disciplines[4]"
   ]
  },
  {
   "cell_type": "code",
   "execution_count": 144,
   "metadata": {},
   "outputs": [
    {
     "data": {
      "text/html": [
       "'Social Sciences'"
      ],
      "text/latex": [
       "'Social Sciences'"
      ],
      "text/markdown": [
       "'Social Sciences'"
      ],
      "text/plain": [
       "[1] \"Social Sciences\""
      ]
     },
     "metadata": {},
     "output_type": "display_data"
    }
   ],
   "source": [
    "for(group in groups){\n",
    "    model <- lm(formula,data=data_model[(data_model[paste0('country_',year_start)]==country) &\n",
    "                                   (data_model['group'] == group),])\n",
    "}"
   ]
  },
  {
   "cell_type": "code",
   "execution_count": 145,
   "metadata": {
    "collapsed": true
   },
   "outputs": [],
   "source": []
  },
  {
   "cell_type": "code",
   "execution_count": 146,
   "metadata": {},
   "outputs": [
    {
     "name": "stdout",
     "output_type": "stream",
     "text": [
      "lm(formula = formula, data = data_model[(data_model[paste0(\"country_\", \n",
      "    year_start)] == country) & (data_model[\"discipline\"] == disc), \n",
      "    ])\n",
      "                 coef.est coef.se\n",
      "(Intercept)      16.52     0.19  \n",
      "nb_cits_others_5  0.04     0.00  \n",
      "nb_co_5           0.54     0.01  \n",
      "---\n",
      "n = 21144, k = 3\n",
      "residual sd = 24.60, R-Squared = 0.16\n"
     ]
    }
   ],
   "source": [
    "display(model)"
   ]
  },
  {
   "cell_type": "code",
   "execution_count": 125,
   "metadata": {
    "collapsed": true
   },
   "outputs": [],
   "source": [
    "model.beta <- lm.beta(model)"
   ]
  },
  {
   "cell_type": "code",
   "execution_count": 126,
   "metadata": {},
   "outputs": [
    {
     "data": {
      "text/plain": [
       "\n",
       "Call:\n",
       "lm(formula = formula, data = data_model[(data_model[paste0(\"country_\", \n",
       "    year_start)] == country) & (data_model[\"discipline\"] == disc), \n",
       "    ])\n",
       "\n",
       "Standardized Coefficients::\n",
       "     (Intercept) nb_cits_others_5          nb_co_5 \n",
       "       0.0000000        0.1891615        0.4732701 \n"
      ]
     },
     "metadata": {},
     "output_type": "display_data"
    }
   ],
   "source": [
    "model.beta"
   ]
  },
  {
   "cell_type": "code",
   "execution_count": null,
   "metadata": {
    "collapsed": true
   },
   "outputs": [],
   "source": []
  }
 ],
 "metadata": {
  "kernelspec": {
   "display_name": "R",
   "language": "R",
   "name": "ir"
  },
  "language_info": {
   "codemirror_mode": "r",
   "file_extension": ".r",
   "mimetype": "text/x-r-source",
   "name": "R",
   "pygments_lexer": "r",
   "version": "3.6.3"
  }
 },
 "nbformat": 4,
 "nbformat_minor": 2
}
