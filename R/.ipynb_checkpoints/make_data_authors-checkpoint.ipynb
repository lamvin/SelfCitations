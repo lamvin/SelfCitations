{
 "cells": [
  {
   "cell_type": "code",
   "execution_count": 1,
   "metadata": {
    "collapsed": true
   },
   "outputs": [],
   "source": [
    "path <- '/home/User1/data/self_citations/model/'"
   ]
  },
  {
   "cell_type": "markdown",
   "metadata": {},
   "source": [
    "### Predict papers n years"
   ]
  },
  {
   "cell_type": "code",
   "execution_count": 2,
   "metadata": {
    "collapsed": true
   },
   "outputs": [],
   "source": [
    "year_start = 5\n",
    "diff_year = 10\n",
    "year_pred = year_start+diff_year"
   ]
  },
  {
   "cell_type": "code",
   "execution_count": 3,
   "metadata": {
    "collapsed": true
   },
   "outputs": [],
   "source": [
    "total_years_file <- 20\n",
    "col_status <- rep(\"NULL\",total_years_file+1)\n",
    "col_status[c(1,year_start+1,year_start+diff_year+1)] <- \"integer\"\n",
    "data <- read.csv(file=paste0(path,'nb_articles.csv'),colClasses =col_status)"
   ]
  },
  {
   "cell_type": "code",
   "execution_count": 4,
   "metadata": {
    "collapsed": true
   },
   "outputs": [],
   "source": [
    "col_status <- rep(\"NULL\",total_years_file+1)\n",
    "col_status[c(1,year_start+1,year_start+diff_year+1)] <- \"double\"\n",
    "types_cit <- c('self','co','others')\n",
    "dfs_nb_cit <- list()\n",
    "for(i in 1:length(types_cit)){\n",
    "    type_cit <- types_cit[i]\n",
    "    dfs_nb_cit[[i]] <- read.csv(file=paste0(path,'nb_citations_',type_cit,'.csv'),colClasses=col_status)\n",
    "}"
   ]
  },
  {
   "cell_type": "code",
   "execution_count": 5,
   "metadata": {
    "collapsed": true
   },
   "outputs": [],
   "source": [
    "authors_info <- read.csv(file=paste0(path,'authors_infos_model.csv'),sep='\\t')"
   ]
  },
  {
   "cell_type": "code",
   "execution_count": 6,
   "metadata": {
    "collapsed": true
   },
   "outputs": [],
   "source": [
    "for(i in 1:length(types_cit)){\n",
    "    data <- merge(data,dfs_nb_cit[[i]],by=\"Cluster_ID\")\n",
    "}"
   ]
  },
  {
   "cell_type": "code",
   "execution_count": 7,
   "metadata": {
    "collapsed": true
   },
   "outputs": [],
   "source": [
    "rm(dfs_nb_cit)"
   ]
  },
  {
   "cell_type": "code",
   "execution_count": 8,
   "metadata": {
    "collapsed": true
   },
   "outputs": [],
   "source": [
    "data <- merge(data,authors_info,by=\"Cluster_ID\")"
   ]
  },
  {
   "cell_type": "code",
   "execution_count": 9,
   "metadata": {
    "collapsed": true
   },
   "outputs": [],
   "source": [
    "nb_coauthors <- read.csv(file=paste0(path,'nb_coauthors.csv'),colClasses =col_status)"
   ]
  },
  {
   "cell_type": "code",
   "execution_count": 10,
   "metadata": {
    "collapsed": true
   },
   "outputs": [],
   "source": [
    "colnames(nb_coauthors)[c(2,3)] <- c(paste0(\"nb_co_\",year_start),paste0(\"nb_co_\",year_start+diff_year))"
   ]
  },
  {
   "cell_type": "code",
   "execution_count": 11,
   "metadata": {},
   "outputs": [
    {
     "data": {
      "text/html": [
       "<table>\n",
       "<caption>A data.frame: 6 × 3</caption>\n",
       "<thead>\n",
       "\t<tr><th></th><th scope=col>Cluster_ID</th><th scope=col>nb_co_5</th><th scope=col>nb_co_15</th></tr>\n",
       "\t<tr><th></th><th scope=col>&lt;dbl&gt;</th><th scope=col>&lt;dbl&gt;</th><th scope=col>&lt;dbl&gt;</th></tr>\n",
       "</thead>\n",
       "<tbody>\n",
       "\t<tr><th scope=row>1</th><td>31905805</td><td> 5</td><td> 5</td></tr>\n",
       "\t<tr><th scope=row>2</th><td>10925507</td><td> 7</td><td> 7</td></tr>\n",
       "\t<tr><th scope=row>3</th><td>37274983</td><td> 9</td><td>33</td></tr>\n",
       "\t<tr><th scope=row>4</th><td>11452931</td><td>13</td><td>13</td></tr>\n",
       "\t<tr><th scope=row>5</th><td>38788724</td><td> 5</td><td> 5</td></tr>\n",
       "\t<tr><th scope=row>6</th><td>43195937</td><td> 3</td><td> 3</td></tr>\n",
       "</tbody>\n",
       "</table>\n"
      ],
      "text/latex": [
       "A data.frame: 6 × 3\n",
       "\\begin{tabular}{r|lll}\n",
       "  & Cluster\\_ID & nb\\_co\\_5 & nb\\_co\\_15\\\\\n",
       "  & <dbl> & <dbl> & <dbl>\\\\\n",
       "\\hline\n",
       "\t1 & 31905805 &  5 &  5\\\\\n",
       "\t2 & 10925507 &  7 &  7\\\\\n",
       "\t3 & 37274983 &  9 & 33\\\\\n",
       "\t4 & 11452931 & 13 & 13\\\\\n",
       "\t5 & 38788724 &  5 &  5\\\\\n",
       "\t6 & 43195937 &  3 &  3\\\\\n",
       "\\end{tabular}\n"
      ],
      "text/markdown": [
       "\n",
       "A data.frame: 6 × 3\n",
       "\n",
       "| <!--/--> | Cluster_ID &lt;dbl&gt; | nb_co_5 &lt;dbl&gt; | nb_co_15 &lt;dbl&gt; |\n",
       "|---|---|---|---|\n",
       "| 1 | 31905805 |  5 |  5 |\n",
       "| 2 | 10925507 |  7 |  7 |\n",
       "| 3 | 37274983 |  9 | 33 |\n",
       "| 4 | 11452931 | 13 | 13 |\n",
       "| 5 | 38788724 |  5 |  5 |\n",
       "| 6 | 43195937 |  3 |  3 |\n",
       "\n"
      ],
      "text/plain": [
       "  Cluster_ID nb_co_5 nb_co_15\n",
       "1 31905805    5       5      \n",
       "2 10925507    7       7      \n",
       "3 37274983    9      33      \n",
       "4 11452931   13      13      \n",
       "5 38788724    5       5      \n",
       "6 43195937    3       3      "
      ]
     },
     "metadata": {},
     "output_type": "display_data"
    }
   ],
   "source": [
    "head(nb_coauthors)"
   ]
  },
  {
   "cell_type": "code",
   "execution_count": 12,
   "metadata": {
    "collapsed": true
   },
   "outputs": [],
   "source": [
    "col_status_char <- rep(\"NULL\",total_years_file+1)\n",
    "col_status_char[c(1,year_start+1,year_start+diff_year+1)] <- \"character\""
   ]
  },
  {
   "cell_type": "code",
   "execution_count": 13,
   "metadata": {
    "collapsed": true,
    "scrolled": true
   },
   "outputs": [],
   "source": [
    "countries <- read.csv(file=paste0(path,'country_authors.csv'),colClasses =col_status_char)"
   ]
  },
  {
   "cell_type": "code",
   "execution_count": 14,
   "metadata": {
    "collapsed": true
   },
   "outputs": [],
   "source": [
    "data <- merge(data,nb_coauthors,by=\"Cluster_ID\")"
   ]
  },
  {
   "cell_type": "code",
   "execution_count": 15,
   "metadata": {
    "collapsed": true
   },
   "outputs": [],
   "source": [
    "data <- merge(data,countries,by=\"Cluster_ID\")"
   ]
  },
  {
   "cell_type": "code",
   "execution_count": 16,
   "metadata": {
    "collapsed": true
   },
   "outputs": [],
   "source": [
    "data$discipline <- as.character(data$discipline)"
   ]
  },
  {
   "cell_type": "code",
   "execution_count": 17,
   "metadata": {
    "collapsed": true
   },
   "outputs": [],
   "source": [
    "groups_disc <- read.csv(file=paste0(path,'groups_disc.csv'),header=F)"
   ]
  },
  {
   "cell_type": "code",
   "execution_count": 18,
   "metadata": {
    "collapsed": true
   },
   "outputs": [],
   "source": [
    "colnames(groups_disc) <- c(\"group\",\"discipline\")"
   ]
  },
  {
   "cell_type": "code",
   "execution_count": 19,
   "metadata": {
    "collapsed": true
   },
   "outputs": [],
   "source": [
    "data <- merge(data,groups_disc,by='discipline')"
   ]
  },
  {
   "cell_type": "code",
   "execution_count": 53,
   "metadata": {
    "collapsed": true
   },
   "outputs": [],
   "source": [
    "gender <- read.csv(file=paste0(path,'cluster_gender.txt'),sep='\\t')"
   ]
  },
  {
   "cell_type": "code",
   "execution_count": 54,
   "metadata": {},
   "outputs": [],
   "source": [
    "gender$gender <- tolower(gender$gender)"
   ]
  },
  {
   "cell_type": "code",
   "execution_count": 57,
   "metadata": {},
   "outputs": [],
   "source": [
    "gender <- gender[gender$gender %in% c(\"m\",\"f\"),]"
   ]
  },
  {
   "cell_type": "code",
   "execution_count": 58,
   "metadata": {},
   "outputs": [],
   "source": [
    "gender[gender$gender == \"m\",\"gender\"] <- 1\n",
    "gender[gender$gender == \"f\",\"gender\"] <- 0"
   ]
  },
  {
   "cell_type": "code",
   "execution_count": 60,
   "metadata": {},
   "outputs": [],
   "source": [
    "gender$gender <- as.numeric(gender$gender)"
   ]
  },
  {
   "cell_type": "code",
   "execution_count": 61,
   "metadata": {
    "collapsed": true
   },
   "outputs": [],
   "source": [
    "colnames(gender) <- c(\"Cluster_ID\",\"gender\")"
   ]
  },
  {
   "cell_type": "code",
   "execution_count": 64,
   "metadata": {
    "collapsed": true
   },
   "outputs": [],
   "source": [
    "data <- merge(data,gender,by='Cluster_ID')"
   ]
  },
  {
   "cell_type": "code",
   "execution_count": 65,
   "metadata": {
    "collapsed": true
   },
   "outputs": [],
   "source": [
    "# As time of start\n",
    "min_year <- 1995\n",
    "max_year <- 2007\n",
    "# Min year car start\n",
    "min_year_start  <- min_year - year_start\n",
    "max_year_start <- max_year - year_start\n",
    "\n",
    "data_model <- data[which((data['min_year'] >=min_year_start) & (data['min_year'] <= max_year_start)),]"
   ]
  },
  {
   "cell_type": "code",
   "execution_count": 66,
   "metadata": {
    "collapsed": true
   },
   "outputs": [],
   "source": [
    "list_disciplines <- unique(data_model$discipline)"
   ]
  },
  {
   "cell_type": "code",
   "execution_count": 67,
   "metadata": {
    "collapsed": true
   },
   "outputs": [],
   "source": [
    "act_from_start = year_pred\n",
    "act_var <- paste0('active_',act_from_start)\n",
    "data_model['nb_years_active'] <- data_model['max_year'] - data_model['min_year'] \n",
    "data_model[act_var] = data_model['nb_years_active'] >= act_from_start"
   ]
  },
  {
   "cell_type": "code",
   "execution_count": 68,
   "metadata": {
    "collapsed": true
   },
   "outputs": [],
   "source": [
    "data_model$group <- as.character(data_model$group)"
   ]
  },
  {
   "cell_type": "code",
   "execution_count": 27,
   "metadata": {},
   "outputs": [
    {
     "data": {
      "text/html": [
       "<table>\n",
       "<caption>A data.frame: 6 × 20</caption>\n",
       "<thead>\n",
       "\t<tr><th></th><th scope=col>Cluster_ID</th><th scope=col>discipline</th><th scope=col>nb_art_5</th><th scope=col>nb_art_15</th><th scope=col>nb_cits_self_5</th><th scope=col>nb_cits_self_15</th><th scope=col>nb_cits_co_5</th><th scope=col>nb_cits_co_15</th><th scope=col>nb_cits_others_5</th><th scope=col>nb_cits_others_15</th><th scope=col>min_year</th><th scope=col>max_year</th><th scope=col>nb_co_5</th><th scope=col>nb_co_15</th><th scope=col>country_5</th><th scope=col>country_15</th><th scope=col>group</th><th scope=col>gender</th><th scope=col>nb_years_active</th><th scope=col>active_15</th></tr>\n",
       "\t<tr><th></th><th scope=col>&lt;int&gt;</th><th scope=col>&lt;chr&gt;</th><th scope=col>&lt;int&gt;</th><th scope=col>&lt;int&gt;</th><th scope=col>&lt;dbl&gt;</th><th scope=col>&lt;dbl&gt;</th><th scope=col>&lt;dbl&gt;</th><th scope=col>&lt;dbl&gt;</th><th scope=col>&lt;dbl&gt;</th><th scope=col>&lt;dbl&gt;</th><th scope=col>&lt;int&gt;</th><th scope=col>&lt;int&gt;</th><th scope=col>&lt;dbl&gt;</th><th scope=col>&lt;dbl&gt;</th><th scope=col>&lt;chr&gt;</th><th scope=col>&lt;chr&gt;</th><th scope=col>&lt;chr&gt;</th><th scope=col>&lt;fct&gt;</th><th scope=col>&lt;int&gt;</th><th scope=col>&lt;lgl[,1]&gt;</th></tr>\n",
       "</thead>\n",
       "<tbody>\n",
       "\t<tr><th scope=row>25</th><td> 53</td><td>Clinical Medicine</td><td> 7</td><td>124</td><td>  0.00</td><td>265.03</td><td>  0.00</td><td>  79.40</td><td> 5.64</td><td>1268.23</td><td>1990</td><td>2018</td><td> 13</td><td> 241</td><td>Japan      </td><td>Japan      </td><td>Health Sciences                 </td><td>M   </td><td>28</td><td> TRUE</td></tr>\n",
       "\t<tr><th scope=row>26</th><td> 54</td><td>Clinical Medicine</td><td> 5</td><td> 28</td><td>  9.34</td><td> 59.39</td><td>  0.00</td><td>  27.27</td><td>22.70</td><td> 456.12</td><td>1992</td><td>2015</td><td> 11</td><td>  62</td><td>Japan      </td><td>Japan      </td><td>Health Sciences                 </td><td>M   </td><td>23</td><td> TRUE</td></tr>\n",
       "\t<tr><th scope=row>27</th><td> 55</td><td>Clinical Medicine</td><td> 5</td><td> 13</td><td>  0.00</td><td>  1.46</td><td>  0.00</td><td>   1.38</td><td> 7.96</td><td> 151.92</td><td>1998</td><td>2012</td><td> 22</td><td>  38</td><td>Japan      </td><td>Japan      </td><td>Health Sciences                 </td><td>M   </td><td>14</td><td>FALSE</td></tr>\n",
       "\t<tr><th scope=row>29</th><td> 57</td><td>Physics          </td><td>48</td><td> 84</td><td>256.10</td><td>423.26</td><td>352.40</td><td>1277.60</td><td>81.06</td><td> 421.19</td><td>1999</td><td>2017</td><td>362</td><td> 562</td><td>Japan      </td><td>Japan      </td><td>Natural Sciences and Engineering</td><td>M   </td><td>18</td><td> TRUE</td></tr>\n",
       "\t<tr><th scope=row>41</th><td>100</td><td>Clinical Medicine</td><td> 3</td><td> 16</td><td>  0.00</td><td>  2.51</td><td>  0.00</td><td>   0.00</td><td> 0.00</td><td>   9.59</td><td>2001</td><td>2018</td><td>  9</td><td>  25</td><td>Slovenia   </td><td>Slovenia   </td><td>Health Sciences                 </td><td>M   </td><td>17</td><td> TRUE</td></tr>\n",
       "\t<tr><th scope=row>56</th><td>172</td><td>Physics          </td><td> 6</td><td> 65</td><td>  2.91</td><td>359.07</td><td> 48.23</td><td> 982.09</td><td>56.93</td><td>2076.65</td><td>2002</td><td>2018</td><td>393</td><td>2145</td><td>Switzerland</td><td>Switzerland</td><td>Natural Sciences and Engineering</td><td>NULL</td><td>16</td><td> TRUE</td></tr>\n",
       "</tbody>\n",
       "</table>\n"
      ],
      "text/latex": [
       "A data.frame: 6 × 20\n",
       "\\begin{tabular}{r|llllllllllllllllllll}\n",
       "  & Cluster\\_ID & discipline & nb\\_art\\_5 & nb\\_art\\_15 & nb\\_cits\\_self\\_5 & nb\\_cits\\_self\\_15 & nb\\_cits\\_co\\_5 & nb\\_cits\\_co\\_15 & nb\\_cits\\_others\\_5 & nb\\_cits\\_others\\_15 & min\\_year & max\\_year & nb\\_co\\_5 & nb\\_co\\_15 & country\\_5 & country\\_15 & group & gender & nb\\_years\\_active & active\\_15\\\\\n",
       "  & <int> & <chr> & <int> & <int> & <dbl> & <dbl> & <dbl> & <dbl> & <dbl> & <dbl> & <int> & <int> & <dbl> & <dbl> & <chr> & <chr> & <chr> & <fct> & <int> & <lgl{[},1{]}>\\\\\n",
       "\\hline\n",
       "\t25 &  53 & Clinical Medicine &  7 & 124 &   0.00 & 265.03 &   0.00 &   79.40 &  5.64 & 1268.23 & 1990 & 2018 &  13 &  241 & Japan       & Japan       & Health Sciences                  & M    & 28 &  TRUE\\\\\n",
       "\t26 &  54 & Clinical Medicine &  5 &  28 &   9.34 &  59.39 &   0.00 &   27.27 & 22.70 &  456.12 & 1992 & 2015 &  11 &   62 & Japan       & Japan       & Health Sciences                  & M    & 23 &  TRUE\\\\\n",
       "\t27 &  55 & Clinical Medicine &  5 &  13 &   0.00 &   1.46 &   0.00 &    1.38 &  7.96 &  151.92 & 1998 & 2012 &  22 &   38 & Japan       & Japan       & Health Sciences                  & M    & 14 & FALSE\\\\\n",
       "\t29 &  57 & Physics           & 48 &  84 & 256.10 & 423.26 & 352.40 & 1277.60 & 81.06 &  421.19 & 1999 & 2017 & 362 &  562 & Japan       & Japan       & Natural Sciences and Engineering & M    & 18 &  TRUE\\\\\n",
       "\t41 & 100 & Clinical Medicine &  3 &  16 &   0.00 &   2.51 &   0.00 &    0.00 &  0.00 &    9.59 & 2001 & 2018 &   9 &   25 & Slovenia    & Slovenia    & Health Sciences                  & M    & 17 &  TRUE\\\\\n",
       "\t56 & 172 & Physics           &  6 &  65 &   2.91 & 359.07 &  48.23 &  982.09 & 56.93 & 2076.65 & 2002 & 2018 & 393 & 2145 & Switzerland & Switzerland & Natural Sciences and Engineering & NULL & 16 &  TRUE\\\\\n",
       "\\end{tabular}\n"
      ],
      "text/markdown": [
       "\n",
       "A data.frame: 6 × 20\n",
       "\n",
       "| <!--/--> | Cluster_ID &lt;int&gt; | discipline &lt;chr&gt; | nb_art_5 &lt;int&gt; | nb_art_15 &lt;int&gt; | nb_cits_self_5 &lt;dbl&gt; | nb_cits_self_15 &lt;dbl&gt; | nb_cits_co_5 &lt;dbl&gt; | nb_cits_co_15 &lt;dbl&gt; | nb_cits_others_5 &lt;dbl&gt; | nb_cits_others_15 &lt;dbl&gt; | min_year &lt;int&gt; | max_year &lt;int&gt; | nb_co_5 &lt;dbl&gt; | nb_co_15 &lt;dbl&gt; | country_5 &lt;chr&gt; | country_15 &lt;chr&gt; | group &lt;chr&gt; | gender &lt;fct&gt; | nb_years_active &lt;int&gt; | active_15 &lt;lgl[,1]&gt; |\n",
       "|---|---|---|---|---|---|---|---|---|---|---|---|---|---|---|---|---|---|---|---|---|\n",
       "| 25 |  53 | Clinical Medicine |  7 | 124 |   0.00 | 265.03 |   0.00 |   79.40 |  5.64 | 1268.23 | 1990 | 2018 |  13 |  241 | Japan       | Japan       | Health Sciences                  | M    | 28 |  TRUE |\n",
       "| 26 |  54 | Clinical Medicine |  5 |  28 |   9.34 |  59.39 |   0.00 |   27.27 | 22.70 |  456.12 | 1992 | 2015 |  11 |   62 | Japan       | Japan       | Health Sciences                  | M    | 23 |  TRUE |\n",
       "| 27 |  55 | Clinical Medicine |  5 |  13 |   0.00 |   1.46 |   0.00 |    1.38 |  7.96 |  151.92 | 1998 | 2012 |  22 |   38 | Japan       | Japan       | Health Sciences                  | M    | 14 | FALSE |\n",
       "| 29 |  57 | Physics           | 48 |  84 | 256.10 | 423.26 | 352.40 | 1277.60 | 81.06 |  421.19 | 1999 | 2017 | 362 |  562 | Japan       | Japan       | Natural Sciences and Engineering | M    | 18 |  TRUE |\n",
       "| 41 | 100 | Clinical Medicine |  3 |  16 |   0.00 |   2.51 |   0.00 |    0.00 |  0.00 |    9.59 | 2001 | 2018 |   9 |   25 | Slovenia    | Slovenia    | Health Sciences                  | M    | 17 |  TRUE |\n",
       "| 56 | 172 | Physics           |  6 |  65 |   2.91 | 359.07 |  48.23 |  982.09 | 56.93 | 2076.65 | 2002 | 2018 | 393 | 2145 | Switzerland | Switzerland | Natural Sciences and Engineering | NULL | 16 |  TRUE |\n",
       "\n"
      ],
      "text/plain": [
       "   Cluster_ID discipline        nb_art_5 nb_art_15 nb_cits_self_5\n",
       "25  53        Clinical Medicine  7       124         0.00        \n",
       "26  54        Clinical Medicine  5        28         9.34        \n",
       "27  55        Clinical Medicine  5        13         0.00        \n",
       "29  57        Physics           48        84       256.10        \n",
       "41 100        Clinical Medicine  3        16         0.00        \n",
       "56 172        Physics            6        65         2.91        \n",
       "   nb_cits_self_15 nb_cits_co_5 nb_cits_co_15 nb_cits_others_5\n",
       "25 265.03            0.00         79.40        5.64           \n",
       "26  59.39            0.00         27.27       22.70           \n",
       "27   1.46            0.00          1.38        7.96           \n",
       "29 423.26          352.40       1277.60       81.06           \n",
       "41   2.51            0.00          0.00        0.00           \n",
       "56 359.07           48.23        982.09       56.93           \n",
       "   nb_cits_others_15 min_year max_year nb_co_5 nb_co_15 country_5   country_15 \n",
       "25 1268.23           1990     2018      13      241     Japan       Japan      \n",
       "26  456.12           1992     2015      11       62     Japan       Japan      \n",
       "27  151.92           1998     2012      22       38     Japan       Japan      \n",
       "29  421.19           1999     2017     362      562     Japan       Japan      \n",
       "41    9.59           2001     2018       9       25     Slovenia    Slovenia   \n",
       "56 2076.65           2002     2018     393     2145     Switzerland Switzerland\n",
       "   group                            gender nb_years_active active_15\n",
       "25 Health Sciences                  M      28               TRUE    \n",
       "26 Health Sciences                  M      23               TRUE    \n",
       "27 Health Sciences                  M      14              FALSE    \n",
       "29 Natural Sciences and Engineering M      18               TRUE    \n",
       "41 Health Sciences                  M      17               TRUE    \n",
       "56 Natural Sciences and Engineering NULL   16               TRUE    "
      ]
     },
     "metadata": {},
     "output_type": "display_data"
    }
   ],
   "source": [
    "head(data_model)"
   ]
  },
  {
   "cell_type": "code",
   "execution_count": 69,
   "metadata": {
    "collapsed": true
   },
   "outputs": [],
   "source": [
    "col_status <- rep(\"NULL\",total_years_file+1)\n",
    "col_status[c(1,year_start+1,year_start+diff_year+1)] <- \"numeric\"\n",
    "rank_authors <- read.csv(file=paste0(path,'rank_authors.csv'),colClasses =col_status)"
   ]
  },
  {
   "cell_type": "code",
   "execution_count": 70,
   "metadata": {
    "collapsed": true
   },
   "outputs": [],
   "source": [
    "data_model_rank <- merge(data_model,rank_authors,by=\"Cluster_ID\")"
   ]
  },
  {
   "cell_type": "code",
   "execution_count": 71,
   "metadata": {
    "collapsed": true
   },
   "outputs": [],
   "source": [
    "groups <- unique(data_model$group)"
   ]
  },
  {
   "cell_type": "code",
   "execution_count": 31,
   "metadata": {
    "scrolled": true
   },
   "outputs": [
    {
     "data": {
      "text/html": [
       "<table>\n",
       "<caption>A data.frame: 5 × 20</caption>\n",
       "<thead>\n",
       "\t<tr><th></th><th scope=col>Cluster_ID</th><th scope=col>discipline</th><th scope=col>nb_art_5</th><th scope=col>nb_art_15</th><th scope=col>nb_cits_self_5</th><th scope=col>nb_cits_self_15</th><th scope=col>nb_cits_co_5</th><th scope=col>nb_cits_co_15</th><th scope=col>nb_cits_others_5</th><th scope=col>nb_cits_others_15</th><th scope=col>min_year</th><th scope=col>max_year</th><th scope=col>nb_co_5</th><th scope=col>nb_co_15</th><th scope=col>country_5</th><th scope=col>country_15</th><th scope=col>group</th><th scope=col>gender</th><th scope=col>nb_years_active</th><th scope=col>active_15</th></tr>\n",
       "\t<tr><th></th><th scope=col>&lt;int&gt;</th><th scope=col>&lt;chr&gt;</th><th scope=col>&lt;int&gt;</th><th scope=col>&lt;int&gt;</th><th scope=col>&lt;dbl&gt;</th><th scope=col>&lt;dbl&gt;</th><th scope=col>&lt;dbl&gt;</th><th scope=col>&lt;dbl&gt;</th><th scope=col>&lt;dbl&gt;</th><th scope=col>&lt;dbl&gt;</th><th scope=col>&lt;int&gt;</th><th scope=col>&lt;int&gt;</th><th scope=col>&lt;dbl&gt;</th><th scope=col>&lt;dbl&gt;</th><th scope=col>&lt;chr&gt;</th><th scope=col>&lt;chr&gt;</th><th scope=col>&lt;chr&gt;</th><th scope=col>&lt;fct&gt;</th><th scope=col>&lt;int&gt;</th><th scope=col>&lt;lgl[,1]&gt;</th></tr>\n",
       "</thead>\n",
       "<tbody>\n",
       "\t<tr><th scope=row>25</th><td> 53</td><td>Clinical Medicine</td><td> 7</td><td>124</td><td>  0.00</td><td>265.03</td><td>  0.0</td><td>  79.40</td><td> 5.64</td><td>1268.23</td><td>1990</td><td>2018</td><td> 13</td><td>241</td><td>Japan   </td><td>Japan   </td><td>Health Sciences                 </td><td>M</td><td>28</td><td> TRUE</td></tr>\n",
       "\t<tr><th scope=row>26</th><td> 54</td><td>Clinical Medicine</td><td> 5</td><td> 28</td><td>  9.34</td><td> 59.39</td><td>  0.0</td><td>  27.27</td><td>22.70</td><td> 456.12</td><td>1992</td><td>2015</td><td> 11</td><td> 62</td><td>Japan   </td><td>Japan   </td><td>Health Sciences                 </td><td>M</td><td>23</td><td> TRUE</td></tr>\n",
       "\t<tr><th scope=row>27</th><td> 55</td><td>Clinical Medicine</td><td> 5</td><td> 13</td><td>  0.00</td><td>  1.46</td><td>  0.0</td><td>   1.38</td><td> 7.96</td><td> 151.92</td><td>1998</td><td>2012</td><td> 22</td><td> 38</td><td>Japan   </td><td>Japan   </td><td>Health Sciences                 </td><td>M</td><td>14</td><td>FALSE</td></tr>\n",
       "\t<tr><th scope=row>29</th><td> 57</td><td>Physics          </td><td>48</td><td> 84</td><td>256.10</td><td>423.26</td><td>352.4</td><td>1277.60</td><td>81.06</td><td> 421.19</td><td>1999</td><td>2017</td><td>362</td><td>562</td><td>Japan   </td><td>Japan   </td><td>Natural Sciences and Engineering</td><td>M</td><td>18</td><td> TRUE</td></tr>\n",
       "\t<tr><th scope=row>41</th><td>100</td><td>Clinical Medicine</td><td> 3</td><td> 16</td><td>  0.00</td><td>  2.51</td><td>  0.0</td><td>   0.00</td><td> 0.00</td><td>   9.59</td><td>2001</td><td>2018</td><td>  9</td><td> 25</td><td>Slovenia</td><td>Slovenia</td><td>Health Sciences                 </td><td>M</td><td>17</td><td> TRUE</td></tr>\n",
       "</tbody>\n",
       "</table>\n"
      ],
      "text/latex": [
       "A data.frame: 5 × 20\n",
       "\\begin{tabular}{r|llllllllllllllllllll}\n",
       "  & Cluster\\_ID & discipline & nb\\_art\\_5 & nb\\_art\\_15 & nb\\_cits\\_self\\_5 & nb\\_cits\\_self\\_15 & nb\\_cits\\_co\\_5 & nb\\_cits\\_co\\_15 & nb\\_cits\\_others\\_5 & nb\\_cits\\_others\\_15 & min\\_year & max\\_year & nb\\_co\\_5 & nb\\_co\\_15 & country\\_5 & country\\_15 & group & gender & nb\\_years\\_active & active\\_15\\\\\n",
       "  & <int> & <chr> & <int> & <int> & <dbl> & <dbl> & <dbl> & <dbl> & <dbl> & <dbl> & <int> & <int> & <dbl> & <dbl> & <chr> & <chr> & <chr> & <fct> & <int> & <lgl{[},1{]}>\\\\\n",
       "\\hline\n",
       "\t25 &  53 & Clinical Medicine &  7 & 124 &   0.00 & 265.03 &   0.0 &   79.40 &  5.64 & 1268.23 & 1990 & 2018 &  13 & 241 & Japan    & Japan    & Health Sciences                  & M & 28 &  TRUE\\\\\n",
       "\t26 &  54 & Clinical Medicine &  5 &  28 &   9.34 &  59.39 &   0.0 &   27.27 & 22.70 &  456.12 & 1992 & 2015 &  11 &  62 & Japan    & Japan    & Health Sciences                  & M & 23 &  TRUE\\\\\n",
       "\t27 &  55 & Clinical Medicine &  5 &  13 &   0.00 &   1.46 &   0.0 &    1.38 &  7.96 &  151.92 & 1998 & 2012 &  22 &  38 & Japan    & Japan    & Health Sciences                  & M & 14 & FALSE\\\\\n",
       "\t29 &  57 & Physics           & 48 &  84 & 256.10 & 423.26 & 352.4 & 1277.60 & 81.06 &  421.19 & 1999 & 2017 & 362 & 562 & Japan    & Japan    & Natural Sciences and Engineering & M & 18 &  TRUE\\\\\n",
       "\t41 & 100 & Clinical Medicine &  3 &  16 &   0.00 &   2.51 &   0.0 &    0.00 &  0.00 &    9.59 & 2001 & 2018 &   9 &  25 & Slovenia & Slovenia & Health Sciences                  & M & 17 &  TRUE\\\\\n",
       "\\end{tabular}\n"
      ],
      "text/markdown": [
       "\n",
       "A data.frame: 5 × 20\n",
       "\n",
       "| <!--/--> | Cluster_ID &lt;int&gt; | discipline &lt;chr&gt; | nb_art_5 &lt;int&gt; | nb_art_15 &lt;int&gt; | nb_cits_self_5 &lt;dbl&gt; | nb_cits_self_15 &lt;dbl&gt; | nb_cits_co_5 &lt;dbl&gt; | nb_cits_co_15 &lt;dbl&gt; | nb_cits_others_5 &lt;dbl&gt; | nb_cits_others_15 &lt;dbl&gt; | min_year &lt;int&gt; | max_year &lt;int&gt; | nb_co_5 &lt;dbl&gt; | nb_co_15 &lt;dbl&gt; | country_5 &lt;chr&gt; | country_15 &lt;chr&gt; | group &lt;chr&gt; | gender &lt;fct&gt; | nb_years_active &lt;int&gt; | active_15 &lt;lgl[,1]&gt; |\n",
       "|---|---|---|---|---|---|---|---|---|---|---|---|---|---|---|---|---|---|---|---|---|\n",
       "| 25 |  53 | Clinical Medicine |  7 | 124 |   0.00 | 265.03 |   0.0 |   79.40 |  5.64 | 1268.23 | 1990 | 2018 |  13 | 241 | Japan    | Japan    | Health Sciences                  | M | 28 |  TRUE |\n",
       "| 26 |  54 | Clinical Medicine |  5 |  28 |   9.34 |  59.39 |   0.0 |   27.27 | 22.70 |  456.12 | 1992 | 2015 |  11 |  62 | Japan    | Japan    | Health Sciences                  | M | 23 |  TRUE |\n",
       "| 27 |  55 | Clinical Medicine |  5 |  13 |   0.00 |   1.46 |   0.0 |    1.38 |  7.96 |  151.92 | 1998 | 2012 |  22 |  38 | Japan    | Japan    | Health Sciences                  | M | 14 | FALSE |\n",
       "| 29 |  57 | Physics           | 48 |  84 | 256.10 | 423.26 | 352.4 | 1277.60 | 81.06 |  421.19 | 1999 | 2017 | 362 | 562 | Japan    | Japan    | Natural Sciences and Engineering | M | 18 |  TRUE |\n",
       "| 41 | 100 | Clinical Medicine |  3 |  16 |   0.00 |   2.51 |   0.0 |    0.00 |  0.00 |    9.59 | 2001 | 2018 |   9 |  25 | Slovenia | Slovenia | Health Sciences                  | M | 17 |  TRUE |\n",
       "\n"
      ],
      "text/plain": [
       "   Cluster_ID discipline        nb_art_5 nb_art_15 nb_cits_self_5\n",
       "25  53        Clinical Medicine  7       124         0.00        \n",
       "26  54        Clinical Medicine  5        28         9.34        \n",
       "27  55        Clinical Medicine  5        13         0.00        \n",
       "29  57        Physics           48        84       256.10        \n",
       "41 100        Clinical Medicine  3        16         0.00        \n",
       "   nb_cits_self_15 nb_cits_co_5 nb_cits_co_15 nb_cits_others_5\n",
       "25 265.03            0.0          79.40        5.64           \n",
       "26  59.39            0.0          27.27       22.70           \n",
       "27   1.46            0.0           1.38        7.96           \n",
       "29 423.26          352.4        1277.60       81.06           \n",
       "41   2.51            0.0           0.00        0.00           \n",
       "   nb_cits_others_15 min_year max_year nb_co_5 nb_co_15 country_5 country_15\n",
       "25 1268.23           1990     2018      13     241      Japan     Japan     \n",
       "26  456.12           1992     2015      11      62      Japan     Japan     \n",
       "27  151.92           1998     2012      22      38      Japan     Japan     \n",
       "29  421.19           1999     2017     362     562      Japan     Japan     \n",
       "41    9.59           2001     2018       9      25      Slovenia  Slovenia  \n",
       "   group                            gender nb_years_active active_15\n",
       "25 Health Sciences                  M      28               TRUE    \n",
       "26 Health Sciences                  M      23               TRUE    \n",
       "27 Health Sciences                  M      14              FALSE    \n",
       "29 Natural Sciences and Engineering M      18               TRUE    \n",
       "41 Health Sciences                  M      17               TRUE    "
      ]
     },
     "metadata": {},
     "output_type": "display_data"
    }
   ],
   "source": [
    "head(data_model,5)"
   ]
  },
  {
   "cell_type": "markdown",
   "metadata": {},
   "source": [
    "#### Run model"
   ]
  },
  {
   "cell_type": "code",
   "execution_count": null,
   "metadata": {
    "collapsed": true
   },
   "outputs": [],
   "source": [
    "install.packages(\"lme4\")\n",
    "install.packages(\"arm\")\n",
    "install.packages(\"lm.beta\")\n",
    "install.packages(\"ggplot2\")\n",
    "install.packages(\"gridExtra\")"
   ]
  },
  {
   "cell_type": "code",
   "execution_count": 32,
   "metadata": {},
   "outputs": [
    {
     "name": "stderr",
     "output_type": "stream",
     "text": [
      "Loading required package: Matrix\n",
      "\n",
      "Loading required package: MASS\n",
      "\n",
      "\n",
      "arm (Version 1.10-1, built: 2018-4-12)\n",
      "\n",
      "\n",
      "Working directory is /home/User1/code/SelfCitations/R\n",
      "\n",
      "\n",
      "Classes and Methods for R developed in the\n",
      "Political Science Computational Laboratory\n",
      "Department of Political Science\n",
      "Stanford University\n",
      "Simon Jackman\n",
      "hurdle and zeroinfl functions by Achim Zeileis\n",
      "\n",
      "\n",
      "Attaching package: ‘dplyr’\n",
      "\n",
      "\n",
      "The following object is masked from ‘package:gridExtra’:\n",
      "\n",
      "    combine\n",
      "\n",
      "\n",
      "The following object is masked from ‘package:MASS’:\n",
      "\n",
      "    select\n",
      "\n",
      "\n",
      "The following objects are masked from ‘package:stats’:\n",
      "\n",
      "    filter, lag\n",
      "\n",
      "\n",
      "The following objects are masked from ‘package:base’:\n",
      "\n",
      "    intersect, setdiff, setequal, union\n",
      "\n",
      "\n"
     ]
    }
   ],
   "source": [
    "library(lme4) \n",
    "library(arm)\n",
    "library(lm.beta)\n",
    "library(ggplot2)\n",
    "library(gridExtra)\n",
    "library(pscl)\n",
    "library(dplyr)"
   ]
  },
  {
   "cell_type": "markdown",
   "metadata": {},
   "source": [
    "#### Formulas"
   ]
  },
  {
   "cell_type": "code",
   "execution_count": 44,
   "metadata": {},
   "outputs": [
    {
     "data": {
      "text/plain": [
       "nb_cits_others_15 ~ scale(nb_cits_others_5) * scale(gender) + \n",
       "    scale(nb_co_5) * scale(gender) + scale(nb_art_5) * scale(gender) + \n",
       "    scale(prop5_5) * scale(gender)"
      ]
     },
     "metadata": {},
     "output_type": "display_data"
    }
   ],
   "source": [
    "forms_dv[[1]] "
   ]
  },
  {
   "cell_type": "code",
   "execution_count": 84,
   "metadata": {
    "collapsed": true
   },
   "outputs": [],
   "source": [
    "dep_vars <- c(\"nb_art\",\"active\",\"nb_cits_others\")\n",
    "\n",
    "\n",
    "\n",
    "\n",
    "form_types <- c(\"Base\",\"Coauthors\",\"Self\",\"All\")\n",
    "var_base <- c(\"nb_cits_others\",\"nb_co\",\"nb_art\")\n",
    "var_co <- c(\"nb_cits_others\",\"nb_co\",\"nb_art\",\"nb_cits_co\")\n",
    "var_self <- c(\"nb_cits_others\",\"nb_co\",\"nb_art\",\"nb_cits_self\")\n",
    "var_all <- c(\"nb_cits_others\",\"nb_co\",\"nb_art\",\"nb_cits_self\",\"nb_cits_co\")\n",
    "\n",
    "#With rank\n",
    "form_types <- c(\"Base\",\"Coauthors\",\"Self\",\"All\")\n",
    "var_base <- c(var_base,\"prop5\")\n",
    "var_co <- c(var_co,\"prop5\")\n",
    "var_self <- c(var_self,\"prop5\")\n",
    "var_all <- c(var_all,\"prop5\")\n",
    "\n",
    "iv_base <- lapply(var_base,function(x) paste(x,year_start,sep=\"_\"))\n",
    "iv_co <- lapply(var_co,function(x) paste(x,year_start,sep=\"_\"))\n",
    "iv_self <- lapply(var_self,function(x) paste(x,year_start,sep=\"_\"))\n",
    "iv_all <- lapply(var_all,function(x) paste(x,year_start,sep=\"_\"))\n",
    "    \n",
    "formulas <- list()\n",
    "count <- 1\n",
    "\n",
    "#With scale\n",
    "iv_base <- sapply(iv_base,function(x){paste0('scale(',x,')')})\n",
    "iv_co <- sapply(iv_co,function(x){paste0('scale(',x,')')})\n",
    "iv_self <- sapply(iv_self,function(x){paste0('scale(',x,')')})\n",
    "iv_all <- sapply(iv_all,function(x){paste0('scale(',x,')')})\n",
    "    \n",
    "#With gender\n",
    "iv_base <- sapply(iv_base,function(x){paste0(x,'*gender')})\n",
    "iv_co <- sapply(iv_co,function(x){paste0(x,'*gender')})\n",
    "iv_self <- sapply(iv_self,function(x){paste0(x,'*gender')})\n",
    "iv_all <- sapply(iv_all,function(x){paste0(x,'*gender')})\n",
    "  \n",
    "   \n",
    "for(var in dep_vars){\n",
    "    dv <- paste0(var,'_',year_pred)\n",
    "    forms_dv <- list()\n",
    "    forms_dv[[1]] <- as.formula(paste0(dv,'~',paste(iv_base,collapse=\"+\")))\n",
    "    forms_dv[[2]] <- as.formula(paste0(dv,'~',paste(iv_co, collapse=\"+\")))\n",
    "    forms_dv[[3]] <- as.formula(paste0(dv,'~',paste(iv_self, collapse=\"+\")))\n",
    "    forms_dv[[4]] <- as.formula(paste0(dv,'~',paste(iv_all,collapse=\"+\")))\n",
    "    formulas[[count]] <- forms_dv\n",
    "    count = count + 1\n",
    "}  \n",
    "\n",
    "    \n",
    "#df <- data_model\n",
    "df <- data_model_rank\n",
    "\n",
    "name <- \"rank_scale\""
   ]
  },
  {
   "cell_type": "markdown",
   "metadata": {},
   "source": [
    "#### conditions\n"
   ]
  },
  {
   "cell_type": "code",
   "execution_count": 85,
   "metadata": {
    "collapsed": true
   },
   "outputs": [],
   "source": [
    "country <- \"United States\"\n",
    "nb_dvs <- 3\n",
    "nb_forms <- 4"
   ]
  },
  {
   "cell_type": "code",
   "execution_count": 74,
   "metadata": {
    "collapsed": true
   },
   "outputs": [],
   "source": [
    "nobs <- df %>%\n",
    "    group_by(group) %>%\n",
    "    summarize(count=n())"
   ]
  },
  {
   "cell_type": "code",
   "execution_count": 75,
   "metadata": {},
   "outputs": [
    {
     "data": {
      "text/html": [
       "<table>\n",
       "<caption>A tibble: 4 × 2</caption>\n",
       "<thead>\n",
       "\t<tr><th scope=col>group</th><th scope=col>count</th></tr>\n",
       "\t<tr><th scope=col>&lt;chr&gt;</th><th scope=col>&lt;int&gt;</th></tr>\n",
       "</thead>\n",
       "<tbody>\n",
       "\t<tr><td>Arts and Humanities             </td><td>  2068</td></tr>\n",
       "\t<tr><td>Health Sciences                 </td><td>191723</td></tr>\n",
       "\t<tr><td>Natural Sciences and Engineering</td><td>198258</td></tr>\n",
       "\t<tr><td>Social Sciences                 </td><td>140658</td></tr>\n",
       "</tbody>\n",
       "</table>\n"
      ],
      "text/latex": [
       "A tibble: 4 × 2\n",
       "\\begin{tabular}{ll}\n",
       " group & count\\\\\n",
       " <chr> & <int>\\\\\n",
       "\\hline\n",
       "\t Arts and Humanities              &   2068\\\\\n",
       "\t Health Sciences                  & 191723\\\\\n",
       "\t Natural Sciences and Engineering & 198258\\\\\n",
       "\t Social Sciences                  & 140658\\\\\n",
       "\\end{tabular}\n"
      ],
      "text/markdown": [
       "\n",
       "A tibble: 4 × 2\n",
       "\n",
       "| group &lt;chr&gt; | count &lt;int&gt; |\n",
       "|---|---|\n",
       "| Arts and Humanities              |   2068 |\n",
       "| Health Sciences                  | 191723 |\n",
       "| Natural Sciences and Engineering | 198258 |\n",
       "| Social Sciences                  | 140658 |\n",
       "\n"
      ],
      "text/plain": [
       "  group                            count \n",
       "1 Arts and Humanities                2068\n",
       "2 Health Sciences                  191723\n",
       "3 Natural Sciences and Engineering 198258\n",
       "4 Social Sciences                  140658"
      ]
     },
     "metadata": {},
     "output_type": "display_data"
    }
   ],
   "source": [
    "nobs"
   ]
  },
  {
   "cell_type": "code",
   "execution_count": 86,
   "metadata": {
    "collapsed": true
   },
   "outputs": [],
   "source": [
    "results <- data.frame(\n",
    "    stat_type = double(),\n",
    "    value = double(),\n",
    "    dv = character(),\n",
    "    group = character(),\n",
    "    form = character(),\n",
    "    stringsAsFactors=F\n",
    ")\n",
    "for(i in 1:nb_dvs){\n",
    "    dv <- dep_vars[i]\n",
    "    #results[[dv]] = list()\n",
    "    for(group in groups){\n",
    "        #results[[dv]][[group]] <- list()\n",
    "        for(j in 1:nb_forms){\n",
    "            form = formulas[[i]][[j]]\n",
    "            if(F){\n",
    "            #if(startsWith(\"active\",dv)){\n",
    "                model <- glm(form,data=df[(df[paste0('country_',year_start)]==country) &\n",
    "                                       (df['group'] == group),],family=\"binomial\")  \n",
    "                results[nrow(results)+1,] <- c('R2',round(pR2(model),3),dv,group,form_types[j])\n",
    "            }else{\n",
    "                model <- lm(form,data=df[(df[paste0('country_',year_start)]==country) &\n",
    "                                       (df['group'] == group),])  \n",
    "                results[nrow(results)+1,] <- c('R2',summary(model)$r.squared,dv,group,form_types[j])\n",
    "            }\n",
    "\n",
    "            \n",
    "            coefs <- names(lm.beta(model)[[1]])\n",
    "            values <- lm.beta(model)[[1]]\n",
    "            nb_coefs <- length(coefs)\n",
    "            for(k in 2:nb_coefs){\n",
    "                results[nrow(results)+1,] <- c(coefs[k],values[[k]],dv,group,form_types[j])\n",
    "            }\n",
    "    }\n",
    "    \n",
    "    }\n",
    "}\n",
    "results$value <- as.numeric(results$value)"
   ]
  },
  {
   "cell_type": "markdown",
   "metadata": {},
   "source": [
    "#### Plot Params"
   ]
  },
  {
   "cell_type": "code",
   "execution_count": 65,
   "metadata": {
    "collapsed": true
   },
   "outputs": [],
   "source": [
    "library(repr)\n",
    "options(repr.plot.width=15, repr.plot.height=12)"
   ]
  },
  {
   "cell_type": "code",
   "execution_count": 87,
   "metadata": {
    "collapsed": true
   },
   "outputs": [],
   "source": [
    "for(dv in dep_vars){\n",
    "    for(group in groups){\n",
    "        results[(results$stat_type==\"R2\") & (results$dv == dv) &\n",
    "                (results$group==group) &(results$form!='Base'),'value'] <- results[(results$stat_type==\"R2\") & (results$dv == dv) &\n",
    "                (results$group==group) &(results$form!='Base'),'value'] - results[(results$stat_type==\"R2\") & (results$dv == dv) &\n",
    "                (results$group==group) &(results$form=='Base'),'value']\n",
    "    }\n",
    "}\n",
    "    "
   ]
  },
  {
   "cell_type": "code",
   "execution_count": 88,
   "metadata": {
    "collapsed": true
   },
   "outputs": [],
   "source": [
    "plist <- list()\n",
    "plist_r2 <- list()\n",
    "for(dv in dep_vars){\n",
    "    plist[[dv]] <- list()\n",
    "    for(group in groups){\n",
    "        p <- ggplot(results[(results$group==group) & (results$stat_type!=\"R2\") & (results$dv == dv),],\n",
    "                    aes(x=stat_type,y=value,fill=form))+\n",
    "          geom_col(position=position_dodge())+\n",
    "        labs(fill = \"Model\", x = \"Parameter\", y = \"Value\", title=group)+\n",
    "        theme_grey(base_size = 20)+\n",
    "        theme(axis.text.x = element_text(angle = 45, hjust = 1))\n",
    "        plist[[dv]][[group]] <- ggplotGrob(p)\n",
    "    }\n",
    "    r2 <- results[(results$stat_type==\"R2\") & (results$dv == dv) & (results$form=='Base'),'value']\n",
    "    p <- ggplot(results[(results$stat_type==\"R2\") & (results$dv == dv) & (results$form!='Base'),],\n",
    "                aes(x=group,y=value,fill=form))+\n",
    "          geom_col(position=position_dodge())+\n",
    "        labs(fill = \"Model\", x = \"Field\", y = \"Value\", title=paste0(dv,': ',round(r2,3)))+\n",
    "        theme_grey(base_size = 20)+\n",
    "        theme(axis.text.x = element_text(angle = 45, hjust = 1))\n",
    "        plist_r2[[dv]] <- p\n",
    "}\n",
    "    "
   ]
  },
  {
   "cell_type": "code",
   "execution_count": 89,
   "metadata": {
    "collapsed": true
   },
   "outputs": [],
   "source": [
    "out_path <- paste0(path,'results_model/')\n",
    "dir.create(file.path(out_path,name), showWarnings = FALSE)\n",
    "out_path <- paste0(out_path,'/',name,'/')"
   ]
  },
  {
   "cell_type": "markdown",
   "metadata": {},
   "source": [
    "#### Save figs"
   ]
  },
  {
   "cell_type": "code",
   "execution_count": 90,
   "metadata": {
    "collapsed": true
   },
   "outputs": [],
   "source": [
    "for(dv in dep_vars){\n",
    "    g <- marrangeGrob(plist[[dv]],ncol=1,nrow=4)\n",
    "    ggsave(file=paste0(out_path,dv,'_params.png'),g,width = 20, height = 30)\n",
    "    ggsave(file=paste0(out_path,dv,'_r2.png'),plist_r2[[dv]],width=10,height=8)\n",
    "    #ggsave(file=paste0(out_path,dv,'_params.svg'),g)\n",
    "}\n"
   ]
  },
  {
   "cell_type": "code",
   "execution_count": null,
   "metadata": {
    "collapsed": true
   },
   "outputs": [],
   "source": []
  }
 ],
 "metadata": {
  "kernelspec": {
   "display_name": "R",
   "language": "R",
   "name": "ir"
  },
  "language_info": {
   "codemirror_mode": "r",
   "file_extension": ".r",
   "mimetype": "text/x-r-source",
   "name": "R",
   "pygments_lexer": "r",
   "version": "3.6.3"
  }
 },
 "nbformat": 4,
 "nbformat_minor": 2
}
