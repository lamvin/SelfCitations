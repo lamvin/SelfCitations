{
 "cells": [
  {
   "cell_type": "code",
   "execution_count": 1,
   "metadata": {
    "collapsed": true
   },
   "outputs": [],
   "source": [
    "path <- '/home/User1/data/self_citations/model/'"
   ]
  },
  {
   "cell_type": "markdown",
   "metadata": {},
   "source": [
    "### Predict papers n years"
   ]
  },
  {
   "cell_type": "code",
   "execution_count": 2,
   "metadata": {
    "collapsed": true
   },
   "outputs": [],
   "source": [
    "year_start = 5\n",
    "diff_year = 10"
   ]
  },
  {
   "cell_type": "code",
   "execution_count": 5,
   "metadata": {},
   "outputs": [],
   "source": [
    "total_years_file <- 20\n",
    "col_status <- rep(\"NULL\",total_years_file+1)\n",
    "col_status[c(1,year_start+1,year_start+diff_year+1)] <- \"integer\"\n",
    "nb_articles <- read.csv(file=paste0(path,'nb_articles.csv'),colClasses =col_status)"
   ]
  },
  {
   "cell_type": "code",
   "execution_count": 14,
   "metadata": {},
   "outputs": [],
   "source": [
    "col_status <- rep(\"NULL\",total_years_file+1)\n",
    "col_status[c(1,year_start+1,year_start+diff_year+1)] <- \"double\"\n",
    "types_cit <- c('self','co','others')\n",
    "dfs_nb_cit <- list()\n",
    "for(i in 1:length(types_cit)){\n",
    "    type_cit <- types_cit[i]\n",
    "    dfs_nb_cit[[i]] <- read.csv(file=paste0(path,'nb_citations_',type_cit,'.csv'),colClasses=col_status)\n",
    "}"
   ]
  }
 ],
 "metadata": {
  "kernelspec": {
   "display_name": "R",
   "language": "R",
   "name": "ir"
  },
  "language_info": {
   "codemirror_mode": "r",
   "file_extension": ".r",
   "mimetype": "text/x-r-source",
   "name": "R",
   "pygments_lexer": "r",
   "version": "3.6.3"
  }
 },
 "nbformat": 4,
 "nbformat_minor": 2
}
